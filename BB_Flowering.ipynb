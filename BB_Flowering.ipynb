{
 "cells": [
  {
   "cell_type": "code",
   "execution_count": 21,
   "metadata": {},
   "outputs": [],
   "source": [
    "import numpy as np\n",
    "import pandas as pd\n",
    "import matplotlib.pyplot as plt\n",
    "import math\n",
    "import plotly.graph_objects as go\n",
    "import plotly.express as px\n",
    "from dotenv import load_dotenv\n",
    "import json\n",
    "from collections import defaultdict\n",
    "import importlib\n",
    "import warnings\n",
    "warnings.filterwarnings('ignore')\n",
    "import utils\n",
    "importlib.reload(utils)\n",
    "import os\n",
    "from scipy.stats import linregress\n",
    "from sklearn.metrics import mean_absolute_error"
   ]
  },
  {
   "cell_type": "code",
   "execution_count": 22,
   "metadata": {},
   "outputs": [
    {
     "data": {
      "text/plain": [
       "{'StartDay': '2000-05-1',\n",
       " 'Tc_chill': 18,\n",
       " 'Tc_chill_max': 19.41683508,\n",
       " 'MinTemp': 10.2,\n",
       " 'OptTemp': 25,\n",
       " 'MaxTemp': 28.9,\n",
       " 'RefTemp': 17.1,\n",
       " 'Tb_GDH': 8,\n",
       " 'Tu_GDH': 21,\n",
       " 'Tc_GDH': 25,\n",
       " 'ChillRequirement': 1699.90167073,\n",
       " 'HeatRequirement': 224.08904617,\n",
       " 'FlwrHeatRequirement': 1061.20962136,\n",
       " 'InterpolationMethod': 'linear',\n",
       " 'HeatAccFunc': 'WangEngel',\n",
       " 'T1': 2.45,\n",
       " 'T2': 21,\n",
       " 'T_hi': 16.45,\n",
       " 'T_lo': -40.82,\n",
       " 'c1': 5.018119869208994e-06,\n",
       " 'T_base': 2,\n",
       " 'r': 3.849803283340358e-06,\n",
       " 'k': 4}"
      ]
     },
     "execution_count": 22,
     "metadata": {},
     "output_type": "execute_result"
    }
   ],
   "source": [
    "utils.base_model_config()"
   ]
  },
  {
   "cell_type": "markdown",
   "metadata": {},
   "source": [
    "# Load observations"
   ]
  },
  {
   "cell_type": "code",
   "execution_count": 23,
   "metadata": {},
   "outputs": [],
   "source": [
    "# Load datasets for observations\n",
    "def load_observations(file_path,BB_sheet_name, Flwr_sheet_name, cultivar_col,cultivar_name,treatment_col,treatment_name,location):\n",
    "    # Define the expected column names for the final concatenated DataFrame\n",
    "    TREATMENT = \"Treatment\"\n",
    "    LOCATION = \"Location\"\n",
    "    xls = pd.ExcelFile(file_path, engine=\"openpyxl\")\n",
    "    raw_df_BB = pd.read_excel(xls, sheet_name = BB_sheet_name)\n",
    "    raw_df_Flwr = pd.read_excel(xls, sheet_name = Flwr_sheet_name)\n",
    "\n",
    "    # Rename the Dates to Days of Year (DOY)\n",
    "    doy_column_BB = [pd.to_datetime(col).dayofyear for col in raw_df_BB.columns if utils.is_date_column(col)]\n",
    "    df_BB = raw_df_BB.rename(columns={col:pd.to_datetime(col).dayofyear for col in raw_df_BB.columns if utils.is_date_column(col)})\n",
    "\n",
    "    doy_column_Flwr = [pd.to_datetime(col).dayofyear for col in raw_df_Flwr.columns if utils.is_date_column(col)]\n",
    "    df_Flwr = raw_df_Flwr.rename(columns={col:pd.to_datetime(col).dayofyear for col in raw_df_Flwr.columns if utils.is_date_column(col)})\n",
    "\n",
    "    obs_year = [pd.to_datetime(col).year for col in raw_df_BB.columns if utils.is_date_column(col)][0]\n",
    "\n",
    "\n",
    "    # Apply filtering for the given cultivar & treatments\n",
    "    def filter_df(df, doy_column):\n",
    "        filtered_df = df[df[cultivar_col].isin([cultivar_name]) & df[treatment_col].isin([treatment_name])]\n",
    "        # Rename columns\n",
    "        columns_to_select = [treatment_col] + doy_column  # Ensure it's a flat list\n",
    "        filtered_df = filtered_df[columns_to_select]\n",
    "        filtered_df.rename(columns={treatment_col: TREATMENT}, inplace=True)\n",
    "        # Add the LOCATION column to the DataFrame\n",
    "        filtered_df[LOCATION] = location\n",
    "        # Remove rows with any NaN values\n",
    "        filtered_df = filtered_df.dropna()\n",
    "        # Reset index \n",
    "        filtered_df.reset_index(drop=True)\n",
    "        return filtered_df\n",
    "    filtered_df_BB = filter_df(df_BB,doy_column_BB)\n",
    "    # print(file_path,'/',Flwr_sheet_name)\n",
    "    # print(df_Flwr.head(1))\n",
    "    filtered_df_Flwr = filter_df(df_Flwr,doy_column_Flwr)\n",
    "\n",
    "    BB_percent = False\n",
    "    # if BB_sheet_name == 'HW-Budbreak-KK2020' and treatment_name == 'Control':\n",
    "    #     BB_percent = .41\n",
    "    # if BB_sheet_name == 'HWBBRawKK2022' and treatment_name == 'Control':\n",
    "    #     BB_percent = .31\n",
    "    # if BB_sheet_name == 'HWBBRawKK2021' and treatment_name == 'Control':\n",
    "    #     BB_percent = .45\n",
    "    # if BB_sheet_name == 'HW-Budbreak2020' and treatment_name == 'Control':\n",
    "    #     BB_percent = .33\n",
    "    # if BB_sheet_name == 'HWBBRaw2022' and treatment_name == 'Control':\n",
    "    #     BB_percent = .125\n",
    "    # if BB_sheet_name == 'NBB2010' and treatment_name == 'control':\n",
    "    #     BB_percent = .41\n",
    "\n",
    "    PBB, BB, BudBurstDOY, max_observed_buds = utils.BB_specifications(location,filtered_df_BB[doy_column_BB],BB_percent)\n",
    "    maxBBPsequence = np.empty(len(doy_column_BB))*np.nan\n",
    "    maxBBPsequence[-1] = np.max(PBB)\n",
    "\n",
    "    # Corresponding stage name (StartFlowering) to get the max BBP \n",
    "    MaxBBPstageSequence = [np.nan for i in range(len(doy_column_BB))]\n",
    "    MaxBBPstageSequence[-1] = 'StartFlowering'\n",
    "    # Generate the observations Excel file\n",
    "    \n",
    "    excel_observ_BB = pd.DataFrame(data={\n",
    "    'SimulationName': f'{BB_sheet_name}{filtered_df_BB[TREATMENT].iloc[0].replace(\" \", \"\")}', \n",
    "                                        'Clock.Today': [col for col in raw_df_BB.columns if utils.is_date_column(col)],\n",
    "                                        'Clock.Today.Year': obs_year,\n",
    "                                        'DOY': doy_column_BB, \n",
    "                                        LOCATION: filtered_df_BB[LOCATION].iloc[0], \n",
    "                                        TREATMENT: filtered_df_BB[TREATMENT].iloc[0],\n",
    "                                        'KiwiFruit.Phenology.BrokenBuds': BB,\n",
    "                                        'KiwiFruit.Phenology.ProportionBB': PBB,\n",
    "                                        'KiwiFruit.Phenology.BudBurstDOY': BudBurstDOY,\n",
    "                                        'KiwiFruit.Phenology.MaxBBP': maxBBPsequence,\n",
    "                                        'KiwiFruit.Phenology.CurrentStageName': MaxBBPstageSequence})\n",
    "    \n",
    "    FlwrDOY, Flowers = utils.Flwr_specifications(np.max(BB),filtered_df_Flwr[doy_column_Flwr])\n",
    "    maxFlwrsequence = np.empty(len(doy_column_Flwr))*np.nan\n",
    "    maxFlwrsequence[-1] = FlwrDOY\n",
    "\n",
    "    # Corresponding stage name (StartFlowering) to get the max BBP \n",
    "    MaxFlwrstageSequence = [np.nan for i in range(len(doy_column_Flwr))]\n",
    "    MaxFlwrstageSequence[-1] = 'StartFlowering'\n",
    "    excel_observ_Flwr = pd.DataFrame(data={\n",
    "    'SimulationName': f'{BB_sheet_name}{filtered_df_BB[TREATMENT].iloc[0].replace(\" \", \"\")}',  # Use same BB sheet name to be able to put in same apsim simulation\n",
    "                                        'Clock.Today': [col for col in raw_df_Flwr.columns if utils.is_date_column(col)],\n",
    "                                        'Clock.Today.Year': obs_year,\n",
    "                                        'DOY': doy_column_Flwr, \n",
    "                                        LOCATION: filtered_df_Flwr[LOCATION].iloc[0], \n",
    "                                        TREATMENT: filtered_df_Flwr[TREATMENT].iloc[0],\n",
    "                                        'KiwiFruit.Phenology.Flowers': Flowers,\n",
    "                                        'KiwiFruit.Phenology.FloweringDOY': FlwrDOY,\n",
    "                                        'KiwiFruit.Phenology.CurrentStageName': MaxFlwrstageSequence})\n",
    "\n",
    "    return obs_year, PBB, BB, BudBurstDOY, excel_observ_BB, FlwrDOY, excel_observ_Flwr\n",
    "    \n"
   ]
  },
  {
   "cell_type": "markdown",
   "metadata": {},
   "source": [
    "# WangEngel & GDH & Chill models"
   ]
  },
  {
   "cell_type": "code",
   "execution_count": null,
   "metadata": {},
   "outputs": [],
   "source": [
    "def Chill(Tc, T):\n",
    "    if T>=0 and T <= Tc:\n",
    "        return (((4*T)/(Tc**2))*(Tc-T))\n",
    "    else:\n",
    "        return 0\n",
    "\n",
    "def HrsBelowBase(Tc, MeanT):\n",
    "    if MeanT<0: chill_unit = 0 \n",
    "    if MeanT >= 0 and MeanT <= Tc: chill_unit = -MeanT + Tc \n",
    "    if MeanT > Tc: chill_unit = 0\n",
    "    return chill_unit\n",
    "\n",
    "def Wangengel(MinTemp,OptTemp,MaxTemp,RefTemp,T):\n",
    "    RelEff = 0.0\n",
    "    RelEffRefTemp = 1.0\n",
    "    p = 0.0\n",
    "\n",
    "    if MinTemp < T < MaxTemp:\n",
    "        p = math.log(2.0) / math.log((MaxTemp - MinTemp) / (OptTemp - MinTemp))\n",
    "        RelEff = (2 * (T - MinTemp) ** p * (OptTemp - MinTemp) ** p - (T - MinTemp) ** (2 * p)) / (OptTemp - MinTemp) ** (2 * p)\n",
    "\n",
    "    if MinTemp < RefTemp < MaxTemp:\n",
    "        p = math.log(2.0) / math.log((MaxTemp - MinTemp) / (OptTemp - MinTemp))\n",
    "        RelEffRefTemp = (2 * (RefTemp - MinTemp) ** p * (OptTemp - MinTemp) ** p - (RefTemp - MinTemp) ** (2 * p)) / (OptTemp - MinTemp) ** (2 * p)\n",
    "\n",
    "    return round(float(RelEff / RelEffRefTemp),3)\n",
    "\n",
    "def GDH(Tb,Tu,Tc,T):\n",
    "    if (T > Tb) and (T <= Tu):\n",
    "        return float(0.5 * (1 + np.cos(np.pi + np.pi * ((T - Tb) / (Tu - Tb)))))\n",
    "    elif (T > Tu) and (T <= Tc):\n",
    "        return float((1 + np.cos(0.5*np.pi + 0.5*np.pi * ((T - Tu) / (Tc - Tu)))))\n",
    "    else:\n",
    "        return 0\n"
   ]
  },
  {
   "cell_type": "markdown",
   "metadata": {},
   "source": [
    "# Chill/Heat Accumulation"
   ]
  },
  {
   "cell_type": "code",
   "execution_count": null,
   "metadata": {},
   "outputs": [],
   "source": [
    "# Chill & heat accumulation\n",
    "def chill_heat_accumulation(model_config, buds_targets, predicted_endo_release_doy, predicted_budbreak_doy, predicted_flowering_doy, weather_since_start_doy, BB_sheet_name, Flwr_sheet_name, treatment_name):\n",
    "    for bud_position,target in buds_targets.items():\n",
    "        chill_requirement = target['chill']\n",
    "        bb_heat_requirement = target['bbHeat']\n",
    "        flwr_heat_requirement = target['FlwrHeat']\n",
    "        \n",
    "        # Chill model parameter\n",
    "        chillVal = 0\n",
    "        for idx_endodormancy_release, temp in enumerate(weather_since_start_doy['temp']):\n",
    "            chillVal += Chill(utils.base_model_config()['Tc_chill'], temp)\n",
    "            if chillVal >= chill_requirement:\n",
    "                predicted_endo_release_doy[BB_sheet_name+treatment_name][bud_position] = int(weather_since_start_doy['doy'].iloc[idx_endodormancy_release])  # Get the date at this index\n",
    "                break\n",
    "        # wangengel model parameters\n",
    "        # from the date of endodormancy release, start accumulating heat\n",
    "        heatVal = 0\n",
    "        predicted_budbreak_doy[BB_sheet_name+treatment_name][bud_position] = 365 # Default value if heat target not reached\n",
    "        for idx_bb, temp in enumerate(weather_since_start_doy['temp'][idx_endodormancy_release+1::]):\n",
    "            if model_config[\"HeatAccFunc\"] == 'WangEngel':\n",
    "                heatVal += Wangengel(model_config[\"MinTemp\"], model_config[\"OptTemp\"],model_config[\"MaxTemp\"], model_config[\"RefTemp\"],temp)\n",
    "            elif model_config[\"HeatAccFunc\"] == 'GDH':\n",
    "                heatVal += GDH(model_config[\"Tb_GDH\"],model_config[\"Tu_GDH\"],model_config[\"Tc_GDH\"],temp)\n",
    "            \n",
    "            if heatVal >= bb_heat_requirement:\n",
    "                predicted_budbreak_doy[BB_sheet_name+treatment_name][bud_position] = int(weather_since_start_doy['doy'].iloc[idx_endodormancy_release+idx_bb+1]) \n",
    "                break\n",
    "        \n",
    "        # from the date of budbreak, start accumulating heat\n",
    "        heatVal = 0\n",
    "        # weather_since_chill_target = weather_since_start_doy[weather_since_start_doy['doy']>=predicted_endo_release_doy[BB_sheet_name+treatment_name][bud_position]]\n",
    "        for idx_flwr, temp in enumerate(weather_since_start_doy['temp'][idx_endodormancy_release+idx_bb+1::]):\n",
    "            if model_config[\"HeatAccFunc\"] == 'WangEngel':\n",
    "                heatVal += Wangengel(model_config[\"MinTemp\"], model_config[\"OptTemp\"],model_config[\"MaxTemp\"],model_config[\"RefTemp\"],temp)\n",
    "            elif model_config[\"HeatAccFunc\"] == 'GDH':\n",
    "                heatVal += GDH(model_config[\"Tb_GDH\"],model_config[\"Tu_GDH\"],model_config[\"Tc_GDH\"],temp)\n",
    "            \n",
    "            if heatVal >= flwr_heat_requirement:\n",
    "                predicted_flowering_doy[Flwr_sheet_name+treatment_name][bud_position] = int(weather_since_start_doy['doy'].iloc[idx_endodormancy_release+idx_bb+idx_flwr+1]) \n",
    "                # print(pd.to_datetime(predicted_budbreak_doy[BB_sheet_name+treatment_name][bud_position], unit=\"D\", origin='2020'))\n",
    "                break\n",
    "        \n",
    "\n",
    "    return predicted_endo_release_doy, predicted_budbreak_doy, predicted_flowering_doy\n"
   ]
  },
  {
   "cell_type": "code",
   "execution_count": 26,
   "metadata": {},
   "outputs": [],
   "source": [
    "with open(\"config_MultiDataFiles_BBFlwr.json\", \"r\") as file:\n",
    "    config = json.load(file)\n",
    "\n",
    "def run(model_config):\n",
    "    start_doy = pd.to_datetime(model_config[\"StartDay\"]).dayofyear\n",
    "\n",
    "\n",
    "    buds_targets = {1:{'chill':model_config[\"ChillRequirement\"], 'bbHeat':model_config[\"HeatRequirement\"], 'FlwrHeat':model_config[\"FlwrHeatRequirement\"]}}\n",
    "\n",
    "    predicted_endo_release_doy = defaultdict(lambda: dict())\n",
    "    predicted_budbreak_doy = defaultdict(lambda: dict())\n",
    "    observed_budbreak_doy = defaultdict(lambda: dict())\n",
    "    predicted_flowering_doy = defaultdict(lambda: dict())\n",
    "    observed_flowering_doy = defaultdict(lambda: dict())\n",
    "    excel_observs_BB = []\n",
    "    excel_observs_Flwr = []\n",
    "    output_excel = 'ObservAll.xlsx'\n",
    "\n",
    "    # Load environment variables\n",
    "    load_dotenv()\n",
    "    FOLDER_PATH = os.getenv('FOLDER_PATH')\n",
    "    for file_name, file_info in config.items():\n",
    "            file_path = os.path.join(FOLDER_PATH, file_name)\n",
    "            # Process each sheet\n",
    "            for sheet_info in file_info['sheets']:\n",
    "                # Extract sheet names, cultivars, and treatments\n",
    "                BB_sheet_name = sheet_info['BB_sheet_name']\n",
    "                Flwr_sheet_name = sheet_info['Flwr_sheet_name']\n",
    "                location = sheet_info['location']\n",
    "                # max_observed_buds = sheet_info['max_observed_buds']\n",
    "                cultivar_col, cultivar_name = list(sheet_info['cultivar'].items())[0]\n",
    "                treatment_col, treatment_name = list(sheet_info['treatments'].items())[0]\n",
    "\n",
    "                # Load and calculate the observed budburst doy\n",
    "                obs_year, PBB, BB, BudBurstDOY, excel_observ_BB, Flwr_DOY, excel_observ_Flwr = load_observations(file_path,BB_sheet_name, Flwr_sheet_name, cultivar_col,cultivar_name,treatment_col,treatment_name,location)\n",
    "                observed_budbreak_doy[BB_sheet_name+treatment_name][1] = BudBurstDOY\n",
    "                observed_flowering_doy[Flwr_sheet_name+treatment_name][1] = Flwr_DOY\n",
    "\n",
    "\n",
    "                # Load the \"Hourly\" weather data\n",
    "                weather_path = sheet_info['weather_path']\n",
    "                weather_data = pd.read_csv(weather_path)\n",
    "                # Slicing the weather data to the dates within the observation year\n",
    "                weather_data['Date'] = pd.to_datetime(weather_data['Date'], errors='coerce')\n",
    "                weather_data = weather_data[\n",
    "                    (weather_data['Date'] >= pd.to_datetime(f'1/1/{obs_year}')) &\n",
    "                    (weather_data['Date'] <= pd.to_datetime(f'31/12/{obs_year}'))]     \n",
    "                # Renaming the columns and add doy column         \n",
    "                weather_data = weather_data[['Date', 'Time', 'Air Temp. (°C)']].rename(columns={'Date': 'date', 'Time':'Time', 'Air Temp. (°C)':'temp'}, inplace=False)\n",
    "                weather_data.insert(1, 'doy', [d.dayofyear for d in pd.to_datetime(weather_data['date'], format=\"mixed\")])\n",
    "                # Interpolate missing values\n",
    "                # Convert '-' to NaN\n",
    "                weather_data['temp'].replace('-', np.nan, inplace=True)\n",
    "                weather_data['temp']=weather_data['temp'].apply(pd.to_numeric, errors='coerce')\n",
    "\n",
    "                # Interpolate missing values\n",
    "                if weather_data['temp'].isna().any():\n",
    "                    if model_config[\"InterpolationMethod\"] == 'linear':\n",
    "                        weather_data['temp'].interpolate(method='linear', inplace=True)\n",
    "                    elif model_config[\"InterpolationMethod\"] == 'seasonal':\n",
    "                        # Compute seasonal average of hourly temperatures\n",
    "                        weather_data = utils.seasonal_ave_fillna(weather_data)\n",
    "                    elif model_config[\"InterpolationMethod\"] == 'longtermaverage':\n",
    "                        long_term_ave = weather_data['temp'].mean()\n",
    "                        weather_data['temp'].fillna(long_term_ave, inplace=True)\n",
    "                    # elif model_config[\"InterpolationMethod\"] == 'samedaycalendar':\n",
    "                    #     weather_data = utils.samedaycalendar_fillna(weather_data)\n",
    "                    \n",
    "\n",
    "                weather_since_start_doy = weather_data[weather_data['doy']>=start_doy].reset_index(drop=True)  \n",
    "\n",
    "                # Predict the endodormancy release doy and budbreak doy\n",
    "                predicted_endo_release_doy, predicted_budbreak_doy, predicted_flowering_doy = chill_heat_accumulation(model_config, buds_targets, predicted_endo_release_doy, predicted_budbreak_doy, predicted_flowering_doy, weather_since_start_doy, BB_sheet_name, Flwr_sheet_name, treatment_name)\n",
    "\n",
    "                excel_observs_BB.append(excel_observ_BB)\n",
    "                excel_observs_Flwr.append(excel_observ_Flwr)\n",
    "\n",
    "    excel_observs_BB_df = pd.concat(excel_observs_BB, ignore_index=True, sort=False)\n",
    "    excel_observs_Flwr_df = pd.concat(excel_observs_Flwr, ignore_index=True, sort=False)\n",
    "\n",
    "    with pd.ExcelWriter(output_excel, engine='openpyxl') as writer:\n",
    "        excel_observs_BB_df.to_excel(writer, sheet_name='BB', index=False)\n",
    "        excel_observs_Flwr_df.to_excel(writer, sheet_name='Flwr', index=False)\n",
    "\n",
    "    # Calculate stats for budbreak\n",
    "    observed_all_bb = []\n",
    "    predicted_all_bb = []\n",
    "    for (trtmnt1,bb1),(trtmnt2,bb2) in zip(predicted_budbreak_doy.items(), observed_budbreak_doy.items()):\n",
    "        predicted_all_bb.append(list(bb1.values())[0])\n",
    "        observed_all_bb.append(list(bb2.values())[0])\n",
    "    stats_bb = utils.calculate_fit_stats(observed_all_bb, predicted_all_bb)\n",
    "    # Fit linear regression\n",
    "    observed_all_bb = np.array(observed_all_bb)\n",
    "    predicted_all_bb = np.array(predicted_all_bb)\n",
    "    slope, intercept, _, _, _ = linregress(observed_all_bb, predicted_all_bb)\n",
    "    regression_line_bb = slope * observed_all_bb + intercept\n",
    "\n",
    "    # Calculate stats for flowering\n",
    "    observed_all_flwr = []\n",
    "    predicted_all_flwr = []\n",
    "    for (trtmnt1,bb1),(trtmnt2,bb2) in zip(predicted_flowering_doy.items(), observed_flowering_doy.items()):\n",
    "        predicted_all_flwr.append(list(bb1.values())[0])\n",
    "        observed_all_flwr.append(list(bb2.values())[0])\n",
    "    stats_flwr = utils.calculate_fit_stats(observed_all_flwr, predicted_all_flwr)\n",
    "    # Fit linear regression\n",
    "    observed_all_flwr = np.array(observed_all_flwr)\n",
    "    predicted_all_flwr = np.array(predicted_all_flwr)\n",
    "    slope, intercept, _, _, _ = linregress(observed_all_flwr, predicted_all_flwr)\n",
    "    regression_line_flwr = slope * observed_all_flwr + intercept\n",
    "\n",
    "    \n",
    "    return predicted_budbreak_doy, observed_budbreak_doy, stats_bb, (observed_all_bb,regression_line_bb), predicted_flowering_doy, observed_flowering_doy, stats_flwr\n",
    "            "
   ]
  },
  {
   "cell_type": "code",
   "execution_count": 27,
   "metadata": {},
   "outputs": [],
   "source": [
    "def observ_predict_plot(predicted_budbreak_doy, observed_budbreak_doy, stats, regression_xy=False):\n",
    "    all_bb_days = []\n",
    "    observed_all = []; predicted_all = []\n",
    "    fig = go.Figure()\n",
    "    for (trtmnt1,bb1),(trtmnt2,bb2) in zip(predicted_budbreak_doy.items(), observed_budbreak_doy.items()):\n",
    "        predicted_bb= list(bb1.values())[0]\n",
    "        observed_bb = list(bb2.values())[0]\n",
    "        predicted_all.append(list(bb1.values())[0])\n",
    "        observed_all.append(list(bb2.values())[0])\n",
    "        all_bb_days.append(observed_bb); all_bb_days.append(predicted_bb) # to collect all the observation days in all treatments for x-axis doy\n",
    "        fig.add_trace(go.Scatter(x=[observed_bb], y=[predicted_bb], mode='markers', marker=dict(size=15), name=trtmnt2))\n",
    "\n",
    "    # Add 1:1 dashed line\n",
    "    fig.add_trace(go.Scatter(x=[min(all_bb_days), max(all_bb_days)], y=[min(all_bb_days), max(all_bb_days)], mode='lines', line=dict(color=\"white\", dash=\"dash\"), name=\"1:1 Line\")) \n",
    "\n",
    "    # Calculate std of observations to compare with MAE\n",
    "    obs_std = round(np.std(observed_all),2)\n",
    "    # ±MAE bands\n",
    "    upper_line_mae = np.array([min(all_bb_days), max(all_bb_days)]) + np.array(stats['MAE'])   \n",
    "    lower_line_mae = np.array([min(all_bb_days), max(all_bb_days)]) - np.array(stats['MAE'])  \n",
    "    fig.add_trace(go.Scatter(x=[min(all_bb_days), max(all_bb_days)], y=upper_line_mae, mode='lines', line=dict(color=\"grey\", dash=\"dot\"), name='+MAE'))\n",
    "    fig.add_trace(go.Scatter(x=[min(all_bb_days), max(all_bb_days)], y=lower_line_mae, mode='lines', line=dict(color=\"grey\", dash=\"dot\"), name='-MAE'))  \n",
    "    # RMSE bands: If RMSE bands are much wider than MAE bands, it means there are large outliers affecting the model's performance.\n",
    "    upper_line_rmse = np.array([min(all_bb_days), max(all_bb_days)]) + np.array(stats['RMSE'])   \n",
    "    lower_line_rmse = np.array([min(all_bb_days), max(all_bb_days)]) - np.array(stats['RMSE'])  \n",
    "    fig.add_trace(go.Scatter(x=[min(all_bb_days), max(all_bb_days)], y=upper_line_rmse, mode='lines', line=dict(color=\"yellow\", dash=\"dot\"), name='+RMSE'))\n",
    "    fig.add_trace(go.Scatter(x=[min(all_bb_days), max(all_bb_days)], y=lower_line_rmse, mode='lines', line=dict(color=\"yellow\", dash=\"dot\"), name='-RMSE'))  \n",
    "\n",
    "    # Plot regression line\n",
    "    if regression_xy is not False:\n",
    "        fig.add_trace(go.Scatter(x=regression_xy[0], y=regression_xy[1], mode='lines', line=dict(color=\"white\", dash=\"solid\"), name=f\"Regression\"))\n",
    "\n",
    "    # Update layout\n",
    "    fig.update_layout(\n",
    "        title= f\"BudBurst (MAE = {stats['MAE']}, RMSE = {stats['RMSE']}, ObsSTD = {obs_std})\",\n",
    "        xaxis_title=\"Observed BudBurst DOY\",\n",
    "        yaxis_title=\"Predicted BudBurst DOY\",\n",
    "        template=\"plotly_dark\")\n",
    "    fig.show()\n"
   ]
  },
  {
   "cell_type": "markdown",
   "metadata": {},
   "source": [
    "# Test parameter values"
   ]
  },
  {
   "cell_type": "code",
   "execution_count": 28,
   "metadata": {},
   "outputs": [],
   "source": [
    "class Test:\n",
    "    def __init__(self, config_param_name):\n",
    "        self.config_param_name = config_param_name\n",
    "\n",
    "    def _test_parameter(self, list_values_to_test):\n",
    "        self.list_values_to_test = list_values_to_test\n",
    "        # Load default configuration\n",
    "        self.model_config = utils.base_model_config()\n",
    "\n",
    "        min_mae = np.inf # find the value with the minimum mae\n",
    "        min_rmse = np.inf\n",
    "        self.opt_param = 0\n",
    "        for t in self.list_values_to_test:\n",
    "            self.model_config[self.config_param_name] = t\n",
    "            _, _, stats_bb, _, _, _, _ = run(self.model_config)\n",
    "            print('T = ',t,':')\n",
    "            print(stats_bb,'\\n')\n",
    "            if stats_bb[\"MAE\"] < min_mae:\n",
    "                self.opt_param = t\n",
    "                min_mae = stats_bb[\"MAE\"]\n",
    "                min_rmse = stats_bb['RMSE']\n",
    "            elif stats_bb[\"MAE\"] == min_mae and stats_bb[\"RMSE\"] < min_rmse: # in case the MAE is the same, check for minimum RMSE\n",
    "                    self.opt_param = t\n",
    "                    min_rmse = stats_bb[\"RMSE\"]\n",
    "                # Pick the one with lowest error to plot\n",
    "        print('Best value: ', self.opt_param)\n",
    "        return self.opt_param\n",
    "\n",
    "    def _best_value_plot(self, opt_param):\n",
    "        self.model_config[self.config_param_name] = opt_param\n",
    "        predicted_budbreak_doy, observed_budbreak_doy, stats_bb,  regression_xy_bb, predicted_flowering_doy, observed_flowering_doy, stats_flwr  = run(self.model_config)\n",
    "        observ_predict_plot(predicted_budbreak_doy, observed_budbreak_doy, stats_bb, regression_xy=False)\n",
    "        observ_predict_plot(predicted_flowering_doy, observed_flowering_doy, stats_flwr, regression_xy=False)\n",
    "        return predicted_budbreak_doy, observed_budbreak_doy, predicted_flowering_doy, observed_flowering_doy \n",
    "\n",
    "    def _apsim_compare(self, apsim_bb_predictions, predicted_budbreak_doy, observed_budbreak_doy):\n",
    "\n",
    "        observed_all = []; predicted_all = []\n",
    "        fig = go.Figure()\n",
    "        for (trtmnt1,bb1),(trtmnt2,bb2) in zip(predicted_budbreak_doy.items(), observed_budbreak_doy.items()):\n",
    "            predicted_all.append(list(bb1.values())[0])\n",
    "            observed_all.append(list(bb2.values())[0])\n",
    "\n",
    "        # Calculate MAE\n",
    "        mae_real_hourly = mean_absolute_error(observed_all, predicted_all)\n",
    "        mae_interpolated_hourly = mean_absolute_error(observed_all, apsim_bb_predictions)\n",
    "\n",
    "        # Calculate the difference between apsim predictions and Python\n",
    "        diff = np.sum([np.abs(list(v.values())[0] - a) for v,a in zip(predicted_budbreak_doy.values(),apsim_bb_predictions)])\n",
    "\n",
    "\n",
    "        apsim_python_comparison = pd.DataFrame({'Observed': observed_all, 'APSIM': apsim_bb_predictions, 'Python': predicted_all})\n",
    "\n",
    "        fig = px.scatter(apsim_python_comparison, x=\"Observed\", y=[\"Python\",\"APSIM\"])\n",
    "        # Update legend labels\n",
    "        fig.for_each_trace(lambda t: t.update(name=f\"{t.name} (MAE={mae_real_hourly:.2f})\") if t.name == \"Python\" else t.update(name=f\"{t.name} (MAE={mae_interpolated_hourly:.2f})\"))\n",
    "\n",
    "        # Add the 1:1 line for comparison\n",
    "        fig.add_trace(go.Scatter(x=[min(observed_all), max(observed_all)], y=[min(observed_all), max(observed_all)], mode='lines', line=dict(color=\"black\", dash=\"dash\"), name=\"1:1\"))  # Dashed black line\n",
    "\n",
    "        fig.update_traces(marker=dict(size=12,\n",
    "                                    line=dict(width=2,\n",
    "                                    color='DarkSlateGrey')),\n",
    "                                    selector=dict(mode='markers'))\n",
    "        fig.update_layout(\n",
    "            title=f\"APSIM & Python Predictions (interpolated hourly temp. vs real hourly temp.)  Diff = {diff}\",\n",
    "            xaxis_title=\"Observed BudBurst DOY\",\n",
    "            yaxis_title=\"Predicted BudBurst DOY\")\n",
    "        fig.update_xaxes(\n",
    "                    tickmode=\"array\", \n",
    "                    tickvals=np.arange(np.min(observed_all),np.max(observed_all),1),  # Use all available dates as ticks\n",
    "                    tickangle=45,\n",
    "                    tickfont=dict(size=12))  # Rotate for better visibility\n",
    "\n",
    "        fig.show()\n",
    "        "
   ]
  },
  {
   "cell_type": "code",
   "execution_count": 37,
   "metadata": {},
   "outputs": [
    {
     "name": "stdout",
     "output_type": "stream",
     "text": [
      "T =  8 :\n",
      "{'RMSE': 8.16, 'MAE': 6.05, 'R2': -0.58, 'NRMSE': 0.3, 'MSD': 66.59} \n",
      "\n",
      "Best value:  8\n"
     ]
    }
   ],
   "source": [
    "importlib.reload(utils)\n",
    "\n",
    "# Example test:\n",
    "# config_param_name = \"StartDayTP\"\n",
    "\n",
    "# start_date = \"2000-01-01\"\n",
    "# end_date = \"2000-03-21\"\n",
    "# interval = \"5D\"  # 5-day intervals\n",
    "\n",
    "# config_param_variations = pd.date_range(start=start_date, end=end_date, freq=interval).strftime('%Y-%m-%d').tolist()\n",
    "\n",
    "\n",
    "config_param_name = 'Tb_GDH'\n",
    "config_param_variations = [8]\n",
    "\n",
    "TestObject = Test(config_param_name)\n",
    "best_val = TestObject._test_parameter(config_param_variations)\n",
    "# predicted_budbreak_doy, observed_budbreak_doy = TestObject._best_value_plot(best_val)"
   ]
  },
  {
   "cell_type": "code",
   "execution_count": 38,
   "metadata": {},
   "outputs": [
    {
     "data": {
      "application/vnd.plotly.v1+json": {
       "config": {
        "plotlyServerURL": "https://plot.ly"
       },
       "data": [
        {
         "marker": {
          "size": 15
         },
         "mode": "markers",
         "name": "TPROB4BB2016control",
         "type": "scatter",
         "x": [
          268
         ],
         "y": [
          257
         ]
        },
        {
         "marker": {
          "size": 15
         },
         "mode": "markers",
         "name": "HaywardTPBBCon1",
         "type": "scatter",
         "x": [
          258
         ],
         "y": [
          274
         ]
        },
        {
         "marker": {
          "size": 15
         },
         "mode": "markers",
         "name": "HaywardTPBBCon2",
         "type": "scatter",
         "x": [
          258
         ],
         "y": [
          274
         ]
        },
        {
         "marker": {
          "size": 15
         },
         "mode": "markers",
         "name": "HaywardKKBBControl",
         "type": "scatter",
         "x": [
          263
         ],
         "y": [
          269
         ]
        },
        {
         "marker": {
          "size": 15
         },
         "mode": "markers",
         "name": "KatoaBB2008control",
         "type": "scatter",
         "x": [
          256
         ],
         "y": [
          261
         ]
        },
        {
         "marker": {
          "size": 15
         },
         "mode": "markers",
         "name": "MeadBB2008control",
         "type": "scatter",
         "x": [
          261
         ],
         "y": [
          261
         ]
        },
        {
         "marker": {
          "size": 15
         },
         "mode": "markers",
         "name": "KatoaBB2009control",
         "type": "scatter",
         "x": [
          249
         ],
         "y": [
          251
         ]
        },
        {
         "marker": {
          "size": 15
         },
         "mode": "markers",
         "name": "MeadBB2009control",
         "type": "scatter",
         "x": [
          249
         ],
         "y": [
          251
         ]
        },
        {
         "marker": {
          "size": 15
         },
         "mode": "markers",
         "name": "KatoaBB2010control",
         "type": "scatter",
         "x": [
          264
         ],
         "y": [
          258
         ]
        },
        {
         "marker": {
          "size": 15
         },
         "mode": "markers",
         "name": "MeadBB2010control",
         "type": "scatter",
         "x": [
          263
         ],
         "y": [
          258
         ]
        },
        {
         "marker": {
          "size": 15
         },
         "mode": "markers",
         "name": "NBB2010control",
         "type": "scatter",
         "x": [
          276
         ],
         "y": [
          260
         ]
        },
        {
         "marker": {
          "size": 15
         },
         "mode": "markers",
         "name": "NBB2011control",
         "type": "scatter",
         "x": [
          266
         ],
         "y": [
          266
         ]
        },
        {
         "marker": {
          "size": 15
         },
         "mode": "markers",
         "name": "TPHaywardBB2013Co",
         "type": "scatter",
         "x": [
          265
         ],
         "y": [
          255
         ]
        },
        {
         "marker": {
          "size": 15
         },
         "mode": "markers",
         "name": "KKHaywardBB2013Co",
         "type": "scatter",
         "x": [
          270
         ],
         "y": [
          256
         ]
        },
        {
         "marker": {
          "size": 15
         },
         "mode": "markers",
         "name": "TPHaywardBB2018Control",
         "type": "scatter",
         "x": [
          259
         ],
         "y": [
          258
         ]
        },
        {
         "marker": {
          "size": 15
         },
         "mode": "markers",
         "name": "KKHaywardBB2018Untreated Control",
         "type": "scatter",
         "x": [
          260
         ],
         "y": [
          261
         ]
        },
        {
         "marker": {
          "size": 15
         },
         "mode": "markers",
         "name": "HaywardBB2019Untreated control",
         "type": "scatter",
         "x": [
          261
         ],
         "y": [
          264
         ]
        },
        {
         "marker": {
          "size": 15
         },
         "mode": "markers",
         "name": "HWBBRaw2020Control",
         "type": "scatter",
         "x": [
          268
         ],
         "y": [
          271
         ]
        },
        {
         "marker": {
          "size": 15
         },
         "mode": "markers",
         "name": "HWBBSpray2020Untreated control",
         "type": "scatter",
         "x": [
          270
         ],
         "y": [
          271
         ]
        },
        {
         "marker": {
          "size": 15
         },
         "mode": "markers",
         "name": "HW-BudbreakTP2020Control",
         "type": "scatter",
         "x": [
          261
         ],
         "y": [
          259
         ]
        },
        {
         "marker": {
          "size": 15
         },
         "mode": "markers",
         "name": "HWBBRawTP2021Control",
         "type": "scatter",
         "x": [
          253
         ],
         "y": [
          264
         ]
        },
        {
         "marker": {
          "size": 15
         },
         "mode": "markers",
         "name": "HW-Budbreak-TP2020Control",
         "type": "scatter",
         "x": [
          261
         ],
         "y": [
          259
         ]
        },
        {
         "line": {
          "color": "white",
          "dash": "dash"
         },
         "mode": "lines",
         "name": "1:1 Line",
         "type": "scatter",
         "x": [
          249,
          276
         ],
         "y": [
          249,
          276
         ]
        },
        {
         "line": {
          "color": "grey",
          "dash": "dot"
         },
         "mode": "lines",
         "name": "+MAE",
         "type": "scatter",
         "x": [
          249,
          276
         ],
         "y": {
          "bdata": "mpmZmZnhb0DNzMzMzKBxQA==",
          "dtype": "f8"
         }
        },
        {
         "line": {
          "color": "grey",
          "dash": "dot"
         },
         "mode": "lines",
         "name": "-MAE",
         "type": "scatter",
         "x": [
          249,
          276
         ],
         "y": {
          "bdata": "ZmZmZmZebkAzMzMzM99wQA==",
          "dtype": "f8"
         }
        },
        {
         "line": {
          "color": "yellow",
          "dash": "dot"
         },
         "mode": "lines",
         "name": "+RMSE",
         "type": "scatter",
         "x": [
          249,
          276
         ],
         "y": {
          "bdata": "w/UoXI8ScEDD9Shcj8JxQA==",
          "dtype": "f8"
         }
        },
        {
         "line": {
          "color": "yellow",
          "dash": "dot"
         },
         "mode": "lines",
         "name": "-RMSE",
         "type": "scatter",
         "x": [
          249,
          276
         ],
         "y": {
          "bdata": "exSuR+EabkA9CtejcL1wQA==",
          "dtype": "f8"
         }
        }
       ],
       "layout": {
        "template": {
         "data": {
          "bar": [
           {
            "error_x": {
             "color": "#f2f5fa"
            },
            "error_y": {
             "color": "#f2f5fa"
            },
            "marker": {
             "line": {
              "color": "rgb(17,17,17)",
              "width": 0.5
             },
             "pattern": {
              "fillmode": "overlay",
              "size": 10,
              "solidity": 0.2
             }
            },
            "type": "bar"
           }
          ],
          "barpolar": [
           {
            "marker": {
             "line": {
              "color": "rgb(17,17,17)",
              "width": 0.5
             },
             "pattern": {
              "fillmode": "overlay",
              "size": 10,
              "solidity": 0.2
             }
            },
            "type": "barpolar"
           }
          ],
          "carpet": [
           {
            "aaxis": {
             "endlinecolor": "#A2B1C6",
             "gridcolor": "#506784",
             "linecolor": "#506784",
             "minorgridcolor": "#506784",
             "startlinecolor": "#A2B1C6"
            },
            "baxis": {
             "endlinecolor": "#A2B1C6",
             "gridcolor": "#506784",
             "linecolor": "#506784",
             "minorgridcolor": "#506784",
             "startlinecolor": "#A2B1C6"
            },
            "type": "carpet"
           }
          ],
          "choropleth": [
           {
            "colorbar": {
             "outlinewidth": 0,
             "ticks": ""
            },
            "type": "choropleth"
           }
          ],
          "contour": [
           {
            "colorbar": {
             "outlinewidth": 0,
             "ticks": ""
            },
            "colorscale": [
             [
              0,
              "#0d0887"
             ],
             [
              0.1111111111111111,
              "#46039f"
             ],
             [
              0.2222222222222222,
              "#7201a8"
             ],
             [
              0.3333333333333333,
              "#9c179e"
             ],
             [
              0.4444444444444444,
              "#bd3786"
             ],
             [
              0.5555555555555556,
              "#d8576b"
             ],
             [
              0.6666666666666666,
              "#ed7953"
             ],
             [
              0.7777777777777778,
              "#fb9f3a"
             ],
             [
              0.8888888888888888,
              "#fdca26"
             ],
             [
              1,
              "#f0f921"
             ]
            ],
            "type": "contour"
           }
          ],
          "contourcarpet": [
           {
            "colorbar": {
             "outlinewidth": 0,
             "ticks": ""
            },
            "type": "contourcarpet"
           }
          ],
          "heatmap": [
           {
            "colorbar": {
             "outlinewidth": 0,
             "ticks": ""
            },
            "colorscale": [
             [
              0,
              "#0d0887"
             ],
             [
              0.1111111111111111,
              "#46039f"
             ],
             [
              0.2222222222222222,
              "#7201a8"
             ],
             [
              0.3333333333333333,
              "#9c179e"
             ],
             [
              0.4444444444444444,
              "#bd3786"
             ],
             [
              0.5555555555555556,
              "#d8576b"
             ],
             [
              0.6666666666666666,
              "#ed7953"
             ],
             [
              0.7777777777777778,
              "#fb9f3a"
             ],
             [
              0.8888888888888888,
              "#fdca26"
             ],
             [
              1,
              "#f0f921"
             ]
            ],
            "type": "heatmap"
           }
          ],
          "histogram": [
           {
            "marker": {
             "pattern": {
              "fillmode": "overlay",
              "size": 10,
              "solidity": 0.2
             }
            },
            "type": "histogram"
           }
          ],
          "histogram2d": [
           {
            "colorbar": {
             "outlinewidth": 0,
             "ticks": ""
            },
            "colorscale": [
             [
              0,
              "#0d0887"
             ],
             [
              0.1111111111111111,
              "#46039f"
             ],
             [
              0.2222222222222222,
              "#7201a8"
             ],
             [
              0.3333333333333333,
              "#9c179e"
             ],
             [
              0.4444444444444444,
              "#bd3786"
             ],
             [
              0.5555555555555556,
              "#d8576b"
             ],
             [
              0.6666666666666666,
              "#ed7953"
             ],
             [
              0.7777777777777778,
              "#fb9f3a"
             ],
             [
              0.8888888888888888,
              "#fdca26"
             ],
             [
              1,
              "#f0f921"
             ]
            ],
            "type": "histogram2d"
           }
          ],
          "histogram2dcontour": [
           {
            "colorbar": {
             "outlinewidth": 0,
             "ticks": ""
            },
            "colorscale": [
             [
              0,
              "#0d0887"
             ],
             [
              0.1111111111111111,
              "#46039f"
             ],
             [
              0.2222222222222222,
              "#7201a8"
             ],
             [
              0.3333333333333333,
              "#9c179e"
             ],
             [
              0.4444444444444444,
              "#bd3786"
             ],
             [
              0.5555555555555556,
              "#d8576b"
             ],
             [
              0.6666666666666666,
              "#ed7953"
             ],
             [
              0.7777777777777778,
              "#fb9f3a"
             ],
             [
              0.8888888888888888,
              "#fdca26"
             ],
             [
              1,
              "#f0f921"
             ]
            ],
            "type": "histogram2dcontour"
           }
          ],
          "mesh3d": [
           {
            "colorbar": {
             "outlinewidth": 0,
             "ticks": ""
            },
            "type": "mesh3d"
           }
          ],
          "parcoords": [
           {
            "line": {
             "colorbar": {
              "outlinewidth": 0,
              "ticks": ""
             }
            },
            "type": "parcoords"
           }
          ],
          "pie": [
           {
            "automargin": true,
            "type": "pie"
           }
          ],
          "scatter": [
           {
            "marker": {
             "line": {
              "color": "#283442"
             }
            },
            "type": "scatter"
           }
          ],
          "scatter3d": [
           {
            "line": {
             "colorbar": {
              "outlinewidth": 0,
              "ticks": ""
             }
            },
            "marker": {
             "colorbar": {
              "outlinewidth": 0,
              "ticks": ""
             }
            },
            "type": "scatter3d"
           }
          ],
          "scattercarpet": [
           {
            "marker": {
             "colorbar": {
              "outlinewidth": 0,
              "ticks": ""
             }
            },
            "type": "scattercarpet"
           }
          ],
          "scattergeo": [
           {
            "marker": {
             "colorbar": {
              "outlinewidth": 0,
              "ticks": ""
             }
            },
            "type": "scattergeo"
           }
          ],
          "scattergl": [
           {
            "marker": {
             "line": {
              "color": "#283442"
             }
            },
            "type": "scattergl"
           }
          ],
          "scattermap": [
           {
            "marker": {
             "colorbar": {
              "outlinewidth": 0,
              "ticks": ""
             }
            },
            "type": "scattermap"
           }
          ],
          "scattermapbox": [
           {
            "marker": {
             "colorbar": {
              "outlinewidth": 0,
              "ticks": ""
             }
            },
            "type": "scattermapbox"
           }
          ],
          "scatterpolar": [
           {
            "marker": {
             "colorbar": {
              "outlinewidth": 0,
              "ticks": ""
             }
            },
            "type": "scatterpolar"
           }
          ],
          "scatterpolargl": [
           {
            "marker": {
             "colorbar": {
              "outlinewidth": 0,
              "ticks": ""
             }
            },
            "type": "scatterpolargl"
           }
          ],
          "scatterternary": [
           {
            "marker": {
             "colorbar": {
              "outlinewidth": 0,
              "ticks": ""
             }
            },
            "type": "scatterternary"
           }
          ],
          "surface": [
           {
            "colorbar": {
             "outlinewidth": 0,
             "ticks": ""
            },
            "colorscale": [
             [
              0,
              "#0d0887"
             ],
             [
              0.1111111111111111,
              "#46039f"
             ],
             [
              0.2222222222222222,
              "#7201a8"
             ],
             [
              0.3333333333333333,
              "#9c179e"
             ],
             [
              0.4444444444444444,
              "#bd3786"
             ],
             [
              0.5555555555555556,
              "#d8576b"
             ],
             [
              0.6666666666666666,
              "#ed7953"
             ],
             [
              0.7777777777777778,
              "#fb9f3a"
             ],
             [
              0.8888888888888888,
              "#fdca26"
             ],
             [
              1,
              "#f0f921"
             ]
            ],
            "type": "surface"
           }
          ],
          "table": [
           {
            "cells": {
             "fill": {
              "color": "#506784"
             },
             "line": {
              "color": "rgb(17,17,17)"
             }
            },
            "header": {
             "fill": {
              "color": "#2a3f5f"
             },
             "line": {
              "color": "rgb(17,17,17)"
             }
            },
            "type": "table"
           }
          ]
         },
         "layout": {
          "annotationdefaults": {
           "arrowcolor": "#f2f5fa",
           "arrowhead": 0,
           "arrowwidth": 1
          },
          "autotypenumbers": "strict",
          "coloraxis": {
           "colorbar": {
            "outlinewidth": 0,
            "ticks": ""
           }
          },
          "colorscale": {
           "diverging": [
            [
             0,
             "#8e0152"
            ],
            [
             0.1,
             "#c51b7d"
            ],
            [
             0.2,
             "#de77ae"
            ],
            [
             0.3,
             "#f1b6da"
            ],
            [
             0.4,
             "#fde0ef"
            ],
            [
             0.5,
             "#f7f7f7"
            ],
            [
             0.6,
             "#e6f5d0"
            ],
            [
             0.7,
             "#b8e186"
            ],
            [
             0.8,
             "#7fbc41"
            ],
            [
             0.9,
             "#4d9221"
            ],
            [
             1,
             "#276419"
            ]
           ],
           "sequential": [
            [
             0,
             "#0d0887"
            ],
            [
             0.1111111111111111,
             "#46039f"
            ],
            [
             0.2222222222222222,
             "#7201a8"
            ],
            [
             0.3333333333333333,
             "#9c179e"
            ],
            [
             0.4444444444444444,
             "#bd3786"
            ],
            [
             0.5555555555555556,
             "#d8576b"
            ],
            [
             0.6666666666666666,
             "#ed7953"
            ],
            [
             0.7777777777777778,
             "#fb9f3a"
            ],
            [
             0.8888888888888888,
             "#fdca26"
            ],
            [
             1,
             "#f0f921"
            ]
           ],
           "sequentialminus": [
            [
             0,
             "#0d0887"
            ],
            [
             0.1111111111111111,
             "#46039f"
            ],
            [
             0.2222222222222222,
             "#7201a8"
            ],
            [
             0.3333333333333333,
             "#9c179e"
            ],
            [
             0.4444444444444444,
             "#bd3786"
            ],
            [
             0.5555555555555556,
             "#d8576b"
            ],
            [
             0.6666666666666666,
             "#ed7953"
            ],
            [
             0.7777777777777778,
             "#fb9f3a"
            ],
            [
             0.8888888888888888,
             "#fdca26"
            ],
            [
             1,
             "#f0f921"
            ]
           ]
          },
          "colorway": [
           "#636efa",
           "#EF553B",
           "#00cc96",
           "#ab63fa",
           "#FFA15A",
           "#19d3f3",
           "#FF6692",
           "#B6E880",
           "#FF97FF",
           "#FECB52"
          ],
          "font": {
           "color": "#f2f5fa"
          },
          "geo": {
           "bgcolor": "rgb(17,17,17)",
           "lakecolor": "rgb(17,17,17)",
           "landcolor": "rgb(17,17,17)",
           "showlakes": true,
           "showland": true,
           "subunitcolor": "#506784"
          },
          "hoverlabel": {
           "align": "left"
          },
          "hovermode": "closest",
          "mapbox": {
           "style": "dark"
          },
          "paper_bgcolor": "rgb(17,17,17)",
          "plot_bgcolor": "rgb(17,17,17)",
          "polar": {
           "angularaxis": {
            "gridcolor": "#506784",
            "linecolor": "#506784",
            "ticks": ""
           },
           "bgcolor": "rgb(17,17,17)",
           "radialaxis": {
            "gridcolor": "#506784",
            "linecolor": "#506784",
            "ticks": ""
           }
          },
          "scene": {
           "xaxis": {
            "backgroundcolor": "rgb(17,17,17)",
            "gridcolor": "#506784",
            "gridwidth": 2,
            "linecolor": "#506784",
            "showbackground": true,
            "ticks": "",
            "zerolinecolor": "#C8D4E3"
           },
           "yaxis": {
            "backgroundcolor": "rgb(17,17,17)",
            "gridcolor": "#506784",
            "gridwidth": 2,
            "linecolor": "#506784",
            "showbackground": true,
            "ticks": "",
            "zerolinecolor": "#C8D4E3"
           },
           "zaxis": {
            "backgroundcolor": "rgb(17,17,17)",
            "gridcolor": "#506784",
            "gridwidth": 2,
            "linecolor": "#506784",
            "showbackground": true,
            "ticks": "",
            "zerolinecolor": "#C8D4E3"
           }
          },
          "shapedefaults": {
           "line": {
            "color": "#f2f5fa"
           }
          },
          "sliderdefaults": {
           "bgcolor": "#C8D4E3",
           "bordercolor": "rgb(17,17,17)",
           "borderwidth": 1,
           "tickwidth": 0
          },
          "ternary": {
           "aaxis": {
            "gridcolor": "#506784",
            "linecolor": "#506784",
            "ticks": ""
           },
           "baxis": {
            "gridcolor": "#506784",
            "linecolor": "#506784",
            "ticks": ""
           },
           "bgcolor": "rgb(17,17,17)",
           "caxis": {
            "gridcolor": "#506784",
            "linecolor": "#506784",
            "ticks": ""
           }
          },
          "title": {
           "x": 0.05
          },
          "updatemenudefaults": {
           "bgcolor": "#506784",
           "borderwidth": 0
          },
          "xaxis": {
           "automargin": true,
           "gridcolor": "#283442",
           "linecolor": "#506784",
           "ticks": "",
           "title": {
            "standoff": 15
           },
           "zerolinecolor": "#283442",
           "zerolinewidth": 2
          },
          "yaxis": {
           "automargin": true,
           "gridcolor": "#283442",
           "linecolor": "#506784",
           "ticks": "",
           "title": {
            "standoff": 15
           },
           "zerolinecolor": "#283442",
           "zerolinewidth": 2
          }
         }
        },
        "title": {
         "text": "BudBurst (MAE = 6.05, RMSE = 8.16, ObsSTD = 6.5)"
        },
        "xaxis": {
         "title": {
          "text": "Observed BudBurst DOY"
         }
        },
        "yaxis": {
         "title": {
          "text": "Predicted BudBurst DOY"
         }
        }
       }
      }
     },
     "metadata": {},
     "output_type": "display_data"
    },
    {
     "data": {
      "application/vnd.plotly.v1+json": {
       "config": {
        "plotlyServerURL": "https://plot.ly"
       },
       "data": [
        {
         "marker": {
          "size": 15
         },
         "mode": "markers",
         "name": "TPROB4Flowering2016control",
         "type": "scatter",
         "x": [
          325
         ],
         "y": [
          323
         ]
        },
        {
         "marker": {
          "size": 15
         },
         "mode": "markers",
         "name": "HaywardTPFloweringCon1",
         "type": "scatter",
         "x": [
          317
         ],
         "y": [
          329
         ]
        },
        {
         "marker": {
          "size": 15
         },
         "mode": "markers",
         "name": "HaywardTPFloweringCon2",
         "type": "scatter",
         "x": [
          317
         ],
         "y": [
          329
         ]
        },
        {
         "marker": {
          "size": 15
         },
         "mode": "markers",
         "name": "HaywardKKFloweringControl",
         "type": "scatter",
         "x": [
          319
         ],
         "y": [
          321
         ]
        },
        {
         "marker": {
          "size": 15
         },
         "mode": "markers",
         "name": "KatoaFlowering2008control",
         "type": "scatter",
         "x": [
          323
         ],
         "y": [
          332
         ]
        },
        {
         "marker": {
          "size": 15
         },
         "mode": "markers",
         "name": "MeadFlowering2008control",
         "type": "scatter",
         "x": [
          324
         ],
         "y": [
          332
         ]
        },
        {
         "marker": {
          "size": 15
         },
         "mode": "markers",
         "name": "KatoaFlowering2009control",
         "type": "scatter",
         "x": [
          320
         ],
         "y": [
          327
         ]
        },
        {
         "marker": {
          "size": 15
         },
         "mode": "markers",
         "name": "MeadFlowering2009control",
         "type": "scatter",
         "x": [
          320
         ],
         "y": [
          327
         ]
        },
        {
         "marker": {
          "size": 15
         },
         "mode": "markers",
         "name": "KatoaFlowering2010control",
         "type": "scatter",
         "x": [
          320
         ],
         "y": [
          324
         ]
        },
        {
         "marker": {
          "size": 15
         },
         "mode": "markers",
         "name": "MeadFlowering2010control",
         "type": "scatter",
         "x": [
          325
         ],
         "y": [
          324
         ]
        },
        {
         "marker": {
          "size": 15
         },
         "mode": "markers",
         "name": "NFlowering2010control",
         "type": "scatter",
         "x": [
          329
         ],
         "y": [
          322
         ]
        },
        {
         "marker": {
          "size": 15
         },
         "mode": "markers",
         "name": "NFlowering2011control",
         "type": "scatter",
         "x": [
          320
         ],
         "y": [
          316
         ]
        },
        {
         "marker": {
          "size": 15
         },
         "mode": "markers",
         "name": "TPHaywardFlowering2013Co",
         "type": "scatter",
         "x": [
          321
         ],
         "y": [
          315
         ]
        },
        {
         "marker": {
          "size": 15
         },
         "mode": "markers",
         "name": "KKHaywardFlowering2013Co",
         "type": "scatter",
         "x": [
          318
         ],
         "y": [
          314
         ]
        },
        {
         "marker": {
          "size": 15
         },
         "mode": "markers",
         "name": "TPHaywardFlowering2018Control",
         "type": "scatter",
         "x": [
          298
         ],
         "y": [
          319
         ]
        },
        {
         "marker": {
          "size": 15
         },
         "mode": "markers",
         "name": "KKHaywardFlowering2018Untreated Control",
         "type": "scatter",
         "x": [
          310
         ],
         "y": [
          314
         ]
        },
        {
         "marker": {
          "size": 15
         },
         "mode": "markers",
         "name": "HaywardFlowering2019Untreated control",
         "type": "scatter",
         "x": [
          317
         ],
         "y": [
          312
         ]
        },
        {
         "marker": {
          "size": 15
         },
         "mode": "markers",
         "name": "HWFlwrRawControl",
         "type": "scatter",
         "x": [
          313
         ],
         "y": [
          311
         ]
        },
        {
         "marker": {
          "size": 15
         },
         "mode": "markers",
         "name": "HWFlwrRawUntreated control",
         "type": "scatter",
         "x": [
          315
         ],
         "y": [
          311
         ]
        },
        {
         "marker": {
          "size": 15
         },
         "mode": "markers",
         "name": "HW-FloweringTP2020Control",
         "type": "scatter",
         "x": [
          312
         ],
         "y": [
          313
         ]
        },
        {
         "marker": {
          "size": 15
         },
         "mode": "markers",
         "name": "HWFlwrRawTP2021Control",
         "type": "scatter",
         "x": [
          315
         ],
         "y": [
          315
         ]
        },
        {
         "marker": {
          "size": 15
         },
         "mode": "markers",
         "name": "HW-Flowering-TP2020Control",
         "type": "scatter",
         "x": [
          319
         ],
         "y": [
          313
         ]
        },
        {
         "line": {
          "color": "white",
          "dash": "dash"
         },
         "mode": "lines",
         "name": "1:1 Line",
         "type": "scatter",
         "x": [
          298,
          332
         ],
         "y": [
          298,
          332
         ]
        },
        {
         "line": {
          "color": "grey",
          "dash": "dot"
         },
         "mode": "lines",
         "name": "+MAE",
         "type": "scatter",
         "x": [
          298,
          332
         ],
         "y": {
          "bdata": "hetRuB79ckCF61G4Hh11QA==",
          "dtype": "f8"
         }
        },
        {
         "line": {
          "color": "grey",
          "dash": "dot"
         },
         "mode": "lines",
         "name": "-MAE",
         "type": "scatter",
         "x": [
          298,
          332
         ],
         "y": {
          "bdata": "exSuR+FCckB7FK5H4WJ0QA==",
          "dtype": "f8"
         }
        },
        {
         "line": {
          "color": "yellow",
          "dash": "dot"
         },
         "mode": "lines",
         "name": "+RMSE",
         "type": "scatter",
         "x": [
          298,
          332
         ],
         "y": {
          "bdata": "H4XrUbgWc0AfhetRuDZ1QA==",
          "dtype": "f8"
         }
        },
        {
         "line": {
          "color": "yellow",
          "dash": "dot"
         },
         "mode": "lines",
         "name": "-RMSE",
         "type": "scatter",
         "x": [
          298,
          332
         ],
         "y": {
          "bdata": "4XoUrkcpckDhehSuR0l0QA==",
          "dtype": "f8"
         }
        }
       ],
       "layout": {
        "template": {
         "data": {
          "bar": [
           {
            "error_x": {
             "color": "#f2f5fa"
            },
            "error_y": {
             "color": "#f2f5fa"
            },
            "marker": {
             "line": {
              "color": "rgb(17,17,17)",
              "width": 0.5
             },
             "pattern": {
              "fillmode": "overlay",
              "size": 10,
              "solidity": 0.2
             }
            },
            "type": "bar"
           }
          ],
          "barpolar": [
           {
            "marker": {
             "line": {
              "color": "rgb(17,17,17)",
              "width": 0.5
             },
             "pattern": {
              "fillmode": "overlay",
              "size": 10,
              "solidity": 0.2
             }
            },
            "type": "barpolar"
           }
          ],
          "carpet": [
           {
            "aaxis": {
             "endlinecolor": "#A2B1C6",
             "gridcolor": "#506784",
             "linecolor": "#506784",
             "minorgridcolor": "#506784",
             "startlinecolor": "#A2B1C6"
            },
            "baxis": {
             "endlinecolor": "#A2B1C6",
             "gridcolor": "#506784",
             "linecolor": "#506784",
             "minorgridcolor": "#506784",
             "startlinecolor": "#A2B1C6"
            },
            "type": "carpet"
           }
          ],
          "choropleth": [
           {
            "colorbar": {
             "outlinewidth": 0,
             "ticks": ""
            },
            "type": "choropleth"
           }
          ],
          "contour": [
           {
            "colorbar": {
             "outlinewidth": 0,
             "ticks": ""
            },
            "colorscale": [
             [
              0,
              "#0d0887"
             ],
             [
              0.1111111111111111,
              "#46039f"
             ],
             [
              0.2222222222222222,
              "#7201a8"
             ],
             [
              0.3333333333333333,
              "#9c179e"
             ],
             [
              0.4444444444444444,
              "#bd3786"
             ],
             [
              0.5555555555555556,
              "#d8576b"
             ],
             [
              0.6666666666666666,
              "#ed7953"
             ],
             [
              0.7777777777777778,
              "#fb9f3a"
             ],
             [
              0.8888888888888888,
              "#fdca26"
             ],
             [
              1,
              "#f0f921"
             ]
            ],
            "type": "contour"
           }
          ],
          "contourcarpet": [
           {
            "colorbar": {
             "outlinewidth": 0,
             "ticks": ""
            },
            "type": "contourcarpet"
           }
          ],
          "heatmap": [
           {
            "colorbar": {
             "outlinewidth": 0,
             "ticks": ""
            },
            "colorscale": [
             [
              0,
              "#0d0887"
             ],
             [
              0.1111111111111111,
              "#46039f"
             ],
             [
              0.2222222222222222,
              "#7201a8"
             ],
             [
              0.3333333333333333,
              "#9c179e"
             ],
             [
              0.4444444444444444,
              "#bd3786"
             ],
             [
              0.5555555555555556,
              "#d8576b"
             ],
             [
              0.6666666666666666,
              "#ed7953"
             ],
             [
              0.7777777777777778,
              "#fb9f3a"
             ],
             [
              0.8888888888888888,
              "#fdca26"
             ],
             [
              1,
              "#f0f921"
             ]
            ],
            "type": "heatmap"
           }
          ],
          "histogram": [
           {
            "marker": {
             "pattern": {
              "fillmode": "overlay",
              "size": 10,
              "solidity": 0.2
             }
            },
            "type": "histogram"
           }
          ],
          "histogram2d": [
           {
            "colorbar": {
             "outlinewidth": 0,
             "ticks": ""
            },
            "colorscale": [
             [
              0,
              "#0d0887"
             ],
             [
              0.1111111111111111,
              "#46039f"
             ],
             [
              0.2222222222222222,
              "#7201a8"
             ],
             [
              0.3333333333333333,
              "#9c179e"
             ],
             [
              0.4444444444444444,
              "#bd3786"
             ],
             [
              0.5555555555555556,
              "#d8576b"
             ],
             [
              0.6666666666666666,
              "#ed7953"
             ],
             [
              0.7777777777777778,
              "#fb9f3a"
             ],
             [
              0.8888888888888888,
              "#fdca26"
             ],
             [
              1,
              "#f0f921"
             ]
            ],
            "type": "histogram2d"
           }
          ],
          "histogram2dcontour": [
           {
            "colorbar": {
             "outlinewidth": 0,
             "ticks": ""
            },
            "colorscale": [
             [
              0,
              "#0d0887"
             ],
             [
              0.1111111111111111,
              "#46039f"
             ],
             [
              0.2222222222222222,
              "#7201a8"
             ],
             [
              0.3333333333333333,
              "#9c179e"
             ],
             [
              0.4444444444444444,
              "#bd3786"
             ],
             [
              0.5555555555555556,
              "#d8576b"
             ],
             [
              0.6666666666666666,
              "#ed7953"
             ],
             [
              0.7777777777777778,
              "#fb9f3a"
             ],
             [
              0.8888888888888888,
              "#fdca26"
             ],
             [
              1,
              "#f0f921"
             ]
            ],
            "type": "histogram2dcontour"
           }
          ],
          "mesh3d": [
           {
            "colorbar": {
             "outlinewidth": 0,
             "ticks": ""
            },
            "type": "mesh3d"
           }
          ],
          "parcoords": [
           {
            "line": {
             "colorbar": {
              "outlinewidth": 0,
              "ticks": ""
             }
            },
            "type": "parcoords"
           }
          ],
          "pie": [
           {
            "automargin": true,
            "type": "pie"
           }
          ],
          "scatter": [
           {
            "marker": {
             "line": {
              "color": "#283442"
             }
            },
            "type": "scatter"
           }
          ],
          "scatter3d": [
           {
            "line": {
             "colorbar": {
              "outlinewidth": 0,
              "ticks": ""
             }
            },
            "marker": {
             "colorbar": {
              "outlinewidth": 0,
              "ticks": ""
             }
            },
            "type": "scatter3d"
           }
          ],
          "scattercarpet": [
           {
            "marker": {
             "colorbar": {
              "outlinewidth": 0,
              "ticks": ""
             }
            },
            "type": "scattercarpet"
           }
          ],
          "scattergeo": [
           {
            "marker": {
             "colorbar": {
              "outlinewidth": 0,
              "ticks": ""
             }
            },
            "type": "scattergeo"
           }
          ],
          "scattergl": [
           {
            "marker": {
             "line": {
              "color": "#283442"
             }
            },
            "type": "scattergl"
           }
          ],
          "scattermap": [
           {
            "marker": {
             "colorbar": {
              "outlinewidth": 0,
              "ticks": ""
             }
            },
            "type": "scattermap"
           }
          ],
          "scattermapbox": [
           {
            "marker": {
             "colorbar": {
              "outlinewidth": 0,
              "ticks": ""
             }
            },
            "type": "scattermapbox"
           }
          ],
          "scatterpolar": [
           {
            "marker": {
             "colorbar": {
              "outlinewidth": 0,
              "ticks": ""
             }
            },
            "type": "scatterpolar"
           }
          ],
          "scatterpolargl": [
           {
            "marker": {
             "colorbar": {
              "outlinewidth": 0,
              "ticks": ""
             }
            },
            "type": "scatterpolargl"
           }
          ],
          "scatterternary": [
           {
            "marker": {
             "colorbar": {
              "outlinewidth": 0,
              "ticks": ""
             }
            },
            "type": "scatterternary"
           }
          ],
          "surface": [
           {
            "colorbar": {
             "outlinewidth": 0,
             "ticks": ""
            },
            "colorscale": [
             [
              0,
              "#0d0887"
             ],
             [
              0.1111111111111111,
              "#46039f"
             ],
             [
              0.2222222222222222,
              "#7201a8"
             ],
             [
              0.3333333333333333,
              "#9c179e"
             ],
             [
              0.4444444444444444,
              "#bd3786"
             ],
             [
              0.5555555555555556,
              "#d8576b"
             ],
             [
              0.6666666666666666,
              "#ed7953"
             ],
             [
              0.7777777777777778,
              "#fb9f3a"
             ],
             [
              0.8888888888888888,
              "#fdca26"
             ],
             [
              1,
              "#f0f921"
             ]
            ],
            "type": "surface"
           }
          ],
          "table": [
           {
            "cells": {
             "fill": {
              "color": "#506784"
             },
             "line": {
              "color": "rgb(17,17,17)"
             }
            },
            "header": {
             "fill": {
              "color": "#2a3f5f"
             },
             "line": {
              "color": "rgb(17,17,17)"
             }
            },
            "type": "table"
           }
          ]
         },
         "layout": {
          "annotationdefaults": {
           "arrowcolor": "#f2f5fa",
           "arrowhead": 0,
           "arrowwidth": 1
          },
          "autotypenumbers": "strict",
          "coloraxis": {
           "colorbar": {
            "outlinewidth": 0,
            "ticks": ""
           }
          },
          "colorscale": {
           "diverging": [
            [
             0,
             "#8e0152"
            ],
            [
             0.1,
             "#c51b7d"
            ],
            [
             0.2,
             "#de77ae"
            ],
            [
             0.3,
             "#f1b6da"
            ],
            [
             0.4,
             "#fde0ef"
            ],
            [
             0.5,
             "#f7f7f7"
            ],
            [
             0.6,
             "#e6f5d0"
            ],
            [
             0.7,
             "#b8e186"
            ],
            [
             0.8,
             "#7fbc41"
            ],
            [
             0.9,
             "#4d9221"
            ],
            [
             1,
             "#276419"
            ]
           ],
           "sequential": [
            [
             0,
             "#0d0887"
            ],
            [
             0.1111111111111111,
             "#46039f"
            ],
            [
             0.2222222222222222,
             "#7201a8"
            ],
            [
             0.3333333333333333,
             "#9c179e"
            ],
            [
             0.4444444444444444,
             "#bd3786"
            ],
            [
             0.5555555555555556,
             "#d8576b"
            ],
            [
             0.6666666666666666,
             "#ed7953"
            ],
            [
             0.7777777777777778,
             "#fb9f3a"
            ],
            [
             0.8888888888888888,
             "#fdca26"
            ],
            [
             1,
             "#f0f921"
            ]
           ],
           "sequentialminus": [
            [
             0,
             "#0d0887"
            ],
            [
             0.1111111111111111,
             "#46039f"
            ],
            [
             0.2222222222222222,
             "#7201a8"
            ],
            [
             0.3333333333333333,
             "#9c179e"
            ],
            [
             0.4444444444444444,
             "#bd3786"
            ],
            [
             0.5555555555555556,
             "#d8576b"
            ],
            [
             0.6666666666666666,
             "#ed7953"
            ],
            [
             0.7777777777777778,
             "#fb9f3a"
            ],
            [
             0.8888888888888888,
             "#fdca26"
            ],
            [
             1,
             "#f0f921"
            ]
           ]
          },
          "colorway": [
           "#636efa",
           "#EF553B",
           "#00cc96",
           "#ab63fa",
           "#FFA15A",
           "#19d3f3",
           "#FF6692",
           "#B6E880",
           "#FF97FF",
           "#FECB52"
          ],
          "font": {
           "color": "#f2f5fa"
          },
          "geo": {
           "bgcolor": "rgb(17,17,17)",
           "lakecolor": "rgb(17,17,17)",
           "landcolor": "rgb(17,17,17)",
           "showlakes": true,
           "showland": true,
           "subunitcolor": "#506784"
          },
          "hoverlabel": {
           "align": "left"
          },
          "hovermode": "closest",
          "mapbox": {
           "style": "dark"
          },
          "paper_bgcolor": "rgb(17,17,17)",
          "plot_bgcolor": "rgb(17,17,17)",
          "polar": {
           "angularaxis": {
            "gridcolor": "#506784",
            "linecolor": "#506784",
            "ticks": ""
           },
           "bgcolor": "rgb(17,17,17)",
           "radialaxis": {
            "gridcolor": "#506784",
            "linecolor": "#506784",
            "ticks": ""
           }
          },
          "scene": {
           "xaxis": {
            "backgroundcolor": "rgb(17,17,17)",
            "gridcolor": "#506784",
            "gridwidth": 2,
            "linecolor": "#506784",
            "showbackground": true,
            "ticks": "",
            "zerolinecolor": "#C8D4E3"
           },
           "yaxis": {
            "backgroundcolor": "rgb(17,17,17)",
            "gridcolor": "#506784",
            "gridwidth": 2,
            "linecolor": "#506784",
            "showbackground": true,
            "ticks": "",
            "zerolinecolor": "#C8D4E3"
           },
           "zaxis": {
            "backgroundcolor": "rgb(17,17,17)",
            "gridcolor": "#506784",
            "gridwidth": 2,
            "linecolor": "#506784",
            "showbackground": true,
            "ticks": "",
            "zerolinecolor": "#C8D4E3"
           }
          },
          "shapedefaults": {
           "line": {
            "color": "#f2f5fa"
           }
          },
          "sliderdefaults": {
           "bgcolor": "#C8D4E3",
           "bordercolor": "rgb(17,17,17)",
           "borderwidth": 1,
           "tickwidth": 0
          },
          "ternary": {
           "aaxis": {
            "gridcolor": "#506784",
            "linecolor": "#506784",
            "ticks": ""
           },
           "baxis": {
            "gridcolor": "#506784",
            "linecolor": "#506784",
            "ticks": ""
           },
           "bgcolor": "rgb(17,17,17)",
           "caxis": {
            "gridcolor": "#506784",
            "linecolor": "#506784",
            "ticks": ""
           }
          },
          "title": {
           "x": 0.05
          },
          "updatemenudefaults": {
           "bgcolor": "#506784",
           "borderwidth": 0
          },
          "xaxis": {
           "automargin": true,
           "gridcolor": "#283442",
           "linecolor": "#506784",
           "ticks": "",
           "title": {
            "standoff": 15
           },
           "zerolinecolor": "#283442",
           "zerolinewidth": 2
          },
          "yaxis": {
           "automargin": true,
           "gridcolor": "#283442",
           "linecolor": "#506784",
           "ticks": "",
           "title": {
            "standoff": 15
           },
           "zerolinecolor": "#283442",
           "zerolinewidth": 2
          }
         }
        },
        "title": {
         "text": "BudBurst (MAE = 5.82, RMSE = 7.42, ObsSTD = 6.23)"
        },
        "xaxis": {
         "title": {
          "text": "Observed BudBurst DOY"
         }
        },
        "yaxis": {
         "title": {
          "text": "Predicted BudBurst DOY"
         }
        }
       }
      }
     },
     "metadata": {},
     "output_type": "display_data"
    }
   ],
   "source": [
    "predicted_budbreak_doy, observed_budbreak_doy, predicted_flowering_doy, observed_flowering_doy  = TestObject._best_value_plot(best_val)"
   ]
  },
  {
   "cell_type": "markdown",
   "metadata": {},
   "source": [
    "# Python vs APSIM:"
   ]
  },
  {
   "cell_type": "code",
   "execution_count": null,
   "metadata": {},
   "outputs": [],
   "source": [
    "# apsim_bb_predictions = np.array([274,274,289,289,286,275,275,263,263,273,273,274,286,270,270,270,281,276,298,280,280,276,312,280,280]) \n",
    "# TestObject._apsim_compare(apsim_bb_predictions, predicted_budbreak_doy, observed_budbreak_doy)"
   ]
  },
  {
   "cell_type": "code",
   "execution_count": null,
   "metadata": {},
   "outputs": [],
   "source": [
    "   "
   ]
  },
  {
   "cell_type": "code",
   "execution_count": null,
   "metadata": {},
   "outputs": [],
   "source": []
  }
 ],
 "metadata": {
  "kernelspec": {
   "display_name": ".venv",
   "language": "python",
   "name": "python3"
  },
  "language_info": {
   "codemirror_mode": {
    "name": "ipython",
    "version": 3
   },
   "file_extension": ".py",
   "mimetype": "text/x-python",
   "name": "python",
   "nbconvert_exporter": "python",
   "pygments_lexer": "ipython3",
   "version": "3.13.2"
  }
 },
 "nbformat": 4,
 "nbformat_minor": 2
}
