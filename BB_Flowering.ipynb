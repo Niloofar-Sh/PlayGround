{
 "cells": [
  {
   "cell_type": "code",
   "execution_count": 1,
   "metadata": {},
   "outputs": [],
   "source": [
    "import numpy as np\n",
    "import pandas as pd\n",
    "import matplotlib.pyplot as plt\n",
    "import math\n",
    "import plotly.graph_objects as go\n",
    "import plotly.express as px\n",
    "from dotenv import load_dotenv\n",
    "import json\n",
    "from collections import defaultdict\n",
    "import importlib\n",
    "import warnings\n",
    "warnings.filterwarnings('ignore')\n",
    "import utils\n",
    "importlib.reload(utils)\n",
    "import os\n",
    "from scipy.stats import linregress\n",
    "from sklearn.metrics import mean_absolute_error"
   ]
  },
  {
   "cell_type": "markdown",
   "metadata": {},
   "source": [
    "# Load observations"
   ]
  },
  {
   "cell_type": "code",
   "execution_count": 2,
   "metadata": {},
   "outputs": [],
   "source": [
    "# Load datasets for observations\n",
    "def load_observations(file_path,BB_sheet_name, Flwr_sheet_name, cultivar_col,cultivar_name,treatment_col,treatment_name,location):\n",
    "    # Define the expected column names for the final concatenated DataFrame\n",
    "    TREATMENT = \"Treatment\"\n",
    "    LOCATION = \"Location\"\n",
    "    xls = pd.ExcelFile(file_path, engine=\"openpyxl\")\n",
    "    raw_df_BB = pd.read_excel(xls, sheet_name = BB_sheet_name)\n",
    "    raw_df_Flwr = pd.read_excel(xls, sheet_name = Flwr_sheet_name)\n",
    "\n",
    "    # Rename the Dates to Days of Year (DOY)\n",
    "    doy_column_BB = [pd.to_datetime(col).dayofyear for col in raw_df_BB.columns if utils.is_date_column(col)]\n",
    "    df_BB = raw_df_BB.rename(columns={col:pd.to_datetime(col).dayofyear for col in raw_df_BB.columns if utils.is_date_column(col)})\n",
    "\n",
    "    doy_column_Flwr = [pd.to_datetime(col).dayofyear for col in raw_df_Flwr.columns if utils.is_date_column(col)]\n",
    "    df_Flwr = raw_df_Flwr.rename(columns={col:pd.to_datetime(col).dayofyear for col in raw_df_Flwr.columns if utils.is_date_column(col)})\n",
    "\n",
    "    obs_year = [pd.to_datetime(col).year for col in raw_df_BB.columns if utils.is_date_column(col)][0]\n",
    "\n",
    "\n",
    "    # Apply filtering for the given cultivar & treatments\n",
    "    def filter_df(df, doy_column):\n",
    "        filtered_df = df[df[cultivar_col].isin([cultivar_name]) & df[treatment_col].isin([treatment_name])]\n",
    "        # Rename columns\n",
    "        columns_to_select = [treatment_col] + doy_column  # Ensure it's a flat list\n",
    "        filtered_df = filtered_df[columns_to_select]\n",
    "        filtered_df.rename(columns={treatment_col: TREATMENT}, inplace=True)\n",
    "        # Add the LOCATION column to the DataFrame\n",
    "        filtered_df[LOCATION] = location\n",
    "        # Remove rows with any NaN values\n",
    "        filtered_df = filtered_df.dropna()\n",
    "        # Reset index \n",
    "        filtered_df.reset_index(drop=True)\n",
    "        return filtered_df\n",
    "    filtered_df_BB = filter_df(df_BB,doy_column_BB)\n",
    "    # print(file_path,'/',Flwr_sheet_name)\n",
    "    # print(df_Flwr.head(1))\n",
    "    filtered_df_Flwr = filter_df(df_Flwr,doy_column_Flwr)\n",
    "\n",
    "    PBB, BB, BudBurstDOY, max_observed_buds = utils.BB_specifications(location,filtered_df_BB[doy_column_BB])\n",
    "    maxBBPsequence = np.empty(len(doy_column_BB))*np.nan\n",
    "    maxBBPsequence[-1] = np.max(PBB)\n",
    "\n",
    "    # Corresponding stage name (StartFlowering) to get the max BBP \n",
    "    MaxBBPstageSequence = [np.nan for i in range(len(doy_column_BB))]\n",
    "    MaxBBPstageSequence[-1] = 'StartFlowering'\n",
    "    # Generate the observations Excel file\n",
    "    \n",
    "    excel_observ_BB = pd.DataFrame(data={\n",
    "    'SimulationName': f'{BB_sheet_name}{filtered_df_BB[TREATMENT].iloc[0].replace(\" \", \"\")}', \n",
    "                                        'Clock.Today': [col for col in raw_df_BB.columns if utils.is_date_column(col)],\n",
    "                                        'DOY': doy_column_BB, \n",
    "                                        LOCATION: filtered_df_BB[LOCATION].iloc[0], \n",
    "                                        TREATMENT: filtered_df_BB[TREATMENT].iloc[0],\n",
    "                                        'KiwiFruit.Phenology.BrokenBuds': BB,\n",
    "                                        'KiwiFruit.Phenology.ProportionBB': PBB,\n",
    "                                        'KiwiFruit.Phenology.BudBurstDOY': BudBurstDOY,\n",
    "                                        'KiwiFruit.Phenology.MaxBBP': maxBBPsequence,\n",
    "                                        'KiwiFruit.Phenology.CurrentStageName': MaxBBPstageSequence})\n",
    "    \n",
    "    FlwrDOY = utils.Flwr_specifications(np.max(BB),filtered_df_Flwr[doy_column_Flwr])\n",
    "    maxFlwrsequence = np.empty(len(doy_column_Flwr))*np.nan\n",
    "    maxFlwrsequence[-1] = FlwrDOY\n",
    "\n",
    "    # Corresponding stage name (StartFlowering) to get the max BBP \n",
    "    MaxFlwrstageSequence = [np.nan for i in range(len(doy_column_Flwr))]\n",
    "    MaxFlwrstageSequence[-1] = 'StartFlowering'\n",
    "    excel_observ_Flwr = pd.DataFrame(data={\n",
    "    'SimulationName': f'{BB_sheet_name}{filtered_df_BB[TREATMENT].iloc[0].replace(\" \", \"\")}',  # Use same BB sheet name to be able to put in same apsim simulation\n",
    "                                        'Clock.Today': [col for col in raw_df_Flwr.columns if utils.is_date_column(col)],\n",
    "                                        'DOY': doy_column_Flwr, \n",
    "                                        LOCATION: filtered_df_Flwr[LOCATION].iloc[0], \n",
    "                                        TREATMENT: filtered_df_Flwr[TREATMENT].iloc[0],\n",
    "                                        'KiwiFruit.Phenology.FloweringDOY': FlwrDOY,\n",
    "                                        'KiwiFruit.Phenology.CurrentStageName': MaxFlwrstageSequence})\n",
    "\n",
    "    return obs_year, PBB, BB, BudBurstDOY, excel_observ_BB, excel_observ_Flwr\n",
    "    \n"
   ]
  },
  {
   "cell_type": "markdown",
   "metadata": {},
   "source": [
    "# WangEngel & GDH & Chill models"
   ]
  },
  {
   "cell_type": "code",
   "execution_count": 3,
   "metadata": {},
   "outputs": [],
   "source": [
    "def Chill(Tc,T):\n",
    "    return round((((4*T)/(Tc**2))*(Tc-T)),3)\n",
    "\n",
    "def Wangengel(MinTemp,OptTemp,MaxTemp,RefTemp,T):\n",
    "    RelEff = 0.0\n",
    "    RelEffRefTemp = 1.0\n",
    "    p = 0.0\n",
    "\n",
    "    if MinTemp < T < MaxTemp:\n",
    "        p = math.log(2.0) / math.log((MaxTemp - MinTemp) / (OptTemp - MinTemp))\n",
    "        RelEff = (2 * (T - MinTemp) ** p * (OptTemp - MinTemp) ** p - (T - MinTemp) ** (2 * p)) / (OptTemp - MinTemp) ** (2 * p)\n",
    "\n",
    "    if MinTemp < RefTemp < MaxTemp:\n",
    "        p = math.log(2.0) / math.log((MaxTemp - MinTemp) / (OptTemp - MinTemp))\n",
    "        RelEffRefTemp = (2 * (RefTemp - MinTemp) ** p * (OptTemp - MinTemp) ** p - (RefTemp - MinTemp) ** (2 * p)) / (OptTemp - MinTemp) ** (2 * p)\n",
    "\n",
    "    return round(float(RelEff / RelEffRefTemp),3)\n",
    "\n",
    "def GDH(Tb,Tu,Tc,T):\n",
    "    if (T > Tb) and (T <= Tu):\n",
    "        return float(0.5 * (1 + np.cos(np.pi + np.pi * ((T - Tb) / (Tu - Tb)))))\n",
    "    elif (T > Tu) and (T <= Tc):\n",
    "        return float((1 + np.cos(0.5*np.pi + 0.5*np.pi * ((T - Tu) / (Tc - Tu)))))\n",
    "    else:\n",
    "        return 0\n"
   ]
  },
  {
   "cell_type": "markdown",
   "metadata": {},
   "source": [
    "# Chill/Heat Accumulation"
   ]
  },
  {
   "cell_type": "code",
   "execution_count": 4,
   "metadata": {},
   "outputs": [],
   "source": [
    "# Chill & heat accumulation\n",
    "def chill_heat_accumulation(model_config, buds_targets, predicted_endo_release_doy, predicted_budbreak_doy, predicted_flowering_doy, weather_since_start_doy, BB_sheet_name, Flwr_sheet_name, treatment_name):\n",
    "    for bud_position,target in buds_targets.items():\n",
    "        chill_requirement = target['chill']\n",
    "        bb_heat_requirement = target['bbHeat']\n",
    "        flwr_heat_requirement = target['FlwrHeat']\n",
    "        \n",
    "        # Chill model parameter\n",
    "        chillVal = 0\n",
    "        for idx_endodormancy_release, temp in enumerate(weather_since_start_doy['temp']):\n",
    "            HrlyChillVal = Chill(utils.base_model_config()['Tc_chill'], temp)\n",
    "            if HrlyChillVal > 0:\n",
    "                chillVal += HrlyChillVal  \n",
    "            if chillVal >= chill_requirement:\n",
    "                predicted_endo_release_doy[BB_sheet_name+treatment_name][bud_position] = int(weather_since_start_doy['doy'].iloc[idx_endodormancy_release])  # Get the date at this index\n",
    "                break\n",
    "        # wangengel model parameters\n",
    "        RefTemp = model_config[\"OptTemp\"] # RefTemp = OptTemp scales the function to 0-1\n",
    "        # from the date of endodormancy release, start accumulating heat\n",
    "        heatVal = 0\n",
    "        for idx_bb, temp in enumerate(weather_since_start_doy['temp'][idx_endodormancy_release+1::]):\n",
    "            if model_config[\"HeatAccFunc\"] == 'WangEngel':\n",
    "                heatVal += Wangengel(model_config[\"MinTemp\"], model_config[\"OptTemp\"],model_config[\"MaxTemp\"],RefTemp,temp)\n",
    "            elif model_config[\"HeatAccFunc\"] == 'GDH':\n",
    "                heatVal += GDH(model_config[\"Tb_GDH\"],model_config[\"Tu_GDH\"],model_config[\"Tc_GDH\"],temp)\n",
    "            \n",
    "            if heatVal >= bb_heat_requirement:\n",
    "                predicted_budbreak_doy[BB_sheet_name+treatment_name][bud_position] = int(weather_since_start_doy['doy'].iloc[idx_endodormancy_release+idx_bb+1]) \n",
    "                break\n",
    "        \n",
    "        # from the date of budbreak, start accumulating heat\n",
    "        heatVal = 0\n",
    "        # weather_since_chill_target = weather_since_start_doy[weather_since_start_doy['doy']>=predicted_endo_release_doy[BB_sheet_name+treatment_name][bud_position]]\n",
    "        for idx_flwr, temp in enumerate(weather_since_start_doy['temp'][idx_endodormancy_release+idx_bb+1::]):\n",
    "            if model_config[\"HeatAccFunc\"] == 'WangEngel':\n",
    "                heatVal += Wangengel(model_config[\"MinTemp\"], model_config[\"OptTemp\"],model_config[\"MaxTemp\"],RefTemp,temp)\n",
    "            elif model_config[\"HeatAccFunc\"] == 'GDH':\n",
    "                heatVal += GDH(model_config[\"Tb_GDH\"],model_config[\"Tu_GDH\"],model_config[\"Tc_GDH\"],temp)\n",
    "            \n",
    "            if heatVal >= flwr_heat_requirement:\n",
    "                predicted_flowering_doy[Flwr_sheet_name+treatment_name][bud_position] = int(weather_since_start_doy['doy'].iloc[idx_endodormancy_release+idx_bb+idx_flwr+1]) \n",
    "                # print(pd.to_datetime(predicted_budbreak_doy[BB_sheet_name+treatment_name][bud_position], unit=\"D\", origin='2020'))\n",
    "                break\n",
    "        \n",
    "\n",
    "    return predicted_endo_release_doy, predicted_budbreak_doy, predicted_flowering_doy\n"
   ]
  },
  {
   "cell_type": "code",
   "execution_count": 5,
   "metadata": {},
   "outputs": [],
   "source": [
    "with open(\"config_MultiDataFiles_BBFlwr.json\", \"r\") as file:\n",
    "    config = json.load(file)\n",
    "\n",
    "def run(model_config):\n",
    "    start_doy = pd.to_datetime(model_config[\"StartDay\"]).dayofyear\n",
    "\n",
    "\n",
    "    buds_targets = {1:{'chill':model_config[\"ChillRequirement\"], 'bbHeat':model_config[\"HeatRequirement\"], 'FlwrHeat':model_config[\"FlwrHeatRequirement\"]}}\n",
    "\n",
    "    predicted_endo_release_doy = defaultdict(lambda: dict())\n",
    "    predicted_budbreak_doy = defaultdict(lambda: dict())\n",
    "    observed_budbreak_doy = defaultdict(lambda: dict())\n",
    "    predicted_flowering_doy = defaultdict(lambda: dict())\n",
    "    excel_observs_BB = []\n",
    "    excel_observs_Flwr = []\n",
    "    output_excel = 'ObservAll.xlsx'\n",
    "\n",
    "    # Load environment variables\n",
    "    load_dotenv()\n",
    "    FOLDER_PATH = os.getenv('FOLDER_PATH')\n",
    "    for file_name, file_info in config.items():\n",
    "            file_path = os.path.join(FOLDER_PATH, file_name)\n",
    "            # Process each sheet\n",
    "            for sheet_info in file_info['sheets']:\n",
    "                # Extract sheet names, cultivars, and treatments\n",
    "                BB_sheet_name = sheet_info['BB_sheet_name']\n",
    "                Flwr_sheet_name = sheet_info['Flwr_sheet_name']\n",
    "                location = sheet_info['location']\n",
    "                # max_observed_buds = sheet_info['max_observed_buds']\n",
    "                cultivar_col, cultivar_name = list(sheet_info['cultivar'].items())[0]\n",
    "                treatment_col, treatment_name = list(sheet_info['treatments'].items())[0]\n",
    "\n",
    "                # Load and calculate the observed budburst doy\n",
    "                obs_year, PBB, BB, BudBurstDOY, excel_observ_BB, excel_observ_Flwr = load_observations(file_path,BB_sheet_name, Flwr_sheet_name, cultivar_col,cultivar_name,treatment_col,treatment_name,location)\n",
    "                observed_budbreak_doy[BB_sheet_name+treatment_name][1] = BudBurstDOY\n",
    "\n",
    "                # Load the \"Hourly\" weather data\n",
    "                weather_path = sheet_info['weather_path']\n",
    "                weather_data = pd.read_csv(weather_path)\n",
    "                # Slicing the weather data to the dates within the observation year\n",
    "                weather_data['Date'] = pd.to_datetime(weather_data['Date'], errors='coerce')\n",
    "                weather_data = weather_data[\n",
    "                    (weather_data['Date'] >= pd.to_datetime(f'1/1/{obs_year}')) &\n",
    "                    (weather_data['Date'] <= pd.to_datetime(f'31/12/{obs_year}'))]     \n",
    "                # Renaming the columns and add doy column         \n",
    "                weather_data = weather_data[['Date', 'Time', 'Air Temp. (°C)']].rename(columns={'Date': 'date', 'Time':'Time', 'Air Temp. (°C)':'temp'}, inplace=False)\n",
    "                weather_data.insert(1, 'doy', [d.dayofyear for d in pd.to_datetime(weather_data['date'], format=\"mixed\")])\n",
    "                # Interpolate missing values\n",
    "                # Convert '-' to NaN\n",
    "                weather_data['temp'].replace('-', np.nan, inplace=True)\n",
    "                weather_data['temp']=weather_data['temp'].apply(pd.to_numeric, errors='coerce')\n",
    "\n",
    "                # Interpolate missing values\n",
    "                if weather_data['temp'].isna().any():\n",
    "                    if model_config[\"InterpolationMethod\"] == 'linear':\n",
    "                        weather_data['temp'].interpolate(method='linear', inplace=True)\n",
    "                    elif model_config[\"InterpolationMethod\"] == 'seasonal':\n",
    "                        # Compute seasonal average of hourly temperatures\n",
    "                        weather_data = utils.seasonal_ave_fillna(weather_data)\n",
    "                    elif model_config[\"InterpolationMethod\"] == 'longtermaverage':\n",
    "                        long_term_ave = weather_data['temp'].mean()\n",
    "                        weather_data['temp'].fillna(long_term_ave, inplace=True)\n",
    "                    # elif model_config[\"InterpolationMethod\"] == 'samedaycalendar':\n",
    "                    #     weather_data = utils.samedaycalendar_fillna(weather_data)\n",
    "                    \n",
    "\n",
    "                weather_since_start_doy = weather_data[weather_data['doy']>=start_doy].reset_index(drop=True)  \n",
    "\n",
    "                # Predict the endodormancy release doy and budbreak doy\n",
    "                predicted_endo_release_doy, predicted_budbreak_doy, predicted_flowering_doy = chill_heat_accumulation(model_config, buds_targets, predicted_endo_release_doy, predicted_budbreak_doy, predicted_flowering_doy, weather_since_start_doy, BB_sheet_name, Flwr_sheet_name, treatment_name)\n",
    "\n",
    "                excel_observs_BB.append(excel_observ_BB)\n",
    "                excel_observs_Flwr.append(excel_observ_Flwr)\n",
    "\n",
    "    excel_observs_BB_df = pd.concat(excel_observs_BB, ignore_index=True, sort=False)\n",
    "    excel_observs_Flwr_df = pd.concat(excel_observs_Flwr, ignore_index=True, sort=False)\n",
    "\n",
    "    with pd.ExcelWriter(output_excel, engine='openpyxl') as writer:\n",
    "        excel_observs_BB_df.to_excel(writer, sheet_name='BB', index=False)\n",
    "        excel_observs_Flwr_df.to_excel(writer, sheet_name='Flwr', index=False)\n",
    "\n",
    "    # Calculate stats\n",
    "    observed_all = []\n",
    "    predicted_all = []\n",
    "    for (trtmnt1,bb1),(trtmnt2,bb2) in zip(predicted_budbreak_doy.items(), observed_budbreak_doy.items()):\n",
    "        predicted_all.append(list(bb1.values())[0])\n",
    "        observed_all.append(list(bb2.values())[0])\n",
    "\n",
    "    stats = utils.calculate_fit_stats(observed_all, predicted_all)\n",
    "\n",
    "    # Fit linear regression\n",
    "    observed_all = np.array(observed_all)\n",
    "    predicted_all = np.array(predicted_all)\n",
    "    slope, intercept, _, _, _ = linregress(observed_all, predicted_all)\n",
    "    regression_line = slope * observed_all + intercept\n",
    "    \n",
    "    return predicted_budbreak_doy, observed_budbreak_doy, stats, (observed_all,regression_line)\n",
    "            "
   ]
  },
  {
   "cell_type": "code",
   "execution_count": 6,
   "metadata": {},
   "outputs": [],
   "source": [
    "def BB_plot(predicted_budbreak_doy, observed_budbreak_doy, stats, regression_xy=False):\n",
    "    all_bb_days = []\n",
    "    observed_all = []; predicted_all = []\n",
    "    fig = go.Figure()\n",
    "    for (trtmnt1,bb1),(trtmnt2,bb2) in zip(predicted_budbreak_doy.items(), observed_budbreak_doy.items()):\n",
    "        predicted_bb= list(bb1.values())[0]\n",
    "        observed_bb = list(bb2.values())[0]\n",
    "        predicted_all.append(list(bb1.values())[0])\n",
    "        observed_all.append(list(bb2.values())[0])\n",
    "        all_bb_days.append(observed_bb); all_bb_days.append(predicted_bb) # to collect all the observation days in all treatments for x-axis doy\n",
    "        fig.add_trace(go.Scatter(x=[observed_bb], y=[predicted_bb], mode='markers', marker=dict(size=15), name=trtmnt2))\n",
    "\n",
    "    # Add 1:1 dashed line\n",
    "    fig.add_trace(go.Scatter(x=[min(all_bb_days), max(all_bb_days)], y=[min(all_bb_days), max(all_bb_days)], mode='lines', line=dict(color=\"white\", dash=\"dash\"), name=\"1:1 Line\")) \n",
    "\n",
    "    # Calculate std of observations to compare with MAE\n",
    "    obs_std = round(np.std(observed_all),2)\n",
    "    # ±MAE bands\n",
    "    upper_line_mae = np.array([min(all_bb_days), max(all_bb_days)]) + np.array(stats['MAE'])   \n",
    "    lower_line_mae = np.array([min(all_bb_days), max(all_bb_days)]) - np.array(stats['MAE'])  \n",
    "    fig.add_trace(go.Scatter(x=[min(all_bb_days), max(all_bb_days)], y=upper_line_mae, mode='lines', line=dict(color=\"grey\", dash=\"dot\"), name='+MAE'))\n",
    "    fig.add_trace(go.Scatter(x=[min(all_bb_days), max(all_bb_days)], y=lower_line_mae, mode='lines', line=dict(color=\"grey\", dash=\"dot\"), name='-MAE'))  \n",
    "    # RMSE bands: If RMSE bands are much wider than MAE bands, it means there are large outliers affecting the model's performance.\n",
    "    upper_line_rmse = np.array([min(all_bb_days), max(all_bb_days)]) + np.array(stats['RMSE'])   \n",
    "    lower_line_rmse = np.array([min(all_bb_days), max(all_bb_days)]) - np.array(stats['RMSE'])  \n",
    "    fig.add_trace(go.Scatter(x=[min(all_bb_days), max(all_bb_days)], y=upper_line_rmse, mode='lines', line=dict(color=\"yellow\", dash=\"dot\"), name='+RMSE'))\n",
    "    fig.add_trace(go.Scatter(x=[min(all_bb_days), max(all_bb_days)], y=lower_line_rmse, mode='lines', line=dict(color=\"yellow\", dash=\"dot\"), name='-RMSE'))  \n",
    "\n",
    "    # Plot regression line\n",
    "    if regression_xy is not False:\n",
    "        fig.add_trace(go.Scatter(x=regression_xy[0], y=regression_xy[1], mode='lines', line=dict(color=\"white\", dash=\"solid\"), name=f\"Regression\"))\n",
    "\n",
    "    # Update layout\n",
    "    fig.update_layout(\n",
    "        title= f\"BudBurst (MAE = {stats['MAE']}, RMSE = {stats['RMSE']}, ObsSTD = {obs_std})\",\n",
    "        xaxis_title=\"Observed BudBurst DOY\",\n",
    "        yaxis_title=\"Predicted BudBurst DOY\",\n",
    "        template=\"plotly_dark\")\n",
    "    fig.show()\n"
   ]
  },
  {
   "cell_type": "markdown",
   "metadata": {},
   "source": [
    "# Test parameter values"
   ]
  },
  {
   "cell_type": "code",
   "execution_count": 7,
   "metadata": {},
   "outputs": [],
   "source": [
    "class Test:\n",
    "    def __init__(self, config_param_name):\n",
    "        self.config_param_name = config_param_name\n",
    "\n",
    "    def _test_parameter(self, list_values_to_test):\n",
    "        self.list_values_to_test = list_values_to_test\n",
    "        # Load default configuration\n",
    "        self.model_config = utils.base_model_config()\n",
    "\n",
    "        min_mae = np.inf # find the value with the minimum mae\n",
    "        min_rmse = np.inf\n",
    "        self.opt_param = 0\n",
    "        for t in self.list_values_to_test:\n",
    "            self.model_config[self.config_param_name] = t\n",
    "            _, _, stats, _ = run(self.model_config)\n",
    "            print('T = ',t,':')\n",
    "            print(stats,'\\n')\n",
    "            if stats[\"MAE\"] < min_mae:\n",
    "                self.opt_param = t\n",
    "                min_mae = stats[\"MAE\"]\n",
    "                min_rmse = stats['RMSE']\n",
    "            elif stats[\"MAE\"] == min_mae and stats[\"RMSE\"] < min_rmse: # in case the MAE is the same, check for minimum RMSE\n",
    "                    self.opt_param = t\n",
    "                    min_rmse = stats[\"RMSE\"]\n",
    "                # Pick the one with lowest error to plot\n",
    "        print('Best value: ', self.opt_param)\n",
    "        return self.opt_param\n",
    "\n",
    "    def _best_value_plot(self, opt_param):\n",
    "        self.model_config[self.config_param_name] = opt_param\n",
    "        predicted_budbreak_doy, observed_budbreak_doy, stats,  regression_xy = run(self.model_config)\n",
    "        BB_plot(predicted_budbreak_doy, observed_budbreak_doy, stats, regression_xy=False)\n",
    "        return predicted_budbreak_doy, observed_budbreak_doy\n",
    "\n",
    "    def _apsim_compare(self, apsim_bb_predictions, predicted_budbreak_doy, observed_budbreak_doy):\n",
    "\n",
    "        observed_all = []; predicted_all = []\n",
    "        fig = go.Figure()\n",
    "        for (trtmnt1,bb1),(trtmnt2,bb2) in zip(predicted_budbreak_doy.items(), observed_budbreak_doy.items()):\n",
    "            predicted_all.append(list(bb1.values())[0])\n",
    "            observed_all.append(list(bb2.values())[0])\n",
    "\n",
    "        # Calculate MAE\n",
    "        mae_real_hourly = mean_absolute_error(observed_all, predicted_all)\n",
    "        mae_interpolated_hourly = mean_absolute_error(observed_all, apsim_bb_predictions)\n",
    "\n",
    "        # Calculate the difference between apsim predictions and Python\n",
    "        diff = np.sum([np.abs(list(v.values())[0] - a) for v,a in zip(predicted_budbreak_doy.values(),apsim_bb_predictions)])\n",
    "\n",
    "\n",
    "        apsim_python_comparison = pd.DataFrame({'Observed': observed_all, 'APSIM': apsim_bb_predictions, 'Python': predicted_all})\n",
    "\n",
    "        fig = px.scatter(apsim_python_comparison, x=\"Observed\", y=[\"Python\",\"APSIM\"])\n",
    "        # Update legend labels\n",
    "        fig.for_each_trace(lambda t: t.update(name=f\"{t.name} (MAE={mae_real_hourly:.2f})\") if t.name == \"Python\" else t.update(name=f\"{t.name} (MAE={mae_interpolated_hourly:.2f})\"))\n",
    "\n",
    "        # Add the 1:1 line for comparison\n",
    "        fig.add_trace(go.Scatter(x=[min(observed_all), max(observed_all)], y=[min(observed_all), max(observed_all)], mode='lines', line=dict(color=\"black\", dash=\"dash\"), name=\"1:1\"))  # Dashed black line\n",
    "\n",
    "        fig.update_traces(marker=dict(size=12,\n",
    "                                    line=dict(width=2,\n",
    "                                    color='DarkSlateGrey')),\n",
    "                                    selector=dict(mode='markers'))\n",
    "        fig.update_layout(\n",
    "            title=f\"APSIM & Python Predictions (interpolated hourly temp. vs real hourly temp.)  Diff = {diff}\",\n",
    "            xaxis_title=\"Observed BudBurst DOY\",\n",
    "            yaxis_title=\"Predicted BudBurst DOY\")\n",
    "        fig.update_xaxes(\n",
    "                    tickmode=\"array\", \n",
    "                    tickvals=np.arange(np.min(observed_all),np.max(observed_all),1),  # Use all available dates as ticks\n",
    "                    tickangle=45,\n",
    "                    tickfont=dict(size=12))  # Rotate for better visibility\n",
    "\n",
    "        fig.show()\n",
    "        "
   ]
  },
  {
   "cell_type": "code",
   "execution_count": 8,
   "metadata": {},
   "outputs": [
    {
     "name": "stdout",
     "output_type": "stream",
     "text": [
      "T =  15.9 :\n",
      "{'RMSE': 7.62, 'MAE': 5.9, 'R2': 0.56, 'NRMSE': 0.19, 'MSD': 58.0} \n",
      "\n",
      "Best value:  15.9\n"
     ]
    }
   ],
   "source": [
    "# Example test:\n",
    "# config_param_name = \"StartDayTP\"\n",
    "\n",
    "# start_date = \"2000-01-01\"\n",
    "# end_date = \"2000-03-21\"\n",
    "# interval = \"5D\"  # 5-day intervals\n",
    "\n",
    "# config_param_variations = pd.date_range(start=start_date, end=end_date, freq=interval).strftime('%Y-%m-%d').tolist()\n",
    "\n",
    "\n",
    "config_param_name = 'Tc_chill'\n",
    "config_param_variations = [15.9]\n",
    "\n",
    "TestObject = Test(config_param_name)\n",
    "best_val = TestObject._test_parameter(config_param_variations)\n",
    "# predicted_budbreak_doy, observed_budbreak_doy = TestObject._best_value_plot(best_val)"
   ]
  },
  {
   "cell_type": "code",
   "execution_count": 9,
   "metadata": {},
   "outputs": [
    {
     "data": {
      "application/vnd.plotly.v1+json": {
       "config": {
        "plotlyServerURL": "https://plot.ly"
       },
       "data": [
        {
         "marker": {
          "size": 15
         },
         "mode": "markers",
         "name": "TPROB4BB2016Control early",
         "type": "scatter",
         "x": [
          280
         ],
         "y": [
          272
         ]
        },
        {
         "marker": {
          "size": 15
         },
         "mode": "markers",
         "name": "TPROB4BB2016Control late",
         "type": "scatter",
         "x": [
          280
         ],
         "y": [
          272
         ]
        },
        {
         "marker": {
          "size": 15
         },
         "mode": "markers",
         "name": "HaywardTPBBCon1",
         "type": "scatter",
         "x": [
          272
         ],
         "y": [
          275
         ]
        },
        {
         "marker": {
          "size": 15
         },
         "mode": "markers",
         "name": "HaywardTPBBCon2",
         "type": "scatter",
         "x": [
          272
         ],
         "y": [
          275
         ]
        },
        {
         "marker": {
          "size": 15
         },
         "mode": "markers",
         "name": "HaywardKKBBControl",
         "type": "scatter",
         "x": [
          278
         ],
         "y": [
          284
         ]
        },
        {
         "marker": {
          "size": 15
         },
         "mode": "markers",
         "name": "KatoaBB2008control",
         "type": "scatter",
         "x": [
          265
         ],
         "y": [
          270
         ]
        },
        {
         "marker": {
          "size": 15
         },
         "mode": "markers",
         "name": "MeadBB2008control",
         "type": "scatter",
         "x": [
          270
         ],
         "y": [
          270
         ]
        },
        {
         "marker": {
          "size": 15
         },
         "mode": "markers",
         "name": "KatoaBB2009control",
         "type": "scatter",
         "x": [
          254
         ],
         "y": [
          268
         ]
        },
        {
         "marker": {
          "size": 15
         },
         "mode": "markers",
         "name": "MeadBB2009control",
         "type": "scatter",
         "x": [
          254
         ],
         "y": [
          268
         ]
        },
        {
         "marker": {
          "size": 15
         },
         "mode": "markers",
         "name": "KatoaBB2010control",
         "type": "scatter",
         "x": [
          273
         ],
         "y": [
          270
         ]
        },
        {
         "marker": {
          "size": 15
         },
         "mode": "markers",
         "name": "MeadBB2010control",
         "type": "scatter",
         "x": [
          273
         ],
         "y": [
          270
         ]
        },
        {
         "marker": {
          "size": 15
         },
         "mode": "markers",
         "name": "NBB2010control",
         "type": "scatter",
         "x": [
          292
         ],
         "y": [
          285
         ]
        },
        {
         "marker": {
          "size": 15
         },
         "mode": "markers",
         "name": "NBB2011control",
         "type": "scatter",
         "x": [
          294
         ],
         "y": [
          283
         ]
        },
        {
         "marker": {
          "size": 15
         },
         "mode": "markers",
         "name": "TPHaywardBB2013Co",
         "type": "scatter",
         "x": [
          274
         ],
         "y": [
          270
         ]
        },
        {
         "marker": {
          "size": 15
         },
         "mode": "markers",
         "name": "KKHaywardBB2013Co",
         "type": "scatter",
         "x": [
          281
         ],
         "y": [
          277
         ]
        },
        {
         "marker": {
          "size": 15
         },
         "mode": "markers",
         "name": "TPHaywardBB2018Control",
         "type": "scatter",
         "x": [
          268
         ],
         "y": [
          268
         ]
        },
        {
         "marker": {
          "size": 15
         },
         "mode": "markers",
         "name": "KKHaywardBB2018Untreated Control",
         "type": "scatter",
         "x": [
          281
         ],
         "y": [
          284
         ]
        },
        {
         "marker": {
          "size": 15
         },
         "mode": "markers",
         "name": "HaywardBB2019Untreated control",
         "type": "scatter",
         "x": [
          294
         ],
         "y": [
          286
         ]
        },
        {
         "marker": {
          "size": 15
         },
         "mode": "markers",
         "name": "HWBBRaw2020Control",
         "type": "scatter",
         "x": [
          293
         ],
         "y": [
          292
         ]
        },
        {
         "marker": {
          "size": 15
         },
         "mode": "markers",
         "name": "HWBBSpray2020Untreated control",
         "type": "scatter",
         "x": [
          293
         ],
         "y": [
          292
         ]
        },
        {
         "marker": {
          "size": 15
         },
         "mode": "markers",
         "name": "HW-Budbreak2020Control",
         "type": "scatter",
         "x": [
          274
         ],
         "y": [
          292
         ]
        },
        {
         "line": {
          "color": "white",
          "dash": "dash"
         },
         "mode": "lines",
         "name": "1:1 Line",
         "type": "scatter",
         "x": [
          254,
          294
         ],
         "y": [
          254,
          294
         ]
        },
        {
         "line": {
          "color": "grey",
          "dash": "dot"
         },
         "mode": "lines",
         "name": "+MAE",
         "type": "scatter",
         "x": [
          254,
          294
         ],
         "y": {
          "bdata": "ZmZmZmY+cEBmZmZmZr5yQA==",
          "dtype": "f8"
         }
        },
        {
         "line": {
          "color": "grey",
          "dash": "dot"
         },
         "mode": "lines",
         "name": "-MAE",
         "type": "scatter",
         "x": [
          254,
          294
         ],
         "y": {
          "bdata": "MzMzMzMDb0CamZmZmQFyQA==",
          "dtype": "f8"
         }
        },
        {
         "line": {
          "color": "yellow",
          "dash": "dot"
         },
         "mode": "lines",
         "name": "+RMSE",
         "type": "scatter",
         "x": [
          254,
          294
         ],
         "y": {
          "bdata": "UrgehetZcEBSuB6F69lyQA==",
          "dtype": "f8"
         }
        },
        {
         "line": {
          "color": "yellow",
          "dash": "dot"
         },
         "mode": "lines",
         "name": "-RMSE",
         "type": "scatter",
         "x": [
          254,
          294
         ],
         "y": {
          "bdata": "XI/C9SjMbkCuR+F6FOZxQA==",
          "dtype": "f8"
         }
        }
       ],
       "layout": {
        "template": {
         "data": {
          "bar": [
           {
            "error_x": {
             "color": "#f2f5fa"
            },
            "error_y": {
             "color": "#f2f5fa"
            },
            "marker": {
             "line": {
              "color": "rgb(17,17,17)",
              "width": 0.5
             },
             "pattern": {
              "fillmode": "overlay",
              "size": 10,
              "solidity": 0.2
             }
            },
            "type": "bar"
           }
          ],
          "barpolar": [
           {
            "marker": {
             "line": {
              "color": "rgb(17,17,17)",
              "width": 0.5
             },
             "pattern": {
              "fillmode": "overlay",
              "size": 10,
              "solidity": 0.2
             }
            },
            "type": "barpolar"
           }
          ],
          "carpet": [
           {
            "aaxis": {
             "endlinecolor": "#A2B1C6",
             "gridcolor": "#506784",
             "linecolor": "#506784",
             "minorgridcolor": "#506784",
             "startlinecolor": "#A2B1C6"
            },
            "baxis": {
             "endlinecolor": "#A2B1C6",
             "gridcolor": "#506784",
             "linecolor": "#506784",
             "minorgridcolor": "#506784",
             "startlinecolor": "#A2B1C6"
            },
            "type": "carpet"
           }
          ],
          "choropleth": [
           {
            "colorbar": {
             "outlinewidth": 0,
             "ticks": ""
            },
            "type": "choropleth"
           }
          ],
          "contour": [
           {
            "colorbar": {
             "outlinewidth": 0,
             "ticks": ""
            },
            "colorscale": [
             [
              0,
              "#0d0887"
             ],
             [
              0.1111111111111111,
              "#46039f"
             ],
             [
              0.2222222222222222,
              "#7201a8"
             ],
             [
              0.3333333333333333,
              "#9c179e"
             ],
             [
              0.4444444444444444,
              "#bd3786"
             ],
             [
              0.5555555555555556,
              "#d8576b"
             ],
             [
              0.6666666666666666,
              "#ed7953"
             ],
             [
              0.7777777777777778,
              "#fb9f3a"
             ],
             [
              0.8888888888888888,
              "#fdca26"
             ],
             [
              1,
              "#f0f921"
             ]
            ],
            "type": "contour"
           }
          ],
          "contourcarpet": [
           {
            "colorbar": {
             "outlinewidth": 0,
             "ticks": ""
            },
            "type": "contourcarpet"
           }
          ],
          "heatmap": [
           {
            "colorbar": {
             "outlinewidth": 0,
             "ticks": ""
            },
            "colorscale": [
             [
              0,
              "#0d0887"
             ],
             [
              0.1111111111111111,
              "#46039f"
             ],
             [
              0.2222222222222222,
              "#7201a8"
             ],
             [
              0.3333333333333333,
              "#9c179e"
             ],
             [
              0.4444444444444444,
              "#bd3786"
             ],
             [
              0.5555555555555556,
              "#d8576b"
             ],
             [
              0.6666666666666666,
              "#ed7953"
             ],
             [
              0.7777777777777778,
              "#fb9f3a"
             ],
             [
              0.8888888888888888,
              "#fdca26"
             ],
             [
              1,
              "#f0f921"
             ]
            ],
            "type": "heatmap"
           }
          ],
          "histogram": [
           {
            "marker": {
             "pattern": {
              "fillmode": "overlay",
              "size": 10,
              "solidity": 0.2
             }
            },
            "type": "histogram"
           }
          ],
          "histogram2d": [
           {
            "colorbar": {
             "outlinewidth": 0,
             "ticks": ""
            },
            "colorscale": [
             [
              0,
              "#0d0887"
             ],
             [
              0.1111111111111111,
              "#46039f"
             ],
             [
              0.2222222222222222,
              "#7201a8"
             ],
             [
              0.3333333333333333,
              "#9c179e"
             ],
             [
              0.4444444444444444,
              "#bd3786"
             ],
             [
              0.5555555555555556,
              "#d8576b"
             ],
             [
              0.6666666666666666,
              "#ed7953"
             ],
             [
              0.7777777777777778,
              "#fb9f3a"
             ],
             [
              0.8888888888888888,
              "#fdca26"
             ],
             [
              1,
              "#f0f921"
             ]
            ],
            "type": "histogram2d"
           }
          ],
          "histogram2dcontour": [
           {
            "colorbar": {
             "outlinewidth": 0,
             "ticks": ""
            },
            "colorscale": [
             [
              0,
              "#0d0887"
             ],
             [
              0.1111111111111111,
              "#46039f"
             ],
             [
              0.2222222222222222,
              "#7201a8"
             ],
             [
              0.3333333333333333,
              "#9c179e"
             ],
             [
              0.4444444444444444,
              "#bd3786"
             ],
             [
              0.5555555555555556,
              "#d8576b"
             ],
             [
              0.6666666666666666,
              "#ed7953"
             ],
             [
              0.7777777777777778,
              "#fb9f3a"
             ],
             [
              0.8888888888888888,
              "#fdca26"
             ],
             [
              1,
              "#f0f921"
             ]
            ],
            "type": "histogram2dcontour"
           }
          ],
          "mesh3d": [
           {
            "colorbar": {
             "outlinewidth": 0,
             "ticks": ""
            },
            "type": "mesh3d"
           }
          ],
          "parcoords": [
           {
            "line": {
             "colorbar": {
              "outlinewidth": 0,
              "ticks": ""
             }
            },
            "type": "parcoords"
           }
          ],
          "pie": [
           {
            "automargin": true,
            "type": "pie"
           }
          ],
          "scatter": [
           {
            "marker": {
             "line": {
              "color": "#283442"
             }
            },
            "type": "scatter"
           }
          ],
          "scatter3d": [
           {
            "line": {
             "colorbar": {
              "outlinewidth": 0,
              "ticks": ""
             }
            },
            "marker": {
             "colorbar": {
              "outlinewidth": 0,
              "ticks": ""
             }
            },
            "type": "scatter3d"
           }
          ],
          "scattercarpet": [
           {
            "marker": {
             "colorbar": {
              "outlinewidth": 0,
              "ticks": ""
             }
            },
            "type": "scattercarpet"
           }
          ],
          "scattergeo": [
           {
            "marker": {
             "colorbar": {
              "outlinewidth": 0,
              "ticks": ""
             }
            },
            "type": "scattergeo"
           }
          ],
          "scattergl": [
           {
            "marker": {
             "line": {
              "color": "#283442"
             }
            },
            "type": "scattergl"
           }
          ],
          "scattermap": [
           {
            "marker": {
             "colorbar": {
              "outlinewidth": 0,
              "ticks": ""
             }
            },
            "type": "scattermap"
           }
          ],
          "scattermapbox": [
           {
            "marker": {
             "colorbar": {
              "outlinewidth": 0,
              "ticks": ""
             }
            },
            "type": "scattermapbox"
           }
          ],
          "scatterpolar": [
           {
            "marker": {
             "colorbar": {
              "outlinewidth": 0,
              "ticks": ""
             }
            },
            "type": "scatterpolar"
           }
          ],
          "scatterpolargl": [
           {
            "marker": {
             "colorbar": {
              "outlinewidth": 0,
              "ticks": ""
             }
            },
            "type": "scatterpolargl"
           }
          ],
          "scatterternary": [
           {
            "marker": {
             "colorbar": {
              "outlinewidth": 0,
              "ticks": ""
             }
            },
            "type": "scatterternary"
           }
          ],
          "surface": [
           {
            "colorbar": {
             "outlinewidth": 0,
             "ticks": ""
            },
            "colorscale": [
             [
              0,
              "#0d0887"
             ],
             [
              0.1111111111111111,
              "#46039f"
             ],
             [
              0.2222222222222222,
              "#7201a8"
             ],
             [
              0.3333333333333333,
              "#9c179e"
             ],
             [
              0.4444444444444444,
              "#bd3786"
             ],
             [
              0.5555555555555556,
              "#d8576b"
             ],
             [
              0.6666666666666666,
              "#ed7953"
             ],
             [
              0.7777777777777778,
              "#fb9f3a"
             ],
             [
              0.8888888888888888,
              "#fdca26"
             ],
             [
              1,
              "#f0f921"
             ]
            ],
            "type": "surface"
           }
          ],
          "table": [
           {
            "cells": {
             "fill": {
              "color": "#506784"
             },
             "line": {
              "color": "rgb(17,17,17)"
             }
            },
            "header": {
             "fill": {
              "color": "#2a3f5f"
             },
             "line": {
              "color": "rgb(17,17,17)"
             }
            },
            "type": "table"
           }
          ]
         },
         "layout": {
          "annotationdefaults": {
           "arrowcolor": "#f2f5fa",
           "arrowhead": 0,
           "arrowwidth": 1
          },
          "autotypenumbers": "strict",
          "coloraxis": {
           "colorbar": {
            "outlinewidth": 0,
            "ticks": ""
           }
          },
          "colorscale": {
           "diverging": [
            [
             0,
             "#8e0152"
            ],
            [
             0.1,
             "#c51b7d"
            ],
            [
             0.2,
             "#de77ae"
            ],
            [
             0.3,
             "#f1b6da"
            ],
            [
             0.4,
             "#fde0ef"
            ],
            [
             0.5,
             "#f7f7f7"
            ],
            [
             0.6,
             "#e6f5d0"
            ],
            [
             0.7,
             "#b8e186"
            ],
            [
             0.8,
             "#7fbc41"
            ],
            [
             0.9,
             "#4d9221"
            ],
            [
             1,
             "#276419"
            ]
           ],
           "sequential": [
            [
             0,
             "#0d0887"
            ],
            [
             0.1111111111111111,
             "#46039f"
            ],
            [
             0.2222222222222222,
             "#7201a8"
            ],
            [
             0.3333333333333333,
             "#9c179e"
            ],
            [
             0.4444444444444444,
             "#bd3786"
            ],
            [
             0.5555555555555556,
             "#d8576b"
            ],
            [
             0.6666666666666666,
             "#ed7953"
            ],
            [
             0.7777777777777778,
             "#fb9f3a"
            ],
            [
             0.8888888888888888,
             "#fdca26"
            ],
            [
             1,
             "#f0f921"
            ]
           ],
           "sequentialminus": [
            [
             0,
             "#0d0887"
            ],
            [
             0.1111111111111111,
             "#46039f"
            ],
            [
             0.2222222222222222,
             "#7201a8"
            ],
            [
             0.3333333333333333,
             "#9c179e"
            ],
            [
             0.4444444444444444,
             "#bd3786"
            ],
            [
             0.5555555555555556,
             "#d8576b"
            ],
            [
             0.6666666666666666,
             "#ed7953"
            ],
            [
             0.7777777777777778,
             "#fb9f3a"
            ],
            [
             0.8888888888888888,
             "#fdca26"
            ],
            [
             1,
             "#f0f921"
            ]
           ]
          },
          "colorway": [
           "#636efa",
           "#EF553B",
           "#00cc96",
           "#ab63fa",
           "#FFA15A",
           "#19d3f3",
           "#FF6692",
           "#B6E880",
           "#FF97FF",
           "#FECB52"
          ],
          "font": {
           "color": "#f2f5fa"
          },
          "geo": {
           "bgcolor": "rgb(17,17,17)",
           "lakecolor": "rgb(17,17,17)",
           "landcolor": "rgb(17,17,17)",
           "showlakes": true,
           "showland": true,
           "subunitcolor": "#506784"
          },
          "hoverlabel": {
           "align": "left"
          },
          "hovermode": "closest",
          "mapbox": {
           "style": "dark"
          },
          "paper_bgcolor": "rgb(17,17,17)",
          "plot_bgcolor": "rgb(17,17,17)",
          "polar": {
           "angularaxis": {
            "gridcolor": "#506784",
            "linecolor": "#506784",
            "ticks": ""
           },
           "bgcolor": "rgb(17,17,17)",
           "radialaxis": {
            "gridcolor": "#506784",
            "linecolor": "#506784",
            "ticks": ""
           }
          },
          "scene": {
           "xaxis": {
            "backgroundcolor": "rgb(17,17,17)",
            "gridcolor": "#506784",
            "gridwidth": 2,
            "linecolor": "#506784",
            "showbackground": true,
            "ticks": "",
            "zerolinecolor": "#C8D4E3"
           },
           "yaxis": {
            "backgroundcolor": "rgb(17,17,17)",
            "gridcolor": "#506784",
            "gridwidth": 2,
            "linecolor": "#506784",
            "showbackground": true,
            "ticks": "",
            "zerolinecolor": "#C8D4E3"
           },
           "zaxis": {
            "backgroundcolor": "rgb(17,17,17)",
            "gridcolor": "#506784",
            "gridwidth": 2,
            "linecolor": "#506784",
            "showbackground": true,
            "ticks": "",
            "zerolinecolor": "#C8D4E3"
           }
          },
          "shapedefaults": {
           "line": {
            "color": "#f2f5fa"
           }
          },
          "sliderdefaults": {
           "bgcolor": "#C8D4E3",
           "bordercolor": "rgb(17,17,17)",
           "borderwidth": 1,
           "tickwidth": 0
          },
          "ternary": {
           "aaxis": {
            "gridcolor": "#506784",
            "linecolor": "#506784",
            "ticks": ""
           },
           "baxis": {
            "gridcolor": "#506784",
            "linecolor": "#506784",
            "ticks": ""
           },
           "bgcolor": "rgb(17,17,17)",
           "caxis": {
            "gridcolor": "#506784",
            "linecolor": "#506784",
            "ticks": ""
           }
          },
          "title": {
           "x": 0.05
          },
          "updatemenudefaults": {
           "bgcolor": "#506784",
           "borderwidth": 0
          },
          "xaxis": {
           "automargin": true,
           "gridcolor": "#283442",
           "linecolor": "#506784",
           "ticks": "",
           "title": {
            "standoff": 15
           },
           "zerolinecolor": "#283442",
           "zerolinewidth": 2
          },
          "yaxis": {
           "automargin": true,
           "gridcolor": "#283442",
           "linecolor": "#506784",
           "ticks": "",
           "title": {
            "standoff": 15
           },
           "zerolinecolor": "#283442",
           "zerolinewidth": 2
          }
         }
        },
        "title": {
         "text": "BudBurst (MAE = 5.9, RMSE = 7.62, ObsSTD = 11.54)"
        },
        "xaxis": {
         "title": {
          "text": "Observed BudBurst DOY"
         }
        },
        "yaxis": {
         "title": {
          "text": "Predicted BudBurst DOY"
         }
        }
       }
      }
     },
     "metadata": {},
     "output_type": "display_data"
    }
   ],
   "source": [
    "predicted_budbreak_doy, observed_budbreak_doy = TestObject._best_value_plot(best_val)"
   ]
  },
  {
   "cell_type": "markdown",
   "metadata": {},
   "source": [
    "# Python vs APSIM:"
   ]
  },
  {
   "cell_type": "code",
   "execution_count": 10,
   "metadata": {},
   "outputs": [
    {
     "ename": "ValueError",
     "evalue": "Found input variables with inconsistent numbers of samples: [21, 25]",
     "output_type": "error",
     "traceback": [
      "\u001b[1;31m---------------------------------------------------------------------------\u001b[0m",
      "\u001b[1;31mValueError\u001b[0m                                Traceback (most recent call last)",
      "Cell \u001b[1;32mIn[10], line 2\u001b[0m\n\u001b[0;32m      1\u001b[0m apsim_bb_predictions \u001b[38;5;241m=\u001b[39m np\u001b[38;5;241m.\u001b[39marray([\u001b[38;5;241m274\u001b[39m,\u001b[38;5;241m274\u001b[39m,\u001b[38;5;241m289\u001b[39m,\u001b[38;5;241m289\u001b[39m,\u001b[38;5;241m286\u001b[39m,\u001b[38;5;241m275\u001b[39m,\u001b[38;5;241m275\u001b[39m,\u001b[38;5;241m263\u001b[39m,\u001b[38;5;241m263\u001b[39m,\u001b[38;5;241m273\u001b[39m,\u001b[38;5;241m273\u001b[39m,\u001b[38;5;241m274\u001b[39m,\u001b[38;5;241m286\u001b[39m,\u001b[38;5;241m270\u001b[39m,\u001b[38;5;241m270\u001b[39m,\u001b[38;5;241m270\u001b[39m,\u001b[38;5;241m281\u001b[39m,\u001b[38;5;241m276\u001b[39m,\u001b[38;5;241m298\u001b[39m,\u001b[38;5;241m280\u001b[39m,\u001b[38;5;241m280\u001b[39m,\u001b[38;5;241m276\u001b[39m,\u001b[38;5;241m312\u001b[39m,\u001b[38;5;241m280\u001b[39m,\u001b[38;5;241m280\u001b[39m]) \n\u001b[1;32m----> 2\u001b[0m \u001b[43mTestObject\u001b[49m\u001b[38;5;241;43m.\u001b[39;49m\u001b[43m_apsim_compare\u001b[49m\u001b[43m(\u001b[49m\u001b[43mapsim_bb_predictions\u001b[49m\u001b[43m,\u001b[49m\u001b[43m \u001b[49m\u001b[43mpredicted_budbreak_doy\u001b[49m\u001b[43m,\u001b[49m\u001b[43m \u001b[49m\u001b[43mobserved_budbreak_doy\u001b[49m\u001b[43m)\u001b[49m\n",
      "Cell \u001b[1;32mIn[7], line 45\u001b[0m, in \u001b[0;36mTest._apsim_compare\u001b[1;34m(self, apsim_bb_predictions, predicted_budbreak_doy, observed_budbreak_doy)\u001b[0m\n\u001b[0;32m     43\u001b[0m \u001b[38;5;66;03m# Calculate MAE\u001b[39;00m\n\u001b[0;32m     44\u001b[0m mae_real_hourly \u001b[38;5;241m=\u001b[39m mean_absolute_error(observed_all, predicted_all)\n\u001b[1;32m---> 45\u001b[0m mae_interpolated_hourly \u001b[38;5;241m=\u001b[39m \u001b[43mmean_absolute_error\u001b[49m\u001b[43m(\u001b[49m\u001b[43mobserved_all\u001b[49m\u001b[43m,\u001b[49m\u001b[43m \u001b[49m\u001b[43mapsim_bb_predictions\u001b[49m\u001b[43m)\u001b[49m\n\u001b[0;32m     47\u001b[0m \u001b[38;5;66;03m# Calculate the difference between apsim predictions and Python\u001b[39;00m\n\u001b[0;32m     48\u001b[0m diff \u001b[38;5;241m=\u001b[39m np\u001b[38;5;241m.\u001b[39msum([np\u001b[38;5;241m.\u001b[39mabs(\u001b[38;5;28mlist\u001b[39m(v\u001b[38;5;241m.\u001b[39mvalues())[\u001b[38;5;241m0\u001b[39m] \u001b[38;5;241m-\u001b[39m a) \u001b[38;5;28;01mfor\u001b[39;00m v,a \u001b[38;5;129;01min\u001b[39;00m \u001b[38;5;28mzip\u001b[39m(predicted_budbreak_doy\u001b[38;5;241m.\u001b[39mvalues(),apsim_bb_predictions)])\n",
      "File \u001b[1;32mc:\\Users\\hranfs\\Documents\\VS code\\PlayGround\\.venv\\Lib\\site-packages\\sklearn\\utils\\_param_validation.py:216\u001b[0m, in \u001b[0;36mvalidate_params.<locals>.decorator.<locals>.wrapper\u001b[1;34m(*args, **kwargs)\u001b[0m\n\u001b[0;32m    210\u001b[0m \u001b[38;5;28;01mtry\u001b[39;00m:\n\u001b[0;32m    211\u001b[0m     \u001b[38;5;28;01mwith\u001b[39;00m config_context(\n\u001b[0;32m    212\u001b[0m         skip_parameter_validation\u001b[38;5;241m=\u001b[39m(\n\u001b[0;32m    213\u001b[0m             prefer_skip_nested_validation \u001b[38;5;129;01mor\u001b[39;00m global_skip_validation\n\u001b[0;32m    214\u001b[0m         )\n\u001b[0;32m    215\u001b[0m     ):\n\u001b[1;32m--> 216\u001b[0m         \u001b[38;5;28;01mreturn\u001b[39;00m \u001b[43mfunc\u001b[49m\u001b[43m(\u001b[49m\u001b[38;5;241;43m*\u001b[39;49m\u001b[43margs\u001b[49m\u001b[43m,\u001b[49m\u001b[43m \u001b[49m\u001b[38;5;241;43m*\u001b[39;49m\u001b[38;5;241;43m*\u001b[39;49m\u001b[43mkwargs\u001b[49m\u001b[43m)\u001b[49m\n\u001b[0;32m    217\u001b[0m \u001b[38;5;28;01mexcept\u001b[39;00m InvalidParameterError \u001b[38;5;28;01mas\u001b[39;00m e:\n\u001b[0;32m    218\u001b[0m     \u001b[38;5;66;03m# When the function is just a wrapper around an estimator, we allow\u001b[39;00m\n\u001b[0;32m    219\u001b[0m     \u001b[38;5;66;03m# the function to delegate validation to the estimator, but we replace\u001b[39;00m\n\u001b[0;32m    220\u001b[0m     \u001b[38;5;66;03m# the name of the estimator by the name of the function in the error\u001b[39;00m\n\u001b[0;32m    221\u001b[0m     \u001b[38;5;66;03m# message to avoid confusion.\u001b[39;00m\n\u001b[0;32m    222\u001b[0m     msg \u001b[38;5;241m=\u001b[39m re\u001b[38;5;241m.\u001b[39msub(\n\u001b[0;32m    223\u001b[0m         \u001b[38;5;124mr\u001b[39m\u001b[38;5;124m\"\u001b[39m\u001b[38;5;124mparameter of \u001b[39m\u001b[38;5;124m\\\u001b[39m\u001b[38;5;124mw+ must be\u001b[39m\u001b[38;5;124m\"\u001b[39m,\n\u001b[0;32m    224\u001b[0m         \u001b[38;5;124mf\u001b[39m\u001b[38;5;124m\"\u001b[39m\u001b[38;5;124mparameter of \u001b[39m\u001b[38;5;132;01m{\u001b[39;00mfunc\u001b[38;5;241m.\u001b[39m\u001b[38;5;18m__qualname__\u001b[39m\u001b[38;5;132;01m}\u001b[39;00m\u001b[38;5;124m must be\u001b[39m\u001b[38;5;124m\"\u001b[39m,\n\u001b[0;32m    225\u001b[0m         \u001b[38;5;28mstr\u001b[39m(e),\n\u001b[0;32m    226\u001b[0m     )\n",
      "File \u001b[1;32mc:\\Users\\hranfs\\Documents\\VS code\\PlayGround\\.venv\\Lib\\site-packages\\sklearn\\metrics\\_regression.py:277\u001b[0m, in \u001b[0;36mmean_absolute_error\u001b[1;34m(y_true, y_pred, sample_weight, multioutput)\u001b[0m\n\u001b[0;32m    222\u001b[0m \u001b[38;5;250m\u001b[39m\u001b[38;5;124;03m\"\"\"Mean absolute error regression loss.\u001b[39;00m\n\u001b[0;32m    223\u001b[0m \n\u001b[0;32m    224\u001b[0m \u001b[38;5;124;03mRead more in the :ref:`User Guide <mean_absolute_error>`.\u001b[39;00m\n\u001b[1;32m   (...)\u001b[0m\n\u001b[0;32m    272\u001b[0m \u001b[38;5;124;03m0.85...\u001b[39;00m\n\u001b[0;32m    273\u001b[0m \u001b[38;5;124;03m\"\"\"\u001b[39;00m\n\u001b[0;32m    274\u001b[0m xp, _ \u001b[38;5;241m=\u001b[39m get_namespace(y_true, y_pred, sample_weight, multioutput)\n\u001b[0;32m    276\u001b[0m _, y_true, y_pred, sample_weight, multioutput \u001b[38;5;241m=\u001b[39m (\n\u001b[1;32m--> 277\u001b[0m     \u001b[43m_check_reg_targets_with_floating_dtype\u001b[49m\u001b[43m(\u001b[49m\n\u001b[0;32m    278\u001b[0m \u001b[43m        \u001b[49m\u001b[43my_true\u001b[49m\u001b[43m,\u001b[49m\u001b[43m \u001b[49m\u001b[43my_pred\u001b[49m\u001b[43m,\u001b[49m\u001b[43m \u001b[49m\u001b[43msample_weight\u001b[49m\u001b[43m,\u001b[49m\u001b[43m \u001b[49m\u001b[43mmultioutput\u001b[49m\u001b[43m,\u001b[49m\u001b[43m \u001b[49m\u001b[43mxp\u001b[49m\u001b[38;5;241;43m=\u001b[39;49m\u001b[43mxp\u001b[49m\n\u001b[0;32m    279\u001b[0m \u001b[43m    \u001b[49m\u001b[43m)\u001b[49m\n\u001b[0;32m    280\u001b[0m )\n\u001b[0;32m    282\u001b[0m check_consistent_length(y_true, y_pred, sample_weight)\n\u001b[0;32m    284\u001b[0m output_errors \u001b[38;5;241m=\u001b[39m _average(\n\u001b[0;32m    285\u001b[0m     xp\u001b[38;5;241m.\u001b[39mabs(y_pred \u001b[38;5;241m-\u001b[39m y_true), weights\u001b[38;5;241m=\u001b[39msample_weight, axis\u001b[38;5;241m=\u001b[39m\u001b[38;5;241m0\u001b[39m, xp\u001b[38;5;241m=\u001b[39mxp\n\u001b[0;32m    286\u001b[0m )\n",
      "File \u001b[1;32mc:\\Users\\hranfs\\Documents\\VS code\\PlayGround\\.venv\\Lib\\site-packages\\sklearn\\metrics\\_regression.py:198\u001b[0m, in \u001b[0;36m_check_reg_targets_with_floating_dtype\u001b[1;34m(y_true, y_pred, sample_weight, multioutput, xp)\u001b[0m\n\u001b[0;32m    148\u001b[0m \u001b[38;5;250m\u001b[39m\u001b[38;5;124;03m\"\"\"Ensures that y_true, y_pred, and sample_weight correspond to the same\u001b[39;00m\n\u001b[0;32m    149\u001b[0m \u001b[38;5;124;03mregression task.\u001b[39;00m\n\u001b[0;32m    150\u001b[0m \n\u001b[1;32m   (...)\u001b[0m\n\u001b[0;32m    194\u001b[0m \u001b[38;5;124;03m    correct keyword.\u001b[39;00m\n\u001b[0;32m    195\u001b[0m \u001b[38;5;124;03m\"\"\"\u001b[39;00m\n\u001b[0;32m    196\u001b[0m dtype_name \u001b[38;5;241m=\u001b[39m _find_matching_floating_dtype(y_true, y_pred, sample_weight, xp\u001b[38;5;241m=\u001b[39mxp)\n\u001b[1;32m--> 198\u001b[0m y_type, y_true, y_pred, multioutput \u001b[38;5;241m=\u001b[39m \u001b[43m_check_reg_targets\u001b[49m\u001b[43m(\u001b[49m\n\u001b[0;32m    199\u001b[0m \u001b[43m    \u001b[49m\u001b[43my_true\u001b[49m\u001b[43m,\u001b[49m\u001b[43m \u001b[49m\u001b[43my_pred\u001b[49m\u001b[43m,\u001b[49m\u001b[43m \u001b[49m\u001b[43mmultioutput\u001b[49m\u001b[43m,\u001b[49m\u001b[43m \u001b[49m\u001b[43mdtype\u001b[49m\u001b[38;5;241;43m=\u001b[39;49m\u001b[43mdtype_name\u001b[49m\u001b[43m,\u001b[49m\u001b[43m \u001b[49m\u001b[43mxp\u001b[49m\u001b[38;5;241;43m=\u001b[39;49m\u001b[43mxp\u001b[49m\n\u001b[0;32m    200\u001b[0m \u001b[43m\u001b[49m\u001b[43m)\u001b[49m\n\u001b[0;32m    202\u001b[0m \u001b[38;5;66;03m# _check_reg_targets does not accept sample_weight as input.\u001b[39;00m\n\u001b[0;32m    203\u001b[0m \u001b[38;5;66;03m# Convert sample_weight's data type separately to match dtype_name.\u001b[39;00m\n\u001b[0;32m    204\u001b[0m \u001b[38;5;28;01mif\u001b[39;00m sample_weight \u001b[38;5;129;01mis\u001b[39;00m \u001b[38;5;129;01mnot\u001b[39;00m \u001b[38;5;28;01mNone\u001b[39;00m:\n",
      "File \u001b[1;32mc:\\Users\\hranfs\\Documents\\VS code\\PlayGround\\.venv\\Lib\\site-packages\\sklearn\\metrics\\_regression.py:104\u001b[0m, in \u001b[0;36m_check_reg_targets\u001b[1;34m(y_true, y_pred, multioutput, dtype, xp)\u001b[0m\n\u001b[0;32m     59\u001b[0m \u001b[38;5;250m\u001b[39m\u001b[38;5;124;03m\"\"\"Check that y_true and y_pred belong to the same regression task.\u001b[39;00m\n\u001b[0;32m     60\u001b[0m \n\u001b[0;32m     61\u001b[0m \u001b[38;5;124;03mTo reduce redundancy when calling `_find_matching_floating_dtype`,\u001b[39;00m\n\u001b[1;32m   (...)\u001b[0m\n\u001b[0;32m    100\u001b[0m \u001b[38;5;124;03m    correct keyword.\u001b[39;00m\n\u001b[0;32m    101\u001b[0m \u001b[38;5;124;03m\"\"\"\u001b[39;00m\n\u001b[0;32m    102\u001b[0m xp, _ \u001b[38;5;241m=\u001b[39m get_namespace(y_true, y_pred, multioutput, xp\u001b[38;5;241m=\u001b[39mxp)\n\u001b[1;32m--> 104\u001b[0m \u001b[43mcheck_consistent_length\u001b[49m\u001b[43m(\u001b[49m\u001b[43my_true\u001b[49m\u001b[43m,\u001b[49m\u001b[43m \u001b[49m\u001b[43my_pred\u001b[49m\u001b[43m)\u001b[49m\n\u001b[0;32m    105\u001b[0m y_true \u001b[38;5;241m=\u001b[39m check_array(y_true, ensure_2d\u001b[38;5;241m=\u001b[39m\u001b[38;5;28;01mFalse\u001b[39;00m, dtype\u001b[38;5;241m=\u001b[39mdtype)\n\u001b[0;32m    106\u001b[0m y_pred \u001b[38;5;241m=\u001b[39m check_array(y_pred, ensure_2d\u001b[38;5;241m=\u001b[39m\u001b[38;5;28;01mFalse\u001b[39;00m, dtype\u001b[38;5;241m=\u001b[39mdtype)\n",
      "File \u001b[1;32mc:\\Users\\hranfs\\Documents\\VS code\\PlayGround\\.venv\\Lib\\site-packages\\sklearn\\utils\\validation.py:475\u001b[0m, in \u001b[0;36mcheck_consistent_length\u001b[1;34m(*arrays)\u001b[0m\n\u001b[0;32m    473\u001b[0m uniques \u001b[38;5;241m=\u001b[39m np\u001b[38;5;241m.\u001b[39munique(lengths)\n\u001b[0;32m    474\u001b[0m \u001b[38;5;28;01mif\u001b[39;00m \u001b[38;5;28mlen\u001b[39m(uniques) \u001b[38;5;241m>\u001b[39m \u001b[38;5;241m1\u001b[39m:\n\u001b[1;32m--> 475\u001b[0m     \u001b[38;5;28;01mraise\u001b[39;00m \u001b[38;5;167;01mValueError\u001b[39;00m(\n\u001b[0;32m    476\u001b[0m         \u001b[38;5;124m\"\u001b[39m\u001b[38;5;124mFound input variables with inconsistent numbers of samples: \u001b[39m\u001b[38;5;132;01m%r\u001b[39;00m\u001b[38;5;124m\"\u001b[39m\n\u001b[0;32m    477\u001b[0m         \u001b[38;5;241m%\u001b[39m [\u001b[38;5;28mint\u001b[39m(l) \u001b[38;5;28;01mfor\u001b[39;00m l \u001b[38;5;129;01min\u001b[39;00m lengths]\n\u001b[0;32m    478\u001b[0m     )\n",
      "\u001b[1;31mValueError\u001b[0m: Found input variables with inconsistent numbers of samples: [21, 25]"
     ]
    }
   ],
   "source": [
    "apsim_bb_predictions = np.array([274,274,289,289,286,275,275,263,263,273,273,274,286,270,270,270,281,276,298,280,280,276,312,280,280]) \n",
    "TestObject._apsim_compare(apsim_bb_predictions, predicted_budbreak_doy, observed_budbreak_doy)"
   ]
  },
  {
   "cell_type": "code",
   "execution_count": null,
   "metadata": {},
   "outputs": [],
   "source": [
    "   "
   ]
  },
  {
   "cell_type": "code",
   "execution_count": null,
   "metadata": {},
   "outputs": [],
   "source": []
  }
 ],
 "metadata": {
  "kernelspec": {
   "display_name": ".venv",
   "language": "python",
   "name": "python3"
  },
  "language_info": {
   "codemirror_mode": {
    "name": "ipython",
    "version": 3
   },
   "file_extension": ".py",
   "mimetype": "text/x-python",
   "name": "python",
   "nbconvert_exporter": "python",
   "pygments_lexer": "ipython3",
   "version": "3.13.2"
  }
 },
 "nbformat": 4,
 "nbformat_minor": 2
}
