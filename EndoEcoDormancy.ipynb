{
 "cells": [
  {
   "cell_type": "code",
   "execution_count": 1,
   "metadata": {},
   "outputs": [],
   "source": [
    "import numpy as np\n",
    "import pandas as pd\n",
    "import matplotlib.pyplot as plt\n",
    "from dotenv import load_dotenv\n",
    "import json\n",
    "from collections import defaultdict\n",
    "import importlib\n",
    "import warnings\n",
    "warnings.filterwarnings('ignore')\n",
    "import utils\n",
    "importlib.reload(utils)\n",
    "import os\n",
    "from scipy.stats import linregress"
   ]
  },
  {
   "cell_type": "markdown",
   "metadata": {},
   "source": [
    "# Load observations"
   ]
  },
  {
   "cell_type": "code",
   "execution_count": 2,
   "metadata": {},
   "outputs": [],
   "source": [
    "# Load datasets for observations\n",
    "def load_observations(file_path,sheet_name, cultivar_col,cultivar_name,treatment_col,treatment_name,location,max_observed_buds):\n",
    "    # Define the expected column names for the final concatenated DataFrame\n",
    "    TREATMENT = \"Treatment\"\n",
    "    LOCATION = \"Location\"\n",
    "    xls = pd.ExcelFile(file_path, engine=\"openpyxl\")\n",
    "    raw_df = pd.read_excel(xls, sheet_name = sheet_name)\n",
    "\n",
    "    # Rename the Dates to Days of Year (DOY)\n",
    "    doy_column = [pd.to_datetime(col).dayofyear for col in raw_df.columns if utils.is_date_column(col)]\n",
    "    df = raw_df.rename(columns={col:pd.to_datetime(col).dayofyear for col in raw_df.columns if utils.is_date_column(col)})\n",
    "\n",
    "    # Apply filtering for the given cultivar & treatments\n",
    "    filtered_df = df[df[cultivar_col].isin([cultivar_name]) & df[treatment_col].isin([treatment_name])]\n",
    "\n",
    "    # Rename columns\n",
    "    columns_to_select = [treatment_col] + doy_column  # Ensure it's a flat list\n",
    "    filtered_df = filtered_df[columns_to_select]\n",
    "    filtered_df.rename(columns={treatment_col: TREATMENT}, inplace=True)\n",
    "    # Add the LOCATION column to the DataFrame\n",
    "    filtered_df[LOCATION] = location\n",
    "\n",
    "    # Remove rows with any NaN values\n",
    "    filtered_df = filtered_df.dropna()\n",
    "\n",
    "    # Reset index \n",
    "    filtered_df.reset_index(drop=True)\n",
    "\n",
    "    PBB, BB, BudBurstDOY = utils.BB_specifications(filtered_df[doy_column], max_observed_buds)\n",
    "    return PBB, BB, BudBurstDOY\n",
    "    \n"
   ]
  },
  {
   "cell_type": "markdown",
   "metadata": {},
   "source": [
    "# WangEngel & GDH & Chill models"
   ]
  },
  {
   "cell_type": "code",
   "execution_count": 3,
   "metadata": {},
   "outputs": [],
   "source": [
    "def Chill(Tc,T):\n",
    "    return float(((4*T)/(Tc**2))*(Tc-T))\n",
    "\n",
    "def Wangengel(MinTemp,OptTemp,MaxTemp,RefTemp,T):\n",
    "    RelEff = 0.0\n",
    "    RelEffRefTemp = 1.0\n",
    "    p = 0.0\n",
    "\n",
    "    if (T > MinTemp) and (T < MaxTemp):\n",
    "        p = np.log(2.0) / np.log((MaxTemp - MinTemp) / (OptTemp - MinTemp))\n",
    "        RelEff = (2 * np.pow(T - MinTemp, p) * np.pow(OptTemp - MinTemp, p) - np.pow(T - MinTemp, 2 * p)) / np.pow(OptTemp - MinTemp, 2 * p)\n",
    "\n",
    "    if (RefTemp > MinTemp) and (RefTemp < MaxTemp):\n",
    "        p = np.log(2.0) / np.log((MaxTemp - MinTemp) / (OptTemp - MinTemp))\n",
    "        RelEffRefTemp = (2 * np.pow(RefTemp - MinTemp, p) * np.pow(OptTemp - MinTemp, p) - np.pow(RefTemp - MinTemp, 2 * p)) / np.pow(OptTemp - MinTemp, 2 * p)\n",
    "\n",
    "    return float(RelEff / RelEffRefTemp)\n",
    "\n",
    "def GDH(Tb,Tu,Tc,T):\n",
    "    HU_values = np.zeros_like(T)\n",
    "    mask1 = (T > Tb) & (T <= Tu)\n",
    "    mask2 = (T > Tu) & (T <= Tc)\n",
    "\n",
    "    HU_values[mask1] = 0.5 * (1 + np.cos(np.pi + np.pi * ((T[mask1] - Tb) / (Tu - Tb))))\n",
    "    HU_values[mask2] =  (1 + np.cos(0.5*np.pi + 0.5*np.pi * ((T[mask2] - Tu) / (Tc - Tu))))\n",
    "\n",
    "    return HU_values\n"
   ]
  },
  {
   "cell_type": "markdown",
   "metadata": {},
   "source": [
    "# Chill/Heat Accumulation"
   ]
  },
  {
   "cell_type": "code",
   "execution_count": 4,
   "metadata": {},
   "outputs": [],
   "source": [
    "# Chill & heat accumulation\n",
    "def chill_heat_accumulation(start_doy, buds_targets, predicted_endo_release_doy, predicted_budbreak_doy, weather_since_start_doy, sheet_name, treatment_name):\n",
    "\n",
    "\n",
    "    for bud_position,target in buds_targets.items():\n",
    "        \n",
    "        chill_requirement = target['chill']\n",
    "        heat_requirement = target['heat']\n",
    "        \n",
    "        # Chill model parameter\n",
    "        Tc = 18\n",
    "        chillVal = 0\n",
    "        for idx_endodormancy_release, temp in enumerate(weather_since_start_doy['temp']):\n",
    "            chillVal += Chill(Tc, temp)\n",
    "            if chillVal >= chill_requirement:\n",
    "                predicted_endo_release_doy[sheet_name+treatment_name][bud_position] = int(weather_since_start_doy['doy'].iloc[idx_endodormancy_release])+start_doy  # Get the date at this index\n",
    "                break\n",
    "        \n",
    "        # from the date of endodormancy release, start accumulating heat\n",
    "        heatVal = 0\n",
    "        # wangengel model parameters\n",
    "        MinTemp = 7\n",
    "        OptTemp = 20\n",
    "        MaxTemp = 25\n",
    "        RefTemp = OptTemp # RefTemp = OptTemp scales the function to 0-1\n",
    "        for idx_bb, temp in enumerate(weather_since_start_doy['temp'].loc[idx_endodormancy_release::]):\n",
    "            heatVal += Wangengel(MinTemp,OptTemp,MaxTemp,RefTemp,temp)\n",
    "            if heatVal >= heat_requirement:\n",
    "                predicted_budbreak_doy[sheet_name+treatment_name][bud_position] = int(weather_since_start_doy['doy'].iloc[idx_endodormancy_release+idx_bb])+start_doy  # Get the date at this index\n",
    "                break\n",
    "    return predicted_endo_release_doy, predicted_budbreak_doy\n"
   ]
  },
  {
   "cell_type": "code",
   "execution_count": 15,
   "metadata": {},
   "outputs": [],
   "source": [
    "with open(\"config_MultiDataFiles.json\", \"r\") as file:\n",
    "    config = json.load(file)\n",
    "\n",
    "start_doy = pd.to_datetime('2016-03-01').dayofyear # 1st of March to start accumulation of chill units\n",
    "chill_requirement_fixed = 900\n",
    "heat_requirement_fixed = 500\n",
    "buds_targets = {1:{'chill':chill_requirement_fixed, 'heat':heat_requirement_fixed}}#, 2:{'chill':chill_requirement_fixed, 'heat':200}, 3:{'chill':chill_requirement_fixed, 'heat':300}, 4:{'chill':chill_requirement_fixed, 'heat':400}, 5:{'chill':chill_requirement_fixed, 'heat':500}, 6:{'chill':chill_requirement_fixed, 'heat':600}}\n",
    "\n",
    "\n",
    "predicted_endo_release_doy = defaultdict(lambda: dict())\n",
    "predicted_budbreak_doy = defaultdict(lambda: dict())\n",
    "observed_budbreak_doy = defaultdict(lambda: dict())\n",
    "\n",
    "# Load environment variables\n",
    "load_dotenv()\n",
    "FOLDER_PATH = os.getenv('FOLDER_PATH')\n",
    "for file_name, file_info in config.items():\n",
    "        file_path = os.path.join(FOLDER_PATH, file_name)\n",
    "        # Process each sheet\n",
    "        for sheet_info in file_info['sheets']:\n",
    "            # Extract sheet names, cultivars, and treatments\n",
    "            sheet_name = sheet_info['sheet_name']\n",
    "            location = sheet_info['location'].replace(' ','')\n",
    "            max_observed_buds = sheet_info['max_observed_buds']\n",
    "            cultivar_col, cultivar_name = list(sheet_info['cultivar'].items())[0]\n",
    "            treatment_col, treatment_name = list(sheet_info['treatments'].items())[0]\n",
    "            # Load the \"Hourly\" weather data\n",
    "            weather_path = sheet_info['weather_path']\n",
    "            weather_data = pd.read_csv(weather_path)\n",
    "            weather_data = weather_data[['Date', 'Time', 'Air Temp. (°C)']].rename(columns={'Date': 'date', 'Time':'Time', 'Air Temp. (°C)':'temp'}, inplace=False)\n",
    "            weather_data.insert(1, 'doy', [d.dayofyear for d in pd.to_datetime(weather_data['date'], format=\"mixed\")])\n",
    "            # Interpolate missing values\n",
    "            # Convert '-' to NaN\n",
    "            weather_data['temp'].replace('-', np.nan, inplace=True)\n",
    "            weather_data['temp']=weather_data['temp'].apply(pd.to_numeric, errors='coerce')\n",
    "\n",
    "            # Interpolate missing values\n",
    "            weather_data['temp'].interpolate(method='linear', inplace=True)\n",
    "\n",
    "            # start from the start_doy to accumulate chill/heat units\n",
    "            weather_since_start_doy = weather_data[weather_data['doy']>start_doy]\n",
    "            # print(weather_since_start_doy.head(30))\n",
    "\n",
    "            # Predict the endodormancy release doy and budbreak doy\n",
    "            predicted_endo_release_doy, predicted_budbreak_doy = chill_heat_accumulation(start_doy,buds_targets, predicted_endo_release_doy, predicted_budbreak_doy, weather_since_start_doy, sheet_name, treatment_name)\n",
    "\n",
    "            # Load and calculate the observed budburst doy\n",
    "            _, _, BudBurstDOY = load_observations(file_path,sheet_name, cultivar_col,cultivar_name,treatment_col,treatment_name,location,max_observed_buds)\n",
    "            observed_budbreak_doy[sheet_name+treatment_name][1] = BudBurstDOY\n",
    "            "
   ]
  },
  {
   "cell_type": "code",
   "execution_count": 16,
   "metadata": {},
   "outputs": [
    {
     "data": {
      "image/png": "[encoded data removed]",
      "text/plain": [
       "<Figure size 640x480 with 1 Axes>"
      ]
     },
     "metadata": {},
     "output_type": "display_data"
    }
   ],
   "source": [
    "plt.figure()\n",
    "all_bb_days = []\n",
    "observed_all = []\n",
    "predicted_all = []\n",
    "# colors = ['k','orange','c','g','b','r','m','grey','salmon']\n",
    "for (trtmnt1,bb1),(trtmnt2,bb2) in zip(predicted_budbreak_doy.items(), observed_budbreak_doy.items()):\n",
    "    predicted_bb = list(bb1.values())[0]\n",
    "    observed_bb = list(bb2.values())[0]\n",
    "    all_bb_days.append(observed_bb)\n",
    "    all_bb_days.append(predicted_bb)\n",
    "    observed_all.append(observed_bb)\n",
    "    predicted_all.append(predicted_bb)\n",
    "    plt.scatter(observed_bb,predicted_bb, label=trtmnt2)\n",
    "\n",
    "# Convert to numpy arrays\n",
    "observed_all = np.array(observed_all)\n",
    "predicted_all = np.array(predicted_all)\n",
    "# Fit linear regression\n",
    "slope, intercept, r_value, p_value, std_err = linregress(observed_all, predicted_all)\n",
    "regression_line = slope * observed_all + intercept\n",
    "# Calculate R²\n",
    "r_squared = r_value ** 2\n",
    "# Plot regression line\n",
    "# plt.plot(observed_all, regression_line, 'k-', label=f\"Regression (y={slope:.2f}x + {intercept:.2f}), R2={round(r_squared,2)}\")\n",
    "\n",
    "\n",
    "# Add 1:1 dashed line\n",
    "plt.plot([min(all_bb_days), max(all_bb_days)], [min(all_bb_days), max(all_bb_days)], 'k--', label=\"1:1 Line\")  # Dashed black line\n",
    "\n",
    "plt.xlabel('Observed BudBurst DOY')\n",
    "plt.ylabel('Predicted BudBurst DOY')\n",
    "# plt.xlim(250,285)\n",
    "# plt.ylim(250,285)\n",
    "plt.legend(fontsize=8)\n",
    "plt.show()"
   ]
  },
  {
   "cell_type": "code",
   "execution_count": 17,
   "metadata": {},
   "outputs": [
    {
     "data": {
      "text/plain": [
       "defaultdict(<function __main__.<lambda>()>,\n",
       "            {'TPROB4BB2016Control early': {1: 272},\n",
       "             'TPROB4BB2016Control late': {1: 272},\n",
       "             'HaywardTPBBCon1': {1: 286},\n",
       "             'HaywardTPBBCon2': {1: 286},\n",
       "             'HaywardKKBBControl': {1: 293},\n",
       "             'KatoaBB2008control': {1: 265},\n",
       "             'MeadBB2008control': {1: 265},\n",
       "             'KatoaBB2009control': {1: 247},\n",
       "             'MeadBB2009control': {1: 247},\n",
       "             'KatoaBB2010control': {1: 258},\n",
       "             'MeadBB2010control': {1: 258},\n",
       "             'NBB2010control': {1: 279}})"
      ]
     },
     "execution_count": 17,
     "metadata": {},
     "output_type": "execute_result"
    }
   ],
   "source": [
    "predicted_budbreak_doy"
   ]
  },
  {
   "cell_type": "code",
   "execution_count": 18,
   "metadata": {},
   "outputs": [
    {
     "data": {
      "text/plain": [
       "defaultdict(<function __main__.<lambda>()>,\n",
       "            {'TPROB4BB2016Control early': {1: 280},\n",
       "             'TPROB4BB2016Control late': {1: 280},\n",
       "             'HaywardTPBBCon1': {1: 272},\n",
       "             'HaywardTPBBCon2': {1: 272},\n",
       "             'HaywardKKBBControl': {1: 278},\n",
       "             'KatoaBB2008control': {1: 265},\n",
       "             'MeadBB2008control': {1: 270},\n",
       "             'KatoaBB2009control': {1: 254},\n",
       "             'MeadBB2009control': {1: 254},\n",
       "             'KatoaBB2010control': {1: 273},\n",
       "             'MeadBB2010control': {1: 273},\n",
       "             'NBB2010control': {1: 285}})"
      ]
     },
     "execution_count": 18,
     "metadata": {},
     "output_type": "execute_result"
    }
   ],
   "source": [
    "observed_budbreak_doy"
   ]
  },
  {
   "cell_type": "code",
   "execution_count": null,
   "metadata": {},
   "outputs": [],
   "source": []
  }
 ],
 "metadata": {
  "kernelspec": {
   "display_name": ".venv",
   "language": "python",
   "name": "python3"
  },
  "language_info": {
   "codemirror_mode": {
    "name": "ipython",
    "version": 3
   },
   "file_extension": ".py",
   "mimetype": "text/x-python",
   "name": "python",
   "nbconvert_exporter": "python",
   "pygments_lexer": "ipython3",
   "version": "3.13.2"
  }
 },
 "nbformat": 4,
 "nbformat_minor": 2
}
