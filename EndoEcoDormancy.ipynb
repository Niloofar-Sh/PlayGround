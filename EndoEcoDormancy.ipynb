{
 "cells": [
  {
   "cell_type": "code",
   "execution_count": null,
   "metadata": {},
   "outputs": [],
   "source": [
    "import numpy as np\n",
    "import pandas as pd\n",
    "import matplotlib.pyplot as plt\n",
    "import plotly.graph_objects as go\n",
    "import plotly.express as px\n",
    "from dotenv import load_dotenv\n",
    "import json\n",
    "from collections import defaultdict\n",
    "import importlib\n",
    "import warnings\n",
    "warnings.filterwarnings('ignore')\n",
    "import utils\n",
    "importlib.reload(utils)\n",
    "import os\n",
    "from scipy.stats import linregress"
   ]
  },
  {
   "cell_type": "markdown",
   "metadata": {},
   "source": [
    "# Load observations"
   ]
  },
  {
   "cell_type": "code",
   "execution_count": 2,
   "metadata": {},
   "outputs": [],
   "source": [
    "# Load datasets for observations\n",
    "def load_observations(file_path,sheet_name, cultivar_col,cultivar_name,treatment_col,treatment_name,location,max_observed_buds):\n",
    "    # Define the expected column names for the final concatenated DataFrame\n",
    "    TREATMENT = \"Treatment\"\n",
    "    LOCATION = \"Location\"\n",
    "    xls = pd.ExcelFile(file_path, engine=\"openpyxl\")\n",
    "    raw_df = pd.read_excel(xls, sheet_name = sheet_name)\n",
    "\n",
    "    # Rename the Dates to Days of Year (DOY)\n",
    "    doy_column = [pd.to_datetime(col).dayofyear for col in raw_df.columns if utils.is_date_column(col)]\n",
    "    df = raw_df.rename(columns={col:pd.to_datetime(col).dayofyear for col in raw_df.columns if utils.is_date_column(col)})\n",
    "\n",
    "    # Apply filtering for the given cultivar & treatments\n",
    "    filtered_df = df[df[cultivar_col].isin([cultivar_name]) & df[treatment_col].isin([treatment_name])]\n",
    "\n",
    "    # Rename columns\n",
    "    columns_to_select = [treatment_col] + doy_column  # Ensure it's a flat list\n",
    "    filtered_df = filtered_df[columns_to_select]\n",
    "    filtered_df.rename(columns={treatment_col: TREATMENT}, inplace=True)\n",
    "    # Add the LOCATION column to the DataFrame\n",
    "    filtered_df[LOCATION] = location\n",
    "\n",
    "    # Remove rows with any NaN values\n",
    "    filtered_df = filtered_df.dropna()\n",
    "\n",
    "    # Reset index \n",
    "    filtered_df.reset_index(drop=True)\n",
    "\n",
    "    PBB, BB, BudBurstDOY = utils.BB_specifications(filtered_df[doy_column], max_observed_buds)\n",
    "    return PBB, BB, BudBurstDOY\n",
    "    \n"
   ]
  },
  {
   "cell_type": "markdown",
   "metadata": {},
   "source": [
    "# WangEngel & GDH & Chill models"
   ]
  },
  {
   "cell_type": "code",
   "execution_count": 3,
   "metadata": {},
   "outputs": [],
   "source": [
    "def Chill(Tc,T):\n",
    "    return float(((4*T)/(Tc**2))*(Tc-T))\n",
    "\n",
    "def Wangengel(MinTemp,OptTemp,MaxTemp,RefTemp,T):\n",
    "    RelEff = 0.0\n",
    "    RelEffRefTemp = 1.0\n",
    "    p = 0.0\n",
    "\n",
    "    if (T > MinTemp) and (T < MaxTemp):\n",
    "        p = np.log(2.0) / np.log((MaxTemp - MinTemp) / (OptTemp - MinTemp))\n",
    "        RelEff = (2 * np.pow(T - MinTemp, p) * np.pow(OptTemp - MinTemp, p) - np.pow(T - MinTemp, 2 * p)) / np.pow(OptTemp - MinTemp, 2 * p)\n",
    "\n",
    "    if (RefTemp > MinTemp) and (RefTemp < MaxTemp):\n",
    "        p = np.log(2.0) / np.log((MaxTemp - MinTemp) / (OptTemp - MinTemp))\n",
    "        RelEffRefTemp = (2 * np.pow(RefTemp - MinTemp, p) * np.pow(OptTemp - MinTemp, p) - np.pow(RefTemp - MinTemp, 2 * p)) / np.pow(OptTemp - MinTemp, 2 * p)\n",
    "\n",
    "    return float(RelEff / RelEffRefTemp)\n",
    "\n",
    "def GDH(Tb,Tu,Tc,T):\n",
    "    HU_values = np.zeros_like(T)\n",
    "    mask1 = (T > Tb) & (T <= Tu)\n",
    "    mask2 = (T > Tu) & (T <= Tc)\n",
    "\n",
    "    HU_values[mask1] = 0.5 * (1 + np.cos(np.pi + np.pi * ((T[mask1] - Tb) / (Tu - Tb))))\n",
    "    HU_values[mask2] =  (1 + np.cos(0.5*np.pi + 0.5*np.pi * ((T[mask2] - Tu) / (Tc - Tu))))\n",
    "\n",
    "    return HU_values\n"
   ]
  },
  {
   "cell_type": "markdown",
   "metadata": {},
   "source": [
    "# Chill/Heat Accumulation"
   ]
  },
  {
   "cell_type": "code",
   "execution_count": 4,
   "metadata": {},
   "outputs": [],
   "source": [
    "# Chill & heat accumulation\n",
    "def chill_heat_accumulation(start_doy, buds_targets, predicted_endo_release_doy, predicted_budbreak_doy, weather_since_start_doy, sheet_name, treatment_name):\n",
    "\n",
    "\n",
    "    for bud_position,target in buds_targets.items():\n",
    "        \n",
    "        chill_requirement = target['chill']\n",
    "        heat_requirement = target['heat']\n",
    "        \n",
    "        # Chill model parameter\n",
    "        Tc = 18\n",
    "        chillVal = 0\n",
    "        for idx_endodormancy_release, temp in enumerate(weather_since_start_doy['temp']):\n",
    "            chillVal += Chill(Tc, temp)\n",
    "            if chillVal >= chill_requirement:\n",
    "                predicted_endo_release_doy[sheet_name+treatment_name][bud_position] = int(weather_since_start_doy['doy'].iloc[idx_endodormancy_release])  # Get the date at this index\n",
    "                break\n",
    "        \n",
    "        # from the date of endodormancy release, start accumulating heat\n",
    "        heatVal = 0\n",
    "        # wangengel model parameters\n",
    "        MinTemp = 7\n",
    "        OptTemp = 20\n",
    "        MaxTemp = 25\n",
    "        RefTemp = OptTemp # RefTemp = OptTemp scales the function to 0-1\n",
    "        for idx_bb, temp in enumerate(weather_since_start_doy['temp'].iloc[idx_endodormancy_release::]):\n",
    "            heatVal += Wangengel(MinTemp,OptTemp,MaxTemp,RefTemp,temp)\n",
    "            if heatVal >= heat_requirement:\n",
    "                predicted_budbreak_doy[sheet_name+treatment_name][bud_position] = int(weather_since_start_doy['doy'].iloc[idx_endodormancy_release+idx_bb+1])  # Get the date at this index\n",
    "                break\n",
    "    return predicted_endo_release_doy, predicted_budbreak_doy\n"
   ]
  },
  {
   "cell_type": "code",
   "execution_count": 5,
   "metadata": {},
   "outputs": [],
   "source": [
    "with open(\"config_MultiDataFiles.json\", \"r\") as file:\n",
    "    config = json.load(file)\n",
    "\n",
    "start_doy = pd.to_datetime('2016-03-01').dayofyear # 1st of March to start accumulation of chill units (year selection does not matter here)\n",
    "chill_requirement_fixed = 900\n",
    "heat_requirement_fixed = 500\n",
    "buds_targets = {1:{'chill':chill_requirement_fixed, 'heat':heat_requirement_fixed}}#, 2:{'chill':chill_requirement_fixed, 'heat':200}, 3:{'chill':chill_requirement_fixed, 'heat':300}, 4:{'chill':chill_requirement_fixed, 'heat':400}, 5:{'chill':chill_requirement_fixed, 'heat':500}, 6:{'chill':chill_requirement_fixed, 'heat':600}}\n",
    "\n",
    "\n",
    "predicted_endo_release_doy = defaultdict(lambda: dict())\n",
    "predicted_budbreak_doy = defaultdict(lambda: dict())\n",
    "observed_budbreak_doy = defaultdict(lambda: dict())\n",
    "\n",
    "# Load environment variables\n",
    "load_dotenv()\n",
    "FOLDER_PATH = os.getenv('FOLDER_PATH')\n",
    "for file_name, file_info in config.items():\n",
    "        file_path = os.path.join(FOLDER_PATH, file_name)\n",
    "        # Process each sheet\n",
    "        for sheet_info in file_info['sheets']:\n",
    "            # Extract sheet names, cultivars, and treatments\n",
    "            sheet_name = sheet_info['sheet_name']\n",
    "            location = sheet_info['location'].replace(' ','')\n",
    "            max_observed_buds = sheet_info['max_observed_buds']\n",
    "            cultivar_col, cultivar_name = list(sheet_info['cultivar'].items())[0]\n",
    "            treatment_col, treatment_name = list(sheet_info['treatments'].items())[0]\n",
    "            # Load the \"Hourly\" weather data\n",
    "            weather_path = sheet_info['weather_path']\n",
    "            weather_data = pd.read_csv(weather_path)\n",
    "            weather_data = weather_data[['Date', 'Time', 'Air Temp. (°C)']].rename(columns={'Date': 'date', 'Time':'Time', 'Air Temp. (°C)':'temp'}, inplace=False)\n",
    "            weather_data.insert(1, 'doy', [d.dayofyear for d in pd.to_datetime(weather_data['date'], format=\"mixed\")])\n",
    "            # Interpolate missing values\n",
    "            # Convert '-' to NaN\n",
    "            weather_data['temp'].replace('-', np.nan, inplace=True)\n",
    "            weather_data['temp']=weather_data['temp'].apply(pd.to_numeric, errors='coerce')\n",
    "\n",
    "            # Interpolate missing values\n",
    "            weather_data['temp'].interpolate(method='linear', inplace=True)\n",
    "\n",
    "            # start from the start_doy to accumulate chill/heat units\n",
    "            weather_since_start_doy = weather_data[weather_data['doy']>start_doy]\n",
    "            # print(weather_since_start_doy.head(30))\n",
    "\n",
    "            # Predict the endodormancy release doy and budbreak doy\n",
    "            predicted_endo_release_doy, predicted_budbreak_doy = chill_heat_accumulation(start_doy,buds_targets, predicted_endo_release_doy, predicted_budbreak_doy, weather_since_start_doy, sheet_name, treatment_name)\n",
    "\n",
    "            # Load and calculate the observed budburst doy\n",
    "            _, _, BudBurstDOY = load_observations(file_path,sheet_name, cultivar_col,cultivar_name,treatment_col,treatment_name,location,max_observed_buds)\n",
    "            observed_budbreak_doy[sheet_name+treatment_name][1] = BudBurstDOY\n",
    "            "
   ]
  },
  {
   "cell_type": "code",
   "execution_count": 19,
   "metadata": {},
   "outputs": [
    {
     "data": {
      "application/vnd.plotly.v1+json": {
       "config": {
        "plotlyServerURL": "https://plot.ly"
       },
       "data": [
        {
         "marker": {
          "size": 15
         },
         "mode": "markers",
         "name": "TPROB4BB2016Control early",
         "type": "scatter",
         "x": [
          280
         ],
         "y": [
          261
         ]
        },
        {
         "marker": {
          "size": 15
         },
         "mode": "markers",
         "name": "TPROB4BB2016Control late",
         "type": "scatter",
         "x": [
          280
         ],
         "y": [
          261
         ]
        },
        {
         "marker": {
          "size": 15
         },
         "mode": "markers",
         "name": "HaywardTPBBCon1",
         "type": "scatter",
         "x": [
          272
         ],
         "y": [
          284
         ]
        },
        {
         "marker": {
          "size": 15
         },
         "mode": "markers",
         "name": "HaywardTPBBCon2",
         "type": "scatter",
         "x": [
          272
         ],
         "y": [
          284
         ]
        },
        {
         "marker": {
          "size": 15
         },
         "mode": "markers",
         "name": "HaywardKKBBControl",
         "type": "scatter",
         "x": [
          278
         ],
         "y": [
          255
         ]
        },
        {
         "marker": {
          "size": 15
         },
         "mode": "markers",
         "name": "KatoaBB2008control",
         "type": "scatter",
         "x": [
          265
         ],
         "y": [
          266
         ]
        },
        {
         "marker": {
          "size": 15
         },
         "mode": "markers",
         "name": "MeadBB2008control",
         "type": "scatter",
         "x": [
          270
         ],
         "y": [
          266
         ]
        },
        {
         "marker": {
          "size": 15
         },
         "mode": "markers",
         "name": "KatoaBB2009control",
         "type": "scatter",
         "x": [
          254
         ],
         "y": [
          257
         ]
        },
        {
         "marker": {
          "size": 15
         },
         "mode": "markers",
         "name": "MeadBB2009control",
         "type": "scatter",
         "x": [
          254
         ],
         "y": [
          257
         ]
        },
        {
         "marker": {
          "size": 15
         },
         "mode": "markers",
         "name": "KatoaBB2010control",
         "type": "scatter",
         "x": [
          273
         ],
         "y": [
          254
         ]
        },
        {
         "marker": {
          "size": 15
         },
         "mode": "markers",
         "name": "MeadBB2010control",
         "type": "scatter",
         "x": [
          273
         ],
         "y": [
          254
         ]
        },
        {
         "marker": {
          "size": 15
         },
         "mode": "markers",
         "name": "NBB2010control",
         "type": "scatter",
         "x": [
          285
         ],
         "y": [
          250
         ]
        },
        {
         "marker": {
          "size": 15
         },
         "mode": "markers",
         "name": "NBB2011control",
         "type": "scatter",
         "x": [
          294
         ],
         "y": [
          264
         ]
        },
        {
         "line": {
          "color": "white",
          "dash": "dash"
         },
         "mode": "lines",
         "name": "1:1 Line",
         "type": "scatter",
         "x": [
          250,
          294
         ],
         "y": [
          250,
          294
         ]
        },
        {
         "line": {
          "color": "white",
          "dash": "solid"
         },
         "mode": "lines",
         "name": "Regression (y=-0.03x + 271.53), R2=0.001",
         "type": "scatter",
         "x": {
          "bdata": "GAEYARABEAEWAQkBDgH+AP4AEQERAR0BJgE=",
          "dtype": "i2"
         },
         "y": {
          "bdata": "zni0GPhkcEDOeLQY+GRwQDtIlL0uaXBAO0iUvS5pcECpbOzBBWZwQLsd2I3ebHBAFjzMZjxqcEDx2ouwqXJwQPHai7CpcnBATU746KdocEBNTvjop2hwQCmXqPFVYnBAzs0seJhdcEA=",
          "dtype": "f8"
         }
        }
       ],
       "layout": {
        "template": {
         "data": {
          "bar": [
           {
            "error_x": {
             "color": "#f2f5fa"
            },
            "error_y": {
             "color": "#f2f5fa"
            },
            "marker": {
             "line": {
              "color": "rgb(17,17,17)",
              "width": 0.5
             },
             "pattern": {
              "fillmode": "overlay",
              "size": 10,
              "solidity": 0.2
             }
            },
            "type": "bar"
           }
          ],
          "barpolar": [
           {
            "marker": {
             "line": {
              "color": "rgb(17,17,17)",
              "width": 0.5
             },
             "pattern": {
              "fillmode": "overlay",
              "size": 10,
              "solidity": 0.2
             }
            },
            "type": "barpolar"
           }
          ],
          "carpet": [
           {
            "aaxis": {
             "endlinecolor": "#A2B1C6",
             "gridcolor": "#506784",
             "linecolor": "#506784",
             "minorgridcolor": "#506784",
             "startlinecolor": "#A2B1C6"
            },
            "baxis": {
             "endlinecolor": "#A2B1C6",
             "gridcolor": "#506784",
             "linecolor": "#506784",
             "minorgridcolor": "#506784",
             "startlinecolor": "#A2B1C6"
            },
            "type": "carpet"
           }
          ],
          "choropleth": [
           {
            "colorbar": {
             "outlinewidth": 0,
             "ticks": ""
            },
            "type": "choropleth"
           }
          ],
          "contour": [
           {
            "colorbar": {
             "outlinewidth": 0,
             "ticks": ""
            },
            "colorscale": [
             [
              0,
              "#0d0887"
             ],
             [
              0.1111111111111111,
              "#46039f"
             ],
             [
              0.2222222222222222,
              "#7201a8"
             ],
             [
              0.3333333333333333,
              "#9c179e"
             ],
             [
              0.4444444444444444,
              "#bd3786"
             ],
             [
              0.5555555555555556,
              "#d8576b"
             ],
             [
              0.6666666666666666,
              "#ed7953"
             ],
             [
              0.7777777777777778,
              "#fb9f3a"
             ],
             [
              0.8888888888888888,
              "#fdca26"
             ],
             [
              1,
              "#f0f921"
             ]
            ],
            "type": "contour"
           }
          ],
          "contourcarpet": [
           {
            "colorbar": {
             "outlinewidth": 0,
             "ticks": ""
            },
            "type": "contourcarpet"
           }
          ],
          "heatmap": [
           {
            "colorbar": {
             "outlinewidth": 0,
             "ticks": ""
            },
            "colorscale": [
             [
              0,
              "#0d0887"
             ],
             [
              0.1111111111111111,
              "#46039f"
             ],
             [
              0.2222222222222222,
              "#7201a8"
             ],
             [
              0.3333333333333333,
              "#9c179e"
             ],
             [
              0.4444444444444444,
              "#bd3786"
             ],
             [
              0.5555555555555556,
              "#d8576b"
             ],
             [
              0.6666666666666666,
              "#ed7953"
             ],
             [
              0.7777777777777778,
              "#fb9f3a"
             ],
             [
              0.8888888888888888,
              "#fdca26"
             ],
             [
              1,
              "#f0f921"
             ]
            ],
            "type": "heatmap"
           }
          ],
          "histogram": [
           {
            "marker": {
             "pattern": {
              "fillmode": "overlay",
              "size": 10,
              "solidity": 0.2
             }
            },
            "type": "histogram"
           }
          ],
          "histogram2d": [
           {
            "colorbar": {
             "outlinewidth": 0,
             "ticks": ""
            },
            "colorscale": [
             [
              0,
              "#0d0887"
             ],
             [
              0.1111111111111111,
              "#46039f"
             ],
             [
              0.2222222222222222,
              "#7201a8"
             ],
             [
              0.3333333333333333,
              "#9c179e"
             ],
             [
              0.4444444444444444,
              "#bd3786"
             ],
             [
              0.5555555555555556,
              "#d8576b"
             ],
             [
              0.6666666666666666,
              "#ed7953"
             ],
             [
              0.7777777777777778,
              "#fb9f3a"
             ],
             [
              0.8888888888888888,
              "#fdca26"
             ],
             [
              1,
              "#f0f921"
             ]
            ],
            "type": "histogram2d"
           }
          ],
          "histogram2dcontour": [
           {
            "colorbar": {
             "outlinewidth": 0,
             "ticks": ""
            },
            "colorscale": [
             [
              0,
              "#0d0887"
             ],
             [
              0.1111111111111111,
              "#46039f"
             ],
             [
              0.2222222222222222,
              "#7201a8"
             ],
             [
              0.3333333333333333,
              "#9c179e"
             ],
             [
              0.4444444444444444,
              "#bd3786"
             ],
             [
              0.5555555555555556,
              "#d8576b"
             ],
             [
              0.6666666666666666,
              "#ed7953"
             ],
             [
              0.7777777777777778,
              "#fb9f3a"
             ],
             [
              0.8888888888888888,
              "#fdca26"
             ],
             [
              1,
              "#f0f921"
             ]
            ],
            "type": "histogram2dcontour"
           }
          ],
          "mesh3d": [
           {
            "colorbar": {
             "outlinewidth": 0,
             "ticks": ""
            },
            "type": "mesh3d"
           }
          ],
          "parcoords": [
           {
            "line": {
             "colorbar": {
              "outlinewidth": 0,
              "ticks": ""
             }
            },
            "type": "parcoords"
           }
          ],
          "pie": [
           {
            "automargin": true,
            "type": "pie"
           }
          ],
          "scatter": [
           {
            "marker": {
             "line": {
              "color": "#283442"
             }
            },
            "type": "scatter"
           }
          ],
          "scatter3d": [
           {
            "line": {
             "colorbar": {
              "outlinewidth": 0,
              "ticks": ""
             }
            },
            "marker": {
             "colorbar": {
              "outlinewidth": 0,
              "ticks": ""
             }
            },
            "type": "scatter3d"
           }
          ],
          "scattercarpet": [
           {
            "marker": {
             "colorbar": {
              "outlinewidth": 0,
              "ticks": ""
             }
            },
            "type": "scattercarpet"
           }
          ],
          "scattergeo": [
           {
            "marker": {
             "colorbar": {
              "outlinewidth": 0,
              "ticks": ""
             }
            },
            "type": "scattergeo"
           }
          ],
          "scattergl": [
           {
            "marker": {
             "line": {
              "color": "#283442"
             }
            },
            "type": "scattergl"
           }
          ],
          "scattermap": [
           {
            "marker": {
             "colorbar": {
              "outlinewidth": 0,
              "ticks": ""
             }
            },
            "type": "scattermap"
           }
          ],
          "scattermapbox": [
           {
            "marker": {
             "colorbar": {
              "outlinewidth": 0,
              "ticks": ""
             }
            },
            "type": "scattermapbox"
           }
          ],
          "scatterpolar": [
           {
            "marker": {
             "colorbar": {
              "outlinewidth": 0,
              "ticks": ""
             }
            },
            "type": "scatterpolar"
           }
          ],
          "scatterpolargl": [
           {
            "marker": {
             "colorbar": {
              "outlinewidth": 0,
              "ticks": ""
             }
            },
            "type": "scatterpolargl"
           }
          ],
          "scatterternary": [
           {
            "marker": {
             "colorbar": {
              "outlinewidth": 0,
              "ticks": ""
             }
            },
            "type": "scatterternary"
           }
          ],
          "surface": [
           {
            "colorbar": {
             "outlinewidth": 0,
             "ticks": ""
            },
            "colorscale": [
             [
              0,
              "#0d0887"
             ],
             [
              0.1111111111111111,
              "#46039f"
             ],
             [
              0.2222222222222222,
              "#7201a8"
             ],
             [
              0.3333333333333333,
              "#9c179e"
             ],
             [
              0.4444444444444444,
              "#bd3786"
             ],
             [
              0.5555555555555556,
              "#d8576b"
             ],
             [
              0.6666666666666666,
              "#ed7953"
             ],
             [
              0.7777777777777778,
              "#fb9f3a"
             ],
             [
              0.8888888888888888,
              "#fdca26"
             ],
             [
              1,
              "#f0f921"
             ]
            ],
            "type": "surface"
           }
          ],
          "table": [
           {
            "cells": {
             "fill": {
              "color": "#506784"
             },
             "line": {
              "color": "rgb(17,17,17)"
             }
            },
            "header": {
             "fill": {
              "color": "#2a3f5f"
             },
             "line": {
              "color": "rgb(17,17,17)"
             }
            },
            "type": "table"
           }
          ]
         },
         "layout": {
          "annotationdefaults": {
           "arrowcolor": "#f2f5fa",
           "arrowhead": 0,
           "arrowwidth": 1
          },
          "autotypenumbers": "strict",
          "coloraxis": {
           "colorbar": {
            "outlinewidth": 0,
            "ticks": ""
           }
          },
          "colorscale": {
           "diverging": [
            [
             0,
             "#8e0152"
            ],
            [
             0.1,
             "#c51b7d"
            ],
            [
             0.2,
             "#de77ae"
            ],
            [
             0.3,
             "#f1b6da"
            ],
            [
             0.4,
             "#fde0ef"
            ],
            [
             0.5,
             "#f7f7f7"
            ],
            [
             0.6,
             "#e6f5d0"
            ],
            [
             0.7,
             "#b8e186"
            ],
            [
             0.8,
             "#7fbc41"
            ],
            [
             0.9,
             "#4d9221"
            ],
            [
             1,
             "#276419"
            ]
           ],
           "sequential": [
            [
             0,
             "#0d0887"
            ],
            [
             0.1111111111111111,
             "#46039f"
            ],
            [
             0.2222222222222222,
             "#7201a8"
            ],
            [
             0.3333333333333333,
             "#9c179e"
            ],
            [
             0.4444444444444444,
             "#bd3786"
            ],
            [
             0.5555555555555556,
             "#d8576b"
            ],
            [
             0.6666666666666666,
             "#ed7953"
            ],
            [
             0.7777777777777778,
             "#fb9f3a"
            ],
            [
             0.8888888888888888,
             "#fdca26"
            ],
            [
             1,
             "#f0f921"
            ]
           ],
           "sequentialminus": [
            [
             0,
             "#0d0887"
            ],
            [
             0.1111111111111111,
             "#46039f"
            ],
            [
             0.2222222222222222,
             "#7201a8"
            ],
            [
             0.3333333333333333,
             "#9c179e"
            ],
            [
             0.4444444444444444,
             "#bd3786"
            ],
            [
             0.5555555555555556,
             "#d8576b"
            ],
            [
             0.6666666666666666,
             "#ed7953"
            ],
            [
             0.7777777777777778,
             "#fb9f3a"
            ],
            [
             0.8888888888888888,
             "#fdca26"
            ],
            [
             1,
             "#f0f921"
            ]
           ]
          },
          "colorway": [
           "#636efa",
           "#EF553B",
           "#00cc96",
           "#ab63fa",
           "#FFA15A",
           "#19d3f3",
           "#FF6692",
           "#B6E880",
           "#FF97FF",
           "#FECB52"
          ],
          "font": {
           "color": "#f2f5fa"
          },
          "geo": {
           "bgcolor": "rgb(17,17,17)",
           "lakecolor": "rgb(17,17,17)",
           "landcolor": "rgb(17,17,17)",
           "showlakes": true,
           "showland": true,
           "subunitcolor": "#506784"
          },
          "hoverlabel": {
           "align": "left"
          },
          "hovermode": "closest",
          "mapbox": {
           "style": "dark"
          },
          "paper_bgcolor": "rgb(17,17,17)",
          "plot_bgcolor": "rgb(17,17,17)",
          "polar": {
           "angularaxis": {
            "gridcolor": "#506784",
            "linecolor": "#506784",
            "ticks": ""
           },
           "bgcolor": "rgb(17,17,17)",
           "radialaxis": {
            "gridcolor": "#506784",
            "linecolor": "#506784",
            "ticks": ""
           }
          },
          "scene": {
           "xaxis": {
            "backgroundcolor": "rgb(17,17,17)",
            "gridcolor": "#506784",
            "gridwidth": 2,
            "linecolor": "#506784",
            "showbackground": true,
            "ticks": "",
            "zerolinecolor": "#C8D4E3"
           },
           "yaxis": {
            "backgroundcolor": "rgb(17,17,17)",
            "gridcolor": "#506784",
            "gridwidth": 2,
            "linecolor": "#506784",
            "showbackground": true,
            "ticks": "",
            "zerolinecolor": "#C8D4E3"
           },
           "zaxis": {
            "backgroundcolor": "rgb(17,17,17)",
            "gridcolor": "#506784",
            "gridwidth": 2,
            "linecolor": "#506784",
            "showbackground": true,
            "ticks": "",
            "zerolinecolor": "#C8D4E3"
           }
          },
          "shapedefaults": {
           "line": {
            "color": "#f2f5fa"
           }
          },
          "sliderdefaults": {
           "bgcolor": "#C8D4E3",
           "bordercolor": "rgb(17,17,17)",
           "borderwidth": 1,
           "tickwidth": 0
          },
          "ternary": {
           "aaxis": {
            "gridcolor": "#506784",
            "linecolor": "#506784",
            "ticks": ""
           },
           "baxis": {
            "gridcolor": "#506784",
            "linecolor": "#506784",
            "ticks": ""
           },
           "bgcolor": "rgb(17,17,17)",
           "caxis": {
            "gridcolor": "#506784",
            "linecolor": "#506784",
            "ticks": ""
           }
          },
          "title": {
           "x": 0.05
          },
          "updatemenudefaults": {
           "bgcolor": "#506784",
           "borderwidth": 0
          },
          "xaxis": {
           "automargin": true,
           "gridcolor": "#283442",
           "linecolor": "#506784",
           "ticks": "",
           "title": {
            "standoff": 15
           },
           "zerolinecolor": "#283442",
           "zerolinewidth": 2
          },
          "yaxis": {
           "automargin": true,
           "gridcolor": "#283442",
           "linecolor": "#506784",
           "ticks": "",
           "title": {
            "standoff": 15
           },
           "zerolinecolor": "#283442",
           "zerolinewidth": 2
          }
         }
        },
        "title": {
         "text": "BudBurst"
        },
        "xaxis": {
         "title": {
          "text": "Observed BudBurst DOY"
         }
        },
        "yaxis": {
         "title": {
          "text": "Predicted BudBurst DOY"
         }
        }
       }
      }
     },
     "metadata": {},
     "output_type": "display_data"
    }
   ],
   "source": [
    "all_bb_days = []\n",
    "observed_all = []\n",
    "predicted_all = []\n",
    "fig = go.Figure()\n",
    "for (trtmnt1,bb1),(trtmnt2,bb2) in zip(predicted_budbreak_doy.items(), observed_budbreak_doy.items()):\n",
    "    predicted_bb= list(bb1.values())[0]\n",
    "    observed_bb = list(bb2.values())[0]\n",
    "    all_bb_days.append(observed_bb)\n",
    "    all_bb_days.append(predicted_bb)\n",
    "    observed_all.append(observed_bb)\n",
    "    predicted_all.append(predicted_bb)\n",
    "    fig.add_trace(go.Scatter(x=[observed_bb], y=[predicted_bb], mode='markers', marker=dict(size=15), name=trtmnt2))\n",
    "\n",
    "# Add 1:1 dashed line\n",
    "fig.add_trace(go.Scatter(x=[min(all_bb_days), max(all_bb_days)], y=[min(all_bb_days), max(all_bb_days)], mode='lines', line=dict(color=\"white\", dash=\"dash\"), name=\"1:1 Line\"))  # Dashed black line\n",
    "\n",
    "# Convert to numpy arrays\n",
    "observed_all = np.array(observed_all)\n",
    "predicted_all = np.array(predicted_all)\n",
    "# Fit linear regression\n",
    "slope, intercept, r_value, p_value, std_err = linregress(observed_all, predicted_all)\n",
    "regression_line = slope * observed_all + intercept\n",
    "# Calculate R²\n",
    "r_squared = r_value ** 2\n",
    "# Plot regression line\n",
    "fig.add_trace(go.Scatter(x=observed_all, y=regression_line, mode='lines', line=dict(color=\"white\", dash=\"solid\"), name=f\"Regression (y={slope:.2f}x + {intercept:.2f}), R2={round(r_squared,3)}\"))\n",
    "\n",
    "# Update layout\n",
    "fig.update_layout(\n",
    "    title=\"BudBurst\",\n",
    "    xaxis_title=\"Observed BudBurst DOY\",\n",
    "    yaxis_title=\"Predicted BudBurst DOY\",\n",
    "    template=\"plotly_dark\")\n",
    "fig.show()\n"
   ]
  },
  {
   "cell_type": "code",
   "execution_count": 33,
   "metadata": {},
   "outputs": [
    {
     "data": {
      "application/vnd.plotly.v1+json": {
       "config": {
        "plotlyServerURL": "https://plot.ly"
       },
       "data": [
        {
         "hovertemplate": "variable=Python<br>Observed=%{x}<br>value=%{y}<extra></extra>",
         "legendgroup": "Python",
         "marker": {
          "color": "#636efa",
          "line": {
           "color": "DarkSlateGrey",
           "width": 2
          },
          "size": 12,
          "symbol": "circle"
         },
         "mode": "markers",
         "name": "Python (R²=0.001)",
         "orientation": "v",
         "showlegend": true,
         "type": "scatter",
         "x": {
          "bdata": "GAEYARABEAEWAQkBDgH+AP4AEQERAR0BJgE=",
          "dtype": "i2"
         },
         "xaxis": "x",
         "y": {
          "bdata": "BQEFARwBHAH/AAoBCgEBAQEB/gD+APoACAE=",
          "dtype": "i2"
         },
         "yaxis": "y"
        },
        {
         "hovertemplate": "variable=APSIM<br>Observed=%{x}<br>value=%{y}<extra></extra>",
         "legendgroup": "APSIM",
         "marker": {
          "color": "#EF553B",
          "line": {
           "color": "DarkSlateGrey",
           "width": 2
          },
          "size": 12,
          "symbol": "circle"
         },
         "mode": "markers",
         "name": "APSIM (R²=0.011)",
         "orientation": "v",
         "showlegend": true,
         "type": "scatter",
         "x": {
          "bdata": "GAEYARABEAEWAQkBDgH+AP4AEQERAR0BJgE=",
          "dtype": "i2"
         },
         "xaxis": "x",
         "y": {
          "bdata": "CwELAR0BHQEHAQsBCwEDAQMBDAEMAfwADgE=",
          "dtype": "i2"
         },
         "yaxis": "y"
        },
        {
         "line": {
          "color": "black",
          "dash": "dash"
         },
         "mode": "lines",
         "name": "1:1 Line (R²=0.011)",
         "type": "scatter",
         "x": [
          250,
          294
         ],
         "y": [
          250,
          294
         ]
        }
       ],
       "layout": {
        "legend": {
         "title": {
          "text": "variable"
         },
         "tracegroupgap": 0
        },
        "margin": {
         "t": 60
        },
        "template": {
         "data": {
          "bar": [
           {
            "error_x": {
             "color": "#2a3f5f"
            },
            "error_y": {
             "color": "#2a3f5f"
            },
            "marker": {
             "line": {
              "color": "#E5ECF6",
              "width": 0.5
             },
             "pattern": {
              "fillmode": "overlay",
              "size": 10,
              "solidity": 0.2
             }
            },
            "type": "bar"
           }
          ],
          "barpolar": [
           {
            "marker": {
             "line": {
              "color": "#E5ECF6",
              "width": 0.5
             },
             "pattern": {
              "fillmode": "overlay",
              "size": 10,
              "solidity": 0.2
             }
            },
            "type": "barpolar"
           }
          ],
          "carpet": [
           {
            "aaxis": {
             "endlinecolor": "#2a3f5f",
             "gridcolor": "white",
             "linecolor": "white",
             "minorgridcolor": "white",
             "startlinecolor": "#2a3f5f"
            },
            "baxis": {
             "endlinecolor": "#2a3f5f",
             "gridcolor": "white",
             "linecolor": "white",
             "minorgridcolor": "white",
             "startlinecolor": "#2a3f5f"
            },
            "type": "carpet"
           }
          ],
          "choropleth": [
           {
            "colorbar": {
             "outlinewidth": 0,
             "ticks": ""
            },
            "type": "choropleth"
           }
          ],
          "contour": [
           {
            "colorbar": {
             "outlinewidth": 0,
             "ticks": ""
            },
            "colorscale": [
             [
              0,
              "#0d0887"
             ],
             [
              0.1111111111111111,
              "#46039f"
             ],
             [
              0.2222222222222222,
              "#7201a8"
             ],
             [
              0.3333333333333333,
              "#9c179e"
             ],
             [
              0.4444444444444444,
              "#bd3786"
             ],
             [
              0.5555555555555556,
              "#d8576b"
             ],
             [
              0.6666666666666666,
              "#ed7953"
             ],
             [
              0.7777777777777778,
              "#fb9f3a"
             ],
             [
              0.8888888888888888,
              "#fdca26"
             ],
             [
              1,
              "#f0f921"
             ]
            ],
            "type": "contour"
           }
          ],
          "contourcarpet": [
           {
            "colorbar": {
             "outlinewidth": 0,
             "ticks": ""
            },
            "type": "contourcarpet"
           }
          ],
          "heatmap": [
           {
            "colorbar": {
             "outlinewidth": 0,
             "ticks": ""
            },
            "colorscale": [
             [
              0,
              "#0d0887"
             ],
             [
              0.1111111111111111,
              "#46039f"
             ],
             [
              0.2222222222222222,
              "#7201a8"
             ],
             [
              0.3333333333333333,
              "#9c179e"
             ],
             [
              0.4444444444444444,
              "#bd3786"
             ],
             [
              0.5555555555555556,
              "#d8576b"
             ],
             [
              0.6666666666666666,
              "#ed7953"
             ],
             [
              0.7777777777777778,
              "#fb9f3a"
             ],
             [
              0.8888888888888888,
              "#fdca26"
             ],
             [
              1,
              "#f0f921"
             ]
            ],
            "type": "heatmap"
           }
          ],
          "histogram": [
           {
            "marker": {
             "pattern": {
              "fillmode": "overlay",
              "size": 10,
              "solidity": 0.2
             }
            },
            "type": "histogram"
           }
          ],
          "histogram2d": [
           {
            "colorbar": {
             "outlinewidth": 0,
             "ticks": ""
            },
            "colorscale": [
             [
              0,
              "#0d0887"
             ],
             [
              0.1111111111111111,
              "#46039f"
             ],
             [
              0.2222222222222222,
              "#7201a8"
             ],
             [
              0.3333333333333333,
              "#9c179e"
             ],
             [
              0.4444444444444444,
              "#bd3786"
             ],
             [
              0.5555555555555556,
              "#d8576b"
             ],
             [
              0.6666666666666666,
              "#ed7953"
             ],
             [
              0.7777777777777778,
              "#fb9f3a"
             ],
             [
              0.8888888888888888,
              "#fdca26"
             ],
             [
              1,
              "#f0f921"
             ]
            ],
            "type": "histogram2d"
           }
          ],
          "histogram2dcontour": [
           {
            "colorbar": {
             "outlinewidth": 0,
             "ticks": ""
            },
            "colorscale": [
             [
              0,
              "#0d0887"
             ],
             [
              0.1111111111111111,
              "#46039f"
             ],
             [
              0.2222222222222222,
              "#7201a8"
             ],
             [
              0.3333333333333333,
              "#9c179e"
             ],
             [
              0.4444444444444444,
              "#bd3786"
             ],
             [
              0.5555555555555556,
              "#d8576b"
             ],
             [
              0.6666666666666666,
              "#ed7953"
             ],
             [
              0.7777777777777778,
              "#fb9f3a"
             ],
             [
              0.8888888888888888,
              "#fdca26"
             ],
             [
              1,
              "#f0f921"
             ]
            ],
            "type": "histogram2dcontour"
           }
          ],
          "mesh3d": [
           {
            "colorbar": {
             "outlinewidth": 0,
             "ticks": ""
            },
            "type": "mesh3d"
           }
          ],
          "parcoords": [
           {
            "line": {
             "colorbar": {
              "outlinewidth": 0,
              "ticks": ""
             }
            },
            "type": "parcoords"
           }
          ],
          "pie": [
           {
            "automargin": true,
            "type": "pie"
           }
          ],
          "scatter": [
           {
            "fillpattern": {
             "fillmode": "overlay",
             "size": 10,
             "solidity": 0.2
            },
            "type": "scatter"
           }
          ],
          "scatter3d": [
           {
            "line": {
             "colorbar": {
              "outlinewidth": 0,
              "ticks": ""
             }
            },
            "marker": {
             "colorbar": {
              "outlinewidth": 0,
              "ticks": ""
             }
            },
            "type": "scatter3d"
           }
          ],
          "scattercarpet": [
           {
            "marker": {
             "colorbar": {
              "outlinewidth": 0,
              "ticks": ""
             }
            },
            "type": "scattercarpet"
           }
          ],
          "scattergeo": [
           {
            "marker": {
             "colorbar": {
              "outlinewidth": 0,
              "ticks": ""
             }
            },
            "type": "scattergeo"
           }
          ],
          "scattergl": [
           {
            "marker": {
             "colorbar": {
              "outlinewidth": 0,
              "ticks": ""
             }
            },
            "type": "scattergl"
           }
          ],
          "scattermap": [
           {
            "marker": {
             "colorbar": {
              "outlinewidth": 0,
              "ticks": ""
             }
            },
            "type": "scattermap"
           }
          ],
          "scattermapbox": [
           {
            "marker": {
             "colorbar": {
              "outlinewidth": 0,
              "ticks": ""
             }
            },
            "type": "scattermapbox"
           }
          ],
          "scatterpolar": [
           {
            "marker": {
             "colorbar": {
              "outlinewidth": 0,
              "ticks": ""
             }
            },
            "type": "scatterpolar"
           }
          ],
          "scatterpolargl": [
           {
            "marker": {
             "colorbar": {
              "outlinewidth": 0,
              "ticks": ""
             }
            },
            "type": "scatterpolargl"
           }
          ],
          "scatterternary": [
           {
            "marker": {
             "colorbar": {
              "outlinewidth": 0,
              "ticks": ""
             }
            },
            "type": "scatterternary"
           }
          ],
          "surface": [
           {
            "colorbar": {
             "outlinewidth": 0,
             "ticks": ""
            },
            "colorscale": [
             [
              0,
              "#0d0887"
             ],
             [
              0.1111111111111111,
              "#46039f"
             ],
             [
              0.2222222222222222,
              "#7201a8"
             ],
             [
              0.3333333333333333,
              "#9c179e"
             ],
             [
              0.4444444444444444,
              "#bd3786"
             ],
             [
              0.5555555555555556,
              "#d8576b"
             ],
             [
              0.6666666666666666,
              "#ed7953"
             ],
             [
              0.7777777777777778,
              "#fb9f3a"
             ],
             [
              0.8888888888888888,
              "#fdca26"
             ],
             [
              1,
              "#f0f921"
             ]
            ],
            "type": "surface"
           }
          ],
          "table": [
           {
            "cells": {
             "fill": {
              "color": "#EBF0F8"
             },
             "line": {
              "color": "white"
             }
            },
            "header": {
             "fill": {
              "color": "#C8D4E3"
             },
             "line": {
              "color": "white"
             }
            },
            "type": "table"
           }
          ]
         },
         "layout": {
          "annotationdefaults": {
           "arrowcolor": "#2a3f5f",
           "arrowhead": 0,
           "arrowwidth": 1
          },
          "autotypenumbers": "strict",
          "coloraxis": {
           "colorbar": {
            "outlinewidth": 0,
            "ticks": ""
           }
          },
          "colorscale": {
           "diverging": [
            [
             0,
             "#8e0152"
            ],
            [
             0.1,
             "#c51b7d"
            ],
            [
             0.2,
             "#de77ae"
            ],
            [
             0.3,
             "#f1b6da"
            ],
            [
             0.4,
             "#fde0ef"
            ],
            [
             0.5,
             "#f7f7f7"
            ],
            [
             0.6,
             "#e6f5d0"
            ],
            [
             0.7,
             "#b8e186"
            ],
            [
             0.8,
             "#7fbc41"
            ],
            [
             0.9,
             "#4d9221"
            ],
            [
             1,
             "#276419"
            ]
           ],
           "sequential": [
            [
             0,
             "#0d0887"
            ],
            [
             0.1111111111111111,
             "#46039f"
            ],
            [
             0.2222222222222222,
             "#7201a8"
            ],
            [
             0.3333333333333333,
             "#9c179e"
            ],
            [
             0.4444444444444444,
             "#bd3786"
            ],
            [
             0.5555555555555556,
             "#d8576b"
            ],
            [
             0.6666666666666666,
             "#ed7953"
            ],
            [
             0.7777777777777778,
             "#fb9f3a"
            ],
            [
             0.8888888888888888,
             "#fdca26"
            ],
            [
             1,
             "#f0f921"
            ]
           ],
           "sequentialminus": [
            [
             0,
             "#0d0887"
            ],
            [
             0.1111111111111111,
             "#46039f"
            ],
            [
             0.2222222222222222,
             "#7201a8"
            ],
            [
             0.3333333333333333,
             "#9c179e"
            ],
            [
             0.4444444444444444,
             "#bd3786"
            ],
            [
             0.5555555555555556,
             "#d8576b"
            ],
            [
             0.6666666666666666,
             "#ed7953"
            ],
            [
             0.7777777777777778,
             "#fb9f3a"
            ],
            [
             0.8888888888888888,
             "#fdca26"
            ],
            [
             1,
             "#f0f921"
            ]
           ]
          },
          "colorway": [
           "#636efa",
           "#EF553B",
           "#00cc96",
           "#ab63fa",
           "#FFA15A",
           "#19d3f3",
           "#FF6692",
           "#B6E880",
           "#FF97FF",
           "#FECB52"
          ],
          "font": {
           "color": "#2a3f5f"
          },
          "geo": {
           "bgcolor": "white",
           "lakecolor": "white",
           "landcolor": "#E5ECF6",
           "showlakes": true,
           "showland": true,
           "subunitcolor": "white"
          },
          "hoverlabel": {
           "align": "left"
          },
          "hovermode": "closest",
          "mapbox": {
           "style": "light"
          },
          "paper_bgcolor": "white",
          "plot_bgcolor": "#E5ECF6",
          "polar": {
           "angularaxis": {
            "gridcolor": "white",
            "linecolor": "white",
            "ticks": ""
           },
           "bgcolor": "#E5ECF6",
           "radialaxis": {
            "gridcolor": "white",
            "linecolor": "white",
            "ticks": ""
           }
          },
          "scene": {
           "xaxis": {
            "backgroundcolor": "#E5ECF6",
            "gridcolor": "white",
            "gridwidth": 2,
            "linecolor": "white",
            "showbackground": true,
            "ticks": "",
            "zerolinecolor": "white"
           },
           "yaxis": {
            "backgroundcolor": "#E5ECF6",
            "gridcolor": "white",
            "gridwidth": 2,
            "linecolor": "white",
            "showbackground": true,
            "ticks": "",
            "zerolinecolor": "white"
           },
           "zaxis": {
            "backgroundcolor": "#E5ECF6",
            "gridcolor": "white",
            "gridwidth": 2,
            "linecolor": "white",
            "showbackground": true,
            "ticks": "",
            "zerolinecolor": "white"
           }
          },
          "shapedefaults": {
           "line": {
            "color": "#2a3f5f"
           }
          },
          "ternary": {
           "aaxis": {
            "gridcolor": "white",
            "linecolor": "white",
            "ticks": ""
           },
           "baxis": {
            "gridcolor": "white",
            "linecolor": "white",
            "ticks": ""
           },
           "bgcolor": "#E5ECF6",
           "caxis": {
            "gridcolor": "white",
            "linecolor": "white",
            "ticks": ""
           }
          },
          "title": {
           "x": 0.05
          },
          "xaxis": {
           "automargin": true,
           "gridcolor": "white",
           "linecolor": "white",
           "ticks": "",
           "title": {
            "standoff": 15
           },
           "zerolinecolor": "white",
           "zerolinewidth": 2
          },
          "yaxis": {
           "automargin": true,
           "gridcolor": "white",
           "linecolor": "white",
           "ticks": "",
           "title": {
            "standoff": 15
           },
           "zerolinecolor": "white",
           "zerolinewidth": 2
          }
         }
        },
        "title": {
         "text": "APSIM & Python Predictions (interpolated hourly temp. vs real hourly temp.)"
        },
        "xaxis": {
         "anchor": "y",
         "domain": [
          0,
          1
         ],
         "tickangle": 45,
         "tickfont": {
          "size": 12
         },
         "tickmode": "array",
         "tickvals": {
          "bdata": "/gD/AAABAQECAQMBBAEFAQYBBwEIAQkBCgELAQwBDQEOAQ8BEAERARIBEwEUARUBFgEXARgBGQEaARsBHAEdAR4BHwEgASEBIgEjASQBJQE=",
          "dtype": "i2"
         },
         "title": {
          "text": "Observed BudBurst DOY"
         }
        },
        "yaxis": {
         "anchor": "x",
         "domain": [
          0,
          1
         ],
         "title": {
          "text": "Predicted BudBurst DOY"
         }
        }
       }
      }
     },
     "metadata": {},
     "output_type": "display_data"
    }
   ],
   "source": [
    "##################################################\n",
    "# If the predictions from APSIM is also available:\n",
    "apsim_bb_predictions = [267,267,285,285,263,267,267,259,259,268,268,252,270]\n",
    "\n",
    "# Fit linear regression for APSIM & Python predictions\n",
    "_, _, r_real_hourly, _, _ = linregress(observed_all, predicted_all)\n",
    "_, _, r_interpolated_hourly, _, _ = linregress(observed_all, apsim_bb_predictions)\n",
    "# Calculate R²\n",
    "r_squared_real_hourly = r_real_hourly ** 2\n",
    "r_squared_interpolated_hourly = r_interpolated_hourly ** 2\n",
    "\n",
    "\n",
    "apsim_python_comparison = pd.DataFrame({'Observed': observed_all, 'APSIM': apsim_bb_predictions, 'Python': predicted_all})\n",
    "\n",
    "fig = px.scatter(apsim_python_comparison, x=\"Observed\", y=[\"Python\",\"APSIM\"])\n",
    "# Add the 1:1 line for comparison\n",
    "fig.add_trace(go.Scatter(x=[min(all_bb_days), max(all_bb_days)], y=[min(all_bb_days), max(all_bb_days)], mode='lines', line=dict(color=\"black\", dash=\"dash\"), name=\"1:1 Line\"))  # Dashed black line\n",
    "\n",
    "\n",
    "fig.update_traces(marker=dict(size=12,\n",
    "                              line=dict(width=2,\n",
    "                                        color='DarkSlateGrey')),\n",
    "                  selector=dict(mode='markers'))\n",
    "fig.update_layout(\n",
    "    title=\"APSIM & Python Predictions (interpolated hourly temp. vs real hourly temp.)\",\n",
    "    xaxis_title=\"Observed BudBurst DOY\",\n",
    "    yaxis_title=\"Predicted BudBurst DOY\")\n",
    "fig.update_xaxes(\n",
    "            tickmode=\"array\", \n",
    "            tickvals=np.arange(observed_all.min(),observed_all.max(),1),  # Use all available dates as ticks\n",
    "            tickangle=45,\n",
    "            tickfont=dict(size=12))  # Rotate for better visibility\n",
    "\n",
    "# Update legend labels\n",
    "fig.for_each_trace(lambda t: t.update(name=f\"{t.name} (R²={r_squared_real_hourly:.3f})\") if t.name == \"Python\" else t.update(name=f\"{t.name} (R²={r_squared_interpolated_hourly:.3f})\"))\n",
    "\n",
    "\n",
    "fig.show()\n"
   ]
  },
  {
   "cell_type": "code",
   "execution_count": null,
   "metadata": {},
   "outputs": [],
   "source": []
  }
 ],
 "metadata": {
  "kernelspec": {
   "display_name": ".venv",
   "language": "python",
   "name": "python3"
  },
  "language_info": {
   "codemirror_mode": {
    "name": "ipython",
    "version": 3
   },
   "file_extension": ".py",
   "mimetype": "text/x-python",
   "name": "python",
   "nbconvert_exporter": "python",
   "pygments_lexer": "ipython3",
   "version": "3.13.2"
  }
 },
 "nbformat": 4,
 "nbformat_minor": 2
}
