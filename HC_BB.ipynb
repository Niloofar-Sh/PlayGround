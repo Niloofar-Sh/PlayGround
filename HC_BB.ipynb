{
 "cells": [
  {
   "cell_type": "code",
   "execution_count": 203,
   "id": "b8af4a71",
   "metadata": {},
   "outputs": [],
   "source": [
    "import numpy as np\n",
    "import pandas as pd\n",
    "import matplotlib.pyplot as plt\n",
    "import math\n",
    "import plotly.graph_objects as go\n",
    "import plotly.express as px\n",
    "from dotenv import load_dotenv\n",
    "import json\n",
    "from collections import defaultdict\n",
    "import importlib\n",
    "import warnings\n",
    "warnings.filterwarnings('ignore')\n",
    "import utils\n",
    "importlib.reload(utils)\n",
    "import os\n",
    "from sklearn.metrics import mean_squared_error, root_mean_squared_error, mean_absolute_error\n",
    "from scipy.optimize import differential_evolution, curve_fit\n",
    "from scipy.stats import skewnorm, norm"
   ]
  },
  {
   "cell_type": "code",
   "execution_count": 204,
   "id": "09d4f398",
   "metadata": {},
   "outputs": [],
   "source": [
    "def load_weather(weather_path, obs_year):    \n",
    "    # Load the \"Hourly\" weather data\n",
    "    \n",
    "    weather_data = pd.read_csv(weather_path)\n",
    "    # Slicing the weather data to the dates within the observation year\n",
    "    weather_data['Date'] = pd.to_datetime(weather_data['Date'], errors='coerce')\n",
    "    weather_data = weather_data[\n",
    "        (weather_data['Date'] >= pd.to_datetime(f'1/1/{obs_year}')) &\n",
    "        (weather_data['Date'] <= pd.to_datetime(f'31/12/{obs_year}'))]     \n",
    "    # Renaming the columns and add doy column         \n",
    "    weather_data = weather_data[['Date', 'Time', 'Air Temp. (°C)']].rename(columns={'Date': 'date', 'Time':'Time', 'Air Temp. (°C)':'temp'}, inplace=False)\n",
    "    weather_data.insert(1, 'doy', [d.dayofyear for d in pd.to_datetime(weather_data['date'], format=\"mixed\")])\n",
    "    # Interpolate missing values\n",
    "    # Convert '-' to NaN\n",
    "    weather_data['temp'].replace('-', np.nan, inplace=True)\n",
    "    weather_data['temp']=weather_data['temp'].apply(pd.to_numeric, errors='coerce')\n",
    "\n",
    "    # Interpolate missing values\n",
    "    if weather_data['temp'].isna().any():\n",
    "        weather_data['temp'].interpolate(method='linear', inplace=True)\n",
    "\n",
    "\n",
    "    return weather_data.reset_index(drop=True) \n"
   ]
  },
  {
   "cell_type": "code",
   "execution_count": 209,
   "id": "5d704fb9",
   "metadata": {},
   "outputs": [],
   "source": [
    "# Load datasets for observations\n",
    "def load_observations(file_path,BB_sheet_name, Flwr_sheet_name, cultivar_col,cultivar_name,treatment_col,treatment_name,location, excel_observs_BB, excel_observs_Flwr, spray_col_name):\n",
    "    \n",
    "    # Define the expected column names for the final concatenated DataFrame\n",
    "    TREATMENT = \"Treatment\"\n",
    "    LOCATION = \"Location\"\n",
    "    xls = pd.ExcelFile(file_path, engine=\"openpyxl\")\n",
    "    raw_df_BB = pd.read_excel(xls, sheet_name = BB_sheet_name)\n",
    "    raw_df_Flwr = pd.read_excel(xls, sheet_name = Flwr_sheet_name)\n",
    "\n",
    "    # Rename the Dates to Days of Year (DOY)\n",
    "    doy_column_BB = [pd.to_datetime(col).dayofyear for col in raw_df_BB.columns if utils.is_date_column(col)]\n",
    "    df_BB = raw_df_BB.rename(columns={col:pd.to_datetime(col).dayofyear for col in raw_df_BB.columns if utils.is_date_column(col)})\n",
    "\n",
    "    doy_column_Flwr = [pd.to_datetime(col).dayofyear for col in raw_df_Flwr.columns if utils.is_date_column(col)]\n",
    "    df_Flwr = raw_df_Flwr.rename(columns={col:pd.to_datetime(col).dayofyear for col in raw_df_Flwr.columns if utils.is_date_column(col)})\n",
    "\n",
    "    obs_year = [pd.to_datetime(col).year for col in raw_df_BB.columns if utils.is_date_column(col)][0]\n",
    "\n",
    "\n",
    "    # Apply filtering for the given cultivar & treatments\n",
    "    def filter_df(df, doy_column, spray_col_name):\n",
    "        filtered_df = df[df[cultivar_col].isin([cultivar_name]) & df[treatment_col].isin([treatment_name])]\n",
    "        # Rename columns\n",
    "        columns_to_select = [treatment_col] + [spray_col_name] + doy_column \n",
    "        filtered_df = filtered_df[columns_to_select]\n",
    "        filtered_df.rename(columns={treatment_col: TREATMENT}, inplace=True)\n",
    "        # Add the LOCATION column to the DataFrame\n",
    "        filtered_df[LOCATION] = location\n",
    "        # Remove rows with any NaN values\n",
    "        filtered_df = filtered_df.dropna()\n",
    "        # Reset index \n",
    "        filtered_df.reset_index(drop=True)\n",
    "        return filtered_df\n",
    "    filtered_df_BB = filter_df(df_BB,doy_column_BB, spray_col_name)\n",
    "\n",
    "    filtered_df_Flwr = filter_df(df_Flwr,doy_column_Flwr, spray_col_name)\n",
    "\n",
    "    # Spray date(s)\n",
    "    application_dates = filtered_df_BB[spray_col_name].unique()\n",
    "\n",
    "    BudBurstDOYs = []\n",
    "    FlwrDOYs = []\n",
    "    for spray_date in application_dates:\n",
    "        # find the budburst doy for each application date\n",
    "        filtered_df_BB_spray = filtered_df_BB[filtered_df_BB[spray_col_name].isin([spray_date])]\n",
    "        BB_percent = False\n",
    "        PBB, BB, BudBurstDOY, max_observed_buds = utils.BB_specifications(location,filtered_df_BB_spray[doy_column_BB],BB_percent)\n",
    "        BudBurstDOYs.append(int(BudBurstDOY))\n",
    "        maxBBPsequence = np.empty(len(doy_column_BB))*np.nan\n",
    "        maxBBPsequence[-1] = np.max(PBB)\n",
    "\n",
    "        # Corresponding stage name (StartFlowering) to get the max BBP \n",
    "        MaxBBPstageSequence = [np.nan for i in range(len(doy_column_BB))]\n",
    "        MaxBBPstageSequence[-1] = 'StartFlowering'\n",
    "\n",
    "\n",
    "        # Generate the observations Excel file for Budbreak\n",
    "        excel_observ_BB = pd.DataFrame(data={\n",
    "        'SimulationName': f'{BB_sheet_name}{filtered_df_BB_spray[TREATMENT].iloc[0].replace(\" \", \"\")}{pd.to_datetime(spray_date).day_of_year}', \n",
    "                                            'Clock.Today': [col for col in raw_df_BB.columns if utils.is_date_column(col)],\n",
    "                                            'Clock.Today.Year': obs_year,\n",
    "                                            'DOY': doy_column_BB, \n",
    "                                            LOCATION: filtered_df_BB_spray[LOCATION].iloc[0], \n",
    "                                            TREATMENT: filtered_df_BB_spray[TREATMENT].iloc[0],\n",
    "                                            'KiwiFruit.Phenology.BrokenBuds': BB,\n",
    "                                            'KiwiFruit.Phenology.ProportionBB': PBB,\n",
    "                                            'KiwiFruit.Phenology.BudBurstDOY': BudBurstDOY,\n",
    "                                            'KiwiFruit.Phenology.MaxBBP': maxBBPsequence,\n",
    "                                            'KiwiFruit.Phenology.CurrentStageName': MaxBBPstageSequence})\n",
    "        \n",
    "        FlwrDOY, Flowers = utils.Flwr_specifications(np.max(BB),filtered_df_Flwr[doy_column_Flwr])\n",
    "        FlwrDOYs.append(int(FlwrDOY))\n",
    "        maxFlwrsequence = np.empty(len(doy_column_Flwr))*np.nan\n",
    "        maxFlwrsequence[-1] = FlwrDOY\n",
    "\n",
    "        # Corresponding stage name (StartFlowering) to get the max BBP \n",
    "        MaxFlwrstageSequence = [np.nan for i in range(len(doy_column_Flwr))]\n",
    "        MaxFlwrstageSequence[-1] = 'StartFlowering'\n",
    "\n",
    "        # Generate the observations Excel file for Flowering\n",
    "        excel_observ_Flwr = pd.DataFrame(data={\n",
    "        'SimulationName': f'{BB_sheet_name}{filtered_df_BB[TREATMENT].iloc[0].replace(\" \", \"\")}{pd.to_datetime(spray_date).day_of_year}',  # Use same BB sheet name to be able to put in same apsim simulation\n",
    "                                            'Clock.Today': [col for col in raw_df_Flwr.columns if utils.is_date_column(col)],\n",
    "                                            'Clock.Today.Year': obs_year,\n",
    "                                            'DOY': doy_column_Flwr, \n",
    "                                            LOCATION: filtered_df_Flwr[LOCATION].iloc[0], \n",
    "                                            TREATMENT: filtered_df_Flwr[TREATMENT].iloc[0],\n",
    "                                            'KiwiFruit.Phenology.Flowers': Flowers,\n",
    "                                            'KiwiFruit.Phenology.FloweringDOY': FlwrDOY,\n",
    "                                            'KiwiFruit.Phenology.CurrentStageName': MaxFlwrstageSequence})\n",
    "        \n",
    "        excel_observs_BB.append(excel_observ_BB)\n",
    "        excel_observs_Flwr.append(excel_observ_Flwr)\n",
    "\n",
    "    return obs_year, application_dates, PBB, BB, BudBurstDOYs, FlwrDOYs, excel_observs_BB, excel_observs_Flwr\n",
    "    \n"
   ]
  },
  {
   "cell_type": "code",
   "execution_count": 380,
   "id": "4dba0dc4",
   "metadata": {},
   "outputs": [],
   "source": [
    "with open(\"config_MultiDataFiles_HC.json\", \"r\") as file:\n",
    "    config = json.load(file)\n",
    "base_model_config = utils.base_model_config()\n",
    "start_doy = pd.to_datetime(base_model_config[\"StartDay\"]).dayofyear\n",
    "\n",
    "predicted_endo_release_doy = defaultdict(lambda: defaultdict(lambda: dict()))\n",
    "predicted_budbreak_doy = defaultdict(lambda: defaultdict(lambda: dict()))\n",
    "observed_budbreak_doy = defaultdict(lambda: defaultdict(lambda: dict()))\n",
    "predicted_flowering_doy = defaultdict(lambda: defaultdict(lambda: dict()))\n",
    "observed_flowering_doy = defaultdict(lambda: defaultdict(lambda: dict()))\n",
    "observed_application_doy = defaultdict(lambda: defaultdict(lambda: dict()))\n",
    "weather_df = defaultdict(lambda: defaultdict(lambda: dict()))\n",
    "excel_observs_BB = []\n",
    "excel_observs_Flwr = []\n",
    "output_excel = 'HC_Observations.xlsx'\n",
    "\n",
    "# Load environment variables\n",
    "load_dotenv()\n",
    "FOLDER_PATH = os.getenv('FOLDER_PATH')\n",
    "for file_name, file_info in config.items():\n",
    "        file_path = os.path.join(FOLDER_PATH, file_name)\n",
    "        # Process each sheet\n",
    "        for sheet_info in file_info['sheets']:\n",
    "            # Extract sheet names, cultivars, and treatments\n",
    "            BB_sheet_name = sheet_info['BB_sheet_name']\n",
    "            Flwr_sheet_name = sheet_info['Flwr_sheet_name']\n",
    "            location = sheet_info['location']\n",
    "            spray_col_name = sheet_info['spray']\n",
    "            cultivar_col, cultivar_name = list(sheet_info['cultivar'].items())[0]\n",
    "            treatment_col, treatment_name = list(sheet_info['treatments'].items())[0]\n",
    "\n",
    "            # Load and calculate the observed budburst doy\n",
    "            obs_year, application_dates, PBB, BB, BudBurstDOYs, Flwr_DOYs, excel_observs_BB, excel_observs_Flwr  = load_observations(file_path,BB_sheet_name, Flwr_sheet_name, cultivar_col,cultivar_name,treatment_col,treatment_name,location,excel_observs_BB, excel_observs_Flwr,spray_col_name)\n",
    "            for spray_date,BudBurstDOY,Flwr_DOY in zip(application_dates,BudBurstDOYs,Flwr_DOYs):\n",
    "                observed_budbreak_doy[location][obs_year][BB_sheet_name+treatment_name+str(pd.to_datetime(spray_date).dayofyear)] = BudBurstDOY\n",
    "                observed_flowering_doy[location][obs_year][BB_sheet_name+treatment_name+str(pd.to_datetime(spray_date).dayofyear)] = Flwr_DOY\n",
    "                observed_application_doy[location][obs_year][BB_sheet_name+treatment_name+str(pd.to_datetime(spray_date).dayofyear)] = pd.to_datetime(spray_date).dayofyear\n",
    "\n",
    "                # Load and store the weather data\n",
    "                weather_path = sheet_info['weather_path']\n",
    "                weather_data = load_weather(weather_path, obs_year)\n",
    "                weather_df[location][obs_year][BB_sheet_name+treatment_name+str(pd.to_datetime(spray_date).dayofyear)] = weather_data\n",
    "\n",
    "\n",
    "excel_observs_BB_df = pd.concat(excel_observs_BB, ignore_index=True, sort=False)\n",
    "excel_observs_Flwr_df = pd.concat(excel_observs_Flwr, ignore_index=True, sort=False)\n",
    "\n",
    "with pd.ExcelWriter(output_excel, engine='openpyxl') as writer:\n",
    "    excel_observs_BB_df.to_excel(writer, sheet_name='BB-HC', index=False)\n",
    "    excel_observs_Flwr_df.to_excel(writer, sheet_name='Flwr-HC', index=False)"
   ]
  },
  {
   "cell_type": "code",
   "execution_count": 381,
   "id": "0e82211d",
   "metadata": {},
   "outputs": [],
   "source": [
    "def Chill(Tc, T):\n",
    "    if T>=0 and T <= Tc:\n",
    "        return (((4*T)/(Tc**2))*(Tc-T))\n",
    "    else:\n",
    "        return 0\n",
    "    \n",
    "def Wangengel(MinTemp,OptTemp,MaxTemp,RefTemp,T):\n",
    "    RelEff = 0.0\n",
    "    RelEffRefTemp = 1.0\n",
    "    p = 0.0\n",
    "\n",
    "    if MinTemp < T < MaxTemp:\n",
    "        p = math.log(2.0) / math.log((MaxTemp - MinTemp) / (OptTemp - MinTemp))\n",
    "        RelEff = (2 * (T - MinTemp) ** p * (OptTemp - MinTemp) ** p - (T - MinTemp) ** (2 * p)) / (OptTemp - MinTemp) ** (2 * p)\n",
    "\n",
    "    if MinTemp < RefTemp < MaxTemp:\n",
    "        p = math.log(2.0) / math.log((MaxTemp - MinTemp) / (OptTemp - MinTemp))\n",
    "        RelEffRefTemp = (2 * (RefTemp - MinTemp) ** p * (OptTemp - MinTemp) ** p - (RefTemp - MinTemp) ** (2 * p)) / (OptTemp - MinTemp) ** (2 * p)\n",
    "\n",
    "    return float(RelEff / RelEffRefTemp)\n",
    "\n",
    "# Budbreak prediction \n",
    "def budbreak_prediction(weather_since_start_doy, chill_target, heat_target):\n",
    "    chillVal = 0\n",
    "    for idx_endodormancy_release, temp in enumerate(weather_since_start_doy['temp']):\n",
    "        chillVal += Chill( base_model_config['Tc_chill'], temp)\n",
    "        if chillVal >= chill_target:\n",
    "            break\n",
    "\n",
    "    # Heat accumulation\n",
    "    # from the date of endodormancy release, start accumulating heat\n",
    "    heatVal = 0\n",
    "    for idx_bb, temp in enumerate(weather_since_start_doy['temp'][idx_endodormancy_release+1:]):\n",
    "        heatVal += Wangengel(base_model_config[\"MinTemp_BB\"], base_model_config[\"OptTemp_BB\"],base_model_config[\"MaxTemp_BB\"], base_model_config[\"RefTemp_BB\"],temp)\n",
    "        if heatVal >= heat_target:\n",
    "            predicted_doy = int(weather_since_start_doy['doy'].iloc[idx_endodormancy_release + idx_bb + 1])\n",
    "            break\n",
    "    return predicted_doy\n",
    "\n",
    "def logistic_scaling(app_units, ideal_units,max_effect_low, max_effect_high, steepness):\n",
    "    distance = app_units - ideal_units\n",
    "    scale = 1 / (1 + np.exp(-steepness * distance))\n",
    "    max_effect = max_effect_low + scale * (max_effect_high - max_effect_low)\n",
    "    return max_effect\n",
    "\n",
    "def linear_scaling(app_units, ideal_units, max_effect_high, max_effect_low,  tolerance):\n",
    "    # Linear scaling of max_effect depending on distance from ideal_doy\n",
    "    distance = abs(app_units - ideal_units)\n",
    "    scale = min(distance / tolerance, 1)  # cap at 1 to avoid over-scaling\n",
    "    max_effect = max_effect_low + scale * (max_effect_high - max_effect_low)\n",
    "    return max_effect\n",
    "\n",
    "def quadratic_scaling(app_units, ideal_units, max_effect_high, max_effect_low,  tolerance):\n",
    "    # Linear scaling of max_effect depending on distance from ideal_doy\n",
    "    distance = abs(app_units - ideal_units)\n",
    "    scale = min(distance / tolerance, 1) ** 2 # cap at 1 to avoid over-scaling\n",
    "    max_effect = max_effect_low + scale * (max_effect_high - max_effect_low)\n",
    "    return max_effect\n",
    "\n",
    "def hi_cane_effective_chill_target(ideal_units, max_effect, tolerance, app_units, base_chill_target):\n",
    "    \"\"\"\n",
    "    Adjusts effective chill target based on timing of Hi-Cane application and \n",
    "    a linearly scaled max effect that varies with application units (app_units) relative to ideal window.\n",
    "    \n",
    "    Parameters:\n",
    "    - ideal_units: target accumulated units where Hi-Cane is most effective\n",
    "    - max_effect_high: effect when applied far from ideal (e.g. early/late)\n",
    "    - max_effect_low: effect when applied near the ideal time\n",
    "    - tolerance: spread of the Gaussian curve\n",
    "    - app_units: accumulated chill units at application\n",
    "    - base_chill_target: baseline chill requirement without Hi-Cane\n",
    "        \n",
    "    Returns:\n",
    "        adjusted chill target based on application timing\n",
    "    \"\"\"\n",
    "    Gaussian = max_effect * np.exp(-0.5 * ((app_units - ideal_units) / tolerance) ** 2)\n",
    "\n",
    "    # linear scaling:\n",
    "    # max_effect = quadratic_scaling(app_units, ideal_units, max_effect_high, max_effect_low, tolerance)\n",
    "\n",
    "    effect = 1 - Gaussian\n",
    "\n",
    "    effective_chill_target = base_chill_target * effect\n",
    "\n",
    "    return effective_chill_target\n",
    "\n",
    "def hi_cane_effective_heat_target(ideal_units, max_effect, steepness, app_units, base_heat_target):\n",
    "    Logistic = -max_effect/(1 + np.exp(-steepness*(app_units - ideal_units)))\n",
    "\n",
    "    effect = 1 - Logistic\n",
    "\n",
    "    effective_heat_target = base_heat_target * effect\n",
    "\n",
    "    return effective_heat_target\n",
    "\n",
    "def skewed_gaussian_effect(Acc_unit_spray, max_effect, center, width, skew, base_chill_target):\n",
    "    skewed_Guassian =  skewnorm.pdf(Acc_unit_spray - center, a=skew, scale=width) \n",
    "    effect = 1 - max_effect * skewed_Guassian\n",
    "    effective_chill_target = base_chill_target * effect\n",
    "\n",
    "    return effective_chill_target\n"
   ]
  },
  {
   "cell_type": "markdown",
   "id": "a12539b5",
   "metadata": {},
   "source": [
    "# Calculate Acc. Chill units on Spray Date"
   ]
  },
  {
   "cell_type": "code",
   "execution_count": 382,
   "id": "301b140e",
   "metadata": {},
   "outputs": [],
   "source": [
    "CHU_spray = defaultdict(lambda: defaultdict(lambda: dict()))\n",
    "CHU_observation = defaultdict(lambda: defaultdict(lambda: dict()))\n",
    "\n",
    "\n",
    "start_day = int(round(pd.to_datetime(utils.base_model_config()['StartDay']).day_of_year))\n",
    "\n",
    "for location in observed_application_doy.keys():\n",
    "    for year in observed_application_doy[location].keys():\n",
    "        for sheet_info, weather_data in weather_df[location][year].items():\n",
    "            application_doy = observed_application_doy[location][year][sheet_info]\n",
    "            observation_doy = observed_budbreak_doy[location][year][sheet_info]\n",
    "            weather_since_start_doy = weather_data[weather_data['doy']>=start_day].reset_index(drop=True)  \n",
    "            \n",
    "            # Chill & heat accumulation on Spray Date\n",
    "            chillVal = 0\n",
    "            heatVal = 0\n",
    "            for idx_endodormancy_release, temp in enumerate(weather_since_start_doy['temp']):\n",
    "                chillVal += Chill( base_model_config['Tc_chill'], temp)\n",
    "                if (weather_since_start_doy['doy'].iloc[idx_endodormancy_release] == application_doy and chillVal < base_model_config['ChillRequirement']):\n",
    "                    CHU_spray[location][year][sheet_info] = chillVal    \n",
    "                    break \n",
    "                elif (weather_since_start_doy['doy'].iloc[idx_endodormancy_release] < application_doy and chillVal >= base_model_config['ChillRequirement']):\n",
    "                    break \n",
    "            # if (weather_since_start_doy['doy'].iloc[idx_endodormancy_release] < application_doy and chillVal >= base_model_config['ChillRequirement']):\n",
    "            for idx_bb, temp in enumerate(weather_since_start_doy['temp'][idx_endodormancy_release+1:]):\n",
    "                heatVal += Wangengel(base_model_config[\"MinTemp_BB\"], base_model_config[\"OptTemp_BB\"],base_model_config[\"MaxTemp_BB\"], base_model_config[\"RefTemp_BB\"],temp)                       \n",
    "                if weather_since_start_doy['doy'].iloc[idx_bb+idx_endodormancy_release+1] == application_doy: # count all the heat units even if it's over the heat target (to account for even after BB spraying)                       \n",
    "                    CHU_spray[location][year][sheet_info] = chillVal + heatVal\n",
    "                    break \n",
    "\n",
    "            # print(CHU_spray[location][year][sheet_info])\n",
    "            # Chill & heat accumulation on Observation Date\n",
    "            chillVal = 0\n",
    "            heatVal = 0\n",
    "            for idx_endodormancy_release, temp in enumerate(weather_since_start_doy['temp']):\n",
    "                    chillVal += Chill( base_model_config['Tc_chill'], temp)\n",
    "                    if (weather_since_start_doy['doy'].iloc[idx_endodormancy_release] == observation_doy and chillVal < base_model_config['ChillRequirement']):\n",
    "                        CHU_observation[location][year][sheet_info] = chillVal    \n",
    "                        break \n",
    "                    elif (weather_since_start_doy['doy'].iloc[idx_endodormancy_release] < observation_doy and chillVal >= base_model_config['ChillRequirement']):\n",
    "                        break \n",
    "            # if (weather_since_start_doy['doy'].iloc[idx_endodormancy_release] < observation_doy and chillVal >= base_model_config['ChillRequirement']):\n",
    "            for idx_bb, temp in enumerate(weather_since_start_doy['temp'][idx_endodormancy_release+1:]):\n",
    "                heatVal += Wangengel(base_model_config[\"MinTemp_BB\"], base_model_config[\"OptTemp_BB\"],base_model_config[\"MaxTemp_BB\"], base_model_config[\"RefTemp_BB\"],temp)                       \n",
    "                if weather_since_start_doy['doy'].iloc[idx_bb+idx_endodormancy_release+1] == observation_doy: # count all the heat units even if it's over the heat target (to account for even after BB spraying)                       \n",
    "                    CHU_observation[location][year][sheet_info] = chillVal + heatVal\n",
    "                    break \n",
    "            # print(CHU_observation[location][year][sheet_info])\n"
   ]
  },
  {
   "cell_type": "code",
   "execution_count": 383,
   "id": "4c82d3b3",
   "metadata": {},
   "outputs": [],
   "source": [
    "observations = []\n",
    "predictions = []\n",
    "spray_doys = []\n",
    "chu_obs = []\n",
    "chu_spray = []\n",
    "natural = []\n",
    "\n",
    "for loc in observed_budbreak_doy.keys():\n",
    "     for year in observed_budbreak_doy[loc].keys():\n",
    "            for sheet_info in observed_budbreak_doy[loc][year]:\n",
    "                observed_bb = observed_budbreak_doy[loc][year][sheet_info]\n",
    "                observations.append(observed_bb)\n",
    "                # predicted_bb = predicted_budbreak_doy[loc][year][sheet_info]\n",
    "                # predictions.append(predicted_bb)\n",
    "\n",
    "                spray_doys.append(observed_application_doy[loc][year][sheet_info])\n",
    "                chu_obs.append(CHU_observation[loc][year][sheet_info])\n",
    "                chu_spray.append(CHU_spray[loc][year][sheet_info])\n",
    "                # natural.append(natural_budbreak_doy[loc][year][sheet_info])\n",
    "\n",
    "\n",
    "# mae = utils.mean_absolute_error(observations,predictions)\n",
    "# plt.scatter(x=observations,y=predictions)\n",
    "# plt.plot(np.arange(240,290,1), np.arange(240,290,1), 'k--')\n",
    "# plt.xlabel('Observed BB DOY')\n",
    "# plt.ylabel('Predicted BB DOY')\n",
    "# plt.title(f'MAE = {round(mae,2)}')\n",
    "# plt.grid()\n"
   ]
  },
  {
   "cell_type": "markdown",
   "id": "271b3be4",
   "metadata": {},
   "source": [
    "# Gaussian + Logistic"
   ]
  },
  {
   "cell_type": "code",
   "execution_count": null,
   "id": "872ca216",
   "metadata": {},
   "outputs": [],
   "source": [
    "CU_eco_start = 1689.30\n",
    "normal_budbreak = 1689.30 + 101.29\n",
    "def hi_cane_combined_model(CU, CU_opt, A, sigma, B, k):\n",
    "    \"\"\"\n",
    "    Combined Hi-Cane response:\n",
    "    - Gaussian (positive) during endodormancy\n",
    "    - Logistic (negative) during ecodormancy\n",
    "    \"\"\"\n",
    "    CU = np.array(CU)\n",
    "    \n",
    "    gaussian = A * np.exp(-((CU - CU_opt) ** 2) / (2 * sigma ** 2))\n",
    "    logistic = -B / (1 + np.exp(-k * (CU - CU_eco_start)))\n",
    "\n",
    "    \n",
    "    # Only apply logistic penalty after eco-dormancy begins\n",
    "    effect =  np.where(CU <= CU_eco_start, gaussian, gaussian+logistic)\n",
    "    \n",
    "    return effect\n",
    "\n",
    "\n",
    "\n",
    "# Filter data to remove post endo-dormancy HC applications\n",
    "chu_spray = np.array(chu_spray)\n",
    "chu_obs = np.array(chu_obs)\n",
    "filter_post_endo = (chu_spray <= CU_eco_start) & (chu_obs < normal_budbreak)\n",
    "\n",
    "x = chu_spray[filter_post_endo]\n",
    "y = np.array(normal_budbreak)-chu_obs[filter_post_endo]\n",
    "\n",
    "# Initial guess: [CU_opt, A, sigma]\n",
    "p0 = [1300, 170, 100]\n",
    "\n",
    "# Parameter bounds to help constrain and ensure both phases get fit\n",
    "bounds = (\n",
    "    [1200, 50, 50],  # Lower bounds\n",
    "    [1400, 200, 200]  # Upper bounds\n",
    ")\n",
    "\n",
    "# Fit the model\n",
    "popt, _ = curve_fit(hi_cane_combined_model, x, y, p0=p0, bounds=bounds, maxfev=10000)\n",
    "\n",
    "# Generate fit curve\n",
    "x_fit = np.linspace(min(x)-50, max(x)+50, 300)\n",
    "y_fit = hi_cane_combined_model(x_fit, *popt)\n",
    "\n",
    "# Plot results\n",
    "plt.figure(figsize=(15, 10))\n",
    "plt.scatter(x, y, label=\"Observed\", color=\"blue\")\n",
    "plt.plot(x_fit, y_fit, label=\"Fitted Model\", color=\"darkred\", linewidth=2)\n",
    "plt.axvline(CU_eco_start, linestyle='--', color='m', label=\"Ecodormancy start\")\n",
    "plt.axvline(normal_budbreak, linestyle='--', color='green', label=\"Normal budbreak\")\n",
    "plt.axhline(0, linestyle='--', color='gray')\n",
    "plt.xlabel(\"Chill Units at Spray\")\n",
    "plt.ylabel(\"Hi-Cane Effectiveness\")\n",
    "plt.title(\"Hi-Cane Effect Model (Gaussian)\")\n",
    "plt.legend()\n",
    "plt.grid(True)\n",
    "plt.tight_layout()\n",
    "plt.show()\n",
    "\n",
    "# Print fitted parameter values\n",
    "param_names = [\"CU_opt\", \"A\", \"sigma\"]\n",
    "for name, val in zip(param_names, popt):\n",
    "    print(f\"{name}: {val:.2f}\")\n",
    "\n"
   ]
  },
  {
   "cell_type": "markdown",
   "id": "7bc39837",
   "metadata": {},
   "source": [
    "# Skewed Gaussian (Chill-oriented)"
   ]
  },
  {
   "cell_type": "code",
   "execution_count": null,
   "id": "b2613f51",
   "metadata": {},
   "outputs": [],
   "source": [
    "chill_requirement = 1689.30\n",
    "heat_requirement = 101.29\n",
    "normal_budbreak = chill_requirement + heat_requirement\n",
    "\n",
    "def skewed_gaussian(x, mu, A, sigma, alpha):\n",
    "    \"\"\"\n",
    "    Skewed Gaussian: combines a normal PDF and CDF\n",
    "    \"\"\"\n",
    "    norm_pdf = norm.pdf((x - mu) / sigma)\n",
    "    norm_cdf = norm.cdf(alpha * (x - mu) / sigma)\n",
    "    return A * 2 * norm_pdf * norm_cdf\n",
    "\n",
    "\n",
    "# Filter data to remove post endo-dormancy HC applications\n",
    "filter_post_endo = (chu_spray <= chill_requirement)\n",
    "\n",
    "chu_spray = np.array(chu_spray)\n",
    "\n",
    "chu_obs = np.array(chu_obs)\n",
    "\n",
    "x = chu_spray[filter_post_endo]\n",
    "y = (np.array(chill_requirement)-(chu_obs[filter_post_endo]-heat_requirement))/chill_requirement\n",
    "\n",
    "# Initial guess: [mu, A, sigma, alpha]\n",
    "p0 = [1300, 0.2, 100, 5]\n",
    "\n",
    "# Parameter bounds to help constrain and ensure both phases get fit\n",
    "bounds = (\n",
    "    [1000, 0.13, 50, 0],  # Lower bounds\n",
    "    [1400, 0.5, 300, 20]  # Upper bounds\n",
    ")\n",
    "\n",
    "# Fit the model\n",
    "popt, _ = curve_fit(skewed_gaussian, x, y, p0=p0, bounds=bounds, maxfev=10000)\n",
    "\n",
    "# Generate fit curve\n",
    "x_fit = np.linspace(min(x)-300, max(x)+200, 300)\n",
    "y_fit = skewed_gaussian(x_fit, *popt)\n",
    "\n",
    "# Plot results\n",
    "plt.figure(figsize=(15, 10))\n",
    "plt.scatter(x, y, label=\"Observed\", color=\"blue\")\n",
    "plt.plot(x_fit, y_fit, label=\"Fitted Model\", color=\"darkred\", linewidth=2)\n",
    "plt.axvline(chill_requirement, linestyle='--', color='m', label=\"Ecodormancy start\")\n",
    "plt.axvline(normal_budbreak, linestyle='--', color='green', label=\"Normal budbreak\")\n",
    "plt.axvline(1383, linestyle='--', color='c', label=\"HWBBRawTP2021HiCane214\")\n",
    "plt.axhline(0, linestyle='--', color='gray')\n",
    "plt.xlabel(\"Chill Units at Spray\")\n",
    "plt.ylabel(\"Hi-Cane Effectiveness\")\n",
    "plt.title(\"Hi-Cane Effect Model (Skewed Gaussian)\")\n",
    "bbox = dict(boxstyle=\"round\", fc=\"0.8\")\n",
    "plt.annotate(\n",
    "    f'max = ({x_fit[np.argmax(y_fit)]:.0f}, {np.max(y_fit):.2f})',\n",
    "    xy=(popt[0]-70, np.max(y_fit)), \n",
    "    bbox=bbox)\n",
    "plt.legend()\n",
    "plt.grid(True)\n",
    "plt.tight_layout()\n",
    "plt.show()\n",
    "\n",
    "# Print fitted parameter values\n",
    "param_names = [\"mu\", \"A\", \"sigma\", \"alpha\"]\n",
    "for name, val in zip(param_names, popt):\n",
    "    print(f\"{name}: {val:.2f}\")\n",
    "\n"
   ]
  },
  {
   "cell_type": "markdown",
   "id": "4aa0f582",
   "metadata": {},
   "source": [
    "# Skewed Gaussian (Chill+Heat)"
   ]
  },
  {
   "cell_type": "code",
   "execution_count": null,
   "id": "a1a19e69",
   "metadata": {},
   "outputs": [],
   "source": [
    "chill_requirement = 1689.30\n",
    "heat_requirement = 101.29\n",
    "normal_budbreak = chill_requirement + heat_requirement\n",
    "\n",
    "def skewed_gaussian(x, mu, A, sigma, alpha):\n",
    "    \"\"\"\n",
    "    Skewed Gaussian: combines a normal PDF and CDF\n",
    "    \"\"\"\n",
    "    norm_pdf = norm.pdf((x - mu) / sigma)\n",
    "    norm_cdf = norm.cdf(alpha * (x - mu) / sigma)\n",
    "    return A * 2 * norm_pdf * norm_cdf\n",
    "\n",
    "\n",
    "# Filter data to remove post endo-dormancy HC applications\n",
    "filter_post_endo = (chu_spray <= chill_requirement)\n",
    "\n",
    "chu_spray = np.array(chu_spray)\n",
    "\n",
    "chu_obs = np.array(chu_obs)\n",
    "\n",
    "x = chu_spray[filter_post_endo]\n",
    "y = (np.array(normal_budbreak)-(chu_obs[filter_post_endo]))/normal_budbreak\n",
    "\n",
    "# Initial guess: [mu, A, sigma, alpha]\n",
    "p0 = [1300, 0.2, 100, 5]\n",
    "\n",
    "# Parameter bounds to help constrain and ensure both phases get fit\n",
    "bounds = (\n",
    "    [900, 0.13, 50, 0],  # Lower bounds\n",
    "    [1400, 0.5, 300, 20]  # Upper bounds\n",
    ")\n",
    "\n",
    "# Fit the model\n",
    "popt, _ = curve_fit(skewed_gaussian, x, y, p0=p0, bounds=bounds, maxfev=10000)\n",
    "\n",
    "# Generate fit curve\n",
    "x_fit = np.linspace(min(x)-700, max(x)+200, 300)\n",
    "y_fit = skewed_gaussian(x_fit, *popt)\n",
    "\n",
    "# Plot results\n",
    "plt.figure(figsize=(15, 10))\n",
    "plt.scatter(x, y, label=\"Observed\", color=\"blue\")\n",
    "plt.plot(x_fit, y_fit, label=\"Fitted Model\", color=\"darkred\", linewidth=2)\n",
    "plt.axvline(chill_requirement, linestyle='--', color='m', label=\"Ecodormancy start\")\n",
    "plt.axvline(normal_budbreak, linestyle='--', color='green', label=\"Normal budbreak\")\n",
    "plt.axvline(1383, linestyle='--', color='c', label=\"HWBBRawTP2021HiCane214\")\n",
    "plt.axhline(0, linestyle='--', color='gray')\n",
    "plt.xlabel(\"Chill Units at Spray\")\n",
    "plt.ylabel(\"Hi-Cane Effectiveness\")\n",
    "plt.title(\"Hi-Cane Effect Model (Skewed Gaussian)\")\n",
    "bbox = dict(boxstyle=\"round\", fc=\"0.8\")\n",
    "plt.annotate(\n",
    "    f'max = ({x_fit[np.argmax(y_fit)]:.0f}, {np.max(y_fit):.2f})',\n",
    "    xy=(popt[0]-70, np.max(y_fit)), \n",
    "    bbox=bbox)\n",
    "plt.legend()\n",
    "plt.grid(True)\n",
    "plt.tight_layout()\n",
    "plt.show()\n",
    "\n",
    "# Print fitted parameter values\n",
    "param_names = [\"mu\", \"A\", \"sigma\", \"alpha\"]\n",
    "for name, val in zip(param_names, popt):\n",
    "    print(f\"{name}: {val:.2f}\")\n",
    "\n"
   ]
  },
  {
   "cell_type": "code",
   "execution_count": 201,
   "id": "a58ccabe",
   "metadata": {},
   "outputs": [],
   "source": [
    "locations = ['Te Puke', 'Kerikeri']\n",
    "chill_start_day = pd.to_datetime(utils.base_model_config()['StartDay']).day_of_year \n",
    "ideal_units_gaussian = popt[0]\n",
    "max_effect_gaussian = popt[1]\n",
    "tolerance_gaussian = popt[2]\n",
    "skew_gaussian = popt[3]\n",
    "\n",
    "predicted_budbreak_doy = defaultdict(lambda: defaultdict(lambda: defaultdict()))\n",
    "natural_budbreak_doy = defaultdict(lambda: defaultdict(lambda: defaultdict()))\n",
    "\n",
    "for i, location in enumerate(locations):\n",
    "    start_day = int(round(chill_start_day))\n",
    "    for year, sheet_info in weather_df[location].items(): \n",
    "        for sheet_info, weather_data in weather_df[location][year].items():\n",
    "            weather_since_start_doy = weather_data[weather_data['doy']>=start_day].reset_index(drop=True)  \n",
    "            \n",
    "            Acc_unit_spray = CHU_spray[location][year][sheet_info]\n",
    "\n",
    "            effective_budbreak_target = 1 - skewed_gaussian(Acc_unit_spray, ideal_units_gaussian, max_effect_gaussian,tolerance_gaussian,skew_gaussian)\n",
    "            effective_chill_target = base_model_config['ChillRequirement'] * effective_budbreak_target*1.02\n",
    "            effective_heat_target = base_model_config['HeatRequirement'] * effective_budbreak_target*0.61\n",
    "            \n",
    "            \n",
    "            predicted_doy = budbreak_prediction(weather_since_start_doy, effective_chill_target, effective_heat_target)\n",
    "            natural_budbreak = budbreak_prediction(weather_since_start_doy, base_model_config['ChillRequirement'], base_model_config['HeatRequirement'])\n",
    "\n",
    "\n",
    "\n",
    "            predicted_budbreak_doy[location][year][sheet_info] = predicted_doy\n",
    "            natural_budbreak_doy[location][year][sheet_info] = natural_budbreak\n",
    "            "
   ]
  },
  {
   "cell_type": "code",
   "execution_count": null,
   "id": "bea453a8",
   "metadata": {},
   "outputs": [],
   "source": [
    "def observ_predict_plot(predicted_budbreak_doy, observed_budbreak_doy, CHU_spray, natural_budbreak_doy, regression_xy=False):\n",
    "    fig = go.Figure()\n",
    "\n",
    "    observations = []\n",
    "    predictions = []\n",
    "    all_bb_days = []\n",
    "    for loc in observed_budbreak_doy.keys():\n",
    "        for year in observed_budbreak_doy[loc].keys():\n",
    "            for sheet_info in observed_budbreak_doy[loc][year]:\n",
    "                Acc_unit_spray = CHU_spray[loc][year][sheet_info]\n",
    "                observed_bb = observed_budbreak_doy[loc][year][sheet_info]\n",
    "                predicted_bb = predicted_budbreak_doy[loc][year][sheet_info]\n",
    "                natural_bb = natural_budbreak_doy[loc][year][sheet_info]\n",
    "                if Acc_unit_spray < base_model_config['ChillRequirement'] and predicted_bb < natural_bb:\n",
    "                    observations.append(observed_bb)\n",
    "                    \n",
    "                    predictions.append(predicted_bb)\n",
    "\n",
    "                    all_bb_days.append(observed_bb)\n",
    "                    all_bb_days.append(predicted_bb)\n",
    "\n",
    "                    fig.add_trace(go.Scatter(x=[observed_bb], y=[predicted_bb], mode='markers', marker=dict(size=15), name=sheet_info))\n",
    "                else:\n",
    "                    continue\n",
    "\n",
    "    mae = round(utils.mean_absolute_error(observations,predictions),2)\n",
    "    rmse = round(root_mean_squared_error(observations,predictions),2)\n",
    "\n",
    "\n",
    "    # Add 1:1 dashed line\n",
    "    fig.add_trace(go.Scatter(x=[min(all_bb_days), max(all_bb_days)], y=[min(all_bb_days), max(all_bb_days)], mode='lines', line=dict(color=\"white\", dash=\"dash\"), name=\"1:1 Line\")) \n",
    "\n",
    "    # Calculate std of observations to compare with MAE\n",
    "    obs_std = round(np.std(observations),2)\n",
    "    # ±MAE bands\n",
    "    upper_line_mae = np.array([min(all_bb_days), max(all_bb_days)]) + np.array(mae)   \n",
    "    lower_line_mae = np.array([min(all_bb_days), max(all_bb_days)]) - np.array(mae)  \n",
    "    fig.add_trace(go.Scatter(x=[min(all_bb_days), max(all_bb_days)], y=upper_line_mae, mode='lines', line=dict(color=\"grey\", dash=\"dot\"), name='+MAE'))\n",
    "    fig.add_trace(go.Scatter(x=[min(all_bb_days), max(all_bb_days)], y=lower_line_mae, mode='lines', line=dict(color=\"grey\", dash=\"dot\"), name='-MAE'))  \n",
    "    # RMSE bands: If RMSE bands are much wider than MAE bands, it means there are large outliers affecting the model's performance.\n",
    "    upper_line_rmse = np.array([min(all_bb_days), max(all_bb_days)]) + np.array(mae)   \n",
    "    lower_line_rmse = np.array([min(all_bb_days), max(all_bb_days)]) - np.array(mae)  \n",
    "    fig.add_trace(go.Scatter(x=[min(all_bb_days), max(all_bb_days)], y=upper_line_rmse, mode='lines', line=dict(color=\"yellow\", dash=\"dot\"), name='+RMSE'))\n",
    "    fig.add_trace(go.Scatter(x=[min(all_bb_days), max(all_bb_days)], y=lower_line_rmse, mode='lines', line=dict(color=\"yellow\", dash=\"dot\"), name='-RMSE'))  \n",
    "\n",
    "    # Plot regression line\n",
    "    if regression_xy is not False:\n",
    "        fig.add_trace(go.Scatter(x=regression_xy[0], y=regression_xy[1], mode='lines', line=dict(color=\"white\", dash=\"solid\"), name=f\"Regression\"))\n",
    "\n",
    "    # Update layout\n",
    "    fig.update_layout(\n",
    "        title= f\"BudBurst (MAE = {mae}, RMSE = {rmse}, ObsSTD = {obs_std})\",\n",
    "        xaxis_title=\"Observed BudBurst DOY\",\n",
    "        yaxis_title=\"Predicted BudBurst DOY\",\n",
    "        template=\"plotly_dark\", width=1600, height=1400)\n",
    "    fig.show()\n",
    "\n",
    "observ_predict_plot(predicted_budbreak_doy, observed_budbreak_doy, CHU_spray, natural_budbreak_doy)\n"
   ]
  },
  {
   "cell_type": "markdown",
   "id": "7dea40d3",
   "metadata": {},
   "source": [
    "# CHU observed BB - CHU spray"
   ]
  },
  {
   "cell_type": "code",
   "execution_count": 395,
   "id": "94201ae4",
   "metadata": {},
   "outputs": [
    {
     "data": {
      "image/png": "[encoded data removed]",
      "text/plain": [
       "<Figure size 1500x1000 with 1 Axes>"
      ]
     },
     "metadata": {},
     "output_type": "display_data"
    },
    {
     "name": "stdout",
     "output_type": "stream",
     "text": [
      "mu: 1246.25\n",
      "A: 0.65\n",
      "sigma: 248.19\n",
      "alpha: 0.00\n"
     ]
    }
   ],
   "source": [
    "def skewed_gaussian(x, mu, A, sigma, alpha):\n",
    "    \"\"\"\n",
    "    Skewed Gaussian: combines a normal PDF and CDF\n",
    "    \"\"\"\n",
    "    norm_pdf = norm.pdf((x - mu) / sigma)\n",
    "    norm_cdf = norm.cdf(alpha * (x - mu) / sigma)\n",
    "    return A * 2 * norm_pdf * norm_cdf\n",
    "\n",
    "\n",
    "# Filter data to remove post endo-dormancy HC applications\n",
    "# filter_post_endo = (chu_spray <= chill_requirement)\n",
    "\n",
    "chu_spray = np.array(chu_spray)\n",
    "\n",
    "chu_obs = np.array(chu_obs)\n",
    "\n",
    "x = chu_spray\n",
    "y = (np.array(chu_obs)-(chu_spray))/chu_spray\n",
    "\n",
    "# Initial guess: [mu, A, sigma, alpha]\n",
    "p0 = [1300, 0.5, 100, 0]\n",
    "\n",
    "# Parameter bounds to help constrain and ensure both phases get fit\n",
    "bounds = (\n",
    "    [800, 0, 50, 0],  # Lower bounds\n",
    "    [1400, 1, 300, 0.001]  # Upper bounds\n",
    ")\n",
    "\n",
    "# Fit the model\n",
    "popt, _ = curve_fit(skewed_gaussian, x, y, p0=p0, bounds=bounds, maxfev=10000)\n",
    "\n",
    "# Generate fit curve\n",
    "x_fit = np.linspace(min(x)-700, max(x)+200, 300)\n",
    "y_fit = skewed_gaussian(x_fit, *popt)\n",
    "\n",
    "# Plot results\n",
    "plt.figure(figsize=(15, 10))\n",
    "plt.scatter(x, y, label=\"Observed\", color=\"blue\")\n",
    "plt.plot(x_fit, y_fit, label=\"Fitted Model\", color=\"darkred\", linewidth=2)\n",
    "plt.axvline(chill_requirement, linestyle='--', color='m', label=\"Ecodormancy start\")\n",
    "plt.axvline(normal_budbreak, linestyle='--', color='green', label=\"Normal budbreak\")\n",
    "plt.axhline(0, linestyle='--', color='gray')\n",
    "# plt.axvline(1383, linestyle='--', color='c', label=\"HWBBRawTP2021HiCane214\")\n",
    "# plt.axvline(1629, linestyle='--', color='c', label=\"KKHaywardBB2013HC246\")\n",
    "# plt.axvline(1704, linestyle='--', color='c', label=\"KatoaBB2008HC240\")\n",
    "# plt.axvline(1689.45, linestyle='--', color='c', label=\"KatoaBB2010HC231\")\n",
    "plt.xlabel(\"Chill Units at Spray\")\n",
    "plt.ylabel(\"Hi-Cane Effectiveness\")\n",
    "plt.title(\"Hi-Cane Effect Model (Skewed Gaussian)\")\n",
    "bbox = dict(boxstyle=\"round\", fc=\"0.8\")\n",
    "plt.annotate(\n",
    "    f'max = ({x_fit[np.argmax(y_fit)]:.0f}, {np.max(y_fit):.2f})',\n",
    "    xy=(popt[0]-200, np.max(y_fit)), \n",
    "    bbox=bbox)\n",
    "plt.legend()\n",
    "plt.grid(True)\n",
    "plt.tight_layout()\n",
    "plt.show()\n",
    "\n",
    "# Print fitted parameter values\n",
    "param_names = [\"mu\", \"A\", \"sigma\", \"alpha\"]\n",
    "for name, val in zip(param_names, popt):\n",
    "    print(f\"{name}: {val:.2f}\")\n",
    "\n"
   ]
  },
  {
   "cell_type": "code",
   "execution_count": null,
   "id": "0ae0582c",
   "metadata": {},
   "outputs": [
    {
     "name": "stdout",
     "output_type": "stream",
     "text": [
      "HW-BudbreakTP2020HiCane223 1642.934109627011 1761.139326328794\n",
      "HW-Budbreak-TP2020HiCane226 1688.613790735482 1777.6262400797787\n",
      "HWBBRawTP2021HiCane214 1383.5707477009692 1689.8941753850972\n",
      "HWBBRawTP2021HiCane223 1532.139828533404 1735.7842059300217\n",
      "HWBBRawTP2021HiCane232 1666.203803691224 1768.9494795087066\n",
      "NBB2010HC236 1446.090500121897 1715.916941453828\n",
      "NBB2011HC248 1484.9127687006344 1726.2309521992513\n",
      "KKHaywardBB2013HC246 1626.485577453018 1756.2962228888557\n",
      "KKHaywardBB2013HC239 1533.2926876994363 1736.000751220522\n",
      "KKHaywardBB2018HiCane 6% + 0.2% Driftstop239 1452.055959077086 1717.7266798677817\n",
      "KKHaywardBB2018HiCane 6% + 0.2% Driftstop248 1553.6791703949934 1739.8412953741783\n",
      "HaywardBB2019HC 6% + 0.2%DS236 1472.8323256258795 1723.3576130824652\n",
      "HaywardBB2019HC 6% + 0.2%DS243 1561.7865979276082 1741.4045617803326\n",
      "HWBBRaw2020HiCane+Driftstop240 1346.1135407095842 1666.4220419024334\n",
      "HWBBRaw2020HiCane+Driftstop235 1297.6229743651843 1625.3210043999657\n",
      "HWBBRaw2020HiCane+Driftstop247 1428.5654538407975 1710.01022204413\n",
      "HWBBSpray2020HiCane+Driftstop248 1444.1219996553314 1715.2985835006411\n",
      "HWBBSpray2020HiCane+Driftstop232 1275.9589101637362 1602.8087381429762\n",
      "HWBBSpray2020HiCane+Driftstop243 1387.1906860065144 1691.8154276688094\n"
     ]
    },
    {
     "data": {
      "application/vnd.plotly.v1+json": {
       "config": {
        "plotlyServerURL": "https://plot.ly"
       },
       "data": [
        {
         "marker": {
          "size": 15
         },
         "mode": "markers",
         "name": "TPROB4BB2016HiCane236",
         "type": "scatter",
         "x": [
          265
         ],
         "y": [
          267
         ]
        },
        {
         "marker": {
          "size": 15
         },
         "mode": "markers",
         "name": "TPROB4BB2016HiCane246",
         "type": "scatter",
         "x": [
          274
         ],
         "y": [
          270
         ]
        },
        {
         "marker": {
          "size": 15
         },
         "mode": "markers",
         "name": "KatoaBB2008HC240",
         "type": "scatter",
         "x": [
          262
         ],
         "y": [
          268
         ]
        },
        {
         "marker": {
          "size": 15
         },
         "mode": "markers",
         "name": "MeadBB2008HC241",
         "type": "scatter",
         "x": [
          266
         ],
         "y": [
          268
         ]
        },
        {
         "marker": {
          "size": 15
         },
         "mode": "markers",
         "name": "KatoaBB2009HC234",
         "type": "scatter",
         "x": [
          254
         ],
         "y": [
          258
         ]
        },
        {
         "marker": {
          "size": 15
         },
         "mode": "markers",
         "name": "KatoaBB2009HC240",
         "type": "scatter",
         "x": [
          254
         ],
         "y": [
          259
         ]
        },
        {
         "marker": {
          "size": 15
         },
         "mode": "markers",
         "name": "MeadBB2009HC234",
         "type": "scatter",
         "x": [
          256
         ],
         "y": [
          258
         ]
        },
        {
         "marker": {
          "size": 15
         },
         "mode": "markers",
         "name": "KatoaBB2010HC231",
         "type": "scatter",
         "x": [
          263
         ],
         "y": [
          268
         ]
        },
        {
         "marker": {
          "size": 15
         },
         "mode": "markers",
         "name": "MeadBB2010HC236",
         "type": "scatter",
         "x": [
          268
         ],
         "y": [
          269
         ]
        },
        {
         "marker": {
          "size": 15
         },
         "mode": "markers",
         "name": "TPHaywardBB2013HC236",
         "type": "scatter",
         "x": [
          266
         ],
         "y": [
          266
         ]
        },
        {
         "marker": {
          "size": 15
         },
         "mode": "markers",
         "name": "TPHaywardBB2013HC227",
         "type": "scatter",
         "x": [
          262
         ],
         "y": [
          265
         ]
        },
        {
         "marker": {
          "size": 15
         },
         "mode": "markers",
         "name": "TPHaywardBB2013HC242",
         "type": "scatter",
         "x": [
          272
         ],
         "y": [
          267
         ]
        },
        {
         "marker": {
          "size": 15
         },
         "mode": "markers",
         "name": "TPHaywardBB20186%HC+0.2%DS239",
         "type": "scatter",
         "x": [
          264
         ],
         "y": [
          264
         ]
        },
        {
         "marker": {
          "size": 15
         },
         "mode": "markers",
         "name": "TPHaywardBB20186%HC+0.2%DS231",
         "type": "scatter",
         "x": [
          262
         ],
         "y": [
          263
         ]
        },
        {
         "marker": {
          "size": 15
         },
         "mode": "markers",
         "name": "HW-BudbreakTP2020HiCane231",
         "type": "scatter",
         "x": [
          259
         ],
         "y": [
          264
         ]
        },
        {
         "marker": {
          "size": 15
         },
         "mode": "markers",
         "name": "HW-BudbreakTP2020HiCane241",
         "type": "scatter",
         "x": [
          269
         ],
         "y": [
          267
         ]
        },
        {
         "marker": {
          "size": 15
         },
         "mode": "markers",
         "name": "HW-BudbreakTP2020HiCane223",
         "type": "scatter",
         "x": [
          256
         ],
         "y": [
          256
         ]
        },
        {
         "marker": {
          "size": 15
         },
         "mode": "markers",
         "name": "HW-Budbreak-TP2020HiCane226",
         "type": "scatter",
         "x": [
          258
         ],
         "y": [
          257
         ]
        },
        {
         "marker": {
          "size": 15
         },
         "mode": "markers",
         "name": "HW-Budbreak-TP2020HiCane243",
         "type": "scatter",
         "x": [
          269
         ],
         "y": [
          267
         ]
        },
        {
         "marker": {
          "size": 15
         },
         "mode": "markers",
         "name": "HW-Budbreak-TP2020HiCane235",
         "type": "scatter",
         "x": [
          265
         ],
         "y": [
          265
         ]
        },
        {
         "marker": {
          "size": 15
         },
         "mode": "markers",
         "name": "HWBBRawTP2021HiCane214",
         "type": "scatter",
         "x": [
          250
         ],
         "y": [
          259
         ]
        },
        {
         "marker": {
          "size": 15
         },
         "mode": "markers",
         "name": "HWBBRawTP2021HiCane223",
         "type": "scatter",
         "x": [
          262
         ],
         "y": [
          262
         ]
        },
        {
         "marker": {
          "size": 15
         },
         "mode": "markers",
         "name": "HWBBRawTP2021HiCane246",
         "type": "scatter",
         "x": [
          274
         ],
         "y": [
          273
         ]
        },
        {
         "marker": {
          "size": 15
         },
         "mode": "markers",
         "name": "HWBBRawTP2021HiCane238",
         "type": "scatter",
         "x": [
          267
         ],
         "y": [
          269
         ]
        },
        {
         "marker": {
          "size": 15
         },
         "mode": "markers",
         "name": "HWBBRawTP2021HiCane232",
         "type": "scatter",
         "x": [
          263
         ],
         "y": [
          263
         ]
        },
        {
         "marker": {
          "size": 15
         },
         "mode": "markers",
         "name": "NBB2010HC236",
         "type": "scatter",
         "x": [
          273
         ],
         "y": [
          270
         ]
        },
        {
         "marker": {
          "size": 15
         },
         "mode": "markers",
         "name": "NBB2011HC248",
         "type": "scatter",
         "x": [
          274
         ],
         "y": [
          278
         ]
        },
        {
         "marker": {
          "size": 15
         },
         "mode": "markers",
         "name": "KKHaywardBB2013HC246",
         "type": "scatter",
         "x": [
          274
         ],
         "y": [
          263
         ]
        },
        {
         "marker": {
          "size": 15
         },
         "mode": "markers",
         "name": "KKHaywardBB2013HC252",
         "type": "scatter",
         "x": [
          274
         ],
         "y": [
          266
         ]
        },
        {
         "marker": {
          "size": 15
         },
         "mode": "markers",
         "name": "KKHaywardBB2013HC239",
         "type": "scatter",
         "x": [
          266
         ],
         "y": [
          263
         ]
        },
        {
         "marker": {
          "size": 15
         },
         "mode": "markers",
         "name": "KKHaywardBB2018HiCane 6% + 0.2% Driftstop239",
         "type": "scatter",
         "x": [
          270
         ],
         "y": [
          266
         ]
        },
        {
         "marker": {
          "size": 15
         },
         "mode": "markers",
         "name": "KKHaywardBB2018HiCane 6% + 0.2% Driftstop248",
         "type": "scatter",
         "x": [
          273
         ],
         "y": [
          269
         ]
        },
        {
         "marker": {
          "size": 15
         },
         "mode": "markers",
         "name": "HaywardBB2019HC 6% + 0.2%DS236",
         "type": "scatter",
         "x": [
          266
         ],
         "y": [
          268
         ]
        },
        {
         "marker": {
          "size": 15
         },
         "mode": "markers",
         "name": "HaywardBB2019HC 6% + 0.2%DS243",
         "type": "scatter",
         "x": [
          269
         ],
         "y": [
          270
         ]
        },
        {
         "marker": {
          "size": 15
         },
         "mode": "markers",
         "name": "HWBBRaw2020HiCane+Driftstop240",
         "type": "scatter",
         "x": [
          265
         ],
         "y": [
          271
         ]
        },
        {
         "marker": {
          "size": 15
         },
         "mode": "markers",
         "name": "HWBBRaw2020HiCane+Driftstop235",
         "type": "scatter",
         "x": [
          264
         ],
         "y": [
          269
         ]
        },
        {
         "marker": {
          "size": 15
         },
         "mode": "markers",
         "name": "HWBBRaw2020HiCane+Driftstop247",
         "type": "scatter",
         "x": [
          273
         ],
         "y": [
          278
         ]
        },
        {
         "marker": {
          "size": 15
         },
         "mode": "markers",
         "name": "HWBBSpray2020HiCane+Driftstop248",
         "type": "scatter",
         "x": [
          273
         ],
         "y": [
          279
         ]
        },
        {
         "marker": {
          "size": 15
         },
         "mode": "markers",
         "name": "HWBBSpray2020HiCane+Driftstop232",
         "type": "scatter",
         "x": [
          265
         ],
         "y": [
          269
         ]
        },
        {
         "marker": {
          "size": 15
         },
         "mode": "markers",
         "name": "HWBBSpray2020HiCane+Driftstop243",
         "type": "scatter",
         "x": [
          271
         ],
         "y": [
          274
         ]
        },
        {
         "line": {
          "color": "white",
          "dash": "dash"
         },
         "mode": "lines",
         "name": "1:1 Line",
         "type": "scatter",
         "x": [
          250,
          279
         ],
         "y": [
          250,
          279
         ]
        },
        {
         "line": {
          "color": "grey",
          "dash": "dot"
         },
         "mode": "lines",
         "name": "+MAE",
         "type": "scatter",
         "x": [
          250,
          279
         ],
         "y": {
          "bdata": "cT0K16Oob0C4HoXrUaRxQA==",
          "dtype": "f8"
         }
        },
        {
         "line": {
          "color": "grey",
          "dash": "dot"
         },
         "mode": "lines",
         "name": "-MAE",
         "type": "scatter",
         "x": [
          250,
          279
         ],
         "y": {
          "bdata": "j8L1KFzXbkBI4XoUrjtxQA==",
          "dtype": "f8"
         }
        },
        {
         "line": {
          "color": "yellow",
          "dash": "dot"
         },
         "mode": "lines",
         "name": "+RMSE",
         "type": "scatter",
         "x": [
          250,
          279
         ],
         "y": {
          "bdata": "cT0K16Oob0C4HoXrUaRxQA==",
          "dtype": "f8"
         }
        },
        {
         "line": {
          "color": "yellow",
          "dash": "dot"
         },
         "mode": "lines",
         "name": "-RMSE",
         "type": "scatter",
         "x": [
          250,
          279
         ],
         "y": {
          "bdata": "j8L1KFzXbkBI4XoUrjtxQA==",
          "dtype": "f8"
         }
        }
       ],
       "layout": {
        "height": 1400,
        "template": {
         "data": {
          "bar": [
           {
            "error_x": {
             "color": "#f2f5fa"
            },
            "error_y": {
             "color": "#f2f5fa"
            },
            "marker": {
             "line": {
              "color": "rgb(17,17,17)",
              "width": 0.5
             },
             "pattern": {
              "fillmode": "overlay",
              "size": 10,
              "solidity": 0.2
             }
            },
            "type": "bar"
           }
          ],
          "barpolar": [
           {
            "marker": {
             "line": {
              "color": "rgb(17,17,17)",
              "width": 0.5
             },
             "pattern": {
              "fillmode": "overlay",
              "size": 10,
              "solidity": 0.2
             }
            },
            "type": "barpolar"
           }
          ],
          "carpet": [
           {
            "aaxis": {
             "endlinecolor": "#A2B1C6",
             "gridcolor": "#506784",
             "linecolor": "#506784",
             "minorgridcolor": "#506784",
             "startlinecolor": "#A2B1C6"
            },
            "baxis": {
             "endlinecolor": "#A2B1C6",
             "gridcolor": "#506784",
             "linecolor": "#506784",
             "minorgridcolor": "#506784",
             "startlinecolor": "#A2B1C6"
            },
            "type": "carpet"
           }
          ],
          "choropleth": [
           {
            "colorbar": {
             "outlinewidth": 0,
             "ticks": ""
            },
            "type": "choropleth"
           }
          ],
          "contour": [
           {
            "colorbar": {
             "outlinewidth": 0,
             "ticks": ""
            },
            "colorscale": [
             [
              0,
              "#0d0887"
             ],
             [
              0.1111111111111111,
              "#46039f"
             ],
             [
              0.2222222222222222,
              "#7201a8"
             ],
             [
              0.3333333333333333,
              "#9c179e"
             ],
             [
              0.4444444444444444,
              "#bd3786"
             ],
             [
              0.5555555555555556,
              "#d8576b"
             ],
             [
              0.6666666666666666,
              "#ed7953"
             ],
             [
              0.7777777777777778,
              "#fb9f3a"
             ],
             [
              0.8888888888888888,
              "#fdca26"
             ],
             [
              1,
              "#f0f921"
             ]
            ],
            "type": "contour"
           }
          ],
          "contourcarpet": [
           {
            "colorbar": {
             "outlinewidth": 0,
             "ticks": ""
            },
            "type": "contourcarpet"
           }
          ],
          "heatmap": [
           {
            "colorbar": {
             "outlinewidth": 0,
             "ticks": ""
            },
            "colorscale": [
             [
              0,
              "#0d0887"
             ],
             [
              0.1111111111111111,
              "#46039f"
             ],
             [
              0.2222222222222222,
              "#7201a8"
             ],
             [
              0.3333333333333333,
              "#9c179e"
             ],
             [
              0.4444444444444444,
              "#bd3786"
             ],
             [
              0.5555555555555556,
              "#d8576b"
             ],
             [
              0.6666666666666666,
              "#ed7953"
             ],
             [
              0.7777777777777778,
              "#fb9f3a"
             ],
             [
              0.8888888888888888,
              "#fdca26"
             ],
             [
              1,
              "#f0f921"
             ]
            ],
            "type": "heatmap"
           }
          ],
          "histogram": [
           {
            "marker": {
             "pattern": {
              "fillmode": "overlay",
              "size": 10,
              "solidity": 0.2
             }
            },
            "type": "histogram"
           }
          ],
          "histogram2d": [
           {
            "colorbar": {
             "outlinewidth": 0,
             "ticks": ""
            },
            "colorscale": [
             [
              0,
              "#0d0887"
             ],
             [
              0.1111111111111111,
              "#46039f"
             ],
             [
              0.2222222222222222,
              "#7201a8"
             ],
             [
              0.3333333333333333,
              "#9c179e"
             ],
             [
              0.4444444444444444,
              "#bd3786"
             ],
             [
              0.5555555555555556,
              "#d8576b"
             ],
             [
              0.6666666666666666,
              "#ed7953"
             ],
             [
              0.7777777777777778,
              "#fb9f3a"
             ],
             [
              0.8888888888888888,
              "#fdca26"
             ],
             [
              1,
              "#f0f921"
             ]
            ],
            "type": "histogram2d"
           }
          ],
          "histogram2dcontour": [
           {
            "colorbar": {
             "outlinewidth": 0,
             "ticks": ""
            },
            "colorscale": [
             [
              0,
              "#0d0887"
             ],
             [
              0.1111111111111111,
              "#46039f"
             ],
             [
              0.2222222222222222,
              "#7201a8"
             ],
             [
              0.3333333333333333,
              "#9c179e"
             ],
             [
              0.4444444444444444,
              "#bd3786"
             ],
             [
              0.5555555555555556,
              "#d8576b"
             ],
             [
              0.6666666666666666,
              "#ed7953"
             ],
             [
              0.7777777777777778,
              "#fb9f3a"
             ],
             [
              0.8888888888888888,
              "#fdca26"
             ],
             [
              1,
              "#f0f921"
             ]
            ],
            "type": "histogram2dcontour"
           }
          ],
          "mesh3d": [
           {
            "colorbar": {
             "outlinewidth": 0,
             "ticks": ""
            },
            "type": "mesh3d"
           }
          ],
          "parcoords": [
           {
            "line": {
             "colorbar": {
              "outlinewidth": 0,
              "ticks": ""
             }
            },
            "type": "parcoords"
           }
          ],
          "pie": [
           {
            "automargin": true,
            "type": "pie"
           }
          ],
          "scatter": [
           {
            "marker": {
             "line": {
              "color": "#283442"
             }
            },
            "type": "scatter"
           }
          ],
          "scatter3d": [
           {
            "line": {
             "colorbar": {
              "outlinewidth": 0,
              "ticks": ""
             }
            },
            "marker": {
             "colorbar": {
              "outlinewidth": 0,
              "ticks": ""
             }
            },
            "type": "scatter3d"
           }
          ],
          "scattercarpet": [
           {
            "marker": {
             "colorbar": {
              "outlinewidth": 0,
              "ticks": ""
             }
            },
            "type": "scattercarpet"
           }
          ],
          "scattergeo": [
           {
            "marker": {
             "colorbar": {
              "outlinewidth": 0,
              "ticks": ""
             }
            },
            "type": "scattergeo"
           }
          ],
          "scattergl": [
           {
            "marker": {
             "line": {
              "color": "#283442"
             }
            },
            "type": "scattergl"
           }
          ],
          "scattermap": [
           {
            "marker": {
             "colorbar": {
              "outlinewidth": 0,
              "ticks": ""
             }
            },
            "type": "scattermap"
           }
          ],
          "scattermapbox": [
           {
            "marker": {
             "colorbar": {
              "outlinewidth": 0,
              "ticks": ""
             }
            },
            "type": "scattermapbox"
           }
          ],
          "scatterpolar": [
           {
            "marker": {
             "colorbar": {
              "outlinewidth": 0,
              "ticks": ""
             }
            },
            "type": "scatterpolar"
           }
          ],
          "scatterpolargl": [
           {
            "marker": {
             "colorbar": {
              "outlinewidth": 0,
              "ticks": ""
             }
            },
            "type": "scatterpolargl"
           }
          ],
          "scatterternary": [
           {
            "marker": {
             "colorbar": {
              "outlinewidth": 0,
              "ticks": ""
             }
            },
            "type": "scatterternary"
           }
          ],
          "surface": [
           {
            "colorbar": {
             "outlinewidth": 0,
             "ticks": ""
            },
            "colorscale": [
             [
              0,
              "#0d0887"
             ],
             [
              0.1111111111111111,
              "#46039f"
             ],
             [
              0.2222222222222222,
              "#7201a8"
             ],
             [
              0.3333333333333333,
              "#9c179e"
             ],
             [
              0.4444444444444444,
              "#bd3786"
             ],
             [
              0.5555555555555556,
              "#d8576b"
             ],
             [
              0.6666666666666666,
              "#ed7953"
             ],
             [
              0.7777777777777778,
              "#fb9f3a"
             ],
             [
              0.8888888888888888,
              "#fdca26"
             ],
             [
              1,
              "#f0f921"
             ]
            ],
            "type": "surface"
           }
          ],
          "table": [
           {
            "cells": {
             "fill": {
              "color": "#506784"
             },
             "line": {
              "color": "rgb(17,17,17)"
             }
            },
            "header": {
             "fill": {
              "color": "#2a3f5f"
             },
             "line": {
              "color": "rgb(17,17,17)"
             }
            },
            "type": "table"
           }
          ]
         },
         "layout": {
          "annotationdefaults": {
           "arrowcolor": "#f2f5fa",
           "arrowhead": 0,
           "arrowwidth": 1
          },
          "autotypenumbers": "strict",
          "coloraxis": {
           "colorbar": {
            "outlinewidth": 0,
            "ticks": ""
           }
          },
          "colorscale": {
           "diverging": [
            [
             0,
             "#8e0152"
            ],
            [
             0.1,
             "#c51b7d"
            ],
            [
             0.2,
             "#de77ae"
            ],
            [
             0.3,
             "#f1b6da"
            ],
            [
             0.4,
             "#fde0ef"
            ],
            [
             0.5,
             "#f7f7f7"
            ],
            [
             0.6,
             "#e6f5d0"
            ],
            [
             0.7,
             "#b8e186"
            ],
            [
             0.8,
             "#7fbc41"
            ],
            [
             0.9,
             "#4d9221"
            ],
            [
             1,
             "#276419"
            ]
           ],
           "sequential": [
            [
             0,
             "#0d0887"
            ],
            [
             0.1111111111111111,
             "#46039f"
            ],
            [
             0.2222222222222222,
             "#7201a8"
            ],
            [
             0.3333333333333333,
             "#9c179e"
            ],
            [
             0.4444444444444444,
             "#bd3786"
            ],
            [
             0.5555555555555556,
             "#d8576b"
            ],
            [
             0.6666666666666666,
             "#ed7953"
            ],
            [
             0.7777777777777778,
             "#fb9f3a"
            ],
            [
             0.8888888888888888,
             "#fdca26"
            ],
            [
             1,
             "#f0f921"
            ]
           ],
           "sequentialminus": [
            [
             0,
             "#0d0887"
            ],
            [
             0.1111111111111111,
             "#46039f"
            ],
            [
             0.2222222222222222,
             "#7201a8"
            ],
            [
             0.3333333333333333,
             "#9c179e"
            ],
            [
             0.4444444444444444,
             "#bd3786"
            ],
            [
             0.5555555555555556,
             "#d8576b"
            ],
            [
             0.6666666666666666,
             "#ed7953"
            ],
            [
             0.7777777777777778,
             "#fb9f3a"
            ],
            [
             0.8888888888888888,
             "#fdca26"
            ],
            [
             1,
             "#f0f921"
            ]
           ]
          },
          "colorway": [
           "#636efa",
           "#EF553B",
           "#00cc96",
           "#ab63fa",
           "#FFA15A",
           "#19d3f3",
           "#FF6692",
           "#B6E880",
           "#FF97FF",
           "#FECB52"
          ],
          "font": {
           "color": "#f2f5fa"
          },
          "geo": {
           "bgcolor": "rgb(17,17,17)",
           "lakecolor": "rgb(17,17,17)",
           "landcolor": "rgb(17,17,17)",
           "showlakes": true,
           "showland": true,
           "subunitcolor": "#506784"
          },
          "hoverlabel": {
           "align": "left"
          },
          "hovermode": "closest",
          "mapbox": {
           "style": "dark"
          },
          "paper_bgcolor": "rgb(17,17,17)",
          "plot_bgcolor": "rgb(17,17,17)",
          "polar": {
           "angularaxis": {
            "gridcolor": "#506784",
            "linecolor": "#506784",
            "ticks": ""
           },
           "bgcolor": "rgb(17,17,17)",
           "radialaxis": {
            "gridcolor": "#506784",
            "linecolor": "#506784",
            "ticks": ""
           }
          },
          "scene": {
           "xaxis": {
            "backgroundcolor": "rgb(17,17,17)",
            "gridcolor": "#506784",
            "gridwidth": 2,
            "linecolor": "#506784",
            "showbackground": true,
            "ticks": "",
            "zerolinecolor": "#C8D4E3"
           },
           "yaxis": {
            "backgroundcolor": "rgb(17,17,17)",
            "gridcolor": "#506784",
            "gridwidth": 2,
            "linecolor": "#506784",
            "showbackground": true,
            "ticks": "",
            "zerolinecolor": "#C8D4E3"
           },
           "zaxis": {
            "backgroundcolor": "rgb(17,17,17)",
            "gridcolor": "#506784",
            "gridwidth": 2,
            "linecolor": "#506784",
            "showbackground": true,
            "ticks": "",
            "zerolinecolor": "#C8D4E3"
           }
          },
          "shapedefaults": {
           "line": {
            "color": "#f2f5fa"
           }
          },
          "sliderdefaults": {
           "bgcolor": "#C8D4E3",
           "bordercolor": "rgb(17,17,17)",
           "borderwidth": 1,
           "tickwidth": 0
          },
          "ternary": {
           "aaxis": {
            "gridcolor": "#506784",
            "linecolor": "#506784",
            "ticks": ""
           },
           "baxis": {
            "gridcolor": "#506784",
            "linecolor": "#506784",
            "ticks": ""
           },
           "bgcolor": "rgb(17,17,17)",
           "caxis": {
            "gridcolor": "#506784",
            "linecolor": "#506784",
            "ticks": ""
           }
          },
          "title": {
           "x": 0.05
          },
          "updatemenudefaults": {
           "bgcolor": "#506784",
           "borderwidth": 0
          },
          "xaxis": {
           "automargin": true,
           "gridcolor": "#283442",
           "linecolor": "#506784",
           "ticks": "",
           "title": {
            "standoff": 15
           },
           "zerolinecolor": "#283442",
           "zerolinewidth": 2
          },
          "yaxis": {
           "automargin": true,
           "gridcolor": "#283442",
           "linecolor": "#506784",
           "ticks": "",
           "title": {
            "standoff": 15
           },
           "zerolinecolor": "#283442",
           "zerolinewidth": 2
          }
         }
        },
        "title": {
         "text": "BudBurst (MAE = 3.27, RMSE = 4.15, ObsSTD = 6.27)"
        },
        "width": 1600,
        "xaxis": {
         "title": {
          "text": "Observed BudBurst DOY"
         }
        },
        "yaxis": {
         "title": {
          "text": "Predicted BudBurst DOY"
         }
        }
       }
      }
     },
     "metadata": {},
     "output_type": "display_data"
    }
   ],
   "source": [
    "locations = ['Te Puke', 'Kerikeri']\n",
    "chill_start_day = pd.to_datetime(utils.base_model_config()['StartDay']).day_of_year \n",
    "ideal_units_gaussian = popt[0]\n",
    "max_effect_gaussian = popt[1]\n",
    "tolerance_gaussian = popt[2]\n",
    "skew_gaussian = popt[3]\n",
    "\n",
    "predicted_budbreak_doy = defaultdict(lambda: defaultdict(lambda: defaultdict()))\n",
    "natural_budbreak_doy = defaultdict(lambda: defaultdict(lambda: defaultdict()))\n",
    "\n",
    "for i, location in enumerate(locations):\n",
    "    start_day = int(round(chill_start_day))\n",
    "    for year, sheet_info in weather_df[location].items(): \n",
    "        for sheet_info, weather_data in weather_df[location][year].items():\n",
    "            weather_since_start_doy = weather_data[weather_data['doy']>=start_day].reset_index(drop=True)  \n",
    "            \n",
    "            Acc_unit_spray = CHU_spray[location][year][sheet_info]\n",
    "\n",
    "            proportion_unit_spray = skewed_gaussian(Acc_unit_spray, ideal_units_gaussian, max_effect_gaussian,tolerance_gaussian,skew_gaussian)\n",
    "            effective_target = Acc_unit_spray * ( 1 + proportion_unit_spray)\n",
    "\n",
    "            if Acc_unit_spray < base_model_config['ChillRequirement']:\n",
    "                effective_chill_target = effective_target * 0.9640\n",
    "                effective_heat_target = effective_target - effective_chill_target\n",
    "                print(sheet_info,Acc_unit_spray, effective_chill_targetو effective_heat_target)\n",
    "            else:\n",
    "                effective_chill_target = base_model_config['ChillRequirement']\n",
    "                effective_heat_target = effective_target - base_model_config['ChillRequirement']\n",
    "            \n",
    "            \n",
    "            predicted_doy = budbreak_prediction(weather_since_start_doy, effective_chill_target, effective_heat_target)\n",
    "            predicted_budbreak_doy[location][year][sheet_info] = predicted_doy\n",
    "\n",
    "\n",
    "def observ_predict_plot(predicted_budbreak_doy, observed_budbreak_doy, CHU_spray,  regression_xy=False):\n",
    "    fig = go.Figure()\n",
    "\n",
    "    observations = []\n",
    "    predictions = []\n",
    "    all_bb_days = []\n",
    "    for loc in observed_budbreak_doy.keys():\n",
    "        for year in observed_budbreak_doy[loc].keys():\n",
    "            for sheet_info in observed_budbreak_doy[loc][year]:\n",
    "\n",
    "                # if CHU_spray[loc][year][sheet_info] > base_model_config['ChillRequirement']:\n",
    "\n",
    "                observed_bb = observed_budbreak_doy[loc][year][sheet_info]\n",
    "                predicted_bb = predicted_budbreak_doy[loc][year][sheet_info]\n",
    "\n",
    "                observations.append(observed_bb)\n",
    "                predictions.append(predicted_bb)\n",
    "\n",
    "                all_bb_days.append(observed_bb)\n",
    "                all_bb_days.append(predicted_bb)\n",
    "\n",
    "                fig.add_trace(go.Scatter(x=[observed_bb], y=[predicted_bb], mode='markers', marker=dict(size=15), name=sheet_info))\n",
    "\n",
    "    mae = round(utils.mean_absolute_error(observations,predictions),2)\n",
    "    rmse = round(root_mean_squared_error(observations,predictions),2)\n",
    "\n",
    "\n",
    "    # Add 1:1 dashed line\n",
    "    fig.add_trace(go.Scatter(x=[min(all_bb_days), max(all_bb_days)], y=[min(all_bb_days), max(all_bb_days)], mode='lines', line=dict(color=\"white\", dash=\"dash\"), name=\"1:1 Line\")) \n",
    "\n",
    "    # Calculate std of observations to compare with MAE\n",
    "    obs_std = round(np.std(observations),2)\n",
    "    # ±MAE bands\n",
    "    upper_line_mae = np.array([min(all_bb_days), max(all_bb_days)]) + np.array(mae)   \n",
    "    lower_line_mae = np.array([min(all_bb_days), max(all_bb_days)]) - np.array(mae)  \n",
    "    fig.add_trace(go.Scatter(x=[min(all_bb_days), max(all_bb_days)], y=upper_line_mae, mode='lines', line=dict(color=\"grey\", dash=\"dot\"), name='+MAE'))\n",
    "    fig.add_trace(go.Scatter(x=[min(all_bb_days), max(all_bb_days)], y=lower_line_mae, mode='lines', line=dict(color=\"grey\", dash=\"dot\"), name='-MAE'))  \n",
    "    # RMSE bands: If RMSE bands are much wider than MAE bands, it means there are large outliers affecting the model's performance.\n",
    "    upper_line_rmse = np.array([min(all_bb_days), max(all_bb_days)]) + np.array(mae)   \n",
    "    lower_line_rmse = np.array([min(all_bb_days), max(all_bb_days)]) - np.array(mae)  \n",
    "    fig.add_trace(go.Scatter(x=[min(all_bb_days), max(all_bb_days)], y=upper_line_rmse, mode='lines', line=dict(color=\"yellow\", dash=\"dot\"), name='+RMSE'))\n",
    "    fig.add_trace(go.Scatter(x=[min(all_bb_days), max(all_bb_days)], y=lower_line_rmse, mode='lines', line=dict(color=\"yellow\", dash=\"dot\"), name='-RMSE'))  \n",
    "\n",
    "    # Plot regression line\n",
    "    if regression_xy is not False:\n",
    "        fig.add_trace(go.Scatter(x=regression_xy[0], y=regression_xy[1], mode='lines', line=dict(color=\"white\", dash=\"solid\"), name=f\"Regression\"))\n",
    "\n",
    "    # Update layout\n",
    "    fig.update_layout(\n",
    "        title= f\"BudBurst (MAE = {mae}, RMSE = {rmse}, ObsSTD = {obs_std})\",\n",
    "        xaxis_title=\"Observed BudBurst DOY\",\n",
    "        yaxis_title=\"Predicted BudBurst DOY\",\n",
    "        template=\"plotly_dark\", width=1600, height=1400)\n",
    "    fig.show()\n",
    "\n",
    "observ_predict_plot(predicted_budbreak_doy, observed_budbreak_doy, CHU_spray)\n",
    "\n",
    "            "
   ]
  },
  {
   "cell_type": "code",
   "execution_count": 411,
   "id": "20f1f483",
   "metadata": {},
   "outputs": [
    {
     "data": {
      "text/plain": [
       "array([ 600.        ,  744.44444444,  888.88888889, 1033.33333333,\n",
       "       1177.77777778, 1322.22222222, 1466.66666667, 1611.11111111,\n",
       "       1755.55555556, 1900.        ])"
      ]
     },
     "execution_count": 411,
     "metadata": {},
     "output_type": "execute_result"
    },
    {
     "data": {
      "image/png": "[encoded data removed]",
      "text/plain": [
       "<Figure size 640x480 with 1 Axes>"
      ]
     },
     "metadata": {},
     "output_type": "display_data"
    }
   ],
   "source": [
    "points = np.linspace(600,1900,10)\n",
    "\n",
    "outputs = skewed_gaussian(points, *popt) \n",
    "\n",
    "plt.plot(points,outputs)\n",
    "\n",
    "points"
   ]
  },
  {
   "cell_type": "code",
   "execution_count": 407,
   "id": "1d5a62f1",
   "metadata": {},
   "outputs": [
    {
     "data": {
      "text/plain": [
       "defaultdict(<function __main__.<lambda>()>,\n",
       "            {'Te Puke': defaultdict(<function __main__.<lambda>.<locals>.<lambda>()>,\n",
       "                         {2016: {'TPROB4BB2016HiCane236': 1689.6391358355734,\n",
       "                           'TPROB4BB2016HiCane246': 1714.2909277289211},\n",
       "                          2008: {'KatoaBB2008HC240': 1704.627091745503,\n",
       "                           'MeadBB2008HC241': 1705.9028462932263},\n",
       "                          2009: {'KatoaBB2009HC234': 1725.655870740192,\n",
       "                           'KatoaBB2009HC240': 1739.2176439785478,\n",
       "                           'MeadBB2009HC234': 1725.655870740192},\n",
       "                          2010: {'KatoaBB2010HC231': 1698.4823942370865,\n",
       "                           'MeadBB2010HC236': 1706.4929604037306},\n",
       "                          2013: {'TPHaywardBB2013HC236': 1707.3116233188302,\n",
       "                           'TPHaywardBB2013HC227': 1691.6074714754766,\n",
       "                           'TPHaywardBB2013HC242': 1719.9477110938883},\n",
       "                          2018: {'TPHaywardBB20186%HC+0.2%DS239': 1707.5261841953943,\n",
       "                           'TPHaywardBB20186%HC+0.2%DS231': 1698.2155653417676},\n",
       "                          2020: {'HW-BudbreakTP2020HiCane231': 1695.1781640055538,\n",
       "                           'HW-BudbreakTP2020HiCane241': 1717.4548635707026,\n",
       "                           'HW-BudbreakTP2020HiCane223': 1642.934109627011,\n",
       "                           'HW-Budbreak-TP2020HiCane226': 1688.613790735482,\n",
       "                           'HW-Budbreak-TP2020HiCane243': 1722.1100761831967,\n",
       "                           'HW-Budbreak-TP2020HiCane235': 1705.1991386995817},\n",
       "                          2021: {'HWBBRawTP2021HiCane214': 1383.5707477009692,\n",
       "                           'HWBBRawTP2021HiCane223': 1532.139828533404,\n",
       "                           'HWBBRawTP2021HiCane246': 1715.6131871932105,\n",
       "                           'HWBBRawTP2021HiCane238': 1695.045251735286,\n",
       "                           'HWBBRawTP2021HiCane232': 1666.203803691224}}),\n",
       "             'Kerikeri': defaultdict(<function __main__.<lambda>.<locals>.<lambda>()>,\n",
       "                         {2010: {'NBB2010HC236': 1446.090500121897},\n",
       "                          2011: {'NBB2011HC248': 1484.9127687006344},\n",
       "                          2013: {'KKHaywardBB2013HC246': 1626.485577453018,\n",
       "                           'KKHaywardBB2013HC252': 1694.2888751368337,\n",
       "                           'KKHaywardBB2013HC239': 1533.2926876994363},\n",
       "                          2018: {'KKHaywardBB2018HiCane 6% + 0.2% Driftstop239': 1452.055959077086,\n",
       "                           'KKHaywardBB2018HiCane 6% + 0.2% Driftstop248': 1553.6791703949934},\n",
       "                          2019: {'HaywardBB2019HC 6% + 0.2%DS236': 1472.8323256258795,\n",
       "                           'HaywardBB2019HC 6% + 0.2%DS243': 1561.7865979276082},\n",
       "                          2020: {'HWBBRaw2020HiCane+Driftstop240': 1346.1135407095842,\n",
       "                           'HWBBRaw2020HiCane+Driftstop235': 1297.6229743651843,\n",
       "                           'HWBBRaw2020HiCane+Driftstop247': 1428.5654538407975,\n",
       "                           'HWBBSpray2020HiCane+Driftstop248': 1444.1219996553314,\n",
       "                           'HWBBSpray2020HiCane+Driftstop232': 1275.9589101637362,\n",
       "                           'HWBBSpray2020HiCane+Driftstop243': 1387.1906860065144}})})"
      ]
     },
     "execution_count": 407,
     "metadata": {},
     "output_type": "execute_result"
    }
   ],
   "source": [
    "CHU_spray"
   ]
  },
  {
   "cell_type": "code",
   "execution_count": 450,
   "id": "0091dd53",
   "metadata": {},
   "outputs": [
    {
     "data": {
      "text/plain": [
       "243"
      ]
     },
     "execution_count": 450,
     "metadata": {},
     "output_type": "execute_result"
    }
   ],
   "source": [
    "pd.to_datetime('2020-08-30').day_of_year"
   ]
  },
  {
   "cell_type": "code",
   "execution_count": null,
   "id": "d2591d47",
   "metadata": {},
   "outputs": [],
   "source": [
    "  "
   ]
  }
 ],
 "metadata": {
  "kernelspec": {
   "display_name": ".venv",
   "language": "python",
   "name": "python3"
  },
  "language_info": {
   "codemirror_mode": {
    "name": "ipython",
    "version": 3
   },
   "file_extension": ".py",
   "mimetype": "text/x-python",
   "name": "python",
   "nbconvert_exporter": "python",
   "pygments_lexer": "ipython3",
   "version": "3.13.2"
  }
 },
 "nbformat": 4,
 "nbformat_minor": 5
}
