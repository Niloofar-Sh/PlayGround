{
 "cells": [
  {
   "cell_type": "code",
   "execution_count": 2,
   "id": "b8af4a71",
   "metadata": {},
   "outputs": [],
   "source": [
    "import numpy as np\n",
    "import pandas as pd\n",
    "import matplotlib.pyplot as plt\n",
    "import math\n",
    "import plotly.graph_objects as go\n",
    "import plotly.express as px\n",
    "from dotenv import load_dotenv\n",
    "import json\n",
    "from collections import defaultdict\n",
    "import importlib\n",
    "import warnings\n",
    "warnings.filterwarnings('ignore')\n",
    "import utils\n",
    "importlib.reload(utils)\n",
    "import os\n",
    "from sklearn.metrics import mean_squared_error, root_mean_squared_error, mean_absolute_error\n",
    "from scipy.optimize import differential_evolution, curve_fit\n",
    "from scipy.stats import skewnorm, norm"
   ]
  },
  {
   "cell_type": "code",
   "execution_count": 3,
   "id": "09d4f398",
   "metadata": {},
   "outputs": [],
   "source": [
    "def load_weather(weather_path, obs_year):    \n",
    "    # Load the \"Hourly\" weather data\n",
    "    \n",
    "    weather_data = pd.read_csv(weather_path)\n",
    "    # Slicing the weather data to the dates within the observation year\n",
    "    weather_data['Date'] = pd.to_datetime(weather_data['Date'], errors='coerce')\n",
    "    weather_data = weather_data[\n",
    "        (weather_data['Date'] >= pd.to_datetime(f'1/1/{obs_year}')) &\n",
    "        (weather_data['Date'] <= pd.to_datetime(f'31/12/{obs_year}'))]     \n",
    "    # Renaming the columns and add doy column         \n",
    "    weather_data = weather_data[['Date', 'Time', 'Air Temp. (°C)']].rename(columns={'Date': 'date', 'Time':'Time', 'Air Temp. (°C)':'temp'}, inplace=False)\n",
    "    weather_data.insert(1, 'doy', [d.dayofyear for d in pd.to_datetime(weather_data['date'], format=\"mixed\")])\n",
    "    # Interpolate missing values\n",
    "    # Convert '-' to NaN\n",
    "    weather_data['temp'].replace('-', np.nan, inplace=True)\n",
    "    weather_data['temp']=weather_data['temp'].apply(pd.to_numeric, errors='coerce')\n",
    "\n",
    "    # Interpolate missing values\n",
    "    if weather_data['temp'].isna().any():\n",
    "        weather_data['temp'].interpolate(method='linear', inplace=True)\n",
    "\n",
    "\n",
    "    return weather_data.reset_index(drop=True) \n"
   ]
  },
  {
   "cell_type": "code",
   "execution_count": 4,
   "id": "5d704fb9",
   "metadata": {},
   "outputs": [],
   "source": [
    "# Load datasets for observations\n",
    "def load_observations_HC(file_path,BB_sheet_name, Flwr_sheet_name, cultivar_col,cultivar_name,treatment_col,treatment_name,location, excel_observs_BB, excel_observs_Flwr, spray_col_name):\n",
    "    \n",
    "    # Define the expected column names for the final concatenated DataFrame\n",
    "    TREATMENT = \"Treatment\"\n",
    "    LOCATION = \"Location\"\n",
    "    xls = pd.ExcelFile(file_path, engine=\"openpyxl\")\n",
    "    raw_df_BB = pd.read_excel(xls, sheet_name = BB_sheet_name)\n",
    "    raw_df_Flwr = pd.read_excel(xls, sheet_name = Flwr_sheet_name)\n",
    "\n",
    "    # Rename the Dates to Days of Year (DOY)\n",
    "    doy_column_BB = [pd.to_datetime(col).dayofyear for col in raw_df_BB.columns if utils.is_date_column(col)]\n",
    "    df_BB = raw_df_BB.rename(columns={col:pd.to_datetime(col).dayofyear for col in raw_df_BB.columns if utils.is_date_column(col)})\n",
    "\n",
    "    doy_column_Flwr = [pd.to_datetime(col).dayofyear for col in raw_df_Flwr.columns if utils.is_date_column(col)]\n",
    "    df_Flwr = raw_df_Flwr.rename(columns={col:pd.to_datetime(col).dayofyear for col in raw_df_Flwr.columns if utils.is_date_column(col)})\n",
    "\n",
    "    obs_year = [pd.to_datetime(col).year for col in raw_df_BB.columns if utils.is_date_column(col)][0]\n",
    "\n",
    "\n",
    "    # Apply filtering for the given cultivar & treatments\n",
    "    def filter_df(df, doy_column, spray_col_name):\n",
    "        filtered_df = df[df[cultivar_col].isin([cultivar_name]) & df[treatment_col].isin([treatment_name])]\n",
    "        # Rename columns\n",
    "        columns_to_select = [treatment_col] + [spray_col_name] + doy_column \n",
    "        filtered_df = filtered_df[columns_to_select]\n",
    "        filtered_df.rename(columns={treatment_col: TREATMENT}, inplace=True)\n",
    "        # Add the LOCATION column to the DataFrame\n",
    "        filtered_df[LOCATION] = location\n",
    "        # Remove rows with any NaN values\n",
    "        filtered_df = filtered_df.dropna()\n",
    "        # Reset index \n",
    "        filtered_df.reset_index(drop=True)\n",
    "        return filtered_df\n",
    "    filtered_df_BB = filter_df(df_BB,doy_column_BB, spray_col_name)\n",
    "\n",
    "    filtered_df_Flwr = filter_df(df_Flwr,doy_column_Flwr, spray_col_name)\n",
    "\n",
    "    # Spray date(s)\n",
    "    application_dates = filtered_df_BB[spray_col_name].unique()\n",
    "\n",
    "    BudBurstDOYs = []\n",
    "    FlwrDOYs = []\n",
    "    for spray_date in application_dates:\n",
    "        # find the budburst doy for each application date\n",
    "        filtered_df_BB_spray = filtered_df_BB[filtered_df_BB[spray_col_name].isin([spray_date])]\n",
    "        BB_percent = False\n",
    "        PBB, BB, BudBurstDOY, max_observed_buds = utils.BB_specifications(location,filtered_df_BB_spray[doy_column_BB],BB_percent)\n",
    "        BudBurstDOYs.append(int(BudBurstDOY))\n",
    "        maxBBPsequence = np.empty(len(doy_column_BB))*np.nan\n",
    "        maxBBPsequence[-1] = np.max(PBB)\n",
    "\n",
    "        # Corresponding stage name (StartFlowering) to get the max BBP \n",
    "        MaxBBPstageSequence = [np.nan for i in range(len(doy_column_BB))]\n",
    "        MaxBBPstageSequence[-1] = 'StartFlowering'\n",
    "\n",
    "\n",
    "        # Generate the observations Excel file for Budbreak\n",
    "        excel_observ_BB = pd.DataFrame(data={\n",
    "        'SimulationName': f'{BB_sheet_name}{filtered_df_BB_spray[TREATMENT].iloc[0].replace(\" \", \"\")}{pd.to_datetime(spray_date).day_of_year}', \n",
    "                                            'Clock.Today': [col for col in raw_df_BB.columns if utils.is_date_column(col)],\n",
    "                                            'Clock.Today.Year': obs_year,\n",
    "                                            'DOY': doy_column_BB, \n",
    "                                            LOCATION: filtered_df_BB_spray[LOCATION].iloc[0], \n",
    "                                            TREATMENT: filtered_df_BB_spray[TREATMENT].iloc[0],\n",
    "                                            'KiwiFruit.Phenology.BrokenBuds': BB,\n",
    "                                            'KiwiFruit.Phenology.ProportionBB': PBB,\n",
    "                                            'KiwiFruit.Phenology.BudBurstDOY': BudBurstDOY,\n",
    "                                            'KiwiFruit.Phenology.MaxBBP': maxBBPsequence,\n",
    "                                            'KiwiFruit.Phenology.CurrentStageName': MaxBBPstageSequence})\n",
    "        \n",
    "        FlwrDOY, Flowers = utils.Flwr_specifications(np.max(BB),filtered_df_Flwr[doy_column_Flwr])\n",
    "        FlwrDOYs.append(int(FlwrDOY))\n",
    "        maxFlwrsequence = np.empty(len(doy_column_Flwr))*np.nan\n",
    "        maxFlwrsequence[-1] = FlwrDOY\n",
    "\n",
    "        # Corresponding stage name (StartFlowering) to get the max BBP \n",
    "        MaxFlwrstageSequence = [np.nan for i in range(len(doy_column_Flwr))]\n",
    "        MaxFlwrstageSequence[-1] = 'StartFlowering'\n",
    "\n",
    "        # Generate the observations Excel file for Flowering\n",
    "        excel_observ_Flwr = pd.DataFrame(data={\n",
    "        'SimulationName': f'{BB_sheet_name}{filtered_df_BB[TREATMENT].iloc[0].replace(\" \", \"\")}{pd.to_datetime(spray_date).day_of_year}',  # Use same BB sheet name to be able to put in same apsim simulation\n",
    "                                            'Clock.Today': [col for col in raw_df_Flwr.columns if utils.is_date_column(col)],\n",
    "                                            'Clock.Today.Year': obs_year,\n",
    "                                            'DOY': doy_column_Flwr, \n",
    "                                            LOCATION: filtered_df_Flwr[LOCATION].iloc[0], \n",
    "                                            TREATMENT: filtered_df_Flwr[TREATMENT].iloc[0],\n",
    "                                            'KiwiFruit.Phenology.Flowers': Flowers,\n",
    "                                            'KiwiFruit.Phenology.FloweringDOY': FlwrDOY,\n",
    "                                            'KiwiFruit.Phenology.CurrentStageName': MaxFlwrstageSequence})\n",
    "        \n",
    "        excel_observs_BB.append(excel_observ_BB)\n",
    "        excel_observs_Flwr.append(excel_observ_Flwr)\n",
    "\n",
    "    return obs_year, application_dates, PBB, BB, BudBurstDOYs, FlwrDOYs, excel_observs_BB, excel_observs_Flwr\n",
    "    \n"
   ]
  },
  {
   "cell_type": "code",
   "execution_count": 5,
   "id": "61eb1b32",
   "metadata": {},
   "outputs": [],
   "source": [
    "# Load datasets for observations\n",
    "def load_observations_control(file_path,BB_sheet_name, Flwr_sheet_name, cultivar_col,cultivar_name,treatment_col,treatment_name,location):\n",
    "    \n",
    "    # Define the expected column names for the final concatenated DataFrame\n",
    "    TREATMENT = \"Treatment\"\n",
    "    LOCATION = \"Location\"\n",
    "    xls = pd.ExcelFile(file_path, engine=\"openpyxl\")\n",
    "    raw_df_BB = pd.read_excel(xls, sheet_name = BB_sheet_name)\n",
    "    raw_df_Flwr = pd.read_excel(xls, sheet_name = Flwr_sheet_name)\n",
    "\n",
    "    # Rename the Dates to Days of Year (DOY)\n",
    "    doy_column_BB = [pd.to_datetime(col).dayofyear for col in raw_df_BB.columns if utils.is_date_column(col)]\n",
    "    df_BB = raw_df_BB.rename(columns={col:pd.to_datetime(col).dayofyear for col in raw_df_BB.columns if utils.is_date_column(col)})\n",
    "\n",
    "    doy_column_Flwr = [pd.to_datetime(col).dayofyear for col in raw_df_Flwr.columns if utils.is_date_column(col)]\n",
    "    df_Flwr = raw_df_Flwr.rename(columns={col:pd.to_datetime(col).dayofyear for col in raw_df_Flwr.columns if utils.is_date_column(col)})\n",
    "\n",
    "    obs_year = [pd.to_datetime(col).year for col in raw_df_BB.columns if utils.is_date_column(col)][0]\n",
    "\n",
    "\n",
    "    # Apply filtering for the given cultivar & treatments\n",
    "    def filter_df(df, doy_column):\n",
    "        filtered_df = df[df[cultivar_col].isin([cultivar_name]) & df[treatment_col].isin([treatment_name])]\n",
    "        # Rename columns\n",
    "        columns_to_select = [treatment_col] + doy_column \n",
    "        filtered_df = filtered_df[columns_to_select]\n",
    "        filtered_df.rename(columns={treatment_col: TREATMENT}, inplace=True)\n",
    "        # Add the LOCATION column to the DataFrame\n",
    "        filtered_df[LOCATION] = location\n",
    "        # Remove rows with any NaN values\n",
    "        filtered_df = filtered_df.dropna()\n",
    "        # Reset index \n",
    "        filtered_df.reset_index(drop=True)\n",
    "        return filtered_df\n",
    "    filtered_df_BB = filter_df(df_BB,doy_column_BB)\n",
    "    filtered_df_Flwr = filter_df(df_Flwr,doy_column_Flwr)\n",
    "\n",
    "\n",
    "    # find the budburst doy for control treatments\n",
    "    BB_percent = False\n",
    "    PBB, BB, BudBurstDOY, max_observed_buds = utils.BB_specifications(location,filtered_df_BB[doy_column_BB],BB_percent)\n",
    "\n",
    "    FlwrDOY, Flowers = utils.Flwr_specifications(np.max(BB),filtered_df_Flwr[doy_column_Flwr])\n",
    "\n",
    "\n",
    "    return obs_year, PBB, BB, BudBurstDOY, FlwrDOY\n",
    "    \n"
   ]
  },
  {
   "cell_type": "code",
   "execution_count": 6,
   "id": "4dba0dc4",
   "metadata": {},
   "outputs": [],
   "source": [
    "with open(\"config_MultiDataFiles_HC.json\", \"r\") as file:\n",
    "    config = json.load(file)\n",
    "base_model_config = utils.base_model_config()\n",
    "start_doy = pd.to_datetime(base_model_config[\"StartDay\"]).dayofyear\n",
    "\n",
    "predicted_endo_release_doy = defaultdict(lambda: defaultdict(lambda: dict()))\n",
    "predicted_budbreak_doy = defaultdict(lambda: defaultdict(lambda: dict()))\n",
    "observed_budbreak_doy = defaultdict(lambda: defaultdict(lambda: dict()))\n",
    "predicted_flowering_doy = defaultdict(lambda: defaultdict(lambda: dict()))\n",
    "observed_flowering_doy = defaultdict(lambda: defaultdict(lambda: dict()))\n",
    "observed_application_doy = defaultdict(lambda: defaultdict(lambda: dict()))\n",
    "observed_budbreak_doy_control = defaultdict(lambda: defaultdict(lambda: dict()))\n",
    "weather_df = defaultdict(lambda: defaultdict(lambda: dict()))\n",
    "excel_observs_BB = []\n",
    "excel_observs_Flwr = []\n",
    "output_excel = 'HC_Observations.xlsx'\n",
    "\n",
    "# Load environment variables\n",
    "load_dotenv()\n",
    "FOLDER_PATH = os.getenv('FOLDER_PATH')\n",
    "for file_name, file_info in config.items():\n",
    "        file_path = os.path.join(FOLDER_PATH, file_name)\n",
    "        # Process each sheet\n",
    "        for sheet_info in file_info['sheets']:\n",
    "            # Extract sheet names, cultivars, and treatments\n",
    "            BB_sheet_name = sheet_info['BB_sheet_name']\n",
    "            Flwr_sheet_name = sheet_info['Flwr_sheet_name']\n",
    "            location = sheet_info['location']\n",
    "            spray_col_name = sheet_info['spray']\n",
    "            control_col, control_name  = list(sheet_info['control'].items())[0]\n",
    "            cultivar_col, cultivar_name = list(sheet_info['cultivar'].items())[0]\n",
    "            treatment_col, treatment_name = list(sheet_info['treatments'].items())[0]\n",
    "\n",
    "            # Load and calculate the observed budburst doy\n",
    "            obs_year, application_dates, PBB, BB, BudBurstDOYs, Flwr_DOYs, excel_observs_BB, excel_observs_Flwr = load_observations_HC(file_path,BB_sheet_name, Flwr_sheet_name, cultivar_col,cultivar_name,treatment_col,treatment_name,location,excel_observs_BB, excel_observs_Flwr,spray_col_name)\n",
    "            obs_year, PBB_control, BB_control, BudBurstDOY_control, FlwrDOY_control = load_observations_control(file_path,BB_sheet_name, Flwr_sheet_name, cultivar_col,cultivar_name,treatment_col,treatment_name,location)\n",
    "\n",
    "            for spray_date,BudBurstDOY,Flwr_DOY in zip(application_dates,BudBurstDOYs,Flwr_DOYs):\n",
    "                observed_budbreak_doy[location][obs_year][BB_sheet_name+treatment_name+str(pd.to_datetime(spray_date).dayofyear)] = BudBurstDOY\n",
    "                observed_flowering_doy[location][obs_year][BB_sheet_name+treatment_name+str(pd.to_datetime(spray_date).dayofyear)] = Flwr_DOY\n",
    "                observed_application_doy[location][obs_year][BB_sheet_name+treatment_name+str(pd.to_datetime(spray_date).dayofyear)] = pd.to_datetime(spray_date).dayofyear\n",
    "\n",
    "                # Load and store the weather data\n",
    "                weather_path = sheet_info['weather_path']\n",
    "                weather_data = load_weather(weather_path, obs_year)\n",
    "                weather_df[location][obs_year][BB_sheet_name+treatment_name+str(pd.to_datetime(spray_date).dayofyear)] = weather_data\n",
    "\n",
    "                # Add the control values for BB doy\n",
    "                observed_budbreak_doy_control[location][obs_year][BB_sheet_name+treatment_name+str(pd.to_datetime(spray_date).dayofyear)] = BudBurstDOY_control\n",
    "\n",
    "\n",
    "\n",
    "\n",
    "excel_observs_BB_df = pd.concat(excel_observs_BB, ignore_index=True, sort=False)\n",
    "excel_observs_Flwr_df = pd.concat(excel_observs_Flwr, ignore_index=True, sort=False)\n",
    "\n",
    "with pd.ExcelWriter(output_excel, engine='openpyxl') as writer:\n",
    "    excel_observs_BB_df.to_excel(writer, sheet_name='BB-HC', index=False)\n",
    "    excel_observs_Flwr_df.to_excel(writer, sheet_name='Flwr-HC', index=False)"
   ]
  },
  {
   "cell_type": "code",
   "execution_count": 7,
   "id": "0e82211d",
   "metadata": {},
   "outputs": [],
   "source": [
    "def Chill(Tc, T):\n",
    "    if T>=0 and T <= Tc:\n",
    "        return (((4*T)/(Tc**2))*(Tc-T))\n",
    "    else:\n",
    "        return 0\n",
    "    \n",
    "def Wangengel(MinTemp,OptTemp,MaxTemp,RefTemp,T):\n",
    "    RelEff = 0.0\n",
    "    RelEffRefTemp = 1.0\n",
    "    p = 0.0\n",
    "\n",
    "    if MinTemp < T < MaxTemp:\n",
    "        p = math.log(2.0) / math.log((MaxTemp - MinTemp) / (OptTemp - MinTemp))\n",
    "        RelEff = (2 * (T - MinTemp) ** p * (OptTemp - MinTemp) ** p - (T - MinTemp) ** (2 * p)) / (OptTemp - MinTemp) ** (2 * p)\n",
    "\n",
    "    if MinTemp < RefTemp < MaxTemp:\n",
    "        p = math.log(2.0) / math.log((MaxTemp - MinTemp) / (OptTemp - MinTemp))\n",
    "        RelEffRefTemp = (2 * (RefTemp - MinTemp) ** p * (OptTemp - MinTemp) ** p - (RefTemp - MinTemp) ** (2 * p)) / (OptTemp - MinTemp) ** (2 * p)\n",
    "\n",
    "    return float(RelEff / RelEffRefTemp)\n",
    "\n",
    "# Budbreak prediction \n",
    "def budbreak_prediction(weather_since_start_doy, chill_target, heat_target):\n",
    "    chillVal = 0\n",
    "    for idx_endodormancy_release, temp in enumerate(weather_since_start_doy['temp']):\n",
    "        chillVal += Chill( base_model_config['Tc_chill'], temp)\n",
    "        if chillVal >= chill_target:\n",
    "            break\n",
    "\n",
    "    # Heat accumulation\n",
    "    # from the date of endodormancy release, start accumulating heat\n",
    "    heatVal = 0\n",
    "    for idx_bb, temp in enumerate(weather_since_start_doy['temp'][idx_endodormancy_release+1:]):\n",
    "        heatVal += Wangengel(base_model_config[\"MinTemp_BB\"], base_model_config[\"OptTemp_BB\"],base_model_config[\"MaxTemp_BB\"], base_model_config[\"RefTemp_BB\"],temp)\n",
    "        if heatVal >= heat_target:\n",
    "            predicted_doy = int(weather_since_start_doy['doy'].iloc[idx_endodormancy_release + idx_bb + 1])\n",
    "            break\n",
    "    return predicted_doy\n",
    "\n",
    "def logistic_scaling(app_units, ideal_units,max_effect_low, max_effect_high, steepness):\n",
    "    distance = app_units - ideal_units\n",
    "    scale = 1 / (1 + np.exp(-steepness * distance))\n",
    "    max_effect = max_effect_low + scale * (max_effect_high - max_effect_low)\n",
    "    return max_effect\n",
    "\n",
    "def linear_scaling(app_units, ideal_units, max_effect_high, max_effect_low,  tolerance):\n",
    "    # Linear scaling of max_effect depending on distance from ideal_doy\n",
    "    distance = abs(app_units - ideal_units)\n",
    "    scale = min(distance / tolerance, 1)  # cap at 1 to avoid over-scaling\n",
    "    max_effect = max_effect_low + scale * (max_effect_high - max_effect_low)\n",
    "    return max_effect\n",
    "\n",
    "def quadratic_scaling(app_units, ideal_units, max_effect_high, max_effect_low,  tolerance):\n",
    "    # Linear scaling of max_effect depending on distance from ideal_doy\n",
    "    distance = abs(app_units - ideal_units)\n",
    "    scale = min(distance / tolerance, 1) ** 2 # cap at 1 to avoid over-scaling\n",
    "    max_effect = max_effect_low + scale * (max_effect_high - max_effect_low)\n",
    "    return max_effect\n",
    "\n",
    "def hi_cane_effective_chill_target(ideal_units, max_effect, tolerance, app_units, base_chill_target):\n",
    "    \"\"\"\n",
    "    Adjusts effective chill target based on timing of Hi-Cane application and \n",
    "    a linearly scaled max effect that varies with application units (app_units) relative to ideal window.\n",
    "    \n",
    "    Parameters:\n",
    "    - ideal_units: target accumulated units where Hi-Cane is most effective\n",
    "    - max_effect_high: effect when applied far from ideal (e.g. early/late)\n",
    "    - max_effect_low: effect when applied near the ideal time\n",
    "    - tolerance: spread of the Gaussian curve\n",
    "    - app_units: accumulated chill units at application\n",
    "    - base_chill_target: baseline chill requirement without Hi-Cane\n",
    "        \n",
    "    Returns:\n",
    "        adjusted chill target based on application timing\n",
    "    \"\"\"\n",
    "    Gaussian = max_effect * np.exp(-0.5 * ((app_units - ideal_units) / tolerance) ** 2)\n",
    "\n",
    "    # linear scaling:\n",
    "    # max_effect = quadratic_scaling(app_units, ideal_units, max_effect_high, max_effect_low, tolerance)\n",
    "\n",
    "    effect = 1 - Gaussian\n",
    "\n",
    "    effective_chill_target = base_chill_target * effect\n",
    "\n",
    "    return effective_chill_target\n",
    "\n",
    "def logistic(app_units, ideal_units, max_effect, steepness, elevation):\n",
    "    return elevation + max_effect/(1 + np.exp(-steepness*(app_units - ideal_units)))\n",
    "\n",
    "def skewed_gaussian_effect(Acc_unit_spray, max_effect, center, width, skew, base_chill_target):\n",
    "    skewed_Guassian =  skewnorm.pdf(Acc_unit_spray - center, a=skew, scale=width) \n",
    "    effect = 1 - max_effect * skewed_Guassian\n",
    "    effective_chill_target = base_chill_target * effect\n",
    "\n",
    "    return effective_chill_target\n"
   ]
  },
  {
   "cell_type": "markdown",
   "id": "a12539b5",
   "metadata": {},
   "source": [
    "# Calculate Acc. Chill & Heat units on Spray Date"
   ]
  },
  {
   "cell_type": "code",
   "execution_count": 8,
   "id": "301b140e",
   "metadata": {},
   "outputs": [],
   "source": [
    "CU_spray = defaultdict(lambda: defaultdict(lambda: dict()))\n",
    "HU_spray = defaultdict(lambda: defaultdict(lambda: dict()))\n",
    "CHU_spray = defaultdict(lambda: defaultdict(lambda: dict()))\n",
    "\n",
    "\n",
    "CHU_observation = defaultdict(lambda: defaultdict(lambda: dict()))\n",
    "CU_observation = defaultdict(lambda: defaultdict(lambda: dict()))\n",
    "HU_observation = defaultdict(lambda: defaultdict(lambda: dict()))\n",
    "\n",
    "\n",
    "start_day = int(round(pd.to_datetime(utils.base_model_config()['StartDay']).day_of_year))\n",
    "\n",
    "for location in observed_application_doy.keys():\n",
    "    for year in observed_application_doy[location].keys():\n",
    "        for sheet_info, weather_data in weather_df[location][year].items():\n",
    "            application_doy = observed_application_doy[location][year][sheet_info]\n",
    "            observation_doy = observed_budbreak_doy[location][year][sheet_info]\n",
    "            weather_since_start_doy = weather_data[weather_data['doy']>=start_day].reset_index(drop=True)  \n",
    "            \n",
    "            # Chill & heat accumulation on Spray Date\n",
    "            chillVal = 0\n",
    "            heatVal = 0\n",
    "            for idx_endodormancy_release, temp in enumerate(weather_since_start_doy['temp']):\n",
    "                chillVal += Chill( base_model_config['Tc_chill'], temp)\n",
    "                if (weather_since_start_doy['doy'].iloc[idx_endodormancy_release] == application_doy and chillVal < base_model_config['ChillRequirement']):\n",
    "                    CHU_spray[location][year][sheet_info] = chillVal    \n",
    "                    CU_spray[location][year][sheet_info] = chillVal   # store accumulated chill in a separate dict\n",
    "                    break \n",
    "                elif (weather_since_start_doy['doy'].iloc[idx_endodormancy_release] < application_doy and chillVal >= base_model_config['ChillRequirement']):\n",
    "                    CU_spray[location][year][sheet_info] = base_model_config['ChillRequirement']   # store accumulated chill in a separate dict\n",
    "                    break \n",
    "            for idx_bb, temp in enumerate(weather_since_start_doy['temp'][idx_endodormancy_release+1:]):\n",
    "                heatVal += Wangengel(base_model_config[\"MinTemp_BB\"], base_model_config[\"OptTemp_BB\"],base_model_config[\"MaxTemp_BB\"], base_model_config[\"RefTemp_BB\"],temp)                       \n",
    "                if weather_since_start_doy['doy'].iloc[idx_bb+idx_endodormancy_release+1] == application_doy: # count all the heat units even if it's over the heat target (to account for even after BB spraying)                       \n",
    "                    CHU_spray[location][year][sheet_info] = chillVal + heatVal\n",
    "                    HU_spray[location][year][sheet_info] = heatVal   # store accumulated heat in a separate dict\n",
    "                    break \n",
    "\n",
    "            # Chill & heat accumulation on Observation Date\n",
    "            chillVal = 0\n",
    "            heatVal = 0\n",
    "            for idx_endodormancy_release, temp in enumerate(weather_since_start_doy['temp']):\n",
    "                    chillVal += Chill( base_model_config['Tc_chill'], temp)\n",
    "                    if (weather_since_start_doy['doy'].iloc[idx_endodormancy_release] == observation_doy and chillVal < base_model_config['ChillRequirement']):\n",
    "                        CHU_observation[location][year][sheet_info] = chillVal    \n",
    "                        CU_observation[location][year][sheet_info] = chillVal   # store accumulated chill in a separate dict\n",
    "                        break \n",
    "                    elif (weather_since_start_doy['doy'].iloc[idx_endodormancy_release] < observation_doy and chillVal >= base_model_config['ChillRequirement']):\n",
    "                        CU_observation[location][year][sheet_info] = base_model_config['ChillRequirement'] # store accumulated chill in a separate dict\n",
    "                        break \n",
    "            # if (weather_since_start_doy['doy'].iloc[idx_endodormancy_release] < observation_doy and chillVal >= base_model_config['ChillRequirement']):\n",
    "            for idx_bb, temp in enumerate(weather_since_start_doy['temp'][idx_endodormancy_release+1:]):\n",
    "                heatVal += Wangengel(base_model_config[\"MinTemp_BB\"], base_model_config[\"OptTemp_BB\"],base_model_config[\"MaxTemp_BB\"], base_model_config[\"RefTemp_BB\"],temp)                       \n",
    "                if weather_since_start_doy['doy'].iloc[idx_bb+idx_endodormancy_release+1] == observation_doy: # count all the heat units even if it's over the heat target (to account for even after BB spraying)                       \n",
    "                    CHU_observation[location][year][sheet_info] = chillVal + heatVal\n",
    "                    HU_observation[location][year][sheet_info] = heatVal  # store accumulated heat in a separate dict\n",
    "                    break \n",
    "                     "
   ]
  },
  {
   "cell_type": "code",
   "execution_count": 23,
   "id": "120a7b74",
   "metadata": {},
   "outputs": [
    {
     "name": "stdout",
     "output_type": "stream",
     "text": [
      "HW-BudbreakTP2020HiCane223 1642.93 0.00037124632696152593\n",
      "HW-Budbreak-TP2020HiCane226 1688.61 0.0009611741321809171\n",
      "HWBBRawTP2021HiCane214 1383.57 0.003992192746978747\n",
      "HWBBRawTP2021HiCane223 1532.14 4.4832643331235084e-06\n",
      "HWBBRawTP2021HiCane232 1666.2 9.301144557089224e-05\n",
      "NBB2010HC236 1446.09 0.0024798576114859225\n",
      "NBB2011HC248 1484.91 7.202690844160844e-05\n",
      "KKHaywardBB2013HC239 1533.29 0.005099222383619593\n",
      "KKHaywardBB2018HiCane 6% + 0.2% Driftstop239 1452.06 0.00011860055386929313\n",
      "KKHaywardBB2018HiCane 6% + 0.2% Driftstop248 1553.68 0.00027309213181635444\n",
      "HaywardBB2019HC 6% + 0.2%DS236 1472.81 0.018017415105686514\n",
      "HaywardBB2019HC 6% + 0.2%DS243 1561.79 6.320298494939304e-07\n",
      "HWBBRaw2020HiCane+Driftstop240 1346.11 5.89184178433483e-05\n",
      "HWBBRaw2020HiCane+Driftstop235 1297.61 0.013258201892383203\n",
      "HWBBRaw2020HiCane+Driftstop247 1428.57 3.219152502436261e-07\n",
      "HWBBSpray2020HiCane+Driftstop248 1444.12 4.79605339591688e-09\n",
      "HWBBSpray2020HiCane+Driftstop243 1387.19 0.000737276959492689\n",
      "17\n"
     ]
    }
   ],
   "source": [
    "# Print the experiment names that HC was applied during endodormancy (acc. heat at spraying time is zero) and\n",
    "# the acc. heat at observed budbreak time does not exceed the Heat Requirement (101.29 units)\n",
    "i = 0\n",
    "heat_acc_threshold = 0.02\n",
    "for loc in HU_spray.keys():\n",
    "    for year in HU_spray[loc].keys():\n",
    "            for sheet_info in HU_spray[loc][year]:\n",
    "                if HU_spray[loc][year][sheet_info] < heat_acc_threshold and HU_observation[loc][year][sheet_info] < base_model_config['HeatRequirement']:\n",
    "                    print(sheet_info, round(CU_spray[loc][year][sheet_info],2), HU_spray[loc][year][sheet_info])\n",
    "                    i += 1\n",
    "print(i)"
   ]
  },
  {
   "cell_type": "markdown",
   "id": "3cad7699",
   "metadata": {},
   "source": [
    "# Calculate Acc. Chill units on Control BB Date"
   ]
  },
  {
   "cell_type": "code",
   "execution_count": 24,
   "id": "b5325783",
   "metadata": {},
   "outputs": [],
   "source": [
    "CHU_observation_control = defaultdict(lambda: defaultdict(lambda: dict()))\n",
    "\n",
    "start_day = int(round(pd.to_datetime(utils.base_model_config()['StartDay']).day_of_year))\n",
    "\n",
    "for location in observed_budbreak_doy_control.keys():\n",
    "    for year in observed_budbreak_doy_control[location].keys():\n",
    "        for sheet_info, weather_data in weather_df[location][year].items():\n",
    "            application_doy = observed_budbreak_doy_control[location][year][sheet_info]\n",
    "            observation_doy = observed_budbreak_doy_control[location][year][sheet_info]\n",
    "            weather_since_start_doy = weather_data[weather_data['doy']>=start_day].reset_index(drop=True)  \n",
    "\n",
    "            # Chill & heat accumulation on Observation Date\n",
    "            chillVal = 0\n",
    "            heatVal = 0\n",
    "            for idx_endodormancy_release, temp in enumerate(weather_since_start_doy['temp']):\n",
    "                    chillVal += Chill( base_model_config['Tc_chill'], temp)\n",
    "                    if (weather_since_start_doy['doy'].iloc[idx_endodormancy_release] == observation_doy and chillVal < base_model_config['ChillRequirement']):\n",
    "                        CHU_observation_control[location][year][sheet_info] = chillVal    \n",
    "                        break \n",
    "                    elif (weather_since_start_doy['doy'].iloc[idx_endodormancy_release] < observation_doy and chillVal >= base_model_config['ChillRequirement']):\n",
    "                        break \n",
    "            # if (weather_since_start_doy['doy'].iloc[idx_endodormancy_release] < observation_doy and chillVal >= base_model_config['ChillRequirement']):\n",
    "            for idx_bb, temp in enumerate(weather_since_start_doy['temp'][idx_endodormancy_release+1:]):\n",
    "                heatVal += Wangengel(base_model_config[\"MinTemp_BB\"], base_model_config[\"OptTemp_BB\"],base_model_config[\"MaxTemp_BB\"], base_model_config[\"RefTemp_BB\"],temp)                       \n",
    "                if weather_since_start_doy['doy'].iloc[idx_bb+idx_endodormancy_release+1] == observation_doy: # count all the heat units even if it's over the heat target (to account for even after BB spraying)                       \n",
    "                    CHU_observation_control[location][year][sheet_info] = chillVal + heatVal\n",
    "                    break \n"
   ]
  },
  {
   "cell_type": "code",
   "execution_count": 25,
   "id": "4c82d3b3",
   "metadata": {},
   "outputs": [],
   "source": [
    "observations = []\n",
    "predictions = []\n",
    "spray_doys = []\n",
    "chu_obs = []\n",
    "chu_spray = []\n",
    "control = []\n",
    "cu_obs = []\n",
    "cu_spray = []\n",
    "hu_obs = []\n",
    "hu_spray = []\n",
    "\n",
    "hc_doy = []\n",
    "control_doy = []\n",
    "\n",
    "for loc in observed_budbreak_doy.keys():\n",
    "     for year in observed_budbreak_doy[loc].keys():\n",
    "            for sheet_info in observed_budbreak_doy[loc][year]:\n",
    "                observed_bb = observed_budbreak_doy[loc][year][sheet_info]\n",
    "                observations.append(observed_bb)\n",
    "                # predicted_bb = predicted_budbreak_doy[loc][year][sheet_info]\n",
    "                # predictions.append(predicted_bb)\n",
    "\n",
    "                spray_doys.append(observed_application_doy[loc][year][sheet_info])\n",
    "                chu_obs.append(CHU_observation[loc][year][sheet_info])\n",
    "                chu_spray.append(CHU_spray[loc][year][sheet_info])\n",
    "                control.append(CHU_observation_control[loc][year][sheet_info])\n",
    "\n",
    "                control_doy.append(observed_budbreak_doy_control[loc][year][sheet_info])\n",
    "                hc_doy.append(observed_budbreak_doy[loc][year][sheet_info])\n",
    "\n",
    "                # Having the acc. chill & heat units separately at observed BB and HC spray time\n",
    "                cu_obs.append(CU_observation[loc][year][sheet_info])\n",
    "                hu_obs.append(HU_observation[loc][year][sheet_info])\n",
    "                cu_spray.append(CU_spray[loc][year][sheet_info])\n",
    "                hu_spray.append(HU_spray[loc][year][sheet_info])\n"
   ]
  },
  {
   "cell_type": "markdown",
   "id": "7dea40d3",
   "metadata": {},
   "source": [
    "# Hi-Cane Effectiveness on Chill Target"
   ]
  },
  {
   "cell_type": "code",
   "execution_count": 26,
   "id": "94201ae4",
   "metadata": {},
   "outputs": [
    {
     "data": {
      "image/png": "[encoded data removed]",
      "text/plain": [
       "<Figure size 1200x800 with 1 Axes>"
      ]
     },
     "metadata": {},
     "output_type": "display_data"
    },
    {
     "name": "stdout",
     "output_type": "stream",
     "text": [
      "mu: 1370.000\n",
      "A: 0.045\n",
      "k: 0.036\n",
      "e: 0.955\n"
     ]
    }
   ],
   "source": [
    "chill_requirement = base_model_config['ChillRequirement']\n",
    "heat_requirement = base_model_config['HeatRequirement']\n",
    "\n",
    "\n",
    "chu_spray = np.array(chu_spray)\n",
    "chu_obs = np.array(chu_obs)\n",
    "control = np.array(control)\n",
    "spray_doys = np.array(spray_doys)\n",
    "\n",
    "control_doy = np.array(control_doy)\n",
    "hc_doy = np.array(hc_doy)\n",
    "\n",
    "cu_spray = np.array(cu_spray)\n",
    "cu_obs = np.array(cu_obs)\n",
    "hu_spray = np.array(hu_spray)\n",
    "hu_obs = np.array(hu_obs)\n",
    "\n",
    "filter_endo_spray = (hu_spray < heat_acc_threshold) & (hu_obs <= heat_requirement)\n",
    "\n",
    "x = cu_spray[filter_endo_spray]\n",
    "y = cu_obs[filter_endo_spray]/chill_requirement\n",
    "\n",
    "# Initial guess: [mu, A, k, e]\n",
    "p0 = [1400, 0.045, 0.5, 0.9]\n",
    "\n",
    "# Parameter bounds to help constrain and ensure both phases get fit\n",
    "bounds = (\n",
    "    [1370, 0.045, 0, 0],  # Lower bounds\n",
    "    [1500, 0.047, 1, 1]  # Upper bounds\n",
    ")\n",
    "\n",
    "# Fit the model\n",
    "popt_chill, _ = curve_fit(logistic, x, y, p0=p0, bounds=bounds, maxfev=10000)\n",
    "\n",
    "# Generate fit curve\n",
    "x_fit = np.linspace(0, max(x)+100, 300)\n",
    "y_fit = logistic(x_fit, *popt_chill)\n",
    "\n",
    "# Plot results\n",
    "plt.figure(figsize=(12, 8))\n",
    "plt.scatter(x, y, label=\"Observed\", color=\"blue\")\n",
    "plt.plot(x_fit, y_fit, label=\"Fitted Model\", color=\"darkred\", linewidth=2)\n",
    "plt.xlabel(\"Chill Units at Spray\")\n",
    "plt.ylabel(\"Hi-Cane Effectiveness on Chill Target\")\n",
    "plt.title(\"Hi-Cane Effect Model (Logistic) on Chill Target\")\n",
    "bbox = dict(boxstyle=\"round\", fc=\"0.8\")\n",
    "plt.legend()\n",
    "plt.grid(True)\n",
    "plt.tight_layout()\n",
    "plt.show()\n",
    "\n",
    "# Print fitted parameter values\n",
    "param_names = [\"mu\", \"A\", \"k\", \"e\"]\n",
    "for name, val in zip(param_names, popt_chill):\n",
    "    print(f\"{name}: {val:.3f}\")\n",
    "\n"
   ]
  },
  {
   "cell_type": "markdown",
   "id": "ee6cdc13",
   "metadata": {},
   "source": [
    "# Hi-Cane Effectiveness on Heat Target"
   ]
  },
  {
   "cell_type": "code",
   "execution_count": 32,
   "id": "4356e720",
   "metadata": {},
   "outputs": [
    {
     "data": {
      "image/png": "[encoded data removed]",
      "text/plain": [
       "<Figure size 1200x800 with 1 Axes>"
      ]
     },
     "metadata": {},
     "output_type": "display_data"
    },
    {
     "name": "stdout",
     "output_type": "stream",
     "text": [
      "mu: 1445.77\n",
      "A: 0.58\n",
      "k: 6.76\n",
      "e: 0.00\n"
     ]
    }
   ],
   "source": [
    "heat_requirement = base_model_config['HeatRequirement']\n",
    "\n",
    "\n",
    "chu_spray = np.array(chu_spray)\n",
    "chu_obs = np.array(chu_obs)\n",
    "control = np.array(control)\n",
    "spray_doys = np.array(spray_doys)\n",
    "\n",
    "control_doy = np.array(control_doy)\n",
    "hc_doy = np.array(hc_doy)\n",
    "\n",
    "cu_spray = np.array(cu_spray)\n",
    "cu_obs = np.array(cu_obs)\n",
    "hu_spray = np.array(hu_spray)\n",
    "hu_obs = np.array(hu_obs)\n",
    "\n",
    "filter_endo_spray = (hu_spray < heat_acc_threshold) & (hu_obs <= heat_requirement)\n",
    "\n",
    "\n",
    "x = cu_spray[filter_endo_spray]\n",
    "y = hu_obs[filter_endo_spray]/heat_requirement\n",
    "\n",
    "# Initial guess: [mu, A, k, e]\n",
    "p0 = [1450, 1, .5, 0]\n",
    "\n",
    "# Parameter bounds to help constrain and ensure both phases get fit\n",
    "bounds = (\n",
    "    [1300, 0, 0, 0],  # Lower bounds\n",
    "    [1600, 2, 10, 0.001]  # Upper bounds\n",
    ")\n",
    "\n",
    "# Fit the model\n",
    "popt_heat, _ = curve_fit(logistic, x, y, p0=p0, bounds=bounds, maxfev=10000)\n",
    "\n",
    "# Generate fit curve\n",
    "x_fit = np.linspace(min(x)-10, max(x), 300)\n",
    "y_fit = logistic(x_fit, *popt_heat)\n",
    "\n",
    "# Plot results\n",
    "plt.figure(figsize=(12, 8))\n",
    "plt.scatter(x, y, label=\"Observed\", color=\"blue\")\n",
    "plt.plot(x_fit, y_fit, label=\"Fitted Model\", color=\"darkred\", linewidth=2)\n",
    "plt.xlabel(\"Chill Units at Spray\")\n",
    "plt.ylabel(\"Hi-Cane Effectiveness on Heat Target\")\n",
    "plt.title(\"Hi-Cane Effect Model (Logistic) on Heat Target\")\n",
    "bbox = dict(boxstyle=\"round\", fc=\"0.8\")\n",
    "plt.legend()\n",
    "plt.grid(True)\n",
    "plt.tight_layout()\n",
    "plt.show()\n",
    "\n",
    "# Print fitted parameter values\n",
    "param_names = [\"mu\", \"A\", \"k\", \"e\"]\n",
    "for name, val in zip(param_names, popt_heat):\n",
    "    print(f\"{name}: {val:.2f}\")\n",
    "\n"
   ]
  },
  {
   "cell_type": "code",
   "execution_count": 28,
   "id": "0ae0582c",
   "metadata": {},
   "outputs": [
    {
     "data": {
      "application/vnd.plotly.v1+json": {
       "config": {
        "plotlyServerURL": "https://plot.ly"
       },
       "data": [
        {
         "marker": {
          "size": 15
         },
         "mode": "markers",
         "name": "HW-BudbreakTP2020HiCane223",
         "type": "scatter",
         "x": [
          256
         ],
         "y": [
          252
         ]
        },
        {
         "marker": {
          "size": 15
         },
         "mode": "markers",
         "name": "HW-Budbreak-TP2020HiCane226",
         "type": "scatter",
         "x": [
          258
         ],
         "y": [
          252
         ]
        },
        {
         "marker": {
          "size": 15
         },
         "mode": "markers",
         "name": "HWBBRawTP2021HiCane214",
         "type": "scatter",
         "x": [
          250
         ],
         "y": [
          232
         ]
        },
        {
         "marker": {
          "size": 15
         },
         "mode": "markers",
         "name": "HWBBRawTP2021HiCane223",
         "type": "scatter",
         "x": [
          262
         ],
         "y": [
          261
         ]
        },
        {
         "marker": {
          "size": 15
         },
         "mode": "markers",
         "name": "HWBBRawTP2021HiCane232",
         "type": "scatter",
         "x": [
          263
         ],
         "y": [
          261
         ]
        },
        {
         "marker": {
          "size": 15
         },
         "mode": "markers",
         "name": "NBB2010HC236",
         "type": "scatter",
         "x": [
          273
         ],
         "y": [
          271
         ]
        },
        {
         "marker": {
          "size": 15
         },
         "mode": "markers",
         "name": "NBB2011HC248",
         "type": "scatter",
         "x": [
          274
         ],
         "y": [
          278
         ]
        },
        {
         "marker": {
          "size": 15
         },
         "mode": "markers",
         "name": "KKHaywardBB2013HC239",
         "type": "scatter",
         "x": [
          266
         ],
         "y": [
          263
         ]
        },
        {
         "marker": {
          "size": 15
         },
         "mode": "markers",
         "name": "KKHaywardBB2018HiCane 6% + 0.2% Driftstop239",
         "type": "scatter",
         "x": [
          270
         ],
         "y": [
          268
         ]
        },
        {
         "marker": {
          "size": 15
         },
         "mode": "markers",
         "name": "KKHaywardBB2018HiCane 6% + 0.2% Driftstop248",
         "type": "scatter",
         "x": [
          273
         ],
         "y": [
          275
         ]
        },
        {
         "marker": {
          "size": 15
         },
         "mode": "markers",
         "name": "HaywardBB2019HC 6% + 0.2%DS236",
         "type": "scatter",
         "x": [
          266
         ],
         "y": [
          270
         ]
        },
        {
         "marker": {
          "size": 15
         },
         "mode": "markers",
         "name": "HaywardBB2019HC 6% + 0.2%DS243",
         "type": "scatter",
         "x": [
          269
         ],
         "y": [
          270
         ]
        },
        {
         "marker": {
          "size": 15
         },
         "mode": "markers",
         "name": "HWBBRaw2020HiCane+Driftstop240",
         "type": "scatter",
         "x": [
          265
         ],
         "y": [
          266
         ]
        },
        {
         "marker": {
          "size": 15
         },
         "mode": "markers",
         "name": "HWBBRaw2020HiCane+Driftstop235",
         "type": "scatter",
         "x": [
          264
         ],
         "y": [
          263
         ]
        },
        {
         "marker": {
          "size": 15
         },
         "mode": "markers",
         "name": "HWBBRaw2020HiCane+Driftstop247",
         "type": "scatter",
         "x": [
          273
         ],
         "y": [
          274
         ]
        },
        {
         "marker": {
          "size": 15
         },
         "mode": "markers",
         "name": "HWBBSpray2020HiCane+Driftstop248",
         "type": "scatter",
         "x": [
          273
         ],
         "y": [
          274
         ]
        },
        {
         "marker": {
          "size": 15
         },
         "mode": "markers",
         "name": "HWBBSpray2020HiCane+Driftstop243",
         "type": "scatter",
         "x": [
          271
         ],
         "y": [
          272
         ]
        },
        {
         "line": {
          "color": "white",
          "dash": "dash"
         },
         "mode": "lines",
         "name": "1:1 Line",
         "type": "scatter",
         "x": [
          232,
          278
         ],
         "y": [
          232,
          278
         ]
        },
        {
         "line": {
          "color": "grey",
          "dash": "dot"
         },
         "mode": "lines",
         "name": "+MAE",
         "type": "scatter",
         "x": [
          232,
          278
         ],
         "y": {
          "bdata": "9ihcj8JlbUB7FK5H4ZJxQA==",
          "dtype": "f8"
         }
        },
        {
         "line": {
          "color": "grey",
          "dash": "dot"
         },
         "mode": "lines",
         "name": "-MAE",
         "type": "scatter",
         "x": [
          232,
          278
         ],
         "y": {
          "bdata": "CtejcD2abECF61G4Hi1xQA==",
          "dtype": "f8"
         }
        },
        {
         "line": {
          "color": "yellow",
          "dash": "dot"
         },
         "mode": "lines",
         "name": "+RMSE",
         "type": "scatter",
         "x": [
          232,
          278
         ],
         "y": {
          "bdata": "9ihcj8JlbUB7FK5H4ZJxQA==",
          "dtype": "f8"
         }
        },
        {
         "line": {
          "color": "yellow",
          "dash": "dot"
         },
         "mode": "lines",
         "name": "-RMSE",
         "type": "scatter",
         "x": [
          232,
          278
         ],
         "y": {
          "bdata": "CtejcD2abECF61G4Hi1xQA==",
          "dtype": "f8"
         }
        }
       ],
       "layout": {
        "height": 1400,
        "template": {
         "data": {
          "bar": [
           {
            "error_x": {
             "color": "#f2f5fa"
            },
            "error_y": {
             "color": "#f2f5fa"
            },
            "marker": {
             "line": {
              "color": "rgb(17,17,17)",
              "width": 0.5
             },
             "pattern": {
              "fillmode": "overlay",
              "size": 10,
              "solidity": 0.2
             }
            },
            "type": "bar"
           }
          ],
          "barpolar": [
           {
            "marker": {
             "line": {
              "color": "rgb(17,17,17)",
              "width": 0.5
             },
             "pattern": {
              "fillmode": "overlay",
              "size": 10,
              "solidity": 0.2
             }
            },
            "type": "barpolar"
           }
          ],
          "carpet": [
           {
            "aaxis": {
             "endlinecolor": "#A2B1C6",
             "gridcolor": "#506784",
             "linecolor": "#506784",
             "minorgridcolor": "#506784",
             "startlinecolor": "#A2B1C6"
            },
            "baxis": {
             "endlinecolor": "#A2B1C6",
             "gridcolor": "#506784",
             "linecolor": "#506784",
             "minorgridcolor": "#506784",
             "startlinecolor": "#A2B1C6"
            },
            "type": "carpet"
           }
          ],
          "choropleth": [
           {
            "colorbar": {
             "outlinewidth": 0,
             "ticks": ""
            },
            "type": "choropleth"
           }
          ],
          "contour": [
           {
            "colorbar": {
             "outlinewidth": 0,
             "ticks": ""
            },
            "colorscale": [
             [
              0,
              "#0d0887"
             ],
             [
              0.1111111111111111,
              "#46039f"
             ],
             [
              0.2222222222222222,
              "#7201a8"
             ],
             [
              0.3333333333333333,
              "#9c179e"
             ],
             [
              0.4444444444444444,
              "#bd3786"
             ],
             [
              0.5555555555555556,
              "#d8576b"
             ],
             [
              0.6666666666666666,
              "#ed7953"
             ],
             [
              0.7777777777777778,
              "#fb9f3a"
             ],
             [
              0.8888888888888888,
              "#fdca26"
             ],
             [
              1,
              "#f0f921"
             ]
            ],
            "type": "contour"
           }
          ],
          "contourcarpet": [
           {
            "colorbar": {
             "outlinewidth": 0,
             "ticks": ""
            },
            "type": "contourcarpet"
           }
          ],
          "heatmap": [
           {
            "colorbar": {
             "outlinewidth": 0,
             "ticks": ""
            },
            "colorscale": [
             [
              0,
              "#0d0887"
             ],
             [
              0.1111111111111111,
              "#46039f"
             ],
             [
              0.2222222222222222,
              "#7201a8"
             ],
             [
              0.3333333333333333,
              "#9c179e"
             ],
             [
              0.4444444444444444,
              "#bd3786"
             ],
             [
              0.5555555555555556,
              "#d8576b"
             ],
             [
              0.6666666666666666,
              "#ed7953"
             ],
             [
              0.7777777777777778,
              "#fb9f3a"
             ],
             [
              0.8888888888888888,
              "#fdca26"
             ],
             [
              1,
              "#f0f921"
             ]
            ],
            "type": "heatmap"
           }
          ],
          "histogram": [
           {
            "marker": {
             "pattern": {
              "fillmode": "overlay",
              "size": 10,
              "solidity": 0.2
             }
            },
            "type": "histogram"
           }
          ],
          "histogram2d": [
           {
            "colorbar": {
             "outlinewidth": 0,
             "ticks": ""
            },
            "colorscale": [
             [
              0,
              "#0d0887"
             ],
             [
              0.1111111111111111,
              "#46039f"
             ],
             [
              0.2222222222222222,
              "#7201a8"
             ],
             [
              0.3333333333333333,
              "#9c179e"
             ],
             [
              0.4444444444444444,
              "#bd3786"
             ],
             [
              0.5555555555555556,
              "#d8576b"
             ],
             [
              0.6666666666666666,
              "#ed7953"
             ],
             [
              0.7777777777777778,
              "#fb9f3a"
             ],
             [
              0.8888888888888888,
              "#fdca26"
             ],
             [
              1,
              "#f0f921"
             ]
            ],
            "type": "histogram2d"
           }
          ],
          "histogram2dcontour": [
           {
            "colorbar": {
             "outlinewidth": 0,
             "ticks": ""
            },
            "colorscale": [
             [
              0,
              "#0d0887"
             ],
             [
              0.1111111111111111,
              "#46039f"
             ],
             [
              0.2222222222222222,
              "#7201a8"
             ],
             [
              0.3333333333333333,
              "#9c179e"
             ],
             [
              0.4444444444444444,
              "#bd3786"
             ],
             [
              0.5555555555555556,
              "#d8576b"
             ],
             [
              0.6666666666666666,
              "#ed7953"
             ],
             [
              0.7777777777777778,
              "#fb9f3a"
             ],
             [
              0.8888888888888888,
              "#fdca26"
             ],
             [
              1,
              "#f0f921"
             ]
            ],
            "type": "histogram2dcontour"
           }
          ],
          "mesh3d": [
           {
            "colorbar": {
             "outlinewidth": 0,
             "ticks": ""
            },
            "type": "mesh3d"
           }
          ],
          "parcoords": [
           {
            "line": {
             "colorbar": {
              "outlinewidth": 0,
              "ticks": ""
             }
            },
            "type": "parcoords"
           }
          ],
          "pie": [
           {
            "automargin": true,
            "type": "pie"
           }
          ],
          "scatter": [
           {
            "marker": {
             "line": {
              "color": "#283442"
             }
            },
            "type": "scatter"
           }
          ],
          "scatter3d": [
           {
            "line": {
             "colorbar": {
              "outlinewidth": 0,
              "ticks": ""
             }
            },
            "marker": {
             "colorbar": {
              "outlinewidth": 0,
              "ticks": ""
             }
            },
            "type": "scatter3d"
           }
          ],
          "scattercarpet": [
           {
            "marker": {
             "colorbar": {
              "outlinewidth": 0,
              "ticks": ""
             }
            },
            "type": "scattercarpet"
           }
          ],
          "scattergeo": [
           {
            "marker": {
             "colorbar": {
              "outlinewidth": 0,
              "ticks": ""
             }
            },
            "type": "scattergeo"
           }
          ],
          "scattergl": [
           {
            "marker": {
             "line": {
              "color": "#283442"
             }
            },
            "type": "scattergl"
           }
          ],
          "scattermap": [
           {
            "marker": {
             "colorbar": {
              "outlinewidth": 0,
              "ticks": ""
             }
            },
            "type": "scattermap"
           }
          ],
          "scattermapbox": [
           {
            "marker": {
             "colorbar": {
              "outlinewidth": 0,
              "ticks": ""
             }
            },
            "type": "scattermapbox"
           }
          ],
          "scatterpolar": [
           {
            "marker": {
             "colorbar": {
              "outlinewidth": 0,
              "ticks": ""
             }
            },
            "type": "scatterpolar"
           }
          ],
          "scatterpolargl": [
           {
            "marker": {
             "colorbar": {
              "outlinewidth": 0,
              "ticks": ""
             }
            },
            "type": "scatterpolargl"
           }
          ],
          "scatterternary": [
           {
            "marker": {
             "colorbar": {
              "outlinewidth": 0,
              "ticks": ""
             }
            },
            "type": "scatterternary"
           }
          ],
          "surface": [
           {
            "colorbar": {
             "outlinewidth": 0,
             "ticks": ""
            },
            "colorscale": [
             [
              0,
              "#0d0887"
             ],
             [
              0.1111111111111111,
              "#46039f"
             ],
             [
              0.2222222222222222,
              "#7201a8"
             ],
             [
              0.3333333333333333,
              "#9c179e"
             ],
             [
              0.4444444444444444,
              "#bd3786"
             ],
             [
              0.5555555555555556,
              "#d8576b"
             ],
             [
              0.6666666666666666,
              "#ed7953"
             ],
             [
              0.7777777777777778,
              "#fb9f3a"
             ],
             [
              0.8888888888888888,
              "#fdca26"
             ],
             [
              1,
              "#f0f921"
             ]
            ],
            "type": "surface"
           }
          ],
          "table": [
           {
            "cells": {
             "fill": {
              "color": "#506784"
             },
             "line": {
              "color": "rgb(17,17,17)"
             }
            },
            "header": {
             "fill": {
              "color": "#2a3f5f"
             },
             "line": {
              "color": "rgb(17,17,17)"
             }
            },
            "type": "table"
           }
          ]
         },
         "layout": {
          "annotationdefaults": {
           "arrowcolor": "#f2f5fa",
           "arrowhead": 0,
           "arrowwidth": 1
          },
          "autotypenumbers": "strict",
          "coloraxis": {
           "colorbar": {
            "outlinewidth": 0,
            "ticks": ""
           }
          },
          "colorscale": {
           "diverging": [
            [
             0,
             "#8e0152"
            ],
            [
             0.1,
             "#c51b7d"
            ],
            [
             0.2,
             "#de77ae"
            ],
            [
             0.3,
             "#f1b6da"
            ],
            [
             0.4,
             "#fde0ef"
            ],
            [
             0.5,
             "#f7f7f7"
            ],
            [
             0.6,
             "#e6f5d0"
            ],
            [
             0.7,
             "#b8e186"
            ],
            [
             0.8,
             "#7fbc41"
            ],
            [
             0.9,
             "#4d9221"
            ],
            [
             1,
             "#276419"
            ]
           ],
           "sequential": [
            [
             0,
             "#0d0887"
            ],
            [
             0.1111111111111111,
             "#46039f"
            ],
            [
             0.2222222222222222,
             "#7201a8"
            ],
            [
             0.3333333333333333,
             "#9c179e"
            ],
            [
             0.4444444444444444,
             "#bd3786"
            ],
            [
             0.5555555555555556,
             "#d8576b"
            ],
            [
             0.6666666666666666,
             "#ed7953"
            ],
            [
             0.7777777777777778,
             "#fb9f3a"
            ],
            [
             0.8888888888888888,
             "#fdca26"
            ],
            [
             1,
             "#f0f921"
            ]
           ],
           "sequentialminus": [
            [
             0,
             "#0d0887"
            ],
            [
             0.1111111111111111,
             "#46039f"
            ],
            [
             0.2222222222222222,
             "#7201a8"
            ],
            [
             0.3333333333333333,
             "#9c179e"
            ],
            [
             0.4444444444444444,
             "#bd3786"
            ],
            [
             0.5555555555555556,
             "#d8576b"
            ],
            [
             0.6666666666666666,
             "#ed7953"
            ],
            [
             0.7777777777777778,
             "#fb9f3a"
            ],
            [
             0.8888888888888888,
             "#fdca26"
            ],
            [
             1,
             "#f0f921"
            ]
           ]
          },
          "colorway": [
           "#636efa",
           "#EF553B",
           "#00cc96",
           "#ab63fa",
           "#FFA15A",
           "#19d3f3",
           "#FF6692",
           "#B6E880",
           "#FF97FF",
           "#FECB52"
          ],
          "font": {
           "color": "#f2f5fa"
          },
          "geo": {
           "bgcolor": "rgb(17,17,17)",
           "lakecolor": "rgb(17,17,17)",
           "landcolor": "rgb(17,17,17)",
           "showlakes": true,
           "showland": true,
           "subunitcolor": "#506784"
          },
          "hoverlabel": {
           "align": "left"
          },
          "hovermode": "closest",
          "mapbox": {
           "style": "dark"
          },
          "paper_bgcolor": "rgb(17,17,17)",
          "plot_bgcolor": "rgb(17,17,17)",
          "polar": {
           "angularaxis": {
            "gridcolor": "#506784",
            "linecolor": "#506784",
            "ticks": ""
           },
           "bgcolor": "rgb(17,17,17)",
           "radialaxis": {
            "gridcolor": "#506784",
            "linecolor": "#506784",
            "ticks": ""
           }
          },
          "scene": {
           "xaxis": {
            "backgroundcolor": "rgb(17,17,17)",
            "gridcolor": "#506784",
            "gridwidth": 2,
            "linecolor": "#506784",
            "showbackground": true,
            "ticks": "",
            "zerolinecolor": "#C8D4E3"
           },
           "yaxis": {
            "backgroundcolor": "rgb(17,17,17)",
            "gridcolor": "#506784",
            "gridwidth": 2,
            "linecolor": "#506784",
            "showbackground": true,
            "ticks": "",
            "zerolinecolor": "#C8D4E3"
           },
           "zaxis": {
            "backgroundcolor": "rgb(17,17,17)",
            "gridcolor": "#506784",
            "gridwidth": 2,
            "linecolor": "#506784",
            "showbackground": true,
            "ticks": "",
            "zerolinecolor": "#C8D4E3"
           }
          },
          "shapedefaults": {
           "line": {
            "color": "#f2f5fa"
           }
          },
          "sliderdefaults": {
           "bgcolor": "#C8D4E3",
           "bordercolor": "rgb(17,17,17)",
           "borderwidth": 1,
           "tickwidth": 0
          },
          "ternary": {
           "aaxis": {
            "gridcolor": "#506784",
            "linecolor": "#506784",
            "ticks": ""
           },
           "baxis": {
            "gridcolor": "#506784",
            "linecolor": "#506784",
            "ticks": ""
           },
           "bgcolor": "rgb(17,17,17)",
           "caxis": {
            "gridcolor": "#506784",
            "linecolor": "#506784",
            "ticks": ""
           }
          },
          "title": {
           "x": 0.05
          },
          "updatemenudefaults": {
           "bgcolor": "#506784",
           "borderwidth": 0
          },
          "xaxis": {
           "automargin": true,
           "gridcolor": "#283442",
           "linecolor": "#506784",
           "ticks": "",
           "title": {
            "standoff": 15
           },
           "zerolinecolor": "#283442",
           "zerolinewidth": 2
          },
          "yaxis": {
           "automargin": true,
           "gridcolor": "#283442",
           "linecolor": "#506784",
           "ticks": "",
           "title": {
            "standoff": 15
           },
           "zerolinecolor": "#283442",
           "zerolinewidth": 2
          }
         }
        },
        "title": {
         "text": "BudBurst (MAE = 3.18, RMSE = 5.09, ObsSTD = 6.68)"
        },
        "width": 1600,
        "xaxis": {
         "title": {
          "text": "Observed BudBurst DOY"
         }
        },
        "yaxis": {
         "title": {
          "text": "Predicted BudBurst DOY"
         }
        }
       }
      }
     },
     "metadata": {},
     "output_type": "display_data"
    }
   ],
   "source": [
    "locations = ['Te Puke', 'Kerikeri']\n",
    "chill_start_day = pd.to_datetime(utils.base_model_config()['StartDay']).day_of_year \n",
    "\n",
    "\n",
    "predicted_budbreak_doy = defaultdict(lambda: defaultdict(lambda: defaultdict()))\n",
    "natural_budbreak_doy = defaultdict(lambda: defaultdict(lambda: defaultdict()))\n",
    "\n",
    "for i, location in enumerate(locations):\n",
    "    start_day = int(round(chill_start_day))\n",
    "    for year, sheet_info in weather_df[location].items(): \n",
    "        for sheet_info, weather_data in weather_df[location][year].items():\n",
    "            weather_since_start_doy = weather_data[weather_data['doy']>=start_day].reset_index(drop=True)  \n",
    "            \n",
    "            Acc_cu_spray = CU_spray[location][year][sheet_info]\n",
    "            Acc_hu_spray = HU_spray[location][year][sheet_info]\n",
    "\n",
    "            if Acc_hu_spray < heat_acc_threshold and HU_observation[location][year][sheet_info] <= base_model_config['HeatRequirement']:\n",
    "\n",
    "                proportion_cu = logistic(Acc_cu_spray, *popt_chill)\n",
    "                effective_chill_target = proportion_cu * base_model_config['ChillRequirement']\n",
    "\n",
    "                proportion_hu = logistic(Acc_cu_spray, *popt_heat)\n",
    "                effective_heat_target = proportion_hu * base_model_config['HeatRequirement']\n",
    "\n",
    "                \n",
    "                predicted_doy = budbreak_prediction(weather_since_start_doy, effective_chill_target, effective_heat_target)\n",
    "                predicted_budbreak_doy[location][year][sheet_info] = predicted_doy\n",
    "\n",
    "\n",
    "def observ_predict_plot(predicted_budbreak_doy, observed_budbreak_doy, HU_spray, HU_observation,  regression_xy=False):\n",
    "    fig = go.Figure()\n",
    "\n",
    "    observations = []\n",
    "    predictions = []\n",
    "    all_bb_days = []\n",
    "    for loc in predicted_budbreak_doy.keys():\n",
    "        for year in predicted_budbreak_doy[loc].keys():\n",
    "            for sheet_info in predicted_budbreak_doy[loc][year]:\n",
    "\n",
    "                observed_bb = observed_budbreak_doy[loc][year][sheet_info]\n",
    "                predicted_bb = predicted_budbreak_doy[loc][year][sheet_info]\n",
    "\n",
    "                observations.append(observed_bb)\n",
    "                predictions.append(predicted_bb)\n",
    "\n",
    "                all_bb_days.append(observed_bb)\n",
    "                all_bb_days.append(predicted_bb)\n",
    "\n",
    "                fig.add_trace(go.Scatter(x=[observed_bb], y=[predicted_bb], mode='markers', marker=dict(size=15), name=sheet_info))\n",
    "\n",
    "    mae = round(utils.mean_absolute_error(observations,predictions),2)\n",
    "    rmse = round(root_mean_squared_error(observations,predictions),2)\n",
    "\n",
    "\n",
    "    # Add 1:1 dashed line\n",
    "    fig.add_trace(go.Scatter(x=[min(all_bb_days), max(all_bb_days)], y=[min(all_bb_days), max(all_bb_days)], mode='lines', line=dict(color=\"white\", dash=\"dash\"), name=\"1:1 Line\")) \n",
    "\n",
    "    # Calculate std of observations to compare with MAE\n",
    "    obs_std = round(np.std(observations),2)\n",
    "    # ±MAE bands\n",
    "    upper_line_mae = np.array([min(all_bb_days), max(all_bb_days)]) + np.array(mae)   \n",
    "    lower_line_mae = np.array([min(all_bb_days), max(all_bb_days)]) - np.array(mae)  \n",
    "    fig.add_trace(go.Scatter(x=[min(all_bb_days), max(all_bb_days)], y=upper_line_mae, mode='lines', line=dict(color=\"grey\", dash=\"dot\"), name='+MAE'))\n",
    "    fig.add_trace(go.Scatter(x=[min(all_bb_days), max(all_bb_days)], y=lower_line_mae, mode='lines', line=dict(color=\"grey\", dash=\"dot\"), name='-MAE'))  \n",
    "    # RMSE bands: If RMSE bands are much wider than MAE bands, it means there are large outliers affecting the model's performance.\n",
    "    upper_line_rmse = np.array([min(all_bb_days), max(all_bb_days)]) + np.array(mae)   \n",
    "    lower_line_rmse = np.array([min(all_bb_days), max(all_bb_days)]) - np.array(mae)  \n",
    "    fig.add_trace(go.Scatter(x=[min(all_bb_days), max(all_bb_days)], y=upper_line_rmse, mode='lines', line=dict(color=\"yellow\", dash=\"dot\"), name='+RMSE'))\n",
    "    fig.add_trace(go.Scatter(x=[min(all_bb_days), max(all_bb_days)], y=lower_line_rmse, mode='lines', line=dict(color=\"yellow\", dash=\"dot\"), name='-RMSE'))  \n",
    "\n",
    "    # Plot regression line\n",
    "    if regression_xy is not False:\n",
    "        fig.add_trace(go.Scatter(x=regression_xy[0], y=regression_xy[1], mode='lines', line=dict(color=\"white\", dash=\"solid\"), name=f\"Regression\"))\n",
    "\n",
    "    # Update layout\n",
    "    fig.update_layout(\n",
    "        title= f\"BudBurst (MAE = {mae}, RMSE = {rmse}, ObsSTD = {obs_std})\",\n",
    "        xaxis_title=\"Observed BudBurst DOY\",\n",
    "        yaxis_title=\"Predicted BudBurst DOY\",\n",
    "        template=\"plotly_dark\", width=1600, height=1400)\n",
    "    fig.show()\n",
    "\n",
    "observ_predict_plot(predicted_budbreak_doy, observed_budbreak_doy, HU_spray, HU_observation)\n",
    "\n",
    "            "
   ]
  },
  {
   "cell_type": "code",
   "execution_count": 750,
   "id": "20f1f483",
   "metadata": {},
   "outputs": [
    {
     "name": "stdout",
     "output_type": "stream",
     "text": [
      "1000.0 0.0009999999999999998\n",
      "1047.3684210526317 0.0009999999999999998\n",
      "1094.7368421052631 0.0009999999999999998\n",
      "1142.1052631578948 0.0009999999999999998\n",
      "1189.4736842105262 0.0009999999999999998\n",
      "1236.842105263158 0.0009999999999999998\n",
      "1284.2105263157896 0.0009999999999999998\n",
      "1331.578947368421 0.0009999999999999998\n",
      "1378.9473684210527 0.0009999999999999998\n",
      "1426.3157894736842 0.0009999999999999998\n",
      "1473.6842105263158 0.5766662899004362\n",
      "1521.0526315789475 0.5766662899004362\n",
      "1568.421052631579 0.5766662899004362\n",
      "1615.7894736842104 0.5766662899004362\n",
      "1663.157894736842 0.5766662899004362\n",
      "1710.5263157894738 0.5766662899004362\n",
      "1757.8947368421054 0.5766662899004362\n",
      "1805.2631578947369 0.5766662899004362\n",
      "1852.6315789473683 0.5766662899004362\n",
      "1900.0 0.5766662899004362\n"
     ]
    },
    {
     "data": {
      "image/png": "[encoded data removed]",
      "text/plain": [
       "<Figure size 640x480 with 1 Axes>"
      ]
     },
     "metadata": {},
     "output_type": "display_data"
    }
   ],
   "source": [
    "points = np.linspace(1000,1900,20)\n",
    "\n",
    "outputs = logistic(points, *popt_heat) \n",
    "\n",
    "plt.plot(points,outputs)\n",
    "\n",
    "for p,o in zip(points,outputs):\n",
    "    print(p,o)"
   ]
  },
  {
   "cell_type": "code",
   "execution_count": null,
   "id": "d2591d47",
   "metadata": {},
   "outputs": [],
   "source": [
    "  "
   ]
  }
 ],
 "metadata": {
  "kernelspec": {
   "display_name": ".venv",
   "language": "python",
   "name": "python3"
  },
  "language_info": {
   "codemirror_mode": {
    "name": "ipython",
    "version": 3
   },
   "file_extension": ".py",
   "mimetype": "text/x-python",
   "name": "python",
   "nbconvert_exporter": "python",
   "pygments_lexer": "ipython3",
   "version": "3.13.2"
  }
 },
 "nbformat": 4,
 "nbformat_minor": 5
}
