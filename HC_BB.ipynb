{
 "cells": [
  {
   "cell_type": "code",
   "execution_count": 103,
   "id": "b8af4a71",
   "metadata": {},
   "outputs": [],
   "source": [
    "import numpy as np\n",
    "import pandas as pd\n",
    "import matplotlib.pyplot as plt\n",
    "import math\n",
    "import plotly.graph_objects as go\n",
    "import plotly.express as px\n",
    "from dotenv import load_dotenv\n",
    "import json\n",
    "from collections import defaultdict\n",
    "import importlib\n",
    "import warnings\n",
    "warnings.filterwarnings('ignore')\n",
    "import utils\n",
    "importlib.reload(utils)\n",
    "import os\n",
    "from sklearn.metrics import mean_squared_error, root_mean_squared_error, mean_absolute_error\n",
    "from scipy.optimize import differential_evolution\n",
    "from scipy.stats import skewnorm"
   ]
  },
  {
   "cell_type": "code",
   "execution_count": 104,
   "id": "09d4f398",
   "metadata": {},
   "outputs": [],
   "source": [
    "def load_weather(weather_path, obs_year):    \n",
    "    # Load the \"Hourly\" weather data\n",
    "    \n",
    "    weather_data = pd.read_csv(weather_path)\n",
    "    # Slicing the weather data to the dates within the observation year\n",
    "    weather_data['Date'] = pd.to_datetime(weather_data['Date'], errors='coerce')\n",
    "    weather_data = weather_data[\n",
    "        (weather_data['Date'] >= pd.to_datetime(f'1/1/{obs_year}')) &\n",
    "        (weather_data['Date'] <= pd.to_datetime(f'31/12/{obs_year}'))]     \n",
    "    # Renaming the columns and add doy column         \n",
    "    weather_data = weather_data[['Date', 'Time', 'Air Temp. (°C)']].rename(columns={'Date': 'date', 'Time':'Time', 'Air Temp. (°C)':'temp'}, inplace=False)\n",
    "    weather_data.insert(1, 'doy', [d.dayofyear for d in pd.to_datetime(weather_data['date'], format=\"mixed\")])\n",
    "    # Interpolate missing values\n",
    "    # Convert '-' to NaN\n",
    "    weather_data['temp'].replace('-', np.nan, inplace=True)\n",
    "    weather_data['temp']=weather_data['temp'].apply(pd.to_numeric, errors='coerce')\n",
    "\n",
    "    # Interpolate missing values\n",
    "    if weather_data['temp'].isna().any():\n",
    "        weather_data['temp'].interpolate(method='linear', inplace=True)\n",
    "\n",
    "\n",
    "    return weather_data.reset_index(drop=True) \n"
   ]
  },
  {
   "cell_type": "code",
   "execution_count": 105,
   "id": "5d704fb9",
   "metadata": {},
   "outputs": [],
   "source": [
    "# Load datasets for observations\n",
    "def load_observations(file_path,BB_sheet_name, Flwr_sheet_name, cultivar_col,cultivar_name,treatment_col,treatment_name,location, excel_observs_BB, excel_observs_Flwr, spray_col_name):\n",
    "    \n",
    "    # Define the expected column names for the final concatenated DataFrame\n",
    "    TREATMENT = \"Treatment\"\n",
    "    LOCATION = \"Location\"\n",
    "    xls = pd.ExcelFile(file_path, engine=\"openpyxl\")\n",
    "    raw_df_BB = pd.read_excel(xls, sheet_name = BB_sheet_name)\n",
    "    raw_df_Flwr = pd.read_excel(xls, sheet_name = Flwr_sheet_name)\n",
    "\n",
    "    # Rename the Dates to Days of Year (DOY)\n",
    "    doy_column_BB = [pd.to_datetime(col).dayofyear for col in raw_df_BB.columns if utils.is_date_column(col)]\n",
    "    df_BB = raw_df_BB.rename(columns={col:pd.to_datetime(col).dayofyear for col in raw_df_BB.columns if utils.is_date_column(col)})\n",
    "\n",
    "    doy_column_Flwr = [pd.to_datetime(col).dayofyear for col in raw_df_Flwr.columns if utils.is_date_column(col)]\n",
    "    df_Flwr = raw_df_Flwr.rename(columns={col:pd.to_datetime(col).dayofyear for col in raw_df_Flwr.columns if utils.is_date_column(col)})\n",
    "\n",
    "    obs_year = [pd.to_datetime(col).year for col in raw_df_BB.columns if utils.is_date_column(col)][0]\n",
    "\n",
    "\n",
    "    # Apply filtering for the given cultivar & treatments\n",
    "    def filter_df(df, doy_column, spray_col_name):\n",
    "        filtered_df = df[df[cultivar_col].isin([cultivar_name]) & df[treatment_col].isin([treatment_name])]\n",
    "        # Rename columns\n",
    "        columns_to_select = [treatment_col] + [spray_col_name] + doy_column \n",
    "        filtered_df = filtered_df[columns_to_select]\n",
    "        filtered_df.rename(columns={treatment_col: TREATMENT}, inplace=True)\n",
    "        # Add the LOCATION column to the DataFrame\n",
    "        filtered_df[LOCATION] = location\n",
    "        # Remove rows with any NaN values\n",
    "        filtered_df = filtered_df.dropna()\n",
    "        # Reset index \n",
    "        filtered_df.reset_index(drop=True)\n",
    "        return filtered_df\n",
    "    filtered_df_BB = filter_df(df_BB,doy_column_BB, spray_col_name)\n",
    "\n",
    "    filtered_df_Flwr = filter_df(df_Flwr,doy_column_Flwr, spray_col_name)\n",
    "\n",
    "    # Spray date(s)\n",
    "    application_dates = filtered_df_BB[spray_col_name].unique()\n",
    "\n",
    "    BudBurstDOYs = []\n",
    "    FlwrDOYs = []\n",
    "    for spray_date in application_dates:\n",
    "        # find the budburst doy for each application date\n",
    "        filtered_df_BB_spray = filtered_df_BB[filtered_df_BB[spray_col_name].isin([spray_date])]\n",
    "        BB_percent = False\n",
    "        PBB, BB, BudBurstDOY, max_observed_buds = utils.BB_specifications(location,filtered_df_BB_spray[doy_column_BB],BB_percent)\n",
    "        BudBurstDOYs.append(int(BudBurstDOY))\n",
    "        maxBBPsequence = np.empty(len(doy_column_BB))*np.nan\n",
    "        maxBBPsequence[-1] = np.max(PBB)\n",
    "\n",
    "        # Corresponding stage name (StartFlowering) to get the max BBP \n",
    "        MaxBBPstageSequence = [np.nan for i in range(len(doy_column_BB))]\n",
    "        MaxBBPstageSequence[-1] = 'StartFlowering'\n",
    "\n",
    "\n",
    "        # Generate the observations Excel file for Budbreak\n",
    "        excel_observ_BB = pd.DataFrame(data={\n",
    "        'SimulationName': f'{BB_sheet_name}{filtered_df_BB_spray[TREATMENT].iloc[0].replace(\" \", \"\")}', \n",
    "                                            'Clock.Today': [col for col in raw_df_BB.columns if utils.is_date_column(col)],\n",
    "                                            'Clock.Today.Year': obs_year,\n",
    "                                            'DOY': doy_column_BB, \n",
    "                                            LOCATION: filtered_df_BB_spray[LOCATION].iloc[0], \n",
    "                                            TREATMENT: filtered_df_BB_spray[TREATMENT].iloc[0],\n",
    "                                            'KiwiFruit.Phenology.BrokenBuds': BB,\n",
    "                                            'KiwiFruit.Phenology.ProportionBB': PBB,\n",
    "                                            'KiwiFruit.Phenology.BudBurstDOY': BudBurstDOY,\n",
    "                                            'KiwiFruit.Phenology.MaxBBP': maxBBPsequence,\n",
    "                                            'KiwiFruit.Phenology.CurrentStageName': MaxBBPstageSequence})\n",
    "        \n",
    "        FlwrDOY, Flowers = utils.Flwr_specifications(np.max(BB),filtered_df_Flwr[doy_column_Flwr])\n",
    "        FlwrDOYs.append(int(FlwrDOY))\n",
    "        maxFlwrsequence = np.empty(len(doy_column_Flwr))*np.nan\n",
    "        maxFlwrsequence[-1] = FlwrDOY\n",
    "\n",
    "        # Corresponding stage name (StartFlowering) to get the max BBP \n",
    "        MaxFlwrstageSequence = [np.nan for i in range(len(doy_column_Flwr))]\n",
    "        MaxFlwrstageSequence[-1] = 'StartFlowering'\n",
    "\n",
    "        # Generate the observations Excel file for Flowering\n",
    "        excel_observ_Flwr = pd.DataFrame(data={\n",
    "        'SimulationName': f'{BB_sheet_name}{filtered_df_BB[TREATMENT].iloc[0].replace(\" \", \"\")}',  # Use same BB sheet name to be able to put in same apsim simulation\n",
    "                                            'Clock.Today': [col for col in raw_df_Flwr.columns if utils.is_date_column(col)],\n",
    "                                            'Clock.Today.Year': obs_year,\n",
    "                                            'DOY': doy_column_Flwr, \n",
    "                                            LOCATION: filtered_df_Flwr[LOCATION].iloc[0], \n",
    "                                            TREATMENT: filtered_df_Flwr[TREATMENT].iloc[0],\n",
    "                                            'KiwiFruit.Phenology.Flowers': Flowers,\n",
    "                                            'KiwiFruit.Phenology.FloweringDOY': FlwrDOY,\n",
    "                                            'KiwiFruit.Phenology.CurrentStageName': MaxFlwrstageSequence})\n",
    "        \n",
    "        excel_observs_BB.append(excel_observ_BB)\n",
    "        excel_observs_Flwr.append(excel_observ_Flwr)\n",
    "\n",
    "    return obs_year, application_dates, PBB, BB, BudBurstDOYs, FlwrDOYs, excel_observs_BB, excel_observs_Flwr\n",
    "    \n"
   ]
  },
  {
   "cell_type": "code",
   "execution_count": 106,
   "id": "4dba0dc4",
   "metadata": {},
   "outputs": [],
   "source": [
    "with open(\"config_MultiDataFiles_HC.json\", \"r\") as file:\n",
    "    config = json.load(file)\n",
    "base_model_config = utils.base_model_config()\n",
    "start_doy = pd.to_datetime(base_model_config[\"StartDay\"]).dayofyear\n",
    "\n",
    "predicted_endo_release_doy = defaultdict(lambda: defaultdict(lambda: dict()))\n",
    "predicted_budbreak_doy = defaultdict(lambda: defaultdict(lambda: dict()))\n",
    "observed_budbreak_doy = defaultdict(lambda: defaultdict(lambda: dict()))\n",
    "predicted_flowering_doy = defaultdict(lambda: defaultdict(lambda: dict()))\n",
    "observed_flowering_doy = defaultdict(lambda: defaultdict(lambda: dict()))\n",
    "observed_application_doy = defaultdict(lambda: defaultdict(lambda: dict()))\n",
    "weather_df = defaultdict(lambda: defaultdict(lambda: dict()))\n",
    "excel_observs_BB = []\n",
    "excel_observs_Flwr = []\n",
    "output_excel = 'HC_Observations.xlsx'\n",
    "\n",
    "# Load environment variables\n",
    "load_dotenv()\n",
    "FOLDER_PATH = os.getenv('FOLDER_PATH')\n",
    "for file_name, file_info in config.items():\n",
    "        file_path = os.path.join(FOLDER_PATH, file_name)\n",
    "        # Process each sheet\n",
    "        for sheet_info in file_info['sheets']:\n",
    "            # Extract sheet names, cultivars, and treatments\n",
    "            BB_sheet_name = sheet_info['BB_sheet_name']\n",
    "            Flwr_sheet_name = sheet_info['Flwr_sheet_name']\n",
    "            location = sheet_info['location']\n",
    "            spray_col_name = sheet_info['spray']\n",
    "            cultivar_col, cultivar_name = list(sheet_info['cultivar'].items())[0]\n",
    "            treatment_col, treatment_name = list(sheet_info['treatments'].items())[0]\n",
    "\n",
    "            # Load and calculate the observed budburst doy\n",
    "            obs_year, application_dates, PBB, BB, BudBurstDOYs, Flwr_DOYs, excel_observs_BB, excel_observs_Flwr  = load_observations(file_path,BB_sheet_name, Flwr_sheet_name, cultivar_col,cultivar_name,treatment_col,treatment_name,location,excel_observs_BB, excel_observs_Flwr,spray_col_name)\n",
    "            for spray_date,BudBurstDOY,Flwr_DOY in zip(application_dates,BudBurstDOYs,Flwr_DOYs):\n",
    "                observed_budbreak_doy[location][obs_year][BB_sheet_name+treatment_name+str(pd.to_datetime(spray_date).dayofyear)] = BudBurstDOY\n",
    "                observed_flowering_doy[location][obs_year][BB_sheet_name+treatment_name+str(pd.to_datetime(spray_date).dayofyear)] = Flwr_DOY\n",
    "                observed_application_doy[location][obs_year][BB_sheet_name+treatment_name+str(pd.to_datetime(spray_date).dayofyear)] = pd.to_datetime(spray_date).dayofyear\n",
    "\n",
    "                # Load and store the weather data\n",
    "                weather_path = sheet_info['weather_path']\n",
    "                weather_data = load_weather(weather_path, obs_year)\n",
    "                weather_df[location][obs_year][BB_sheet_name+treatment_name+str(pd.to_datetime(spray_date).dayofyear)] = weather_data\n",
    "\n",
    "\n"
   ]
  },
  {
   "cell_type": "code",
   "execution_count": 107,
   "id": "0e82211d",
   "metadata": {},
   "outputs": [],
   "source": [
    "def Chill(Tc, T):\n",
    "    if T>=0 and T <= Tc:\n",
    "        return (((4*T)/(Tc**2))*(Tc-T))\n",
    "    else:\n",
    "        return 0\n",
    "    \n",
    "def Wangengel(MinTemp,OptTemp,MaxTemp,RefTemp,T):\n",
    "    RelEff = 0.0\n",
    "    RelEffRefTemp = 1.0\n",
    "    p = 0.0\n",
    "\n",
    "    if MinTemp < T < MaxTemp:\n",
    "        p = math.log(2.0) / math.log((MaxTemp - MinTemp) / (OptTemp - MinTemp))\n",
    "        RelEff = (2 * (T - MinTemp) ** p * (OptTemp - MinTemp) ** p - (T - MinTemp) ** (2 * p)) / (OptTemp - MinTemp) ** (2 * p)\n",
    "\n",
    "    if MinTemp < RefTemp < MaxTemp:\n",
    "        p = math.log(2.0) / math.log((MaxTemp - MinTemp) / (OptTemp - MinTemp))\n",
    "        RelEffRefTemp = (2 * (RefTemp - MinTemp) ** p * (OptTemp - MinTemp) ** p - (RefTemp - MinTemp) ** (2 * p)) / (OptTemp - MinTemp) ** (2 * p)\n",
    "\n",
    "    return float(RelEff / RelEffRefTemp)\n",
    "\n",
    "\n",
    "def logistic_scaling(app_units, ideal_units,max_effect_low, max_effect_high, steepness):\n",
    "    distance = app_units - ideal_units\n",
    "    scale = 1 / (1 + np.exp(-steepness * distance))\n",
    "    max_effect = max_effect_low + scale * (max_effect_high - max_effect_low)\n",
    "    return max_effect\n",
    "\n",
    "def linear_scaling(app_units, ideal_units, max_effect_high, max_effect_low,  tolerance):\n",
    "    # Linear scaling of max_effect depending on distance from ideal_doy\n",
    "    distance = abs(app_units - ideal_units)\n",
    "    scale = min(distance / tolerance, 1)  # cap at 1 to avoid over-scaling\n",
    "    max_effect = max_effect_low + scale * (max_effect_high - max_effect_low)\n",
    "    return max_effect\n",
    "\n",
    "def quadratic_scaling(app_units, ideal_units, max_effect_high, max_effect_low,  tolerance):\n",
    "    # Linear scaling of max_effect depending on distance from ideal_doy\n",
    "    distance = abs(app_units - ideal_units)\n",
    "    scale = min(distance / tolerance, 1) ** 2 # cap at 1 to avoid over-scaling\n",
    "    max_effect = max_effect_low + scale * (max_effect_high - max_effect_low)\n",
    "    return max_effect\n",
    "\n",
    "def hi_cane_effective_chill_target(ideal_units, max_effect_high, max_effect_low,  tolerance, app_units, base_chill_target):\n",
    "    \"\"\"\n",
    "    Adjusts effective chill target based on timing of Hi-Cane application and \n",
    "    a linearly scaled max effect that varies with application units (app_units) relative to ideal window.\n",
    "    \n",
    "    Parameters:\n",
    "    - ideal_units: target accumulated units where Hi-Cane is most effective\n",
    "    - max_effect_high: effect when applied far from ideal (e.g. early/late)\n",
    "    - max_effect_low: effect when applied near the ideal time\n",
    "    - tolerance: spread of the Gaussian curve\n",
    "    - app_units: accumulated chill units at application\n",
    "    - base_chill_target: baseline chill requirement without Hi-Cane\n",
    "        \n",
    "    Returns:\n",
    "        adjusted chill target based on application timing\n",
    "    \"\"\"\n",
    "    Guassian = np.exp(-0.5 * ((app_units - ideal_units) / tolerance) ** 2)\n",
    "\n",
    "    # linear scaling:\n",
    "    max_effect = quadratic_scaling(app_units, ideal_units, max_effect_high, max_effect_low, tolerance)\n",
    "    # logistic scaling:\n",
    "    # max_effect = logistic_scaling(app_units, ideal_units,max_effect_low, max_effect_high, steepness)\n",
    "\n",
    "    effect = 1 - max_effect * Guassian\n",
    "\n",
    "    effective_chill_target = base_chill_target * effect\n",
    "\n",
    "    return effective_chill_target\n",
    "\n",
    "def skewed_gaussian_effect(Acc_unit_spray, max_effect, center, width, skew, base_chill_target):\n",
    "    skewed_Guassian =  skewnorm.pdf(Acc_unit_spray - center, a=skew, scale=width) \n",
    "    effect = 1 - max_effect * skewed_Guassian\n",
    "    effective_chill_target = base_chill_target * effect\n",
    "\n",
    "    return effective_chill_target\n"
   ]
  },
  {
   "cell_type": "markdown",
   "id": "a12539b5",
   "metadata": {},
   "source": [
    "# Calculate Acc. Chill+Heat units on Spray Date"
   ]
  },
  {
   "cell_type": "code",
   "execution_count": null,
   "id": "301b140e",
   "metadata": {},
   "outputs": [],
   "source": [
    "CHU_spray = defaultdict(lambda: defaultdict(lambda: dict()))\n",
    "CHU_observation = defaultdict(lambda: defaultdict(lambda: dict()))\n",
    "\n",
    "\n",
    "start_day = int(round(pd.to_datetime(utils.base_model_config()['StartDay']).day_of_year))\n",
    "\n",
    "for location in observed_application_doy.keys():\n",
    "    for year in observed_application_doy[location].keys():\n",
    "        for sheet_info, weather_data in weather_df[location][year].items():\n",
    "            application_doy = observed_application_doy[location][year][sheet_info]\n",
    "            observation_doy = observed_budbreak_doy[location][year][sheet_info]\n",
    "            weather_since_start_doy = weather_data[weather_data['doy']>=start_day].reset_index(drop=True)  \n",
    "            \n",
    "            # Chill & heat accumulation on Spray Date\n",
    "            chillVal = 0\n",
    "            heatVal = 0\n",
    "            for idx_endodormancy_release, temp in enumerate(weather_since_start_doy['temp']):\n",
    "                chillVal += Chill( base_model_config['Tc_chill'], temp)\n",
    "                if chillVal <= base_model_config['ChillRequirement'] and weather_since_start_doy['doy'].iloc[idx_endodormancy_release] == application_doy:\n",
    "                        CHU_spray[location][year][sheet_info] = chillVal \n",
    "                        break \n",
    "                    \n",
    "                elif chillVal >= base_model_config['ChillRequirement'] and weather_since_start_doy['doy'].iloc[idx_endodormancy_release] < application_doy:\n",
    "                    for idx_bb, temp in enumerate(weather_since_start_doy['temp'][idx_endodormancy_release+1:]):\n",
    "                        heatVal += Wangengel(base_model_config[\"MinTemp_BB\"], base_model_config[\"OptTemp_BB\"],base_model_config[\"MaxTemp_BB\"], base_model_config[\"RefTemp_BB\"],temp)                       \n",
    "                        if weather_since_start_doy['doy'].iloc[idx_bb] == application_doy and heatVal < base_model_config['HeatRequirement']:                        \n",
    "                            CHU_spray[location][year][sheet_info] = base_model_config['ChillRequirement'] + heatVal\n",
    "                            break \n",
    "                        elif weather_since_start_doy['doy'].iloc[idx_bb] < application_doy and heatVal >= base_model_config['HeatRequirement']:\n",
    "                            CHU_spray[location][year][sheet_info] = base_model_config['ChillRequirement'] + base_model_config['HeatRequirement']\n",
    "                            break \n",
    "\n",
    "\n",
    "            # Chill & heat accumulation on Observation Date\n",
    "            chillVal = 0\n",
    "            heatVal = 0\n",
    "            for idx_endodormancy_release, temp in enumerate(weather_since_start_doy['temp']):\n",
    "                chillVal += Chill( base_model_config['Tc_chill'], temp)\n",
    "                if chillVal <= base_model_config['ChillRequirement'] and weather_since_start_doy['doy'].iloc[idx_endodormancy_release] == observation_doy:\n",
    "                        CHU_observation[location][year][sheet_info] = chillVal \n",
    "                        break \n",
    "                    \n",
    "                elif chillVal >= base_model_config['ChillRequirement'] and weather_since_start_doy['doy'].iloc[idx_endodormancy_release] < observation_doy:\n",
    "                    for idx_bb, temp in enumerate(weather_since_start_doy['temp'][idx_endodormancy_release+1:]):\n",
    "                        heatVal += Wangengel(base_model_config[\"MinTemp_BB\"], base_model_config[\"OptTemp_BB\"],base_model_config[\"MaxTemp_BB\"], base_model_config[\"RefTemp_BB\"],temp)                       \n",
    "                        if weather_since_start_doy['doy'].iloc[idx_bb] == observation_doy or heatVal>= base_model_config['HeatRequirement'] :\n",
    "                            CHU_observation[location][year][sheet_info] = base_model_config['ChillRequirement'] + heatVal\n",
    "                            break \n",
    "    \n",
    "\n"
   ]
  },
  {
   "cell_type": "markdown",
   "id": "51a540cb",
   "metadata": {},
   "source": [
    "# Optimization (CU Gaussian)"
   ]
  },
  {
   "cell_type": "code",
   "execution_count": null,
   "id": "b2b98e71",
   "metadata": {},
   "outputs": [],
   "source": [
    "def objective_function(params, locations, weather_df, observed_budbreak_doy): \n",
    "    ideal_spray_units, max_effect_high ,max_effect_low, tolerance = params\n",
    "    chill_start_day = pd.to_datetime(utils.base_model_config()['StartDay']).day_of_year \n",
    "    \n",
    "    predictions = []\n",
    "    observed = []\n",
    "    for i, location in enumerate(locations): # locations = ['Te Puke', 'Kerikeri']\n",
    "        start_day = int(round(chill_start_day))\n",
    "        for year, sheet_info in weather_df[location].items(): \n",
    "            for sheet_info, weather_data in weather_df[location][year].items():\n",
    "                weather_since_start_doy = weather_data[weather_data['doy']>=start_day].reset_index(drop=True)  \n",
    "                \n",
    "\n",
    "                predicted_doy = 365  # Default value if  target not reached\n",
    "\n",
    "                Acc_unit_spray = CHU_spray[location][year][sheet_info]\n",
    "\n",
    "                effective_target = hi_cane_effective_chill_target(ideal_spray_units, max_effect_high , max_effect_low, tolerance, Acc_unit_spray, base_model_config['ChillRequirement']+ base_model_config['HeatRequirement'])\n",
    " \n",
    "                effective_chill_target = (base_model_config['ChillRequirement']/(base_model_config['ChillRequirement']+base_model_config['HeatRequirement'])) * effective_target\n",
    "                effective_heat_target =  effective_target - effective_chill_target\n",
    "                    \n",
    "\n",
    "\n",
    "                # Chill accumulation\n",
    "                chillVal = 0\n",
    "                for idx_endodormancy_release, temp in enumerate(weather_since_start_doy['temp']):\n",
    "                    chillVal += Chill( base_model_config['Tc_chill'], temp)\n",
    "                    if chillVal >= effective_chill_target:\n",
    "                        break\n",
    "\n",
    "                # Heat accumulation\n",
    "                # from the date of endodormancy release, start accumulating heat\n",
    "                heatVal = 0\n",
    "                for idx_bb, temp in enumerate(weather_since_start_doy['temp'][idx_endodormancy_release+1:]):\n",
    "                    heatVal += Wangengel(base_model_config[\"MinTemp_BB\"], base_model_config[\"OptTemp_BB\"],base_model_config[\"MaxTemp_BB\"], base_model_config[\"RefTemp_BB\"],temp)\n",
    "                    if heatVal >= effective_heat_target:\n",
    "                        predicted_doy = int(weather_since_start_doy['doy'].iloc[idx_endodormancy_release + idx_bb + 1])\n",
    "                        break\n",
    "\n",
    "                predictions.append(predicted_doy)\n",
    "                observed.append(observed_budbreak_doy[location][year][sheet_info])\n",
    "\n",
    "    return mean_absolute_error(observed, predictions)\n",
    "\n",
    "# Define a wrapper function that takes both params and fixed args\n",
    "def wrapped_objective(params):\n",
    "    return objective_function(params, ['Te Puke', 'Kerikeri'], weather_df, observed_budbreak_doy)\n",
    "\n",
    "\n",
    "\n",
    "bounds = [\n",
    "    (1000,1500), # ideal_spray_units\n",
    "    (0.01,0.1),  # max_effect_high\n",
    "    (0.1, 0.7), # max_effect_low\n",
    "    # (0.001,0.2),  # steepness\n",
    "    (50,500)] # tolerance (in chill/heat units)\n",
    "\n",
    "\n",
    "result = differential_evolution(\n",
    "    func=wrapped_objective,\n",
    "    bounds=bounds,\n",
    "    strategy='best1bin',\n",
    "    popsize=10,\n",
    "    maxiter=500)"
   ]
  },
  {
   "cell_type": "code",
   "execution_count": 91,
   "id": "8f9a2ad4",
   "metadata": {},
   "outputs": [
    {
     "data": {
      "text/plain": [
       "array([1.00509777e+03, 9.35180554e-02, 2.72600105e-01, 4.92979815e+02])"
      ]
     },
     "execution_count": 91,
     "metadata": {},
     "output_type": "execute_result"
    }
   ],
   "source": [
    "result.x"
   ]
  },
  {
   "cell_type": "code",
   "execution_count": null,
   "id": "8df2b654",
   "metadata": {},
   "outputs": [],
   "source": [
    "# Evenly spread: [1.57826822e+03, 1.50032962e-01, 2.02592672e-01, 1.25898305e+02]\n",
    "\n",
    "# Least MAE but uneven: [1.00509777e+03, 9.35180554e-02, 2.72600105e-01, 4.92979815e+02]"
   ]
  },
  {
   "cell_type": "code",
   "execution_count": 100,
   "id": "cb6bc946",
   "metadata": {},
   "outputs": [],
   "source": [
    "locations = ['Te Puke', 'Kerikeri']\n",
    "chill_start_day = pd.to_datetime(utils.base_model_config()['StartDay']).day_of_year \n",
    "ideal_spray_units = result.x[0]\n",
    "max_effect_high = result.x[1]\n",
    "max_effect_low = result.x[2]\n",
    "# steepness = result.x[3]\n",
    "tolerance = result.x[3]\n",
    "\n",
    "predicted_budbreak_doy = defaultdict(lambda: defaultdict(lambda: defaultdict()))\n",
    "\n",
    "for i, location in enumerate(locations):\n",
    "    start_day = int(round(chill_start_day))\n",
    "    for year, sheet_info in weather_df[location].items(): \n",
    "        for sheet_info, weather_data in weather_df[location][year].items():\n",
    "            weather_since_start_doy = weather_data[weather_data['doy']>=start_day].reset_index(drop=True)  \n",
    "            \n",
    "            Acc_unit_spray = CHU_spray[location][year][sheet_info]\n",
    "\n",
    "            app_doy = observed_application_doy[location][year][sheet_info]\n",
    "            effective_target = hi_cane_effective_chill_target(ideal_spray_units, max_effect_high , max_effect_low, tolerance, Acc_unit_spray, base_model_config['ChillRequirement']+base_model_config['HeatRequirement'])\n",
    "\n",
    "            effective_chill_target = (base_model_config['ChillRequirement']/(base_model_config['ChillRequirement']+base_model_config['HeatRequirement'])) * effective_target\n",
    "            effective_heat_target = effective_target - effective_chill_target\n",
    "\n",
    "\n",
    "            # Chill accumulation\n",
    "            chillVal = 0\n",
    "            for idx_endodormancy_release, temp in enumerate(weather_since_start_doy['temp']):\n",
    "                chillVal += Chill( base_model_config['Tc_chill'], temp)\n",
    "                if chillVal >= effective_chill_target:\n",
    "                    break\n",
    "\n",
    "            # Heat accumulation\n",
    "            # from the date of endodormancy release, start accumulating heat\n",
    "            heatVal = 0\n",
    "            for idx_bb, temp in enumerate(weather_since_start_doy['temp'][idx_endodormancy_release+1:]):\n",
    "                heatVal += Wangengel(base_model_config[\"MinTemp_BB\"], base_model_config[\"OptTemp_BB\"],base_model_config[\"MaxTemp_BB\"], base_model_config[\"RefTemp_BB\"],temp)\n",
    "                if heatVal >= effective_heat_target:\n",
    "                    predicted_doy = int(weather_since_start_doy['doy'].iloc[idx_endodormancy_release + idx_bb + 1])\n",
    "                    break\n",
    "\n",
    "            predicted_budbreak_doy[location][year][sheet_info] = predicted_doy"
   ]
  },
  {
   "cell_type": "markdown",
   "id": "25ebeaf7",
   "metadata": {},
   "source": [
    "# Optimization (CU Skewed Gaussian)"
   ]
  },
  {
   "cell_type": "code",
   "execution_count": null,
   "id": "9052f832",
   "metadata": {},
   "outputs": [],
   "source": [
    "def objective_function(params, locations, weather_df, observed_budbreak_doy): \n",
    "    ideal_spray_units, max_effect, tolerance, skew = params\n",
    "    chill_start_day = pd.to_datetime(utils.base_model_config()['StartDay']).day_of_year \n",
    "    \n",
    "    predictions = []\n",
    "    observed = []\n",
    "    for i, location in enumerate(locations): # locations = ['Te Puke', 'Kerikeri']\n",
    "        start_day = int(round(chill_start_day))\n",
    "        for year, sheet_info in weather_df[location].items(): \n",
    "            for sheet_info, weather_data in weather_df[location][year].items():\n",
    "                weather_since_start_doy = weather_data[weather_data['doy']>=start_day].reset_index(drop=True)  \n",
    "                \n",
    "\n",
    "                predicted_doy = 365  # Default value if  target not reached\n",
    "\n",
    "                Acc_unit_spray = CHU_spray[location][year][sheet_info]\n",
    "\n",
    "                effective_target = skewed_gaussian_effect(Acc_unit_spray, max_effect, ideal_spray_units, tolerance, skew, base_model_config['ChillRequirement']+base_model_config['HeatRequirement'])\n",
    "\n",
    "                effective_chill_target = (base_model_config['ChillRequirement']/(base_model_config['ChillRequirement']+base_model_config['HeatRequirement'])) * effective_target\n",
    "                effective_heat_target =  effective_target - effective_chill_target\n",
    "                    \n",
    "\n",
    "\n",
    "                # Chill accumulation\n",
    "                chillVal = 0\n",
    "                for idx_endodormancy_release, temp in enumerate(weather_since_start_doy['temp']):\n",
    "                    chillVal += Chill( base_model_config['Tc_chill'], temp)\n",
    "                    if chillVal >= effective_chill_target:\n",
    "                        break\n",
    "\n",
    "                # Heat accumulation\n",
    "                # from the date of endodormancy release, start accumulating heat\n",
    "                heatVal = 0\n",
    "                for idx_bb, temp in enumerate(weather_since_start_doy['temp'][idx_endodormancy_release+1:]):\n",
    "                    heatVal += Wangengel(base_model_config[\"MinTemp_BB\"], base_model_config[\"OptTemp_BB\"],base_model_config[\"MaxTemp_BB\"], base_model_config[\"RefTemp_BB\"],temp)\n",
    "                    if heatVal >= effective_heat_target:\n",
    "                        predicted_doy = int(weather_since_start_doy['doy'].iloc[idx_endodormancy_release + idx_bb + 1])\n",
    "                        break\n",
    "\n",
    "                predictions.append(predicted_doy)\n",
    "                observed.append(observed_budbreak_doy[location][year][sheet_info])\n",
    "\n",
    "    # weighted mse to emphasize on the extremes\n",
    "    # weights = np.abs(predictions - np.median(observed))\n",
    "    # mse_weighted = np.average((np.array(predictions) - np.array(observed))**2, weights=weights)\n",
    "\n",
    "\n",
    "    return mean_absolute_error(observed, predictions)\n",
    "\n",
    "# Define a wrapper function that takes both params and fixed args\n",
    "def wrapped_objective(params):\n",
    "    return objective_function(params, ['Te Puke', 'Kerikeri'], weather_df, observed_budbreak_doy)\n",
    "\n",
    "\n",
    "\n",
    "bounds = [\n",
    "    (800,1300), # ideal_spray_units\n",
    "    (10,1000),  # max_effect\n",
    "    (100,400), # tolerance (in chill/heat units)\n",
    "    (-10,10)] # skew\n",
    "\n",
    "\n",
    "result = differential_evolution(\n",
    "    func=wrapped_objective,\n",
    "    bounds=bounds,\n",
    "    strategy='best1bin',\n",
    "    popsize=10,\n",
    "    maxiter=500)"
   ]
  },
  {
   "cell_type": "code",
   "execution_count": null,
   "id": "7f9d822e",
   "metadata": {},
   "outputs": [],
   "source": [
    "result.x"
   ]
  },
  {
   "cell_type": "code",
   "execution_count": null,
   "id": "89a604f4",
   "metadata": {},
   "outputs": [],
   "source": [
    "locations = ['Te Puke', 'Kerikeri']\n",
    "chill_start_day = pd.to_datetime(utils.base_model_config()['StartDay']).day_of_year \n",
    "ideal_spray_units = result.x[0]\n",
    "max_effect = result.x[1]\n",
    "tolerance = result.x[2]\n",
    "skew = result.x[3]\n",
    "\n",
    "predicted_budbreak_doy = defaultdict(lambda: defaultdict(lambda: defaultdict()))\n",
    "\n",
    "for i, location in enumerate(locations):\n",
    "    start_day = int(round(chill_start_day))\n",
    "    for year, sheet_info in weather_df[location].items(): \n",
    "        for sheet_info, weather_data in weather_df[location][year].items():\n",
    "            weather_since_start_doy = weather_data[weather_data['doy']>=start_day].reset_index(drop=True)  \n",
    "            \n",
    "            Acc_unit_spray = CHU_spray[location][year][sheet_info]\n",
    "\n",
    "            app_doy = observed_application_doy[location][year][sheet_info]\n",
    "            effective_target = skewed_gaussian_effect(Acc_unit_spray, max_effect, ideal_spray_units, tolerance, skew, base_model_config['ChillRequirement']+ base_model_config['HeatRequirement'])\n",
    "\n",
    "            effective_chill_target = (base_model_config['ChillRequirement']/(base_model_config['ChillRequirement']+base_model_config['HeatRequirement'])) * effective_target\n",
    "            effective_heat_target = effective_target - effective_chill_target\n",
    "\n",
    "\n",
    "            # Chill accumulation\n",
    "            chillVal = 0\n",
    "            for idx_endodormancy_release, temp in enumerate(weather_since_start_doy['temp']):\n",
    "                chillVal += Chill( base_model_config['Tc_chill'], temp)\n",
    "                if chillVal >= effective_chill_target:\n",
    "                    break\n",
    "\n",
    "            # Heat accumulation\n",
    "            # from the date of endodormancy release, start accumulating heat\n",
    "            heatVal = 0\n",
    "            for idx_bb, temp in enumerate(weather_since_start_doy['temp'][idx_endodormancy_release+1:]):\n",
    "                heatVal += Wangengel(base_model_config[\"MinTemp_BB\"], base_model_config[\"OptTemp_BB\"],base_model_config[\"MaxTemp_BB\"], base_model_config[\"RefTemp_BB\"],temp)\n",
    "                if heatVal >= effective_heat_target:\n",
    "                    predicted_doy = int(weather_since_start_doy['doy'].iloc[idx_endodormancy_release + idx_bb + 1])\n",
    "                    break\n",
    "\n",
    "            predicted_budbreak_doy[location][year][sheet_info] = predicted_doy"
   ]
  },
  {
   "cell_type": "code",
   "execution_count": 101,
   "id": "1f83b7f4",
   "metadata": {},
   "outputs": [
    {
     "data": {
      "application/vnd.plotly.v1+json": {
       "config": {
        "plotlyServerURL": "https://plot.ly"
       },
       "data": [
        {
         "marker": {
          "size": 15
         },
         "mode": "markers",
         "name": "TPROB4BB2016HiCane236",
         "type": "scatter",
         "x": [
          265
         ],
         "y": [
          268
         ]
        },
        {
         "marker": {
          "size": 15
         },
         "mode": "markers",
         "name": "TPROB4BB2016HiCane246",
         "type": "scatter",
         "x": [
          274
         ],
         "y": [
          268
         ]
        },
        {
         "marker": {
          "size": 15
         },
         "mode": "markers",
         "name": "KatoaBB2008HC240",
         "type": "scatter",
         "x": [
          262
         ],
         "y": [
          268
         ]
        },
        {
         "marker": {
          "size": 15
         },
         "mode": "markers",
         "name": "MeadBB2008HC241",
         "type": "scatter",
         "x": [
          266
         ],
         "y": [
          268
         ]
        },
        {
         "marker": {
          "size": 15
         },
         "mode": "markers",
         "name": "KatoaBB2009HC234",
         "type": "scatter",
         "x": [
          254
         ],
         "y": [
          256
         ]
        },
        {
         "marker": {
          "size": 15
         },
         "mode": "markers",
         "name": "KatoaBB2009HC240",
         "type": "scatter",
         "x": [
          254
         ],
         "y": [
          256
         ]
        },
        {
         "marker": {
          "size": 15
         },
         "mode": "markers",
         "name": "MeadBB2009HC234",
         "type": "scatter",
         "x": [
          256
         ],
         "y": [
          256
         ]
        },
        {
         "marker": {
          "size": 15
         },
         "mode": "markers",
         "name": "KatoaBB2010HC231",
         "type": "scatter",
         "x": [
          263
         ],
         "y": [
          268
         ]
        },
        {
         "marker": {
          "size": 15
         },
         "mode": "markers",
         "name": "MeadBB2010HC236",
         "type": "scatter",
         "x": [
          268
         ],
         "y": [
          268
         ]
        },
        {
         "marker": {
          "size": 15
         },
         "mode": "markers",
         "name": "TPHaywardBB2013HC236",
         "type": "scatter",
         "x": [
          266
         ],
         "y": [
          265
         ]
        },
        {
         "marker": {
          "size": 15
         },
         "mode": "markers",
         "name": "TPHaywardBB2013HC227",
         "type": "scatter",
         "x": [
          262
         ],
         "y": [
          264
         ]
        },
        {
         "marker": {
          "size": 15
         },
         "mode": "markers",
         "name": "TPHaywardBB2013HC242",
         "type": "scatter",
         "x": [
          272
         ],
         "y": [
          265
         ]
        },
        {
         "marker": {
          "size": 15
         },
         "mode": "markers",
         "name": "TPHaywardBB20186%HC+0.2%DS239",
         "type": "scatter",
         "x": [
          264
         ],
         "y": [
          263
         ]
        },
        {
         "marker": {
          "size": 15
         },
         "mode": "markers",
         "name": "TPHaywardBB20186%HC+0.2%DS231",
         "type": "scatter",
         "x": [
          262
         ],
         "y": [
          263
         ]
        },
        {
         "marker": {
          "size": 15
         },
         "mode": "markers",
         "name": "HW-BudbreakTP2020HiCane231",
         "type": "scatter",
         "x": [
          259
         ],
         "y": [
          265
         ]
        },
        {
         "marker": {
          "size": 15
         },
         "mode": "markers",
         "name": "HW-BudbreakTP2020HiCane241",
         "type": "scatter",
         "x": [
          269
         ],
         "y": [
          265
         ]
        },
        {
         "marker": {
          "size": 15
         },
         "mode": "markers",
         "name": "HW-BudbreakTP2020HiCane223",
         "type": "scatter",
         "x": [
          256
         ],
         "y": [
          264
         ]
        },
        {
         "marker": {
          "size": 15
         },
         "mode": "markers",
         "name": "HW-Budbreak-TP2020HiCane226",
         "type": "scatter",
         "x": [
          258
         ],
         "y": [
          264
         ]
        },
        {
         "marker": {
          "size": 15
         },
         "mode": "markers",
         "name": "HW-Budbreak-TP2020HiCane243",
         "type": "scatter",
         "x": [
          269
         ],
         "y": [
          265
         ]
        },
        {
         "marker": {
          "size": 15
         },
         "mode": "markers",
         "name": "HW-Budbreak-TP2020HiCane235",
         "type": "scatter",
         "x": [
          265
         ],
         "y": [
          265
         ]
        },
        {
         "marker": {
          "size": 15
         },
         "mode": "markers",
         "name": "HWBBRawTP2021HiCane214",
         "type": "scatter",
         "x": [
          250
         ],
         "y": [
          264
         ]
        },
        {
         "marker": {
          "size": 15
         },
         "mode": "markers",
         "name": "HWBBRawTP2021HiCane223",
         "type": "scatter",
         "x": [
          262
         ],
         "y": [
          268
         ]
        },
        {
         "marker": {
          "size": 15
         },
         "mode": "markers",
         "name": "HWBBRawTP2021HiCane246",
         "type": "scatter",
         "x": [
          274
         ],
         "y": [
          271
         ]
        },
        {
         "marker": {
          "size": 15
         },
         "mode": "markers",
         "name": "HWBBRawTP2021HiCane238",
         "type": "scatter",
         "x": [
          267
         ],
         "y": [
          271
         ]
        },
        {
         "marker": {
          "size": 15
         },
         "mode": "markers",
         "name": "HWBBRawTP2021HiCane232",
         "type": "scatter",
         "x": [
          263
         ],
         "y": [
          269
         ]
        },
        {
         "marker": {
          "size": 15
         },
         "mode": "markers",
         "name": "NBB2010HC236",
         "type": "scatter",
         "x": [
          273
         ],
         "y": [
          267
         ]
        },
        {
         "marker": {
          "size": 15
         },
         "mode": "markers",
         "name": "NBB2011HC248",
         "type": "scatter",
         "x": [
          274
         ],
         "y": [
          279
         ]
        },
        {
         "marker": {
          "size": 15
         },
         "mode": "markers",
         "name": "KKHaywardBB2013HC246",
         "type": "scatter",
         "x": [
          274
         ],
         "y": [
          266
         ]
        },
        {
         "marker": {
          "size": 15
         },
         "mode": "markers",
         "name": "KKHaywardBB2013HC252",
         "type": "scatter",
         "x": [
          274
         ],
         "y": [
          266
         ]
        },
        {
         "marker": {
          "size": 15
         },
         "mode": "markers",
         "name": "KKHaywardBB2013HC239",
         "type": "scatter",
         "x": [
          266
         ],
         "y": [
          265
         ]
        },
        {
         "marker": {
          "size": 15
         },
         "mode": "markers",
         "name": "KKHaywardBB2018HiCane 6% + 0.2% Driftstop239",
         "type": "scatter",
         "x": [
          270
         ],
         "y": [
          270
         ]
        },
        {
         "marker": {
          "size": 15
         },
         "mode": "markers",
         "name": "KKHaywardBB2018HiCane 6% + 0.2% Driftstop248",
         "type": "scatter",
         "x": [
          273
         ],
         "y": [
          273
         ]
        },
        {
         "marker": {
          "size": 15
         },
         "mode": "markers",
         "name": "HaywardBB2019HC 6% + 0.2%DS236",
         "type": "scatter",
         "x": [
          266
         ],
         "y": [
          266
         ]
        },
        {
         "marker": {
          "size": 15
         },
         "mode": "markers",
         "name": "HaywardBB2019HC 6% + 0.2%DS243",
         "type": "scatter",
         "x": [
          269
         ],
         "y": [
          272
         ]
        },
        {
         "marker": {
          "size": 15
         },
         "mode": "markers",
         "name": "HWBBRaw2020HiCane+Driftstop240",
         "type": "scatter",
         "x": [
          265
         ],
         "y": [
          269
         ]
        },
        {
         "marker": {
          "size": 15
         },
         "mode": "markers",
         "name": "HWBBRaw2020HiCane+Driftstop235",
         "type": "scatter",
         "x": [
          264
         ],
         "y": [
          264
         ]
        },
        {
         "marker": {
          "size": 15
         },
         "mode": "markers",
         "name": "HWBBRaw2020HiCane+Driftstop247",
         "type": "scatter",
         "x": [
          273
         ],
         "y": [
          272
         ]
        },
        {
         "marker": {
          "size": 15
         },
         "mode": "markers",
         "name": "HWBBSpray2020HiCane+Driftstop248",
         "type": "scatter",
         "x": [
          273
         ],
         "y": [
          273
         ]
        },
        {
         "marker": {
          "size": 15
         },
         "mode": "markers",
         "name": "HWBBSpray2020HiCane+Driftstop232",
         "type": "scatter",
         "x": [
          265
         ],
         "y": [
          263
         ]
        },
        {
         "marker": {
          "size": 15
         },
         "mode": "markers",
         "name": "HWBBSpray2020HiCane+Driftstop243",
         "type": "scatter",
         "x": [
          271
         ],
         "y": [
          270
         ]
        },
        {
         "line": {
          "color": "white",
          "dash": "dash"
         },
         "mode": "lines",
         "name": "1:1 Line",
         "type": "scatter",
         "x": [
          250,
          279
         ],
         "y": [
          250,
          279
         ]
        },
        {
         "line": {
          "color": "grey",
          "dash": "dot"
         },
         "mode": "lines",
         "name": "+MAE",
         "type": "scatter",
         "x": [
          250,
          279
         ],
         "y": {
          "bdata": "ZmZmZmaub0AzMzMzM6dxQA==",
          "dtype": "f8"
         }
        },
        {
         "line": {
          "color": "grey",
          "dash": "dot"
         },
         "mode": "lines",
         "name": "-MAE",
         "type": "scatter",
         "x": [
          250,
          279
         ],
         "y": {
          "bdata": "mpmZmZnRbkDNzMzMzDhxQA==",
          "dtype": "f8"
         }
        },
        {
         "line": {
          "color": "yellow",
          "dash": "dot"
         },
         "mode": "lines",
         "name": "+RMSE",
         "type": "scatter",
         "x": [
          250,
          279
         ],
         "y": {
          "bdata": "ZmZmZmaub0AzMzMzM6dxQA==",
          "dtype": "f8"
         }
        },
        {
         "line": {
          "color": "yellow",
          "dash": "dot"
         },
         "mode": "lines",
         "name": "-RMSE",
         "type": "scatter",
         "x": [
          250,
          279
         ],
         "y": {
          "bdata": "mpmZmZnRbkDNzMzMzDhxQA==",
          "dtype": "f8"
         }
        }
       ],
       "layout": {
        "height": 800,
        "template": {
         "data": {
          "bar": [
           {
            "error_x": {
             "color": "#f2f5fa"
            },
            "error_y": {
             "color": "#f2f5fa"
            },
            "marker": {
             "line": {
              "color": "rgb(17,17,17)",
              "width": 0.5
             },
             "pattern": {
              "fillmode": "overlay",
              "size": 10,
              "solidity": 0.2
             }
            },
            "type": "bar"
           }
          ],
          "barpolar": [
           {
            "marker": {
             "line": {
              "color": "rgb(17,17,17)",
              "width": 0.5
             },
             "pattern": {
              "fillmode": "overlay",
              "size": 10,
              "solidity": 0.2
             }
            },
            "type": "barpolar"
           }
          ],
          "carpet": [
           {
            "aaxis": {
             "endlinecolor": "#A2B1C6",
             "gridcolor": "#506784",
             "linecolor": "#506784",
             "minorgridcolor": "#506784",
             "startlinecolor": "#A2B1C6"
            },
            "baxis": {
             "endlinecolor": "#A2B1C6",
             "gridcolor": "#506784",
             "linecolor": "#506784",
             "minorgridcolor": "#506784",
             "startlinecolor": "#A2B1C6"
            },
            "type": "carpet"
           }
          ],
          "choropleth": [
           {
            "colorbar": {
             "outlinewidth": 0,
             "ticks": ""
            },
            "type": "choropleth"
           }
          ],
          "contour": [
           {
            "colorbar": {
             "outlinewidth": 0,
             "ticks": ""
            },
            "colorscale": [
             [
              0,
              "#0d0887"
             ],
             [
              0.1111111111111111,
              "#46039f"
             ],
             [
              0.2222222222222222,
              "#7201a8"
             ],
             [
              0.3333333333333333,
              "#9c179e"
             ],
             [
              0.4444444444444444,
              "#bd3786"
             ],
             [
              0.5555555555555556,
              "#d8576b"
             ],
             [
              0.6666666666666666,
              "#ed7953"
             ],
             [
              0.7777777777777778,
              "#fb9f3a"
             ],
             [
              0.8888888888888888,
              "#fdca26"
             ],
             [
              1,
              "#f0f921"
             ]
            ],
            "type": "contour"
           }
          ],
          "contourcarpet": [
           {
            "colorbar": {
             "outlinewidth": 0,
             "ticks": ""
            },
            "type": "contourcarpet"
           }
          ],
          "heatmap": [
           {
            "colorbar": {
             "outlinewidth": 0,
             "ticks": ""
            },
            "colorscale": [
             [
              0,
              "#0d0887"
             ],
             [
              0.1111111111111111,
              "#46039f"
             ],
             [
              0.2222222222222222,
              "#7201a8"
             ],
             [
              0.3333333333333333,
              "#9c179e"
             ],
             [
              0.4444444444444444,
              "#bd3786"
             ],
             [
              0.5555555555555556,
              "#d8576b"
             ],
             [
              0.6666666666666666,
              "#ed7953"
             ],
             [
              0.7777777777777778,
              "#fb9f3a"
             ],
             [
              0.8888888888888888,
              "#fdca26"
             ],
             [
              1,
              "#f0f921"
             ]
            ],
            "type": "heatmap"
           }
          ],
          "histogram": [
           {
            "marker": {
             "pattern": {
              "fillmode": "overlay",
              "size": 10,
              "solidity": 0.2
             }
            },
            "type": "histogram"
           }
          ],
          "histogram2d": [
           {
            "colorbar": {
             "outlinewidth": 0,
             "ticks": ""
            },
            "colorscale": [
             [
              0,
              "#0d0887"
             ],
             [
              0.1111111111111111,
              "#46039f"
             ],
             [
              0.2222222222222222,
              "#7201a8"
             ],
             [
              0.3333333333333333,
              "#9c179e"
             ],
             [
              0.4444444444444444,
              "#bd3786"
             ],
             [
              0.5555555555555556,
              "#d8576b"
             ],
             [
              0.6666666666666666,
              "#ed7953"
             ],
             [
              0.7777777777777778,
              "#fb9f3a"
             ],
             [
              0.8888888888888888,
              "#fdca26"
             ],
             [
              1,
              "#f0f921"
             ]
            ],
            "type": "histogram2d"
           }
          ],
          "histogram2dcontour": [
           {
            "colorbar": {
             "outlinewidth": 0,
             "ticks": ""
            },
            "colorscale": [
             [
              0,
              "#0d0887"
             ],
             [
              0.1111111111111111,
              "#46039f"
             ],
             [
              0.2222222222222222,
              "#7201a8"
             ],
             [
              0.3333333333333333,
              "#9c179e"
             ],
             [
              0.4444444444444444,
              "#bd3786"
             ],
             [
              0.5555555555555556,
              "#d8576b"
             ],
             [
              0.6666666666666666,
              "#ed7953"
             ],
             [
              0.7777777777777778,
              "#fb9f3a"
             ],
             [
              0.8888888888888888,
              "#fdca26"
             ],
             [
              1,
              "#f0f921"
             ]
            ],
            "type": "histogram2dcontour"
           }
          ],
          "mesh3d": [
           {
            "colorbar": {
             "outlinewidth": 0,
             "ticks": ""
            },
            "type": "mesh3d"
           }
          ],
          "parcoords": [
           {
            "line": {
             "colorbar": {
              "outlinewidth": 0,
              "ticks": ""
             }
            },
            "type": "parcoords"
           }
          ],
          "pie": [
           {
            "automargin": true,
            "type": "pie"
           }
          ],
          "scatter": [
           {
            "marker": {
             "line": {
              "color": "#283442"
             }
            },
            "type": "scatter"
           }
          ],
          "scatter3d": [
           {
            "line": {
             "colorbar": {
              "outlinewidth": 0,
              "ticks": ""
             }
            },
            "marker": {
             "colorbar": {
              "outlinewidth": 0,
              "ticks": ""
             }
            },
            "type": "scatter3d"
           }
          ],
          "scattercarpet": [
           {
            "marker": {
             "colorbar": {
              "outlinewidth": 0,
              "ticks": ""
             }
            },
            "type": "scattercarpet"
           }
          ],
          "scattergeo": [
           {
            "marker": {
             "colorbar": {
              "outlinewidth": 0,
              "ticks": ""
             }
            },
            "type": "scattergeo"
           }
          ],
          "scattergl": [
           {
            "marker": {
             "line": {
              "color": "#283442"
             }
            },
            "type": "scattergl"
           }
          ],
          "scattermap": [
           {
            "marker": {
             "colorbar": {
              "outlinewidth": 0,
              "ticks": ""
             }
            },
            "type": "scattermap"
           }
          ],
          "scattermapbox": [
           {
            "marker": {
             "colorbar": {
              "outlinewidth": 0,
              "ticks": ""
             }
            },
            "type": "scattermapbox"
           }
          ],
          "scatterpolar": [
           {
            "marker": {
             "colorbar": {
              "outlinewidth": 0,
              "ticks": ""
             }
            },
            "type": "scatterpolar"
           }
          ],
          "scatterpolargl": [
           {
            "marker": {
             "colorbar": {
              "outlinewidth": 0,
              "ticks": ""
             }
            },
            "type": "scatterpolargl"
           }
          ],
          "scatterternary": [
           {
            "marker": {
             "colorbar": {
              "outlinewidth": 0,
              "ticks": ""
             }
            },
            "type": "scatterternary"
           }
          ],
          "surface": [
           {
            "colorbar": {
             "outlinewidth": 0,
             "ticks": ""
            },
            "colorscale": [
             [
              0,
              "#0d0887"
             ],
             [
              0.1111111111111111,
              "#46039f"
             ],
             [
              0.2222222222222222,
              "#7201a8"
             ],
             [
              0.3333333333333333,
              "#9c179e"
             ],
             [
              0.4444444444444444,
              "#bd3786"
             ],
             [
              0.5555555555555556,
              "#d8576b"
             ],
             [
              0.6666666666666666,
              "#ed7953"
             ],
             [
              0.7777777777777778,
              "#fb9f3a"
             ],
             [
              0.8888888888888888,
              "#fdca26"
             ],
             [
              1,
              "#f0f921"
             ]
            ],
            "type": "surface"
           }
          ],
          "table": [
           {
            "cells": {
             "fill": {
              "color": "#506784"
             },
             "line": {
              "color": "rgb(17,17,17)"
             }
            },
            "header": {
             "fill": {
              "color": "#2a3f5f"
             },
             "line": {
              "color": "rgb(17,17,17)"
             }
            },
            "type": "table"
           }
          ]
         },
         "layout": {
          "annotationdefaults": {
           "arrowcolor": "#f2f5fa",
           "arrowhead": 0,
           "arrowwidth": 1
          },
          "autotypenumbers": "strict",
          "coloraxis": {
           "colorbar": {
            "outlinewidth": 0,
            "ticks": ""
           }
          },
          "colorscale": {
           "diverging": [
            [
             0,
             "#8e0152"
            ],
            [
             0.1,
             "#c51b7d"
            ],
            [
             0.2,
             "#de77ae"
            ],
            [
             0.3,
             "#f1b6da"
            ],
            [
             0.4,
             "#fde0ef"
            ],
            [
             0.5,
             "#f7f7f7"
            ],
            [
             0.6,
             "#e6f5d0"
            ],
            [
             0.7,
             "#b8e186"
            ],
            [
             0.8,
             "#7fbc41"
            ],
            [
             0.9,
             "#4d9221"
            ],
            [
             1,
             "#276419"
            ]
           ],
           "sequential": [
            [
             0,
             "#0d0887"
            ],
            [
             0.1111111111111111,
             "#46039f"
            ],
            [
             0.2222222222222222,
             "#7201a8"
            ],
            [
             0.3333333333333333,
             "#9c179e"
            ],
            [
             0.4444444444444444,
             "#bd3786"
            ],
            [
             0.5555555555555556,
             "#d8576b"
            ],
            [
             0.6666666666666666,
             "#ed7953"
            ],
            [
             0.7777777777777778,
             "#fb9f3a"
            ],
            [
             0.8888888888888888,
             "#fdca26"
            ],
            [
             1,
             "#f0f921"
            ]
           ],
           "sequentialminus": [
            [
             0,
             "#0d0887"
            ],
            [
             0.1111111111111111,
             "#46039f"
            ],
            [
             0.2222222222222222,
             "#7201a8"
            ],
            [
             0.3333333333333333,
             "#9c179e"
            ],
            [
             0.4444444444444444,
             "#bd3786"
            ],
            [
             0.5555555555555556,
             "#d8576b"
            ],
            [
             0.6666666666666666,
             "#ed7953"
            ],
            [
             0.7777777777777778,
             "#fb9f3a"
            ],
            [
             0.8888888888888888,
             "#fdca26"
            ],
            [
             1,
             "#f0f921"
            ]
           ]
          },
          "colorway": [
           "#636efa",
           "#EF553B",
           "#00cc96",
           "#ab63fa",
           "#FFA15A",
           "#19d3f3",
           "#FF6692",
           "#B6E880",
           "#FF97FF",
           "#FECB52"
          ],
          "font": {
           "color": "#f2f5fa"
          },
          "geo": {
           "bgcolor": "rgb(17,17,17)",
           "lakecolor": "rgb(17,17,17)",
           "landcolor": "rgb(17,17,17)",
           "showlakes": true,
           "showland": true,
           "subunitcolor": "#506784"
          },
          "hoverlabel": {
           "align": "left"
          },
          "hovermode": "closest",
          "mapbox": {
           "style": "dark"
          },
          "paper_bgcolor": "rgb(17,17,17)",
          "plot_bgcolor": "rgb(17,17,17)",
          "polar": {
           "angularaxis": {
            "gridcolor": "#506784",
            "linecolor": "#506784",
            "ticks": ""
           },
           "bgcolor": "rgb(17,17,17)",
           "radialaxis": {
            "gridcolor": "#506784",
            "linecolor": "#506784",
            "ticks": ""
           }
          },
          "scene": {
           "xaxis": {
            "backgroundcolor": "rgb(17,17,17)",
            "gridcolor": "#506784",
            "gridwidth": 2,
            "linecolor": "#506784",
            "showbackground": true,
            "ticks": "",
            "zerolinecolor": "#C8D4E3"
           },
           "yaxis": {
            "backgroundcolor": "rgb(17,17,17)",
            "gridcolor": "#506784",
            "gridwidth": 2,
            "linecolor": "#506784",
            "showbackground": true,
            "ticks": "",
            "zerolinecolor": "#C8D4E3"
           },
           "zaxis": {
            "backgroundcolor": "rgb(17,17,17)",
            "gridcolor": "#506784",
            "gridwidth": 2,
            "linecolor": "#506784",
            "showbackground": true,
            "ticks": "",
            "zerolinecolor": "#C8D4E3"
           }
          },
          "shapedefaults": {
           "line": {
            "color": "#f2f5fa"
           }
          },
          "sliderdefaults": {
           "bgcolor": "#C8D4E3",
           "bordercolor": "rgb(17,17,17)",
           "borderwidth": 1,
           "tickwidth": 0
          },
          "ternary": {
           "aaxis": {
            "gridcolor": "#506784",
            "linecolor": "#506784",
            "ticks": ""
           },
           "baxis": {
            "gridcolor": "#506784",
            "linecolor": "#506784",
            "ticks": ""
           },
           "bgcolor": "rgb(17,17,17)",
           "caxis": {
            "gridcolor": "#506784",
            "linecolor": "#506784",
            "ticks": ""
           }
          },
          "title": {
           "x": 0.05
          },
          "updatemenudefaults": {
           "bgcolor": "#506784",
           "borderwidth": 0
          },
          "xaxis": {
           "automargin": true,
           "gridcolor": "#283442",
           "linecolor": "#506784",
           "ticks": "",
           "title": {
            "standoff": 15
           },
           "zerolinecolor": "#283442",
           "zerolinewidth": 2
          },
          "yaxis": {
           "automargin": true,
           "gridcolor": "#283442",
           "linecolor": "#506784",
           "ticks": "",
           "title": {
            "standoff": 15
           },
           "zerolinecolor": "#283442",
           "zerolinewidth": 2
          }
         }
        },
        "title": {
         "text": "BudBurst (MAE = 3.45, RMSE = 4.63, ObsSTD = 6.27)"
        },
        "width": 1400,
        "xaxis": {
         "title": {
          "text": "Observed BudBurst DOY"
         }
        },
        "yaxis": {
         "title": {
          "text": "Predicted BudBurst DOY"
         }
        }
       }
      }
     },
     "metadata": {},
     "output_type": "display_data"
    }
   ],
   "source": [
    "def observ_predict_plot(predicted_budbreak_doy, observed_budbreak_doy, regression_xy=False):\n",
    "    fig = go.Figure()\n",
    "\n",
    "    observations = []\n",
    "    predictions = []\n",
    "    all_bb_days = []\n",
    "    for loc in observed_budbreak_doy.keys():\n",
    "        for year in observed_budbreak_doy[loc].keys():\n",
    "            for sheet_info in observed_budbreak_doy[loc][year]:\n",
    "                observed_bb = observed_budbreak_doy[loc][year][sheet_info]\n",
    "                observations.append(observed_bb)\n",
    "                predicted_bb = predicted_budbreak_doy[loc][year][sheet_info]\n",
    "                predictions.append(predicted_bb)\n",
    "\n",
    "                all_bb_days.append(observed_bb)\n",
    "                all_bb_days.append(predicted_bb)\n",
    "\n",
    "                fig.add_trace(go.Scatter(x=[observed_bb], y=[predicted_bb], mode='markers', marker=dict(size=15), name=sheet_info))\n",
    "\n",
    "    mae = round(utils.mean_absolute_error(observations,predictions),2)\n",
    "    rmse = round(root_mean_squared_error(observations,predictions),2)\n",
    "\n",
    "\n",
    "    # Add 1:1 dashed line\n",
    "    fig.add_trace(go.Scatter(x=[min(all_bb_days), max(all_bb_days)], y=[min(all_bb_days), max(all_bb_days)], mode='lines', line=dict(color=\"white\", dash=\"dash\"), name=\"1:1 Line\")) \n",
    "\n",
    "    # Calculate std of observations to compare with MAE\n",
    "    obs_std = round(np.std(observations),2)\n",
    "    # ±MAE bands\n",
    "    upper_line_mae = np.array([min(all_bb_days), max(all_bb_days)]) + np.array(mae)   \n",
    "    lower_line_mae = np.array([min(all_bb_days), max(all_bb_days)]) - np.array(mae)  \n",
    "    fig.add_trace(go.Scatter(x=[min(all_bb_days), max(all_bb_days)], y=upper_line_mae, mode='lines', line=dict(color=\"grey\", dash=\"dot\"), name='+MAE'))\n",
    "    fig.add_trace(go.Scatter(x=[min(all_bb_days), max(all_bb_days)], y=lower_line_mae, mode='lines', line=dict(color=\"grey\", dash=\"dot\"), name='-MAE'))  \n",
    "    # RMSE bands: If RMSE bands are much wider than MAE bands, it means there are large outliers affecting the model's performance.\n",
    "    upper_line_rmse = np.array([min(all_bb_days), max(all_bb_days)]) + np.array(mae)   \n",
    "    lower_line_rmse = np.array([min(all_bb_days), max(all_bb_days)]) - np.array(mae)  \n",
    "    fig.add_trace(go.Scatter(x=[min(all_bb_days), max(all_bb_days)], y=upper_line_rmse, mode='lines', line=dict(color=\"yellow\", dash=\"dot\"), name='+RMSE'))\n",
    "    fig.add_trace(go.Scatter(x=[min(all_bb_days), max(all_bb_days)], y=lower_line_rmse, mode='lines', line=dict(color=\"yellow\", dash=\"dot\"), name='-RMSE'))  \n",
    "\n",
    "    # Plot regression line\n",
    "    if regression_xy is not False:\n",
    "        fig.add_trace(go.Scatter(x=regression_xy[0], y=regression_xy[1], mode='lines', line=dict(color=\"white\", dash=\"solid\"), name=f\"Regression\"))\n",
    "\n",
    "    # Update layout\n",
    "    fig.update_layout(\n",
    "        title= f\"BudBurst (MAE = {mae}, RMSE = {rmse}, ObsSTD = {obs_std})\",\n",
    "        xaxis_title=\"Observed BudBurst DOY\",\n",
    "        yaxis_title=\"Predicted BudBurst DOY\",\n",
    "        template=\"plotly_dark\", width=1400, height=800)\n",
    "    fig.show()\n",
    "\n",
    "observ_predict_plot(predicted_budbreak_doy, observed_budbreak_doy)\n"
   ]
  },
  {
   "cell_type": "code",
   "execution_count": 102,
   "id": "4c82d3b3",
   "metadata": {},
   "outputs": [
    {
     "data": {
      "image/png": "[encoded data removed]",
      "text/plain": [
       "<Figure size 640x480 with 1 Axes>"
      ]
     },
     "metadata": {},
     "output_type": "display_data"
    }
   ],
   "source": [
    "observations = []\n",
    "predictions = []\n",
    "spray_doys = []\n",
    "chu_obs = []\n",
    "chu_spray = []\n",
    "\n",
    "\n",
    "for loc in observed_budbreak_doy.keys():\n",
    "     for year in observed_budbreak_doy[loc].keys():\n",
    "            for sheet_info in observed_budbreak_doy[loc][year]:\n",
    "                observed_bb = observed_budbreak_doy[loc][year][sheet_info]\n",
    "                observations.append(observed_bb)\n",
    "                predicted_bb = predicted_budbreak_doy[loc][year][sheet_info]\n",
    "                predictions.append(predicted_bb)\n",
    "\n",
    "                spray_doys.append(observed_application_doy[loc][year][sheet_info])\n",
    "                chu_obs.append(CHU_observation[loc][year][sheet_info])\n",
    "                chu_spray.append(CHU_spray[loc][year][sheet_info])\n",
    "\n",
    "\n",
    "mae = utils.mean_absolute_error(observations,predictions)\n",
    "plt.scatter(x=observations,y=predictions)\n",
    "plt.plot(np.arange(240,290,1), np.arange(240,290,1), 'k--')\n",
    "plt.xlabel('Observed BB DOY')\n",
    "plt.ylabel('Predicted BB DOY')\n",
    "plt.title(f'MAE = {round(mae,2)}')\n",
    "plt.grid()\n"
   ]
  },
  {
   "cell_type": "code",
   "execution_count": 95,
   "id": "08d59c7d",
   "metadata": {},
   "outputs": [],
   "source": [
    "residuals = np.array(predictions) - np.array(observations)"
   ]
  },
  {
   "cell_type": "code",
   "execution_count": 96,
   "id": "041126eb",
   "metadata": {},
   "outputs": [
    {
     "data": {
      "text/plain": [
       "[<matplotlib.lines.Line2D at 0x18c53f22fd0>]"
      ]
     },
     "execution_count": 96,
     "metadata": {},
     "output_type": "execute_result"
    },
    {
     "data": {
      "image/png": "[encoded data removed]",
      "text/plain": [
       "<Figure size 640x480 with 1 Axes>"
      ]
     },
     "metadata": {},
     "output_type": "display_data"
    }
   ],
   "source": [
    "residuals =np.array(predictions) - np.array(observations)\n",
    "plt.scatter(observations,residuals)\n",
    "plt.xlabel('Observed BB DOY')\n",
    "plt.ylabel('Residuals')\n",
    "plt.grid()\n",
    "plt.plot(np.arange(np.min(observations),np.max(observations)+1,1),np.zeros(np.max(observations)-np.min(observations)+1), 'r--', linewidth=1.5)"
   ]
  },
  {
   "cell_type": "code",
   "execution_count": 65,
   "id": "d8cdc1e7",
   "metadata": {},
   "outputs": [
    {
     "data": {
      "image/png": "[encoded data removed]",
      "text/plain": [
       "<Figure size 640x480 with 1 Axes>"
      ]
     },
     "metadata": {},
     "output_type": "display_data"
    }
   ],
   "source": [
    "plt.scatter(chu_spray,chu_obs)\n",
    "plt.xlabel('Acc units at Spray')\n",
    "plt.ylabel('Acc units on BB')\n",
    "plt.grid()"
   ]
  },
  {
   "cell_type": "code",
   "execution_count": null,
   "id": "872ca216",
   "metadata": {},
   "outputs": [],
   "source": [
    "observations\n"
   ]
  },
  {
   "cell_type": "code",
   "execution_count": null,
   "id": "0ea83fd8",
   "metadata": {},
   "outputs": [],
   "source": []
  }
 ],
 "metadata": {
  "kernelspec": {
   "display_name": ".venv",
   "language": "python",
   "name": "python3"
  },
  "language_info": {
   "codemirror_mode": {
    "name": "ipython",
    "version": 3
   },
   "file_extension": ".py",
   "mimetype": "text/x-python",
   "name": "python",
   "nbconvert_exporter": "python",
   "pygments_lexer": "ipython3",
   "version": "3.13.2"
  }
 },
 "nbformat": 4,
 "nbformat_minor": 5
}
